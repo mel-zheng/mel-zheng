{
  "nbformat": 4,
  "nbformat_minor": 0,
  "metadata": {
    "colab": {
      "name": "GPT-3 finetune on Shakespeare (Hamlet).ipynb",
      "provenance": [],
      "collapsed_sections": [],
      "toc_visible": true,
      "authorship_tag": "ABX9TyOjP7G7jax+ImjOUefYmsKc",
      "include_colab_link": true
    },
    "kernelspec": {
      "name": "python3",
      "display_name": "Python 3"
    },
    "language_info": {
      "name": "python"
    },
    "widgets": {
      "application/vnd.jupyter.widget-state+json": {
        "564f924eb337481496281eaa5e9c8d4f": {
          "model_module": "@jupyter-widgets/controls",
          "model_name": "VBoxModel",
          "model_module_version": "1.5.0",
          "state": {
            "_dom_classes": [],
            "_model_module": "@jupyter-widgets/controls",
            "_model_module_version": "1.5.0",
            "_model_name": "VBoxModel",
            "_view_count": null,
            "_view_module": "@jupyter-widgets/controls",
            "_view_module_version": "1.5.0",
            "_view_name": "VBoxView",
            "box_style": "",
            "children": [
              "IPY_MODEL_a5b77c9dcd9f49bdbaf6e30d7642d389",
              "IPY_MODEL_c76d0c32bad64f5b9fba591ff7e454da"
            ],
            "layout": "IPY_MODEL_6bda46b2e184414991d16bfe6d34bdd6"
          }
        },
        "a5b77c9dcd9f49bdbaf6e30d7642d389": {
          "model_module": "@jupyter-widgets/controls",
          "model_name": "LabelModel",
          "model_module_version": "1.5.0",
          "state": {
            "_dom_classes": [],
            "_model_module": "@jupyter-widgets/controls",
            "_model_module_version": "1.5.0",
            "_model_name": "LabelModel",
            "_view_count": null,
            "_view_module": "@jupyter-widgets/controls",
            "_view_module_version": "1.5.0",
            "_view_name": "LabelView",
            "description": "",
            "description_tooltip": null,
            "layout": "IPY_MODEL_bb92dce79a514421a3709ef03727b218",
            "placeholder": "​",
            "style": "IPY_MODEL_609802dc1c284ffd8e186c884d7c2244",
            "value": "0.008 MB of 0.008 MB uploaded (0.000 MB deduped)\r"
          }
        },
        "c76d0c32bad64f5b9fba591ff7e454da": {
          "model_module": "@jupyter-widgets/controls",
          "model_name": "FloatProgressModel",
          "model_module_version": "1.5.0",
          "state": {
            "_dom_classes": [],
            "_model_module": "@jupyter-widgets/controls",
            "_model_module_version": "1.5.0",
            "_model_name": "FloatProgressModel",
            "_view_count": null,
            "_view_module": "@jupyter-widgets/controls",
            "_view_module_version": "1.5.0",
            "_view_name": "ProgressView",
            "bar_style": "",
            "description": "",
            "description_tooltip": null,
            "layout": "IPY_MODEL_66a31428e0574eacb4ee91606040ccf0",
            "max": 1,
            "min": 0,
            "orientation": "horizontal",
            "style": "IPY_MODEL_289e309f62f84bbf822c64b10e0ef0f5",
            "value": 1
          }
        },
        "6bda46b2e184414991d16bfe6d34bdd6": {
          "model_module": "@jupyter-widgets/base",
          "model_name": "LayoutModel",
          "model_module_version": "1.2.0",
          "state": {
            "_model_module": "@jupyter-widgets/base",
            "_model_module_version": "1.2.0",
            "_model_name": "LayoutModel",
            "_view_count": null,
            "_view_module": "@jupyter-widgets/base",
            "_view_module_version": "1.2.0",
            "_view_name": "LayoutView",
            "align_content": null,
            "align_items": null,
            "align_self": null,
            "border": null,
            "bottom": null,
            "display": null,
            "flex": null,
            "flex_flow": null,
            "grid_area": null,
            "grid_auto_columns": null,
            "grid_auto_flow": null,
            "grid_auto_rows": null,
            "grid_column": null,
            "grid_gap": null,
            "grid_row": null,
            "grid_template_areas": null,
            "grid_template_columns": null,
            "grid_template_rows": null,
            "height": null,
            "justify_content": null,
            "justify_items": null,
            "left": null,
            "margin": null,
            "max_height": null,
            "max_width": null,
            "min_height": null,
            "min_width": null,
            "object_fit": null,
            "object_position": null,
            "order": null,
            "overflow": null,
            "overflow_x": null,
            "overflow_y": null,
            "padding": null,
            "right": null,
            "top": null,
            "visibility": null,
            "width": null
          }
        },
        "bb92dce79a514421a3709ef03727b218": {
          "model_module": "@jupyter-widgets/base",
          "model_name": "LayoutModel",
          "model_module_version": "1.2.0",
          "state": {
            "_model_module": "@jupyter-widgets/base",
            "_model_module_version": "1.2.0",
            "_model_name": "LayoutModel",
            "_view_count": null,
            "_view_module": "@jupyter-widgets/base",
            "_view_module_version": "1.2.0",
            "_view_name": "LayoutView",
            "align_content": null,
            "align_items": null,
            "align_self": null,
            "border": null,
            "bottom": null,
            "display": null,
            "flex": null,
            "flex_flow": null,
            "grid_area": null,
            "grid_auto_columns": null,
            "grid_auto_flow": null,
            "grid_auto_rows": null,
            "grid_column": null,
            "grid_gap": null,
            "grid_row": null,
            "grid_template_areas": null,
            "grid_template_columns": null,
            "grid_template_rows": null,
            "height": null,
            "justify_content": null,
            "justify_items": null,
            "left": null,
            "margin": null,
            "max_height": null,
            "max_width": null,
            "min_height": null,
            "min_width": null,
            "object_fit": null,
            "object_position": null,
            "order": null,
            "overflow": null,
            "overflow_x": null,
            "overflow_y": null,
            "padding": null,
            "right": null,
            "top": null,
            "visibility": null,
            "width": null
          }
        },
        "609802dc1c284ffd8e186c884d7c2244": {
          "model_module": "@jupyter-widgets/controls",
          "model_name": "DescriptionStyleModel",
          "model_module_version": "1.5.0",
          "state": {
            "_model_module": "@jupyter-widgets/controls",
            "_model_module_version": "1.5.0",
            "_model_name": "DescriptionStyleModel",
            "_view_count": null,
            "_view_module": "@jupyter-widgets/base",
            "_view_module_version": "1.2.0",
            "_view_name": "StyleView",
            "description_width": ""
          }
        },
        "66a31428e0574eacb4ee91606040ccf0": {
          "model_module": "@jupyter-widgets/base",
          "model_name": "LayoutModel",
          "model_module_version": "1.2.0",
          "state": {
            "_model_module": "@jupyter-widgets/base",
            "_model_module_version": "1.2.0",
            "_model_name": "LayoutModel",
            "_view_count": null,
            "_view_module": "@jupyter-widgets/base",
            "_view_module_version": "1.2.0",
            "_view_name": "LayoutView",
            "align_content": null,
            "align_items": null,
            "align_self": null,
            "border": null,
            "bottom": null,
            "display": null,
            "flex": null,
            "flex_flow": null,
            "grid_area": null,
            "grid_auto_columns": null,
            "grid_auto_flow": null,
            "grid_auto_rows": null,
            "grid_column": null,
            "grid_gap": null,
            "grid_row": null,
            "grid_template_areas": null,
            "grid_template_columns": null,
            "grid_template_rows": null,
            "height": null,
            "justify_content": null,
            "justify_items": null,
            "left": null,
            "margin": null,
            "max_height": null,
            "max_width": null,
            "min_height": null,
            "min_width": null,
            "object_fit": null,
            "object_position": null,
            "order": null,
            "overflow": null,
            "overflow_x": null,
            "overflow_y": null,
            "padding": null,
            "right": null,
            "top": null,
            "visibility": null,
            "width": null
          }
        },
        "289e309f62f84bbf822c64b10e0ef0f5": {
          "model_module": "@jupyter-widgets/controls",
          "model_name": "ProgressStyleModel",
          "model_module_version": "1.5.0",
          "state": {
            "_model_module": "@jupyter-widgets/controls",
            "_model_module_version": "1.5.0",
            "_model_name": "ProgressStyleModel",
            "_view_count": null,
            "_view_module": "@jupyter-widgets/base",
            "_view_module_version": "1.2.0",
            "_view_name": "StyleView",
            "bar_color": null,
            "description_width": ""
          }
        },
        "eead08cc436a4507b6dd58d617787a0e": {
          "model_module": "@jupyter-widgets/controls",
          "model_name": "VBoxModel",
          "model_module_version": "1.5.0",
          "state": {
            "_dom_classes": [],
            "_model_module": "@jupyter-widgets/controls",
            "_model_module_version": "1.5.0",
            "_model_name": "VBoxModel",
            "_view_count": null,
            "_view_module": "@jupyter-widgets/controls",
            "_view_module_version": "1.5.0",
            "_view_name": "VBoxView",
            "box_style": "",
            "children": [
              "IPY_MODEL_2eab7a4217254ff18dbcc2e80083c327",
              "IPY_MODEL_67b917ec3f5c40ab9ea63e4a0667ca2b"
            ],
            "layout": "IPY_MODEL_4cfbee0b592541fa83c141b20f603350"
          }
        },
        "2eab7a4217254ff18dbcc2e80083c327": {
          "model_module": "@jupyter-widgets/controls",
          "model_name": "LabelModel",
          "model_module_version": "1.5.0",
          "state": {
            "_dom_classes": [],
            "_model_module": "@jupyter-widgets/controls",
            "_model_module_version": "1.5.0",
            "_model_name": "LabelModel",
            "_view_count": null,
            "_view_module": "@jupyter-widgets/controls",
            "_view_module_version": "1.5.0",
            "_view_name": "LabelView",
            "description": "",
            "description_tooltip": null,
            "layout": "IPY_MODEL_41c8986188c4490ab5b14aaff37a8fac",
            "placeholder": "​",
            "style": "IPY_MODEL_b32132781d2f499d911e295b1ff13599",
            "value": "0.066 MB of 0.066 MB uploaded (0.000 MB deduped)\r"
          }
        },
        "67b917ec3f5c40ab9ea63e4a0667ca2b": {
          "model_module": "@jupyter-widgets/controls",
          "model_name": "FloatProgressModel",
          "model_module_version": "1.5.0",
          "state": {
            "_dom_classes": [],
            "_model_module": "@jupyter-widgets/controls",
            "_model_module_version": "1.5.0",
            "_model_name": "FloatProgressModel",
            "_view_count": null,
            "_view_module": "@jupyter-widgets/controls",
            "_view_module_version": "1.5.0",
            "_view_name": "ProgressView",
            "bar_style": "",
            "description": "",
            "description_tooltip": null,
            "layout": "IPY_MODEL_f8becda23fec4c789a61f74794f606e3",
            "max": 1,
            "min": 0,
            "orientation": "horizontal",
            "style": "IPY_MODEL_6bf61a42adcd45e2b8829527778760d6",
            "value": 1
          }
        },
        "4cfbee0b592541fa83c141b20f603350": {
          "model_module": "@jupyter-widgets/base",
          "model_name": "LayoutModel",
          "model_module_version": "1.2.0",
          "state": {
            "_model_module": "@jupyter-widgets/base",
            "_model_module_version": "1.2.0",
            "_model_name": "LayoutModel",
            "_view_count": null,
            "_view_module": "@jupyter-widgets/base",
            "_view_module_version": "1.2.0",
            "_view_name": "LayoutView",
            "align_content": null,
            "align_items": null,
            "align_self": null,
            "border": null,
            "bottom": null,
            "display": null,
            "flex": null,
            "flex_flow": null,
            "grid_area": null,
            "grid_auto_columns": null,
            "grid_auto_flow": null,
            "grid_auto_rows": null,
            "grid_column": null,
            "grid_gap": null,
            "grid_row": null,
            "grid_template_areas": null,
            "grid_template_columns": null,
            "grid_template_rows": null,
            "height": null,
            "justify_content": null,
            "justify_items": null,
            "left": null,
            "margin": null,
            "max_height": null,
            "max_width": null,
            "min_height": null,
            "min_width": null,
            "object_fit": null,
            "object_position": null,
            "order": null,
            "overflow": null,
            "overflow_x": null,
            "overflow_y": null,
            "padding": null,
            "right": null,
            "top": null,
            "visibility": null,
            "width": null
          }
        },
        "41c8986188c4490ab5b14aaff37a8fac": {
          "model_module": "@jupyter-widgets/base",
          "model_name": "LayoutModel",
          "model_module_version": "1.2.0",
          "state": {
            "_model_module": "@jupyter-widgets/base",
            "_model_module_version": "1.2.0",
            "_model_name": "LayoutModel",
            "_view_count": null,
            "_view_module": "@jupyter-widgets/base",
            "_view_module_version": "1.2.0",
            "_view_name": "LayoutView",
            "align_content": null,
            "align_items": null,
            "align_self": null,
            "border": null,
            "bottom": null,
            "display": null,
            "flex": null,
            "flex_flow": null,
            "grid_area": null,
            "grid_auto_columns": null,
            "grid_auto_flow": null,
            "grid_auto_rows": null,
            "grid_column": null,
            "grid_gap": null,
            "grid_row": null,
            "grid_template_areas": null,
            "grid_template_columns": null,
            "grid_template_rows": null,
            "height": null,
            "justify_content": null,
            "justify_items": null,
            "left": null,
            "margin": null,
            "max_height": null,
            "max_width": null,
            "min_height": null,
            "min_width": null,
            "object_fit": null,
            "object_position": null,
            "order": null,
            "overflow": null,
            "overflow_x": null,
            "overflow_y": null,
            "padding": null,
            "right": null,
            "top": null,
            "visibility": null,
            "width": null
          }
        },
        "b32132781d2f499d911e295b1ff13599": {
          "model_module": "@jupyter-widgets/controls",
          "model_name": "DescriptionStyleModel",
          "model_module_version": "1.5.0",
          "state": {
            "_model_module": "@jupyter-widgets/controls",
            "_model_module_version": "1.5.0",
            "_model_name": "DescriptionStyleModel",
            "_view_count": null,
            "_view_module": "@jupyter-widgets/base",
            "_view_module_version": "1.2.0",
            "_view_name": "StyleView",
            "description_width": ""
          }
        },
        "f8becda23fec4c789a61f74794f606e3": {
          "model_module": "@jupyter-widgets/base",
          "model_name": "LayoutModel",
          "model_module_version": "1.2.0",
          "state": {
            "_model_module": "@jupyter-widgets/base",
            "_model_module_version": "1.2.0",
            "_model_name": "LayoutModel",
            "_view_count": null,
            "_view_module": "@jupyter-widgets/base",
            "_view_module_version": "1.2.0",
            "_view_name": "LayoutView",
            "align_content": null,
            "align_items": null,
            "align_self": null,
            "border": null,
            "bottom": null,
            "display": null,
            "flex": null,
            "flex_flow": null,
            "grid_area": null,
            "grid_auto_columns": null,
            "grid_auto_flow": null,
            "grid_auto_rows": null,
            "grid_column": null,
            "grid_gap": null,
            "grid_row": null,
            "grid_template_areas": null,
            "grid_template_columns": null,
            "grid_template_rows": null,
            "height": null,
            "justify_content": null,
            "justify_items": null,
            "left": null,
            "margin": null,
            "max_height": null,
            "max_width": null,
            "min_height": null,
            "min_width": null,
            "object_fit": null,
            "object_position": null,
            "order": null,
            "overflow": null,
            "overflow_x": null,
            "overflow_y": null,
            "padding": null,
            "right": null,
            "top": null,
            "visibility": null,
            "width": null
          }
        },
        "6bf61a42adcd45e2b8829527778760d6": {
          "model_module": "@jupyter-widgets/controls",
          "model_name": "ProgressStyleModel",
          "model_module_version": "1.5.0",
          "state": {
            "_model_module": "@jupyter-widgets/controls",
            "_model_module_version": "1.5.0",
            "_model_name": "ProgressStyleModel",
            "_view_count": null,
            "_view_module": "@jupyter-widgets/base",
            "_view_module_version": "1.2.0",
            "_view_name": "StyleView",
            "bar_color": null,
            "description_width": ""
          }
        },
        "3559a43f824a45fd8eacaddd3a2b838d": {
          "model_module": "@jupyter-widgets/controls",
          "model_name": "VBoxModel",
          "model_module_version": "1.5.0",
          "state": {
            "_dom_classes": [],
            "_model_module": "@jupyter-widgets/controls",
            "_model_module_version": "1.5.0",
            "_model_name": "VBoxModel",
            "_view_count": null,
            "_view_module": "@jupyter-widgets/controls",
            "_view_module_version": "1.5.0",
            "_view_name": "VBoxView",
            "box_style": "",
            "children": [
              "IPY_MODEL_9e92d4f63fc240218142d20f0029f0fe",
              "IPY_MODEL_350b4887e2ef415e932a1cf18a1006b6"
            ],
            "layout": "IPY_MODEL_5e2c84eea52045afb3794f2dc3a07228"
          }
        },
        "9e92d4f63fc240218142d20f0029f0fe": {
          "model_module": "@jupyter-widgets/controls",
          "model_name": "LabelModel",
          "model_module_version": "1.5.0",
          "state": {
            "_dom_classes": [],
            "_model_module": "@jupyter-widgets/controls",
            "_model_module_version": "1.5.0",
            "_model_name": "LabelModel",
            "_view_count": null,
            "_view_module": "@jupyter-widgets/controls",
            "_view_module_version": "1.5.0",
            "_view_name": "LabelView",
            "description": "",
            "description_tooltip": null,
            "layout": "IPY_MODEL_a7a337dba1a84c5ab046b1a73a524db7",
            "placeholder": "​",
            "style": "IPY_MODEL_9b33513b5ef4452e9267e5486e3bfa80",
            "value": "0.008 MB of 0.008 MB uploaded (0.000 MB deduped)\r"
          }
        },
        "350b4887e2ef415e932a1cf18a1006b6": {
          "model_module": "@jupyter-widgets/controls",
          "model_name": "FloatProgressModel",
          "model_module_version": "1.5.0",
          "state": {
            "_dom_classes": [],
            "_model_module": "@jupyter-widgets/controls",
            "_model_module_version": "1.5.0",
            "_model_name": "FloatProgressModel",
            "_view_count": null,
            "_view_module": "@jupyter-widgets/controls",
            "_view_module_version": "1.5.0",
            "_view_name": "ProgressView",
            "bar_style": "",
            "description": "",
            "description_tooltip": null,
            "layout": "IPY_MODEL_a142469802da417984c162707b9676f8",
            "max": 1,
            "min": 0,
            "orientation": "horizontal",
            "style": "IPY_MODEL_7bbc85418cd145729bd737e97dbbc419",
            "value": 1
          }
        },
        "5e2c84eea52045afb3794f2dc3a07228": {
          "model_module": "@jupyter-widgets/base",
          "model_name": "LayoutModel",
          "model_module_version": "1.2.0",
          "state": {
            "_model_module": "@jupyter-widgets/base",
            "_model_module_version": "1.2.0",
            "_model_name": "LayoutModel",
            "_view_count": null,
            "_view_module": "@jupyter-widgets/base",
            "_view_module_version": "1.2.0",
            "_view_name": "LayoutView",
            "align_content": null,
            "align_items": null,
            "align_self": null,
            "border": null,
            "bottom": null,
            "display": null,
            "flex": null,
            "flex_flow": null,
            "grid_area": null,
            "grid_auto_columns": null,
            "grid_auto_flow": null,
            "grid_auto_rows": null,
            "grid_column": null,
            "grid_gap": null,
            "grid_row": null,
            "grid_template_areas": null,
            "grid_template_columns": null,
            "grid_template_rows": null,
            "height": null,
            "justify_content": null,
            "justify_items": null,
            "left": null,
            "margin": null,
            "max_height": null,
            "max_width": null,
            "min_height": null,
            "min_width": null,
            "object_fit": null,
            "object_position": null,
            "order": null,
            "overflow": null,
            "overflow_x": null,
            "overflow_y": null,
            "padding": null,
            "right": null,
            "top": null,
            "visibility": null,
            "width": null
          }
        },
        "a7a337dba1a84c5ab046b1a73a524db7": {
          "model_module": "@jupyter-widgets/base",
          "model_name": "LayoutModel",
          "model_module_version": "1.2.0",
          "state": {
            "_model_module": "@jupyter-widgets/base",
            "_model_module_version": "1.2.0",
            "_model_name": "LayoutModel",
            "_view_count": null,
            "_view_module": "@jupyter-widgets/base",
            "_view_module_version": "1.2.0",
            "_view_name": "LayoutView",
            "align_content": null,
            "align_items": null,
            "align_self": null,
            "border": null,
            "bottom": null,
            "display": null,
            "flex": null,
            "flex_flow": null,
            "grid_area": null,
            "grid_auto_columns": null,
            "grid_auto_flow": null,
            "grid_auto_rows": null,
            "grid_column": null,
            "grid_gap": null,
            "grid_row": null,
            "grid_template_areas": null,
            "grid_template_columns": null,
            "grid_template_rows": null,
            "height": null,
            "justify_content": null,
            "justify_items": null,
            "left": null,
            "margin": null,
            "max_height": null,
            "max_width": null,
            "min_height": null,
            "min_width": null,
            "object_fit": null,
            "object_position": null,
            "order": null,
            "overflow": null,
            "overflow_x": null,
            "overflow_y": null,
            "padding": null,
            "right": null,
            "top": null,
            "visibility": null,
            "width": null
          }
        },
        "9b33513b5ef4452e9267e5486e3bfa80": {
          "model_module": "@jupyter-widgets/controls",
          "model_name": "DescriptionStyleModel",
          "model_module_version": "1.5.0",
          "state": {
            "_model_module": "@jupyter-widgets/controls",
            "_model_module_version": "1.5.0",
            "_model_name": "DescriptionStyleModel",
            "_view_count": null,
            "_view_module": "@jupyter-widgets/base",
            "_view_module_version": "1.2.0",
            "_view_name": "StyleView",
            "description_width": ""
          }
        },
        "a142469802da417984c162707b9676f8": {
          "model_module": "@jupyter-widgets/base",
          "model_name": "LayoutModel",
          "model_module_version": "1.2.0",
          "state": {
            "_model_module": "@jupyter-widgets/base",
            "_model_module_version": "1.2.0",
            "_model_name": "LayoutModel",
            "_view_count": null,
            "_view_module": "@jupyter-widgets/base",
            "_view_module_version": "1.2.0",
            "_view_name": "LayoutView",
            "align_content": null,
            "align_items": null,
            "align_self": null,
            "border": null,
            "bottom": null,
            "display": null,
            "flex": null,
            "flex_flow": null,
            "grid_area": null,
            "grid_auto_columns": null,
            "grid_auto_flow": null,
            "grid_auto_rows": null,
            "grid_column": null,
            "grid_gap": null,
            "grid_row": null,
            "grid_template_areas": null,
            "grid_template_columns": null,
            "grid_template_rows": null,
            "height": null,
            "justify_content": null,
            "justify_items": null,
            "left": null,
            "margin": null,
            "max_height": null,
            "max_width": null,
            "min_height": null,
            "min_width": null,
            "object_fit": null,
            "object_position": null,
            "order": null,
            "overflow": null,
            "overflow_x": null,
            "overflow_y": null,
            "padding": null,
            "right": null,
            "top": null,
            "visibility": null,
            "width": null
          }
        },
        "7bbc85418cd145729bd737e97dbbc419": {
          "model_module": "@jupyter-widgets/controls",
          "model_name": "ProgressStyleModel",
          "model_module_version": "1.5.0",
          "state": {
            "_model_module": "@jupyter-widgets/controls",
            "_model_module_version": "1.5.0",
            "_model_name": "ProgressStyleModel",
            "_view_count": null,
            "_view_module": "@jupyter-widgets/base",
            "_view_module_version": "1.2.0",
            "_view_name": "StyleView",
            "bar_color": null,
            "description_width": ""
          }
        },
        "7dea4500216d42c1af26d8c58d09e537": {
          "model_module": "@jupyter-widgets/controls",
          "model_name": "VBoxModel",
          "model_module_version": "1.5.0",
          "state": {
            "_dom_classes": [],
            "_model_module": "@jupyter-widgets/controls",
            "_model_module_version": "1.5.0",
            "_model_name": "VBoxModel",
            "_view_count": null,
            "_view_module": "@jupyter-widgets/controls",
            "_view_module_version": "1.5.0",
            "_view_name": "VBoxView",
            "box_style": "",
            "children": [
              "IPY_MODEL_c8c65233a387429c88ea3023fdc63ee7",
              "IPY_MODEL_c9ec6dbe41cd427ea11b6ce0033c392d"
            ],
            "layout": "IPY_MODEL_c98bdedd1bac4d968e6a02e3cdd7d32f"
          }
        },
        "c8c65233a387429c88ea3023fdc63ee7": {
          "model_module": "@jupyter-widgets/controls",
          "model_name": "LabelModel",
          "model_module_version": "1.5.0",
          "state": {
            "_dom_classes": [],
            "_model_module": "@jupyter-widgets/controls",
            "_model_module_version": "1.5.0",
            "_model_name": "LabelModel",
            "_view_count": null,
            "_view_module": "@jupyter-widgets/controls",
            "_view_module_version": "1.5.0",
            "_view_name": "LabelView",
            "description": "",
            "description_tooltip": null,
            "layout": "IPY_MODEL_664a07ade00c4fc4879162c7120b0984",
            "placeholder": "​",
            "style": "IPY_MODEL_867958364a34498c870dbf9761fe9f43",
            "value": "0.131 MB of 0.131 MB uploaded (0.000 MB deduped)\r"
          }
        },
        "c9ec6dbe41cd427ea11b6ce0033c392d": {
          "model_module": "@jupyter-widgets/controls",
          "model_name": "FloatProgressModel",
          "model_module_version": "1.5.0",
          "state": {
            "_dom_classes": [],
            "_model_module": "@jupyter-widgets/controls",
            "_model_module_version": "1.5.0",
            "_model_name": "FloatProgressModel",
            "_view_count": null,
            "_view_module": "@jupyter-widgets/controls",
            "_view_module_version": "1.5.0",
            "_view_name": "ProgressView",
            "bar_style": "",
            "description": "",
            "description_tooltip": null,
            "layout": "IPY_MODEL_fd0ff6bea02d47ebb99f2eec94194e11",
            "max": 1,
            "min": 0,
            "orientation": "horizontal",
            "style": "IPY_MODEL_f71132367725416b8c4fc153fd53b470",
            "value": 1
          }
        },
        "c98bdedd1bac4d968e6a02e3cdd7d32f": {
          "model_module": "@jupyter-widgets/base",
          "model_name": "LayoutModel",
          "model_module_version": "1.2.0",
          "state": {
            "_model_module": "@jupyter-widgets/base",
            "_model_module_version": "1.2.0",
            "_model_name": "LayoutModel",
            "_view_count": null,
            "_view_module": "@jupyter-widgets/base",
            "_view_module_version": "1.2.0",
            "_view_name": "LayoutView",
            "align_content": null,
            "align_items": null,
            "align_self": null,
            "border": null,
            "bottom": null,
            "display": null,
            "flex": null,
            "flex_flow": null,
            "grid_area": null,
            "grid_auto_columns": null,
            "grid_auto_flow": null,
            "grid_auto_rows": null,
            "grid_column": null,
            "grid_gap": null,
            "grid_row": null,
            "grid_template_areas": null,
            "grid_template_columns": null,
            "grid_template_rows": null,
            "height": null,
            "justify_content": null,
            "justify_items": null,
            "left": null,
            "margin": null,
            "max_height": null,
            "max_width": null,
            "min_height": null,
            "min_width": null,
            "object_fit": null,
            "object_position": null,
            "order": null,
            "overflow": null,
            "overflow_x": null,
            "overflow_y": null,
            "padding": null,
            "right": null,
            "top": null,
            "visibility": null,
            "width": null
          }
        },
        "664a07ade00c4fc4879162c7120b0984": {
          "model_module": "@jupyter-widgets/base",
          "model_name": "LayoutModel",
          "model_module_version": "1.2.0",
          "state": {
            "_model_module": "@jupyter-widgets/base",
            "_model_module_version": "1.2.0",
            "_model_name": "LayoutModel",
            "_view_count": null,
            "_view_module": "@jupyter-widgets/base",
            "_view_module_version": "1.2.0",
            "_view_name": "LayoutView",
            "align_content": null,
            "align_items": null,
            "align_self": null,
            "border": null,
            "bottom": null,
            "display": null,
            "flex": null,
            "flex_flow": null,
            "grid_area": null,
            "grid_auto_columns": null,
            "grid_auto_flow": null,
            "grid_auto_rows": null,
            "grid_column": null,
            "grid_gap": null,
            "grid_row": null,
            "grid_template_areas": null,
            "grid_template_columns": null,
            "grid_template_rows": null,
            "height": null,
            "justify_content": null,
            "justify_items": null,
            "left": null,
            "margin": null,
            "max_height": null,
            "max_width": null,
            "min_height": null,
            "min_width": null,
            "object_fit": null,
            "object_position": null,
            "order": null,
            "overflow": null,
            "overflow_x": null,
            "overflow_y": null,
            "padding": null,
            "right": null,
            "top": null,
            "visibility": null,
            "width": null
          }
        },
        "867958364a34498c870dbf9761fe9f43": {
          "model_module": "@jupyter-widgets/controls",
          "model_name": "DescriptionStyleModel",
          "model_module_version": "1.5.0",
          "state": {
            "_model_module": "@jupyter-widgets/controls",
            "_model_module_version": "1.5.0",
            "_model_name": "DescriptionStyleModel",
            "_view_count": null,
            "_view_module": "@jupyter-widgets/base",
            "_view_module_version": "1.2.0",
            "_view_name": "StyleView",
            "description_width": ""
          }
        },
        "fd0ff6bea02d47ebb99f2eec94194e11": {
          "model_module": "@jupyter-widgets/base",
          "model_name": "LayoutModel",
          "model_module_version": "1.2.0",
          "state": {
            "_model_module": "@jupyter-widgets/base",
            "_model_module_version": "1.2.0",
            "_model_name": "LayoutModel",
            "_view_count": null,
            "_view_module": "@jupyter-widgets/base",
            "_view_module_version": "1.2.0",
            "_view_name": "LayoutView",
            "align_content": null,
            "align_items": null,
            "align_self": null,
            "border": null,
            "bottom": null,
            "display": null,
            "flex": null,
            "flex_flow": null,
            "grid_area": null,
            "grid_auto_columns": null,
            "grid_auto_flow": null,
            "grid_auto_rows": null,
            "grid_column": null,
            "grid_gap": null,
            "grid_row": null,
            "grid_template_areas": null,
            "grid_template_columns": null,
            "grid_template_rows": null,
            "height": null,
            "justify_content": null,
            "justify_items": null,
            "left": null,
            "margin": null,
            "max_height": null,
            "max_width": null,
            "min_height": null,
            "min_width": null,
            "object_fit": null,
            "object_position": null,
            "order": null,
            "overflow": null,
            "overflow_x": null,
            "overflow_y": null,
            "padding": null,
            "right": null,
            "top": null,
            "visibility": null,
            "width": null
          }
        },
        "f71132367725416b8c4fc153fd53b470": {
          "model_module": "@jupyter-widgets/controls",
          "model_name": "ProgressStyleModel",
          "model_module_version": "1.5.0",
          "state": {
            "_model_module": "@jupyter-widgets/controls",
            "_model_module_version": "1.5.0",
            "_model_name": "ProgressStyleModel",
            "_view_count": null,
            "_view_module": "@jupyter-widgets/base",
            "_view_module_version": "1.2.0",
            "_view_name": "StyleView",
            "bar_color": null,
            "description_width": ""
          }
        },
        "59a88f95485546dfb0ccd194153cc3e9": {
          "model_module": "@jupyter-widgets/controls",
          "model_name": "VBoxModel",
          "model_module_version": "1.5.0",
          "state": {
            "_dom_classes": [],
            "_model_module": "@jupyter-widgets/controls",
            "_model_module_version": "1.5.0",
            "_model_name": "VBoxModel",
            "_view_count": null,
            "_view_module": "@jupyter-widgets/controls",
            "_view_module_version": "1.5.0",
            "_view_name": "VBoxView",
            "box_style": "",
            "children": [
              "IPY_MODEL_2b86223a5aa744888d32e17a3a45f551",
              "IPY_MODEL_2300b6758ec04bf6975bed49ef1a77fe"
            ],
            "layout": "IPY_MODEL_6d14732ba7464cc3add29fcf69529dea"
          }
        },
        "2b86223a5aa744888d32e17a3a45f551": {
          "model_module": "@jupyter-widgets/controls",
          "model_name": "LabelModel",
          "model_module_version": "1.5.0",
          "state": {
            "_dom_classes": [],
            "_model_module": "@jupyter-widgets/controls",
            "_model_module_version": "1.5.0",
            "_model_name": "LabelModel",
            "_view_count": null,
            "_view_module": "@jupyter-widgets/controls",
            "_view_module_version": "1.5.0",
            "_view_name": "LabelView",
            "description": "",
            "description_tooltip": null,
            "layout": "IPY_MODEL_1c66f38c9d554183beb040fd00176be6",
            "placeholder": "​",
            "style": "IPY_MODEL_240bb0624fad4f38b0a82c37d2fc9702",
            "value": "0.008 MB of 0.008 MB uploaded (0.000 MB deduped)\r"
          }
        },
        "2300b6758ec04bf6975bed49ef1a77fe": {
          "model_module": "@jupyter-widgets/controls",
          "model_name": "FloatProgressModel",
          "model_module_version": "1.5.0",
          "state": {
            "_dom_classes": [],
            "_model_module": "@jupyter-widgets/controls",
            "_model_module_version": "1.5.0",
            "_model_name": "FloatProgressModel",
            "_view_count": null,
            "_view_module": "@jupyter-widgets/controls",
            "_view_module_version": "1.5.0",
            "_view_name": "ProgressView",
            "bar_style": "",
            "description": "",
            "description_tooltip": null,
            "layout": "IPY_MODEL_a35b341297e84fa18fa579aa2fd5e8ce",
            "max": 1,
            "min": 0,
            "orientation": "horizontal",
            "style": "IPY_MODEL_dad8114ec68248b4bc07192f84677266",
            "value": 1
          }
        },
        "6d14732ba7464cc3add29fcf69529dea": {
          "model_module": "@jupyter-widgets/base",
          "model_name": "LayoutModel",
          "model_module_version": "1.2.0",
          "state": {
            "_model_module": "@jupyter-widgets/base",
            "_model_module_version": "1.2.0",
            "_model_name": "LayoutModel",
            "_view_count": null,
            "_view_module": "@jupyter-widgets/base",
            "_view_module_version": "1.2.0",
            "_view_name": "LayoutView",
            "align_content": null,
            "align_items": null,
            "align_self": null,
            "border": null,
            "bottom": null,
            "display": null,
            "flex": null,
            "flex_flow": null,
            "grid_area": null,
            "grid_auto_columns": null,
            "grid_auto_flow": null,
            "grid_auto_rows": null,
            "grid_column": null,
            "grid_gap": null,
            "grid_row": null,
            "grid_template_areas": null,
            "grid_template_columns": null,
            "grid_template_rows": null,
            "height": null,
            "justify_content": null,
            "justify_items": null,
            "left": null,
            "margin": null,
            "max_height": null,
            "max_width": null,
            "min_height": null,
            "min_width": null,
            "object_fit": null,
            "object_position": null,
            "order": null,
            "overflow": null,
            "overflow_x": null,
            "overflow_y": null,
            "padding": null,
            "right": null,
            "top": null,
            "visibility": null,
            "width": null
          }
        },
        "1c66f38c9d554183beb040fd00176be6": {
          "model_module": "@jupyter-widgets/base",
          "model_name": "LayoutModel",
          "model_module_version": "1.2.0",
          "state": {
            "_model_module": "@jupyter-widgets/base",
            "_model_module_version": "1.2.0",
            "_model_name": "LayoutModel",
            "_view_count": null,
            "_view_module": "@jupyter-widgets/base",
            "_view_module_version": "1.2.0",
            "_view_name": "LayoutView",
            "align_content": null,
            "align_items": null,
            "align_self": null,
            "border": null,
            "bottom": null,
            "display": null,
            "flex": null,
            "flex_flow": null,
            "grid_area": null,
            "grid_auto_columns": null,
            "grid_auto_flow": null,
            "grid_auto_rows": null,
            "grid_column": null,
            "grid_gap": null,
            "grid_row": null,
            "grid_template_areas": null,
            "grid_template_columns": null,
            "grid_template_rows": null,
            "height": null,
            "justify_content": null,
            "justify_items": null,
            "left": null,
            "margin": null,
            "max_height": null,
            "max_width": null,
            "min_height": null,
            "min_width": null,
            "object_fit": null,
            "object_position": null,
            "order": null,
            "overflow": null,
            "overflow_x": null,
            "overflow_y": null,
            "padding": null,
            "right": null,
            "top": null,
            "visibility": null,
            "width": null
          }
        },
        "240bb0624fad4f38b0a82c37d2fc9702": {
          "model_module": "@jupyter-widgets/controls",
          "model_name": "DescriptionStyleModel",
          "model_module_version": "1.5.0",
          "state": {
            "_model_module": "@jupyter-widgets/controls",
            "_model_module_version": "1.5.0",
            "_model_name": "DescriptionStyleModel",
            "_view_count": null,
            "_view_module": "@jupyter-widgets/base",
            "_view_module_version": "1.2.0",
            "_view_name": "StyleView",
            "description_width": ""
          }
        },
        "a35b341297e84fa18fa579aa2fd5e8ce": {
          "model_module": "@jupyter-widgets/base",
          "model_name": "LayoutModel",
          "model_module_version": "1.2.0",
          "state": {
            "_model_module": "@jupyter-widgets/base",
            "_model_module_version": "1.2.0",
            "_model_name": "LayoutModel",
            "_view_count": null,
            "_view_module": "@jupyter-widgets/base",
            "_view_module_version": "1.2.0",
            "_view_name": "LayoutView",
            "align_content": null,
            "align_items": null,
            "align_self": null,
            "border": null,
            "bottom": null,
            "display": null,
            "flex": null,
            "flex_flow": null,
            "grid_area": null,
            "grid_auto_columns": null,
            "grid_auto_flow": null,
            "grid_auto_rows": null,
            "grid_column": null,
            "grid_gap": null,
            "grid_row": null,
            "grid_template_areas": null,
            "grid_template_columns": null,
            "grid_template_rows": null,
            "height": null,
            "justify_content": null,
            "justify_items": null,
            "left": null,
            "margin": null,
            "max_height": null,
            "max_width": null,
            "min_height": null,
            "min_width": null,
            "object_fit": null,
            "object_position": null,
            "order": null,
            "overflow": null,
            "overflow_x": null,
            "overflow_y": null,
            "padding": null,
            "right": null,
            "top": null,
            "visibility": null,
            "width": null
          }
        },
        "dad8114ec68248b4bc07192f84677266": {
          "model_module": "@jupyter-widgets/controls",
          "model_name": "ProgressStyleModel",
          "model_module_version": "1.5.0",
          "state": {
            "_model_module": "@jupyter-widgets/controls",
            "_model_module_version": "1.5.0",
            "_model_name": "ProgressStyleModel",
            "_view_count": null,
            "_view_module": "@jupyter-widgets/base",
            "_view_module_version": "1.2.0",
            "_view_name": "StyleView",
            "bar_color": null,
            "description_width": ""
          }
        }
      }
    }
  },
  "cells": [
    {
      "cell_type": "markdown",
      "metadata": {
        "id": "view-in-github",
        "colab_type": "text"
      },
      "source": [
        "<a href=\"https://colab.research.google.com/github/mel-zheng/mel-zheng/blob/main/GPT_3_finetune_on_Shakespeare_(Hamlet).ipynb\" target=\"_parent\"><img src=\"https://colab.research.google.com/assets/colab-badge.svg\" alt=\"Open In Colab\"/></a>"
      ]
    },
    {
      "cell_type": "code",
      "source": [
        "from google.colab import drive\n",
        "drive.mount('/content/drive')"
      ],
      "metadata": {
        "colab": {
          "base_uri": "https://localhost:8080/"
        },
        "id": "4pmiEqQ5gbQ7",
        "outputId": "12be4181-b662-4bd2-ef97-e3f40362f591"
      },
      "execution_count": 1,
      "outputs": [
        {
          "output_type": "stream",
          "name": "stdout",
          "text": [
            "Mounted at /content/drive\n"
          ]
        }
      ]
    },
    {
      "cell_type": "markdown",
      "source": [
        "## Import Dependencies"
      ],
      "metadata": {
        "id": "vkySRX45cgWm"
      }
    },
    {
      "cell_type": "code",
      "source": [
        "! pip install kaggle"
      ],
      "metadata": {
        "colab": {
          "base_uri": "https://localhost:8080/"
        },
        "id": "2IIutn4VTZbD",
        "outputId": "46c7f4b4-e4b9-4102-fcf5-34a94dafbe19"
      },
      "execution_count": 2,
      "outputs": [
        {
          "output_type": "stream",
          "name": "stdout",
          "text": [
            "Looking in indexes: https://pypi.org/simple, https://us-python.pkg.dev/colab-wheels/public/simple/\n",
            "Requirement already satisfied: kaggle in /usr/local/lib/python3.7/dist-packages (1.5.12)\n",
            "Requirement already satisfied: urllib3 in /usr/local/lib/python3.7/dist-packages (from kaggle) (1.24.3)\n",
            "Requirement already satisfied: six>=1.10 in /usr/local/lib/python3.7/dist-packages (from kaggle) (1.15.0)\n",
            "Requirement already satisfied: tqdm in /usr/local/lib/python3.7/dist-packages (from kaggle) (4.64.0)\n",
            "Requirement already satisfied: requests in /usr/local/lib/python3.7/dist-packages (from kaggle) (2.23.0)\n",
            "Requirement already satisfied: python-slugify in /usr/local/lib/python3.7/dist-packages (from kaggle) (6.1.2)\n",
            "Requirement already satisfied: python-dateutil in /usr/local/lib/python3.7/dist-packages (from kaggle) (2.8.2)\n",
            "Requirement already satisfied: certifi in /usr/local/lib/python3.7/dist-packages (from kaggle) (2022.6.15)\n",
            "Requirement already satisfied: text-unidecode>=1.3 in /usr/local/lib/python3.7/dist-packages (from python-slugify->kaggle) (1.3)\n",
            "Requirement already satisfied: idna<3,>=2.5 in /usr/local/lib/python3.7/dist-packages (from requests->kaggle) (2.10)\n",
            "Requirement already satisfied: chardet<4,>=3.0.2 in /usr/local/lib/python3.7/dist-packages (from requests->kaggle) (3.0.4)\n"
          ]
        }
      ]
    },
    {
      "cell_type": "code",
      "source": [
        "! mkdir ~/.kaggle"
      ],
      "metadata": {
        "id": "V1IDTiD3UGMS"
      },
      "execution_count": 3,
      "outputs": []
    },
    {
      "cell_type": "code",
      "source": [
        "!cp /content/drive/MyDrive/kaggle.json ~/.kaggle/kaggle.json #copy kaggle API keys from the drive"
      ],
      "metadata": {
        "id": "ALEbtEcBUH4H"
      },
      "execution_count": 4,
      "outputs": []
    },
    {
      "cell_type": "code",
      "source": [
        "!pip install --upgrade openai wandb "
      ],
      "metadata": {
        "colab": {
          "base_uri": "https://localhost:8080/"
        },
        "id": "htxEKykTciHi",
        "outputId": "4cc857ed-1a0b-43a0-d22c-addbcbb7b967"
      },
      "execution_count": 5,
      "outputs": [
        {
          "output_type": "stream",
          "name": "stdout",
          "text": [
            "Looking in indexes: https://pypi.org/simple, https://us-python.pkg.dev/colab-wheels/public/simple/\n",
            "Collecting openai\n",
            "  Downloading openai-0.20.0.tar.gz (42 kB)\n",
            "\u001b[K     |████████████████████████████████| 42 kB 492 kB/s \n",
            "\u001b[?25h  Installing build dependencies ... \u001b[?25l\u001b[?25hdone\n",
            "  Getting requirements to build wheel ... \u001b[?25l\u001b[?25hdone\n",
            "    Preparing wheel metadata ... \u001b[?25l\u001b[?25hdone\n",
            "Collecting wandb\n",
            "  Downloading wandb-0.12.21-py2.py3-none-any.whl (1.8 MB)\n",
            "\u001b[K     |████████████████████████████████| 1.8 MB 34.5 MB/s \n",
            "\u001b[?25hCollecting pandas-stubs>=1.1.0.11\n",
            "  Downloading pandas_stubs-1.2.0.62-py3-none-any.whl (163 kB)\n",
            "\u001b[K     |████████████████████████████████| 163 kB 43.9 MB/s \n",
            "\u001b[?25hRequirement already satisfied: pandas>=1.2.3 in /usr/local/lib/python3.7/dist-packages (from openai) (1.3.5)\n",
            "Requirement already satisfied: openpyxl>=3.0.7 in /usr/local/lib/python3.7/dist-packages (from openai) (3.0.10)\n",
            "Requirement already satisfied: requests>=2.20 in /usr/local/lib/python3.7/dist-packages (from openai) (2.23.0)\n",
            "Requirement already satisfied: tqdm in /usr/local/lib/python3.7/dist-packages (from openai) (4.64.0)\n",
            "Requirement already satisfied: et-xmlfile in /usr/local/lib/python3.7/dist-packages (from openpyxl>=3.0.7->openai) (1.1.0)\n",
            "Requirement already satisfied: numpy>=1.17.3 in /usr/local/lib/python3.7/dist-packages (from pandas>=1.2.3->openai) (1.21.6)\n",
            "Requirement already satisfied: pytz>=2017.3 in /usr/local/lib/python3.7/dist-packages (from pandas>=1.2.3->openai) (2022.1)\n",
            "Requirement already satisfied: python-dateutil>=2.7.3 in /usr/local/lib/python3.7/dist-packages (from pandas>=1.2.3->openai) (2.8.2)\n",
            "Requirement already satisfied: typing-extensions>=3.7.4.3 in /usr/local/lib/python3.7/dist-packages (from pandas-stubs>=1.1.0.11->openai) (4.1.1)\n",
            "Requirement already satisfied: six>=1.5 in /usr/local/lib/python3.7/dist-packages (from python-dateutil>=2.7.3->pandas>=1.2.3->openai) (1.15.0)\n",
            "Requirement already satisfied: certifi>=2017.4.17 in /usr/local/lib/python3.7/dist-packages (from requests>=2.20->openai) (2022.6.15)\n",
            "Requirement already satisfied: idna<3,>=2.5 in /usr/local/lib/python3.7/dist-packages (from requests>=2.20->openai) (2.10)\n",
            "Requirement already satisfied: chardet<4,>=3.0.2 in /usr/local/lib/python3.7/dist-packages (from requests>=2.20->openai) (3.0.4)\n",
            "Requirement already satisfied: urllib3!=1.25.0,!=1.25.1,<1.26,>=1.21.1 in /usr/local/lib/python3.7/dist-packages (from requests>=2.20->openai) (1.24.3)\n",
            "Collecting shortuuid>=0.5.0\n",
            "  Downloading shortuuid-1.0.9-py3-none-any.whl (9.4 kB)\n",
            "Collecting setproctitle\n",
            "  Downloading setproctitle-1.2.3-cp37-cp37m-manylinux_2_5_x86_64.manylinux1_x86_64.manylinux_2_17_x86_64.manylinux2014_x86_64.whl (29 kB)\n",
            "Collecting GitPython>=1.0.0\n",
            "  Downloading GitPython-3.1.27-py3-none-any.whl (181 kB)\n",
            "\u001b[K     |████████████████████████████████| 181 kB 51.5 MB/s \n",
            "\u001b[?25hCollecting pathtools\n",
            "  Downloading pathtools-0.1.2.tar.gz (11 kB)\n",
            "Requirement already satisfied: promise<3,>=2.0 in /usr/local/lib/python3.7/dist-packages (from wandb) (2.3)\n",
            "Collecting docker-pycreds>=0.4.0\n",
            "  Downloading docker_pycreds-0.4.0-py2.py3-none-any.whl (9.0 kB)\n",
            "Requirement already satisfied: protobuf<4.0dev,>=3.12.0 in /usr/local/lib/python3.7/dist-packages (from wandb) (3.17.3)\n",
            "Requirement already satisfied: setuptools in /usr/local/lib/python3.7/dist-packages (from wandb) (57.4.0)\n",
            "Requirement already satisfied: psutil>=5.0.0 in /usr/local/lib/python3.7/dist-packages (from wandb) (5.4.8)\n",
            "Collecting sentry-sdk>=1.0.0\n",
            "  Downloading sentry_sdk-1.7.0-py2.py3-none-any.whl (146 kB)\n",
            "\u001b[K     |████████████████████████████████| 146 kB 50.9 MB/s \n",
            "\u001b[?25hRequirement already satisfied: Click!=8.0.0,>=7.0 in /usr/local/lib/python3.7/dist-packages (from wandb) (7.1.2)\n",
            "Requirement already satisfied: PyYAML in /usr/local/lib/python3.7/dist-packages (from wandb) (3.13)\n",
            "Collecting gitdb<5,>=4.0.1\n",
            "  Downloading gitdb-4.0.9-py3-none-any.whl (63 kB)\n",
            "\u001b[K     |████████████████████████████████| 63 kB 1.8 MB/s \n",
            "\u001b[?25hCollecting smmap<6,>=3.0.1\n",
            "  Downloading smmap-5.0.0-py3-none-any.whl (24 kB)\n",
            "Building wheels for collected packages: openai, pathtools\n",
            "  Building wheel for openai (PEP 517) ... \u001b[?25l\u001b[?25hdone\n",
            "  Created wheel for openai: filename=openai-0.20.0-py3-none-any.whl size=54118 sha256=453342a4148480b543edf599151ac01f8a58713fad52a46c879c1d0b689fa93b\n",
            "  Stored in directory: /root/.cache/pip/wheels/71/8d/9b/e28529ec53123e0279208f99148d4661232120d78cb866839b\n",
            "  Building wheel for pathtools (setup.py) ... \u001b[?25l\u001b[?25hdone\n",
            "  Created wheel for pathtools: filename=pathtools-0.1.2-py3-none-any.whl size=8806 sha256=4bef430a84f2539111529e47d6ef7a26dbdd7ab252baedaa25b04a9c424fc078\n",
            "  Stored in directory: /root/.cache/pip/wheels/3e/31/09/fa59cef12cdcfecc627b3d24273699f390e71828921b2cbba2\n",
            "Successfully built openai pathtools\n",
            "Installing collected packages: smmap, gitdb, shortuuid, setproctitle, sentry-sdk, pathtools, pandas-stubs, GitPython, docker-pycreds, wandb, openai\n",
            "Successfully installed GitPython-3.1.27 docker-pycreds-0.4.0 gitdb-4.0.9 openai-0.20.0 pandas-stubs-1.2.0.62 pathtools-0.1.2 sentry-sdk-1.7.0 setproctitle-1.2.3 shortuuid-1.0.9 smmap-5.0.0 wandb-0.12.21\n"
          ]
        }
      ]
    },
    {
      "cell_type": "code",
      "source": [
        "import openai\n",
        "import wandb\n",
        "from pathlib import Path\n",
        "import pandas as pd\n",
        "import numpy as np\n",
        "import json\n",
        "from tqdm import tqdm\n",
        "import os"
      ],
      "metadata": {
        "id": "CBBydFcwcpGg"
      },
      "execution_count": 6,
      "outputs": []
    },
    {
      "cell_type": "markdown",
      "source": [
        "## Download data from Kaggle"
      ],
      "metadata": {
        "id": "ZStJxGIFg0ws"
      }
    },
    {
      "cell_type": "code",
      "source": [
        "!kaggle datasets download kingburrito666/shakespeare-plays -f Shakespeare_data.csv"
      ],
      "metadata": {
        "colab": {
          "base_uri": "https://localhost:8080/"
        },
        "id": "rCJpxZPAhOGl",
        "outputId": "49a6c64e-53ac-4012-f641-b068cc34172d"
      },
      "execution_count": 7,
      "outputs": [
        {
          "output_type": "stream",
          "name": "stdout",
          "text": [
            "Downloading Shakespeare_data.csv.zip to /content\n",
            "\r  0% 0.00/2.78M [00:00<?, ?B/s]\n",
            "\r100% 2.78M/2.78M [00:00<00:00, 200MB/s]\n"
          ]
        }
      ]
    },
    {
      "cell_type": "code",
      "source": [
        "!unzip Shakespeare_data.csv.zip"
      ],
      "metadata": {
        "colab": {
          "base_uri": "https://localhost:8080/"
        },
        "id": "DC1IaXsbhUvN",
        "outputId": "ca97e529-3266-48a0-ee15-c0d4120f6344"
      },
      "execution_count": 8,
      "outputs": [
        {
          "output_type": "stream",
          "name": "stdout",
          "text": [
            "Archive:  Shakespeare_data.csv.zip\n",
            "  inflating: Shakespeare_data.csv    \n"
          ]
        }
      ]
    },
    {
      "cell_type": "markdown",
      "source": [
        "## Process the raw kaggle data"
      ],
      "metadata": {
        "id": "jqUI2ntkYPbd"
      }
    },
    {
      "cell_type": "code",
      "source": [
        "!mkdir data"
      ],
      "metadata": {
        "id": "7wZyusC7VahR"
      },
      "execution_count": 9,
      "outputs": []
    },
    {
      "cell_type": "code",
      "source": [
        "!mkdir data-hamlet"
      ],
      "metadata": {
        "id": "a980SOgWZZYe"
      },
      "execution_count": 80,
      "outputs": []
    },
    {
      "cell_type": "code",
      "source": [
        "df_orig = pd.read_csv('Shakespeare_data.csv')\n",
        "df_orig.head(5)"
      ],
      "metadata": {
        "colab": {
          "base_uri": "https://localhost:8080/",
          "height": 206
        },
        "id": "XJbjNu_mWTXS",
        "outputId": "edc2ae08-5e47-4bf5-f461-e389a42bb968"
      },
      "execution_count": 11,
      "outputs": [
        {
          "output_type": "execute_result",
          "data": {
            "text/plain": [
              "   Dataline      Play  PlayerLinenumber ActSceneLine         Player  \\\n",
              "0         1  Henry IV               NaN          NaN            NaN   \n",
              "1         2  Henry IV               NaN          NaN            NaN   \n",
              "2         3  Henry IV               NaN          NaN            NaN   \n",
              "3         4  Henry IV               1.0        1.1.1  KING HENRY IV   \n",
              "4         5  Henry IV               1.0        1.1.2  KING HENRY IV   \n",
              "\n",
              "                                          PlayerLine  \n",
              "0                                              ACT I  \n",
              "1                       SCENE I. London. The palace.  \n",
              "2  Enter KING HENRY, LORD JOHN OF LANCASTER, the ...  \n",
              "3             So shaken as we are, so wan with care,  \n",
              "4         Find we a time for frighted peace to pant,  "
            ],
            "text/html": [
              "\n",
              "  <div id=\"df-f738c8e6-e162-42e0-a6fe-a42fbb8b8955\">\n",
              "    <div class=\"colab-df-container\">\n",
              "      <div>\n",
              "<style scoped>\n",
              "    .dataframe tbody tr th:only-of-type {\n",
              "        vertical-align: middle;\n",
              "    }\n",
              "\n",
              "    .dataframe tbody tr th {\n",
              "        vertical-align: top;\n",
              "    }\n",
              "\n",
              "    .dataframe thead th {\n",
              "        text-align: right;\n",
              "    }\n",
              "</style>\n",
              "<table border=\"1\" class=\"dataframe\">\n",
              "  <thead>\n",
              "    <tr style=\"text-align: right;\">\n",
              "      <th></th>\n",
              "      <th>Dataline</th>\n",
              "      <th>Play</th>\n",
              "      <th>PlayerLinenumber</th>\n",
              "      <th>ActSceneLine</th>\n",
              "      <th>Player</th>\n",
              "      <th>PlayerLine</th>\n",
              "    </tr>\n",
              "  </thead>\n",
              "  <tbody>\n",
              "    <tr>\n",
              "      <th>0</th>\n",
              "      <td>1</td>\n",
              "      <td>Henry IV</td>\n",
              "      <td>NaN</td>\n",
              "      <td>NaN</td>\n",
              "      <td>NaN</td>\n",
              "      <td>ACT I</td>\n",
              "    </tr>\n",
              "    <tr>\n",
              "      <th>1</th>\n",
              "      <td>2</td>\n",
              "      <td>Henry IV</td>\n",
              "      <td>NaN</td>\n",
              "      <td>NaN</td>\n",
              "      <td>NaN</td>\n",
              "      <td>SCENE I. London. The palace.</td>\n",
              "    </tr>\n",
              "    <tr>\n",
              "      <th>2</th>\n",
              "      <td>3</td>\n",
              "      <td>Henry IV</td>\n",
              "      <td>NaN</td>\n",
              "      <td>NaN</td>\n",
              "      <td>NaN</td>\n",
              "      <td>Enter KING HENRY, LORD JOHN OF LANCASTER, the ...</td>\n",
              "    </tr>\n",
              "    <tr>\n",
              "      <th>3</th>\n",
              "      <td>4</td>\n",
              "      <td>Henry IV</td>\n",
              "      <td>1.0</td>\n",
              "      <td>1.1.1</td>\n",
              "      <td>KING HENRY IV</td>\n",
              "      <td>So shaken as we are, so wan with care,</td>\n",
              "    </tr>\n",
              "    <tr>\n",
              "      <th>4</th>\n",
              "      <td>5</td>\n",
              "      <td>Henry IV</td>\n",
              "      <td>1.0</td>\n",
              "      <td>1.1.2</td>\n",
              "      <td>KING HENRY IV</td>\n",
              "      <td>Find we a time for frighted peace to pant,</td>\n",
              "    </tr>\n",
              "  </tbody>\n",
              "</table>\n",
              "</div>\n",
              "      <button class=\"colab-df-convert\" onclick=\"convertToInteractive('df-f738c8e6-e162-42e0-a6fe-a42fbb8b8955')\"\n",
              "              title=\"Convert this dataframe to an interactive table.\"\n",
              "              style=\"display:none;\">\n",
              "        \n",
              "  <svg xmlns=\"http://www.w3.org/2000/svg\" height=\"24px\"viewBox=\"0 0 24 24\"\n",
              "       width=\"24px\">\n",
              "    <path d=\"M0 0h24v24H0V0z\" fill=\"none\"/>\n",
              "    <path d=\"M18.56 5.44l.94 2.06.94-2.06 2.06-.94-2.06-.94-.94-2.06-.94 2.06-2.06.94zm-11 1L8.5 8.5l.94-2.06 2.06-.94-2.06-.94L8.5 2.5l-.94 2.06-2.06.94zm10 10l.94 2.06.94-2.06 2.06-.94-2.06-.94-.94-2.06-.94 2.06-2.06.94z\"/><path d=\"M17.41 7.96l-1.37-1.37c-.4-.4-.92-.59-1.43-.59-.52 0-1.04.2-1.43.59L10.3 9.45l-7.72 7.72c-.78.78-.78 2.05 0 2.83L4 21.41c.39.39.9.59 1.41.59.51 0 1.02-.2 1.41-.59l7.78-7.78 2.81-2.81c.8-.78.8-2.07 0-2.86zM5.41 20L4 18.59l7.72-7.72 1.47 1.35L5.41 20z\"/>\n",
              "  </svg>\n",
              "      </button>\n",
              "      \n",
              "  <style>\n",
              "    .colab-df-container {\n",
              "      display:flex;\n",
              "      flex-wrap:wrap;\n",
              "      gap: 12px;\n",
              "    }\n",
              "\n",
              "    .colab-df-convert {\n",
              "      background-color: #E8F0FE;\n",
              "      border: none;\n",
              "      border-radius: 50%;\n",
              "      cursor: pointer;\n",
              "      display: none;\n",
              "      fill: #1967D2;\n",
              "      height: 32px;\n",
              "      padding: 0 0 0 0;\n",
              "      width: 32px;\n",
              "    }\n",
              "\n",
              "    .colab-df-convert:hover {\n",
              "      background-color: #E2EBFA;\n",
              "      box-shadow: 0px 1px 2px rgba(60, 64, 67, 0.3), 0px 1px 3px 1px rgba(60, 64, 67, 0.15);\n",
              "      fill: #174EA6;\n",
              "    }\n",
              "\n",
              "    [theme=dark] .colab-df-convert {\n",
              "      background-color: #3B4455;\n",
              "      fill: #D2E3FC;\n",
              "    }\n",
              "\n",
              "    [theme=dark] .colab-df-convert:hover {\n",
              "      background-color: #434B5C;\n",
              "      box-shadow: 0px 1px 3px 1px rgba(0, 0, 0, 0.15);\n",
              "      filter: drop-shadow(0px 1px 2px rgba(0, 0, 0, 0.3));\n",
              "      fill: #FFFFFF;\n",
              "    }\n",
              "  </style>\n",
              "\n",
              "      <script>\n",
              "        const buttonEl =\n",
              "          document.querySelector('#df-f738c8e6-e162-42e0-a6fe-a42fbb8b8955 button.colab-df-convert');\n",
              "        buttonEl.style.display =\n",
              "          google.colab.kernel.accessAllowed ? 'block' : 'none';\n",
              "\n",
              "        async function convertToInteractive(key) {\n",
              "          const element = document.querySelector('#df-f738c8e6-e162-42e0-a6fe-a42fbb8b8955');\n",
              "          const dataTable =\n",
              "            await google.colab.kernel.invokeFunction('convertToInteractive',\n",
              "                                                     [key], {});\n",
              "          if (!dataTable) return;\n",
              "\n",
              "          const docLinkHtml = 'Like what you see? Visit the ' +\n",
              "            '<a target=\"_blank\" href=https://colab.research.google.com/notebooks/data_table.ipynb>data table notebook</a>'\n",
              "            + ' to learn more about interactive tables.';\n",
              "          element.innerHTML = '';\n",
              "          dataTable['output_type'] = 'display_data';\n",
              "          await google.colab.output.renderOutput(dataTable, element);\n",
              "          const docLink = document.createElement('div');\n",
              "          docLink.innerHTML = docLinkHtml;\n",
              "          element.appendChild(docLink);\n",
              "        }\n",
              "      </script>\n",
              "    </div>\n",
              "  </div>\n",
              "  "
            ]
          },
          "metadata": {},
          "execution_count": 11
        }
      ]
    },
    {
      "cell_type": "code",
      "source": [
        "df_orig.Player.value_counts()"
      ],
      "metadata": {
        "colab": {
          "base_uri": "https://localhost:8080/"
        },
        "id": "ZDyzk99KatVg",
        "outputId": "5c521c8d-c320-4f9d-a0b1-897ede19e130"
      },
      "execution_count": 12,
      "outputs": [
        {
          "output_type": "execute_result",
          "data": {
            "text/plain": [
              "GLOUCESTER      1920\n",
              "HAMLET          1582\n",
              "IAGO            1161\n",
              "FALSTAFF        1117\n",
              "KING HENRY V    1086\n",
              "                ... \n",
              "Haberdasher        1\n",
              "NICHOLAS           1\n",
              "JOSEPH             1\n",
              "PHILIP             1\n",
              "HORTENSIA          1\n",
              "Name: Player, Length: 934, dtype: int64"
            ]
          },
          "metadata": {},
          "execution_count": 12
        }
      ]
    },
    {
      "cell_type": "code",
      "source": [
        "df_hamlet = df_orig[df_orig.Player=='HAMLET']"
      ],
      "metadata": {
        "id": "F8KB26z2a0Mp"
      },
      "execution_count": 27,
      "outputs": []
    },
    {
      "cell_type": "code",
      "source": [
        "df_hamlet.head(5)"
      ],
      "metadata": {
        "colab": {
          "base_uri": "https://localhost:8080/",
          "height": 206
        },
        "id": "SdGZuAYTa8fM",
        "outputId": "250a1352-8c5f-4765-b6c2-a1f4d6c4e596"
      },
      "execution_count": 28,
      "outputs": [
        {
          "output_type": "execute_result",
          "data": {
            "text/plain": [
              "       Dataline    Play  PlayerLinenumber ActSceneLine  Player  \\\n",
              "32700     32701  Hamlet               9.0       1.2.66  HAMLET   \n",
              "32702     32703  Hamlet              11.0       1.2.68  HAMLET   \n",
              "32709     32710  Hamlet              13.0       1.2.75  HAMLET   \n",
              "32712     32713  Hamlet              15.0       1.2.78  HAMLET   \n",
              "32713     32714  Hamlet              15.0       1.2.79  HAMLET   \n",
              "\n",
              "                                              PlayerLine  \n",
              "32700  [Aside]  A little more than kin, and less than...  \n",
              "32702         Not so, my lord, I am too much i' the sun.  \n",
              "32709                           Ay, madam, it is common.  \n",
              "32712       Seems, madam! nay it is, I know not 'seems.'  \n",
              "32713         'Tis not alone my inky cloak, good mother,  "
            ],
            "text/html": [
              "\n",
              "  <div id=\"df-fa2f4547-156b-475b-bd8a-6f4e019308e0\">\n",
              "    <div class=\"colab-df-container\">\n",
              "      <div>\n",
              "<style scoped>\n",
              "    .dataframe tbody tr th:only-of-type {\n",
              "        vertical-align: middle;\n",
              "    }\n",
              "\n",
              "    .dataframe tbody tr th {\n",
              "        vertical-align: top;\n",
              "    }\n",
              "\n",
              "    .dataframe thead th {\n",
              "        text-align: right;\n",
              "    }\n",
              "</style>\n",
              "<table border=\"1\" class=\"dataframe\">\n",
              "  <thead>\n",
              "    <tr style=\"text-align: right;\">\n",
              "      <th></th>\n",
              "      <th>Dataline</th>\n",
              "      <th>Play</th>\n",
              "      <th>PlayerLinenumber</th>\n",
              "      <th>ActSceneLine</th>\n",
              "      <th>Player</th>\n",
              "      <th>PlayerLine</th>\n",
              "    </tr>\n",
              "  </thead>\n",
              "  <tbody>\n",
              "    <tr>\n",
              "      <th>32700</th>\n",
              "      <td>32701</td>\n",
              "      <td>Hamlet</td>\n",
              "      <td>9.0</td>\n",
              "      <td>1.2.66</td>\n",
              "      <td>HAMLET</td>\n",
              "      <td>[Aside]  A little more than kin, and less than...</td>\n",
              "    </tr>\n",
              "    <tr>\n",
              "      <th>32702</th>\n",
              "      <td>32703</td>\n",
              "      <td>Hamlet</td>\n",
              "      <td>11.0</td>\n",
              "      <td>1.2.68</td>\n",
              "      <td>HAMLET</td>\n",
              "      <td>Not so, my lord, I am too much i' the sun.</td>\n",
              "    </tr>\n",
              "    <tr>\n",
              "      <th>32709</th>\n",
              "      <td>32710</td>\n",
              "      <td>Hamlet</td>\n",
              "      <td>13.0</td>\n",
              "      <td>1.2.75</td>\n",
              "      <td>HAMLET</td>\n",
              "      <td>Ay, madam, it is common.</td>\n",
              "    </tr>\n",
              "    <tr>\n",
              "      <th>32712</th>\n",
              "      <td>32713</td>\n",
              "      <td>Hamlet</td>\n",
              "      <td>15.0</td>\n",
              "      <td>1.2.78</td>\n",
              "      <td>HAMLET</td>\n",
              "      <td>Seems, madam! nay it is, I know not 'seems.'</td>\n",
              "    </tr>\n",
              "    <tr>\n",
              "      <th>32713</th>\n",
              "      <td>32714</td>\n",
              "      <td>Hamlet</td>\n",
              "      <td>15.0</td>\n",
              "      <td>1.2.79</td>\n",
              "      <td>HAMLET</td>\n",
              "      <td>'Tis not alone my inky cloak, good mother,</td>\n",
              "    </tr>\n",
              "  </tbody>\n",
              "</table>\n",
              "</div>\n",
              "      <button class=\"colab-df-convert\" onclick=\"convertToInteractive('df-fa2f4547-156b-475b-bd8a-6f4e019308e0')\"\n",
              "              title=\"Convert this dataframe to an interactive table.\"\n",
              "              style=\"display:none;\">\n",
              "        \n",
              "  <svg xmlns=\"http://www.w3.org/2000/svg\" height=\"24px\"viewBox=\"0 0 24 24\"\n",
              "       width=\"24px\">\n",
              "    <path d=\"M0 0h24v24H0V0z\" fill=\"none\"/>\n",
              "    <path d=\"M18.56 5.44l.94 2.06.94-2.06 2.06-.94-2.06-.94-.94-2.06-.94 2.06-2.06.94zm-11 1L8.5 8.5l.94-2.06 2.06-.94-2.06-.94L8.5 2.5l-.94 2.06-2.06.94zm10 10l.94 2.06.94-2.06 2.06-.94-2.06-.94-.94-2.06-.94 2.06-2.06.94z\"/><path d=\"M17.41 7.96l-1.37-1.37c-.4-.4-.92-.59-1.43-.59-.52 0-1.04.2-1.43.59L10.3 9.45l-7.72 7.72c-.78.78-.78 2.05 0 2.83L4 21.41c.39.39.9.59 1.41.59.51 0 1.02-.2 1.41-.59l7.78-7.78 2.81-2.81c.8-.78.8-2.07 0-2.86zM5.41 20L4 18.59l7.72-7.72 1.47 1.35L5.41 20z\"/>\n",
              "  </svg>\n",
              "      </button>\n",
              "      \n",
              "  <style>\n",
              "    .colab-df-container {\n",
              "      display:flex;\n",
              "      flex-wrap:wrap;\n",
              "      gap: 12px;\n",
              "    }\n",
              "\n",
              "    .colab-df-convert {\n",
              "      background-color: #E8F0FE;\n",
              "      border: none;\n",
              "      border-radius: 50%;\n",
              "      cursor: pointer;\n",
              "      display: none;\n",
              "      fill: #1967D2;\n",
              "      height: 32px;\n",
              "      padding: 0 0 0 0;\n",
              "      width: 32px;\n",
              "    }\n",
              "\n",
              "    .colab-df-convert:hover {\n",
              "      background-color: #E2EBFA;\n",
              "      box-shadow: 0px 1px 2px rgba(60, 64, 67, 0.3), 0px 1px 3px 1px rgba(60, 64, 67, 0.15);\n",
              "      fill: #174EA6;\n",
              "    }\n",
              "\n",
              "    [theme=dark] .colab-df-convert {\n",
              "      background-color: #3B4455;\n",
              "      fill: #D2E3FC;\n",
              "    }\n",
              "\n",
              "    [theme=dark] .colab-df-convert:hover {\n",
              "      background-color: #434B5C;\n",
              "      box-shadow: 0px 1px 3px 1px rgba(0, 0, 0, 0.15);\n",
              "      filter: drop-shadow(0px 1px 2px rgba(0, 0, 0, 0.3));\n",
              "      fill: #FFFFFF;\n",
              "    }\n",
              "  </style>\n",
              "\n",
              "      <script>\n",
              "        const buttonEl =\n",
              "          document.querySelector('#df-fa2f4547-156b-475b-bd8a-6f4e019308e0 button.colab-df-convert');\n",
              "        buttonEl.style.display =\n",
              "          google.colab.kernel.accessAllowed ? 'block' : 'none';\n",
              "\n",
              "        async function convertToInteractive(key) {\n",
              "          const element = document.querySelector('#df-fa2f4547-156b-475b-bd8a-6f4e019308e0');\n",
              "          const dataTable =\n",
              "            await google.colab.kernel.invokeFunction('convertToInteractive',\n",
              "                                                     [key], {});\n",
              "          if (!dataTable) return;\n",
              "\n",
              "          const docLinkHtml = 'Like what you see? Visit the ' +\n",
              "            '<a target=\"_blank\" href=https://colab.research.google.com/notebooks/data_table.ipynb>data table notebook</a>'\n",
              "            + ' to learn more about interactive tables.';\n",
              "          element.innerHTML = '';\n",
              "          dataTable['output_type'] = 'display_data';\n",
              "          await google.colab.output.renderOutput(dataTable, element);\n",
              "          const docLink = document.createElement('div');\n",
              "          docLink.innerHTML = docLinkHtml;\n",
              "          element.appendChild(docLink);\n",
              "        }\n",
              "      </script>\n",
              "    </div>\n",
              "  </div>\n",
              "  "
            ]
          },
          "metadata": {},
          "execution_count": 28
        }
      ]
    },
    {
      "cell_type": "markdown",
      "source": [
        "Drop NA"
      ],
      "metadata": {
        "id": "QO1ykI1ni-X0"
      }
    },
    {
      "cell_type": "code",
      "source": [
        "print(df_hamlet.shape)\n",
        "df_hamlet = df_hamlet.dropna()\n",
        "print(df_hamlet.shape)\n"
      ],
      "metadata": {
        "colab": {
          "base_uri": "https://localhost:8080/"
        },
        "id": "1OidVk_wgl4C",
        "outputId": "c01b0341-1b73-4299-cd7b-9a7f304dc7ed"
      },
      "execution_count": 56,
      "outputs": [
        {
          "output_type": "stream",
          "name": "stdout",
          "text": [
            "(1582, 6)\n",
            "(1503, 6)\n"
          ]
        }
      ]
    },
    {
      "cell_type": "markdown",
      "source": [
        "PlayerLine are split into multiple rows. Recombine the lines into same line."
      ],
      "metadata": {
        "id": "sIxCQX-XjHas"
      }
    },
    {
      "cell_type": "code",
      "source": [
        "hamlet_lines = []\n",
        "linenums = []\n",
        "actscenes = []\n",
        "\n",
        "num_prev = 0\n",
        "act_prev=''\n",
        "lines=\"\"\n",
        "\n",
        "for v in df_hamlet.values:\n",
        "  act='.'.join(str(v[3]).split('.')[:2])\n",
        "  num = v[2]\n",
        "  line = v[-1]\n",
        "  if num == num_prev and act_prev==act:\n",
        "    lines = lines + ' ' + line\n",
        "  else:\n",
        "    if lines:\n",
        "      hamlet_lines.append(lines)\n",
        "      linenums.append(num_prev)\n",
        "      actscenes.append(act_prev)\n",
        "    lines = line\n",
        "    num_prev = num\n",
        "    act_prev = act\n",
        "\n",
        "hamlet_lines.append(lines)\n",
        "linenums.append(num_prev)\n",
        "actscenes.append(act_prev)"
      ],
      "metadata": {
        "id": "PDq8fBTOeQDl"
      },
      "execution_count": 57,
      "outputs": []
    },
    {
      "cell_type": "code",
      "source": [
        "df_hamlet_clean = pd.DataFrame(zip(linenums, actscenes, hamlet_lines), columns=['PlayerLinenumber','ActScene','PlayerLine'])"
      ],
      "metadata": {
        "id": "9Tx6LGpwhb0G"
      },
      "execution_count": 58,
      "outputs": []
    },
    {
      "cell_type": "code",
      "source": [
        "df_hamlet_clean.shape"
      ],
      "metadata": {
        "colab": {
          "base_uri": "https://localhost:8080/"
        },
        "id": "RfnNyrp5jDk8",
        "outputId": "ea3db469-6e7f-4c6e-db19-632526bfb4eb"
      },
      "execution_count": 59,
      "outputs": [
        {
          "output_type": "execute_result",
          "data": {
            "text/plain": [
              "(361, 3)"
            ]
          },
          "metadata": {},
          "execution_count": 59
        }
      ]
    },
    {
      "cell_type": "code",
      "source": [
        "df_hamlet_clean.head(10)"
      ],
      "metadata": {
        "colab": {
          "base_uri": "https://localhost:8080/",
          "height": 363
        },
        "id": "95l-k6-6jElo",
        "outputId": "9e5af0a7-fc6a-461b-dc71-8b8633a61208"
      },
      "execution_count": 60,
      "outputs": [
        {
          "output_type": "execute_result",
          "data": {
            "text/plain": [
              "   PlayerLinenumber ActScene  \\\n",
              "0               9.0      1.2   \n",
              "1              11.0      1.2   \n",
              "2              13.0      1.2   \n",
              "3              15.0      1.2   \n",
              "4              18.0      1.2   \n",
              "5              20.0      1.2   \n",
              "6              22.0      1.2   \n",
              "7              24.0      1.2   \n",
              "8              26.0      1.2   \n",
              "9              28.0      1.2   \n",
              "\n",
              "                                          PlayerLine  \n",
              "0  [Aside]  A little more than kin, and less than...  \n",
              "1         Not so, my lord, I am too much i' the sun.  \n",
              "2                           Ay, madam, it is common.  \n",
              "3  Seems, madam! nay it is, I know not 'seems.' '...  \n",
              "4            I shall in all my best obey you, madam.  \n",
              "5  O, that this too too solid flesh would melt Th...  \n",
              "6  I am glad to see you well: Horatio,--or I do f...  \n",
              "7  Sir, my good friend, I'll change that name wit...  \n",
              "8  I am very glad to see you. Good even, sir. But...  \n",
              "9  I would not hear your enemy say so, Nor shall ...  "
            ],
            "text/html": [
              "\n",
              "  <div id=\"df-1b832831-b02e-4866-9b0c-a62e435fe795\">\n",
              "    <div class=\"colab-df-container\">\n",
              "      <div>\n",
              "<style scoped>\n",
              "    .dataframe tbody tr th:only-of-type {\n",
              "        vertical-align: middle;\n",
              "    }\n",
              "\n",
              "    .dataframe tbody tr th {\n",
              "        vertical-align: top;\n",
              "    }\n",
              "\n",
              "    .dataframe thead th {\n",
              "        text-align: right;\n",
              "    }\n",
              "</style>\n",
              "<table border=\"1\" class=\"dataframe\">\n",
              "  <thead>\n",
              "    <tr style=\"text-align: right;\">\n",
              "      <th></th>\n",
              "      <th>PlayerLinenumber</th>\n",
              "      <th>ActScene</th>\n",
              "      <th>PlayerLine</th>\n",
              "    </tr>\n",
              "  </thead>\n",
              "  <tbody>\n",
              "    <tr>\n",
              "      <th>0</th>\n",
              "      <td>9.0</td>\n",
              "      <td>1.2</td>\n",
              "      <td>[Aside]  A little more than kin, and less than...</td>\n",
              "    </tr>\n",
              "    <tr>\n",
              "      <th>1</th>\n",
              "      <td>11.0</td>\n",
              "      <td>1.2</td>\n",
              "      <td>Not so, my lord, I am too much i' the sun.</td>\n",
              "    </tr>\n",
              "    <tr>\n",
              "      <th>2</th>\n",
              "      <td>13.0</td>\n",
              "      <td>1.2</td>\n",
              "      <td>Ay, madam, it is common.</td>\n",
              "    </tr>\n",
              "    <tr>\n",
              "      <th>3</th>\n",
              "      <td>15.0</td>\n",
              "      <td>1.2</td>\n",
              "      <td>Seems, madam! nay it is, I know not 'seems.' '...</td>\n",
              "    </tr>\n",
              "    <tr>\n",
              "      <th>4</th>\n",
              "      <td>18.0</td>\n",
              "      <td>1.2</td>\n",
              "      <td>I shall in all my best obey you, madam.</td>\n",
              "    </tr>\n",
              "    <tr>\n",
              "      <th>5</th>\n",
              "      <td>20.0</td>\n",
              "      <td>1.2</td>\n",
              "      <td>O, that this too too solid flesh would melt Th...</td>\n",
              "    </tr>\n",
              "    <tr>\n",
              "      <th>6</th>\n",
              "      <td>22.0</td>\n",
              "      <td>1.2</td>\n",
              "      <td>I am glad to see you well: Horatio,--or I do f...</td>\n",
              "    </tr>\n",
              "    <tr>\n",
              "      <th>7</th>\n",
              "      <td>24.0</td>\n",
              "      <td>1.2</td>\n",
              "      <td>Sir, my good friend, I'll change that name wit...</td>\n",
              "    </tr>\n",
              "    <tr>\n",
              "      <th>8</th>\n",
              "      <td>26.0</td>\n",
              "      <td>1.2</td>\n",
              "      <td>I am very glad to see you. Good even, sir. But...</td>\n",
              "    </tr>\n",
              "    <tr>\n",
              "      <th>9</th>\n",
              "      <td>28.0</td>\n",
              "      <td>1.2</td>\n",
              "      <td>I would not hear your enemy say so, Nor shall ...</td>\n",
              "    </tr>\n",
              "  </tbody>\n",
              "</table>\n",
              "</div>\n",
              "      <button class=\"colab-df-convert\" onclick=\"convertToInteractive('df-1b832831-b02e-4866-9b0c-a62e435fe795')\"\n",
              "              title=\"Convert this dataframe to an interactive table.\"\n",
              "              style=\"display:none;\">\n",
              "        \n",
              "  <svg xmlns=\"http://www.w3.org/2000/svg\" height=\"24px\"viewBox=\"0 0 24 24\"\n",
              "       width=\"24px\">\n",
              "    <path d=\"M0 0h24v24H0V0z\" fill=\"none\"/>\n",
              "    <path d=\"M18.56 5.44l.94 2.06.94-2.06 2.06-.94-2.06-.94-.94-2.06-.94 2.06-2.06.94zm-11 1L8.5 8.5l.94-2.06 2.06-.94-2.06-.94L8.5 2.5l-.94 2.06-2.06.94zm10 10l.94 2.06.94-2.06 2.06-.94-2.06-.94-.94-2.06-.94 2.06-2.06.94z\"/><path d=\"M17.41 7.96l-1.37-1.37c-.4-.4-.92-.59-1.43-.59-.52 0-1.04.2-1.43.59L10.3 9.45l-7.72 7.72c-.78.78-.78 2.05 0 2.83L4 21.41c.39.39.9.59 1.41.59.51 0 1.02-.2 1.41-.59l7.78-7.78 2.81-2.81c.8-.78.8-2.07 0-2.86zM5.41 20L4 18.59l7.72-7.72 1.47 1.35L5.41 20z\"/>\n",
              "  </svg>\n",
              "      </button>\n",
              "      \n",
              "  <style>\n",
              "    .colab-df-container {\n",
              "      display:flex;\n",
              "      flex-wrap:wrap;\n",
              "      gap: 12px;\n",
              "    }\n",
              "\n",
              "    .colab-df-convert {\n",
              "      background-color: #E8F0FE;\n",
              "      border: none;\n",
              "      border-radius: 50%;\n",
              "      cursor: pointer;\n",
              "      display: none;\n",
              "      fill: #1967D2;\n",
              "      height: 32px;\n",
              "      padding: 0 0 0 0;\n",
              "      width: 32px;\n",
              "    }\n",
              "\n",
              "    .colab-df-convert:hover {\n",
              "      background-color: #E2EBFA;\n",
              "      box-shadow: 0px 1px 2px rgba(60, 64, 67, 0.3), 0px 1px 3px 1px rgba(60, 64, 67, 0.15);\n",
              "      fill: #174EA6;\n",
              "    }\n",
              "\n",
              "    [theme=dark] .colab-df-convert {\n",
              "      background-color: #3B4455;\n",
              "      fill: #D2E3FC;\n",
              "    }\n",
              "\n",
              "    [theme=dark] .colab-df-convert:hover {\n",
              "      background-color: #434B5C;\n",
              "      box-shadow: 0px 1px 3px 1px rgba(0, 0, 0, 0.15);\n",
              "      filter: drop-shadow(0px 1px 2px rgba(0, 0, 0, 0.3));\n",
              "      fill: #FFFFFF;\n",
              "    }\n",
              "  </style>\n",
              "\n",
              "      <script>\n",
              "        const buttonEl =\n",
              "          document.querySelector('#df-1b832831-b02e-4866-9b0c-a62e435fe795 button.colab-df-convert');\n",
              "        buttonEl.style.display =\n",
              "          google.colab.kernel.accessAllowed ? 'block' : 'none';\n",
              "\n",
              "        async function convertToInteractive(key) {\n",
              "          const element = document.querySelector('#df-1b832831-b02e-4866-9b0c-a62e435fe795');\n",
              "          const dataTable =\n",
              "            await google.colab.kernel.invokeFunction('convertToInteractive',\n",
              "                                                     [key], {});\n",
              "          if (!dataTable) return;\n",
              "\n",
              "          const docLinkHtml = 'Like what you see? Visit the ' +\n",
              "            '<a target=\"_blank\" href=https://colab.research.google.com/notebooks/data_table.ipynb>data table notebook</a>'\n",
              "            + ' to learn more about interactive tables.';\n",
              "          element.innerHTML = '';\n",
              "          dataTable['output_type'] = 'display_data';\n",
              "          await google.colab.output.renderOutput(dataTable, element);\n",
              "          const docLink = document.createElement('div');\n",
              "          docLink.innerHTML = docLinkHtml;\n",
              "          element.appendChild(docLink);\n",
              "        }\n",
              "      </script>\n",
              "    </div>\n",
              "  </div>\n",
              "  "
            ]
          },
          "metadata": {},
          "execution_count": 60
        }
      ]
    },
    {
      "cell_type": "markdown",
      "source": [
        "Word Count (\"wc\")"
      ],
      "metadata": {
        "id": "Em_sBMNdbaIv"
      }
    },
    {
      "cell_type": "code",
      "source": [
        "df_hamlet_clean['wc'] = df_hamlet_clean['PlayerLine'].str.split().str.len()"
      ],
      "metadata": {
        "id": "8rIFtpBObKsU"
      },
      "execution_count": 61,
      "outputs": []
    },
    {
      "cell_type": "code",
      "source": [
        "df_hamlet_clean.wc.describe()"
      ],
      "metadata": {
        "colab": {
          "base_uri": "https://localhost:8080/"
        },
        "id": "Ves79kkUbXCq",
        "outputId": "6199e495-0ac1-40b2-d467-1dd7beeb41b2"
      },
      "execution_count": 64,
      "outputs": [
        {
          "output_type": "execute_result",
          "data": {
            "text/plain": [
              "count    361.000000\n",
              "mean      32.132964\n",
              "std       52.545631\n",
              "min        1.000000\n",
              "25%        5.000000\n",
              "50%       13.000000\n",
              "75%       36.000000\n",
              "max      461.000000\n",
              "Name: wc, dtype: float64"
            ]
          },
          "metadata": {},
          "execution_count": 64
        }
      ]
    },
    {
      "cell_type": "markdown",
      "source": [
        "Train with lines with more than 5 words"
      ],
      "metadata": {
        "id": "CANj5hxhkW_C"
      }
    },
    {
      "cell_type": "code",
      "source": [
        "df_clean = df_hamlet_clean[df_hamlet_clean.wc>5]"
      ],
      "metadata": {
        "id": "Aj859gwjbu0w"
      },
      "execution_count": 73,
      "outputs": []
    },
    {
      "cell_type": "code",
      "source": [
        "df_clean.shape"
      ],
      "metadata": {
        "colab": {
          "base_uri": "https://localhost:8080/"
        },
        "id": "GHNUGRJOd2AI",
        "outputId": "20896ce8-8826-4d93-cf3b-60cc22a127f5"
      },
      "execution_count": 74,
      "outputs": [
        {
          "output_type": "execute_result",
          "data": {
            "text/plain": [
              "(268, 4)"
            ]
          },
          "metadata": {},
          "execution_count": 74
        }
      ]
    },
    {
      "cell_type": "markdown",
      "source": [
        "Create training dataset"
      ],
      "metadata": {
        "id": "CMzWXzfFk5JH"
      }
    },
    {
      "cell_type": "code",
      "source": [
        "df_clean = df_clean[['ActScene','PlayerLine']]\n",
        "df_clean.columns=['prompt','completion']\n",
        "df_clean.iloc[:,0]=\"\"\n",
        "df_clean.head(5)"
      ],
      "metadata": {
        "colab": {
          "base_uri": "https://localhost:8080/",
          "height": 310
        },
        "id": "ksCo733xWu-c",
        "outputId": "38ece126-1a35-48fb-90da-d13eed8f1cf1"
      },
      "execution_count": 76,
      "outputs": [
        {
          "output_type": "stream",
          "name": "stderr",
          "text": [
            "/usr/local/lib/python3.7/dist-packages/pandas/core/indexing.py:1951: SettingWithCopyWarning: \n",
            "A value is trying to be set on a copy of a slice from a DataFrame.\n",
            "Try using .loc[row_indexer,col_indexer] = value instead\n",
            "\n",
            "See the caveats in the documentation: https://pandas.pydata.org/pandas-docs/stable/user_guide/indexing.html#returning-a-view-versus-a-copy\n",
            "  self.obj[selected_item_labels] = value\n"
          ]
        },
        {
          "output_type": "execute_result",
          "data": {
            "text/plain": [
              "  prompt                                         completion\n",
              "0         [Aside]  A little more than kin, and less than...\n",
              "1                Not so, my lord, I am too much i' the sun.\n",
              "3         Seems, madam! nay it is, I know not 'seems.' '...\n",
              "4                   I shall in all my best obey you, madam.\n",
              "5         O, that this too too solid flesh would melt Th..."
            ],
            "text/html": [
              "\n",
              "  <div id=\"df-f5feb5f0-61bc-4f82-bc5b-1bb3e45b3399\">\n",
              "    <div class=\"colab-df-container\">\n",
              "      <div>\n",
              "<style scoped>\n",
              "    .dataframe tbody tr th:only-of-type {\n",
              "        vertical-align: middle;\n",
              "    }\n",
              "\n",
              "    .dataframe tbody tr th {\n",
              "        vertical-align: top;\n",
              "    }\n",
              "\n",
              "    .dataframe thead th {\n",
              "        text-align: right;\n",
              "    }\n",
              "</style>\n",
              "<table border=\"1\" class=\"dataframe\">\n",
              "  <thead>\n",
              "    <tr style=\"text-align: right;\">\n",
              "      <th></th>\n",
              "      <th>prompt</th>\n",
              "      <th>completion</th>\n",
              "    </tr>\n",
              "  </thead>\n",
              "  <tbody>\n",
              "    <tr>\n",
              "      <th>0</th>\n",
              "      <td></td>\n",
              "      <td>[Aside]  A little more than kin, and less than...</td>\n",
              "    </tr>\n",
              "    <tr>\n",
              "      <th>1</th>\n",
              "      <td></td>\n",
              "      <td>Not so, my lord, I am too much i' the sun.</td>\n",
              "    </tr>\n",
              "    <tr>\n",
              "      <th>3</th>\n",
              "      <td></td>\n",
              "      <td>Seems, madam! nay it is, I know not 'seems.' '...</td>\n",
              "    </tr>\n",
              "    <tr>\n",
              "      <th>4</th>\n",
              "      <td></td>\n",
              "      <td>I shall in all my best obey you, madam.</td>\n",
              "    </tr>\n",
              "    <tr>\n",
              "      <th>5</th>\n",
              "      <td></td>\n",
              "      <td>O, that this too too solid flesh would melt Th...</td>\n",
              "    </tr>\n",
              "  </tbody>\n",
              "</table>\n",
              "</div>\n",
              "      <button class=\"colab-df-convert\" onclick=\"convertToInteractive('df-f5feb5f0-61bc-4f82-bc5b-1bb3e45b3399')\"\n",
              "              title=\"Convert this dataframe to an interactive table.\"\n",
              "              style=\"display:none;\">\n",
              "        \n",
              "  <svg xmlns=\"http://www.w3.org/2000/svg\" height=\"24px\"viewBox=\"0 0 24 24\"\n",
              "       width=\"24px\">\n",
              "    <path d=\"M0 0h24v24H0V0z\" fill=\"none\"/>\n",
              "    <path d=\"M18.56 5.44l.94 2.06.94-2.06 2.06-.94-2.06-.94-.94-2.06-.94 2.06-2.06.94zm-11 1L8.5 8.5l.94-2.06 2.06-.94-2.06-.94L8.5 2.5l-.94 2.06-2.06.94zm10 10l.94 2.06.94-2.06 2.06-.94-2.06-.94-.94-2.06-.94 2.06-2.06.94z\"/><path d=\"M17.41 7.96l-1.37-1.37c-.4-.4-.92-.59-1.43-.59-.52 0-1.04.2-1.43.59L10.3 9.45l-7.72 7.72c-.78.78-.78 2.05 0 2.83L4 21.41c.39.39.9.59 1.41.59.51 0 1.02-.2 1.41-.59l7.78-7.78 2.81-2.81c.8-.78.8-2.07 0-2.86zM5.41 20L4 18.59l7.72-7.72 1.47 1.35L5.41 20z\"/>\n",
              "  </svg>\n",
              "      </button>\n",
              "      \n",
              "  <style>\n",
              "    .colab-df-container {\n",
              "      display:flex;\n",
              "      flex-wrap:wrap;\n",
              "      gap: 12px;\n",
              "    }\n",
              "\n",
              "    .colab-df-convert {\n",
              "      background-color: #E8F0FE;\n",
              "      border: none;\n",
              "      border-radius: 50%;\n",
              "      cursor: pointer;\n",
              "      display: none;\n",
              "      fill: #1967D2;\n",
              "      height: 32px;\n",
              "      padding: 0 0 0 0;\n",
              "      width: 32px;\n",
              "    }\n",
              "\n",
              "    .colab-df-convert:hover {\n",
              "      background-color: #E2EBFA;\n",
              "      box-shadow: 0px 1px 2px rgba(60, 64, 67, 0.3), 0px 1px 3px 1px rgba(60, 64, 67, 0.15);\n",
              "      fill: #174EA6;\n",
              "    }\n",
              "\n",
              "    [theme=dark] .colab-df-convert {\n",
              "      background-color: #3B4455;\n",
              "      fill: #D2E3FC;\n",
              "    }\n",
              "\n",
              "    [theme=dark] .colab-df-convert:hover {\n",
              "      background-color: #434B5C;\n",
              "      box-shadow: 0px 1px 3px 1px rgba(0, 0, 0, 0.15);\n",
              "      filter: drop-shadow(0px 1px 2px rgba(0, 0, 0, 0.3));\n",
              "      fill: #FFFFFF;\n",
              "    }\n",
              "  </style>\n",
              "\n",
              "      <script>\n",
              "        const buttonEl =\n",
              "          document.querySelector('#df-f5feb5f0-61bc-4f82-bc5b-1bb3e45b3399 button.colab-df-convert');\n",
              "        buttonEl.style.display =\n",
              "          google.colab.kernel.accessAllowed ? 'block' : 'none';\n",
              "\n",
              "        async function convertToInteractive(key) {\n",
              "          const element = document.querySelector('#df-f5feb5f0-61bc-4f82-bc5b-1bb3e45b3399');\n",
              "          const dataTable =\n",
              "            await google.colab.kernel.invokeFunction('convertToInteractive',\n",
              "                                                     [key], {});\n",
              "          if (!dataTable) return;\n",
              "\n",
              "          const docLinkHtml = 'Like what you see? Visit the ' +\n",
              "            '<a target=\"_blank\" href=https://colab.research.google.com/notebooks/data_table.ipynb>data table notebook</a>'\n",
              "            + ' to learn more about interactive tables.';\n",
              "          element.innerHTML = '';\n",
              "          dataTable['output_type'] = 'display_data';\n",
              "          await google.colab.output.renderOutput(dataTable, element);\n",
              "          const docLink = document.createElement('div');\n",
              "          docLink.innerHTML = docLinkHtml;\n",
              "          element.appendChild(docLink);\n",
              "        }\n",
              "      </script>\n",
              "    </div>\n",
              "  </div>\n",
              "  "
            ]
          },
          "metadata": {},
          "execution_count": 76
        }
      ]
    },
    {
      "cell_type": "code",
      "source": [
        "training_data_filename='Shakespeare_data_cleaned.csv'"
      ],
      "metadata": {
        "id": "ueQl7dsybOxM"
      },
      "execution_count": 77,
      "outputs": []
    },
    {
      "cell_type": "code",
      "source": [
        "df_clean.to_csv(f'data/{training_data_filename}', index=False)"
      ],
      "metadata": {
        "id": "kkgBOzAtXhgm"
      },
      "execution_count": 78,
      "outputs": []
    },
    {
      "cell_type": "code",
      "source": [
        "df_clean.shape"
      ],
      "metadata": {
        "colab": {
          "base_uri": "https://localhost:8080/"
        },
        "id": "CUoMK0U1ZLai",
        "outputId": "7b44a6bd-32f8-4f61-ef63-1f4cfafc215d"
      },
      "execution_count": 79,
      "outputs": [
        {
          "output_type": "execute_result",
          "data": {
            "text/plain": [
              "(268, 2)"
            ]
          },
          "metadata": {},
          "execution_count": 79
        }
      ]
    },
    {
      "cell_type": "code",
      "source": [
        "df_clean.to_csv(f'data-hamlet/{training_data_filename}', index=False)"
      ],
      "metadata": {
        "id": "Xn2LmLABZeDy"
      },
      "execution_count": 81,
      "outputs": []
    },
    {
      "cell_type": "markdown",
      "source": [
        "## OpenAI API Key"
      ],
      "metadata": {
        "id": "VWZCuYifYDSS"
      }
    },
    {
      "cell_type": "code",
      "execution_count": 1,
      "metadata": {
        "id": "sTUMetGnbjCb"
      },
      "outputs": [],
      "source": [
        "# Enter credentials\n",
        "%env OPENAI_API_KEY=[YOUR_OPENAI_API_KEY]"
      ]
    },
    {
      "cell_type": "markdown",
      "source": [
        "## Initiate W&B (Weights and Bias)\n",
        "\n",
        "Sync jobs and dashboard to view/compare performances\n",
        "\n",
        "You will need to request access for your API KEY."
      ],
      "metadata": {
        "id": "hyGXZ7TeYYvt"
      }
    },
    {
      "cell_type": "code",
      "source": [
        "project_name='GPT 3 for Generating Texts in Shakespeare tone (hamlet)'\n",
        "\n",
        "run = wandb.init(project=project_name, job_type=\"dataset_preparation\")"
      ],
      "metadata": {
        "colab": {
          "base_uri": "https://localhost:8080/",
          "height": 156
        },
        "id": "9wHtUePOc2bo",
        "outputId": "0230f8c9-4083-4faf-aa14-4d2f5a5dd193"
      },
      "execution_count": 83,
      "outputs": [
        {
          "output_type": "display_data",
          "data": {
            "text/plain": [
              "<IPython.core.display.Javascript object>"
            ],
            "application/javascript": [
              "\n",
              "        window._wandbApiKey = new Promise((resolve, reject) => {\n",
              "            function loadScript(url) {\n",
              "            return new Promise(function(resolve, reject) {\n",
              "                let newScript = document.createElement(\"script\");\n",
              "                newScript.onerror = reject;\n",
              "                newScript.onload = resolve;\n",
              "                document.body.appendChild(newScript);\n",
              "                newScript.src = url;\n",
              "            });\n",
              "            }\n",
              "            loadScript(\"https://cdn.jsdelivr.net/npm/postmate/build/postmate.min.js\").then(() => {\n",
              "            const iframe = document.createElement('iframe')\n",
              "            iframe.style.cssText = \"width:0;height:0;border:none\"\n",
              "            document.body.appendChild(iframe)\n",
              "            const handshake = new Postmate({\n",
              "                container: iframe,\n",
              "                url: 'https://wandb.ai/authorize'\n",
              "            });\n",
              "            const timeout = setTimeout(() => reject(\"Couldn't auto authenticate\"), 5000)\n",
              "            handshake.then(function(child) {\n",
              "                child.on('authorize', data => {\n",
              "                    clearTimeout(timeout)\n",
              "                    resolve(data)\n",
              "                });\n",
              "            });\n",
              "            })\n",
              "        });\n",
              "    "
            ]
          },
          "metadata": {}
        },
        {
          "output_type": "stream",
          "name": "stderr",
          "text": [
            "\u001b[34m\u001b[1mwandb\u001b[0m: Logging into wandb.ai. (Learn how to deploy a W&B server locally: https://wandb.me/wandb-server)\n",
            "\u001b[34m\u001b[1mwandb\u001b[0m: You can find your API key in your browser here: https://wandb.ai/authorize\n",
            "wandb: Paste an API key from your profile and hit enter, or press ctrl+c to quit: "
          ]
        },
        {
          "name": "stdout",
          "output_type": "stream",
          "text": [
            "··········\n"
          ]
        },
        {
          "output_type": "stream",
          "name": "stderr",
          "text": [
            "\u001b[34m\u001b[1mwandb\u001b[0m: Appending key for api.wandb.ai to your netrc file: /root/.netrc\n"
          ]
        },
        {
          "output_type": "display_data",
          "data": {
            "text/plain": [
              "<IPython.core.display.HTML object>"
            ],
            "text/html": [
              "Tracking run with wandb version 0.12.21"
            ]
          },
          "metadata": {}
        },
        {
          "output_type": "display_data",
          "data": {
            "text/plain": [
              "<IPython.core.display.HTML object>"
            ],
            "text/html": [
              "Run data is saved locally in <code>/content/wandb/run-20220711_140719-21byk2ew</code>"
            ]
          },
          "metadata": {}
        },
        {
          "output_type": "display_data",
          "data": {
            "text/plain": [
              "<IPython.core.display.HTML object>"
            ],
            "text/html": [
              "Syncing run <strong><a href=\"https://wandb.ai/melzheng/GPT%203%20for%20Generating%20Texts%20in%20Shakespeare%20tone%20%28hamlet%29/runs/21byk2ew\" target=\"_blank\">vibrant-glitter-1</a></strong> to <a href=\"https://wandb.ai/melzheng/GPT%203%20for%20Generating%20Texts%20in%20Shakespeare%20tone%20%28hamlet%29\" target=\"_blank\">Weights & Biases</a> (<a href=\"https://wandb.me/run\" target=\"_blank\">docs</a>)<br/>"
            ]
          },
          "metadata": {}
        }
      ]
    },
    {
      "cell_type": "code",
      "source": [
        "run = wandb.init(project=project_name, entity=\"melzheng\")"
      ],
      "metadata": {
        "colab": {
          "base_uri": "https://localhost:8080/",
          "height": 173,
          "referenced_widgets": [
            "564f924eb337481496281eaa5e9c8d4f",
            "a5b77c9dcd9f49bdbaf6e30d7642d389",
            "c76d0c32bad64f5b9fba591ff7e454da",
            "6bda46b2e184414991d16bfe6d34bdd6",
            "bb92dce79a514421a3709ef03727b218",
            "609802dc1c284ffd8e186c884d7c2244",
            "66a31428e0574eacb4ee91606040ccf0",
            "289e309f62f84bbf822c64b10e0ef0f5"
          ]
        },
        "id": "EcyqOdudfNd0",
        "outputId": "68033022-4eba-444b-d409-718ca8bf7eef"
      },
      "execution_count": 84,
      "outputs": [
        {
          "output_type": "display_data",
          "data": {
            "text/plain": [
              "<IPython.core.display.HTML object>"
            ],
            "text/html": [
              "Finishing last run (ID:21byk2ew) before initializing another..."
            ]
          },
          "metadata": {}
        },
        {
          "output_type": "display_data",
          "data": {
            "text/plain": [
              "<IPython.core.display.HTML object>"
            ],
            "text/html": [
              "Waiting for W&B process to finish... <strong style=\"color:green\">(success).</strong>"
            ]
          },
          "metadata": {}
        },
        {
          "output_type": "display_data",
          "data": {
            "text/plain": [
              "VBox(children=(Label(value='0.001 MB of 0.001 MB uploaded (0.000 MB deduped)\\r'), FloatProgress(value=1.0, max…"
            ],
            "application/vnd.jupyter.widget-view+json": {
              "version_major": 2,
              "version_minor": 0,
              "model_id": "564f924eb337481496281eaa5e9c8d4f"
            }
          },
          "metadata": {}
        },
        {
          "output_type": "display_data",
          "data": {
            "text/plain": [
              "<IPython.core.display.HTML object>"
            ],
            "text/html": [
              "Synced <strong style=\"color:#cdcd00\">vibrant-glitter-1</strong>: <a href=\"https://wandb.ai/melzheng/GPT%203%20for%20Generating%20Texts%20in%20Shakespeare%20tone%20%28hamlet%29/runs/21byk2ew\" target=\"_blank\">https://wandb.ai/melzheng/GPT%203%20for%20Generating%20Texts%20in%20Shakespeare%20tone%20%28hamlet%29/runs/21byk2ew</a><br/>Synced 4 W&B file(s), 0 media file(s), 0 artifact file(s) and 0 other file(s)"
            ]
          },
          "metadata": {}
        },
        {
          "output_type": "display_data",
          "data": {
            "text/plain": [
              "<IPython.core.display.HTML object>"
            ],
            "text/html": [
              "Find logs at: <code>./wandb/run-20220711_140719-21byk2ew/logs</code>"
            ]
          },
          "metadata": {}
        },
        {
          "output_type": "display_data",
          "data": {
            "text/plain": [
              "<IPython.core.display.HTML object>"
            ],
            "text/html": [
              "Successfully finished last run (ID:21byk2ew). Initializing new run:<br/>"
            ]
          },
          "metadata": {}
        },
        {
          "output_type": "display_data",
          "data": {
            "text/plain": [
              "<IPython.core.display.HTML object>"
            ],
            "text/html": [
              "Tracking run with wandb version 0.12.21"
            ]
          },
          "metadata": {}
        },
        {
          "output_type": "display_data",
          "data": {
            "text/plain": [
              "<IPython.core.display.HTML object>"
            ],
            "text/html": [
              "Run data is saved locally in <code>/content/wandb/run-20220711_140729-3ruomilv</code>"
            ]
          },
          "metadata": {}
        },
        {
          "output_type": "display_data",
          "data": {
            "text/plain": [
              "<IPython.core.display.HTML object>"
            ],
            "text/html": [
              "Syncing run <strong><a href=\"https://wandb.ai/melzheng/GPT%203%20for%20Generating%20Texts%20in%20Shakespeare%20tone%20%28hamlet%29/runs/3ruomilv\" target=\"_blank\">warm-bush-2</a></strong> to <a href=\"https://wandb.ai/melzheng/GPT%203%20for%20Generating%20Texts%20in%20Shakespeare%20tone%20%28hamlet%29\" target=\"_blank\">Weights & Biases</a> (<a href=\"https://wandb.me/run\" target=\"_blank\">docs</a>)<br/>"
            ]
          },
          "metadata": {}
        }
      ]
    },
    {
      "cell_type": "markdown",
      "source": [
        "## Creat W&B Artifact"
      ],
      "metadata": {
        "id": "GgR0sFNluKGL"
      }
    },
    {
      "cell_type": "code",
      "source": [
        "artifact = wandb.Artifact('data-hamlet', type='dataset')\n",
        "artifact.add_dir('data-hamlet')\n",
        "run.log_artifact(artifact) "
      ],
      "metadata": {
        "colab": {
          "base_uri": "https://localhost:8080/"
        },
        "id": "FwUryG2fZv8t",
        "outputId": "700e309f-4f34-4c27-b6ef-54feb2fa7f0d"
      },
      "execution_count": 85,
      "outputs": [
        {
          "output_type": "stream",
          "name": "stderr",
          "text": [
            "\u001b[34m\u001b[1mwandb\u001b[0m: Adding directory to artifact (./data-hamlet)... Done. 0.1s\n"
          ]
        },
        {
          "output_type": "execute_result",
          "data": {
            "text/plain": [
              "<wandb.sdk.wandb_artifacts.Artifact at 0x7f9c1f8cb290>"
            ]
          },
          "metadata": {},
          "execution_count": 85
        }
      ]
    },
    {
      "cell_type": "code",
      "source": [
        "run = wandb.init(project=project_name)\n",
        "\n",
        "artifact = run.use_artifact('data-hamlet:v0')\n",
        "artifact_dir = artifact.download()+f\"/{training_data_filename}\""
      ],
      "metadata": {
        "colab": {
          "base_uri": "https://localhost:8080/",
          "height": 173,
          "referenced_widgets": [
            "eead08cc436a4507b6dd58d617787a0e",
            "2eab7a4217254ff18dbcc2e80083c327",
            "67b917ec3f5c40ab9ea63e4a0667ca2b",
            "4cfbee0b592541fa83c141b20f603350",
            "41c8986188c4490ab5b14aaff37a8fac",
            "b32132781d2f499d911e295b1ff13599",
            "f8becda23fec4c789a61f74794f606e3",
            "6bf61a42adcd45e2b8829527778760d6"
          ]
        },
        "id": "DaJy-Zeac-Nc",
        "outputId": "a3ace438-563e-45e8-c2c2-d3a68b9c55c3"
      },
      "execution_count": 86,
      "outputs": [
        {
          "output_type": "display_data",
          "data": {
            "text/plain": [
              "<IPython.core.display.HTML object>"
            ],
            "text/html": [
              "Finishing last run (ID:3ruomilv) before initializing another..."
            ]
          },
          "metadata": {}
        },
        {
          "output_type": "display_data",
          "data": {
            "text/plain": [
              "<IPython.core.display.HTML object>"
            ],
            "text/html": [
              "Waiting for W&B process to finish... <strong style=\"color:green\">(success).</strong>"
            ]
          },
          "metadata": {}
        },
        {
          "output_type": "display_data",
          "data": {
            "text/plain": [
              "VBox(children=(Label(value='0.058 MB of 0.058 MB uploaded (0.000 MB deduped)\\r'), FloatProgress(value=1.0, max…"
            ],
            "application/vnd.jupyter.widget-view+json": {
              "version_major": 2,
              "version_minor": 0,
              "model_id": "eead08cc436a4507b6dd58d617787a0e"
            }
          },
          "metadata": {}
        },
        {
          "output_type": "display_data",
          "data": {
            "text/plain": [
              "<IPython.core.display.HTML object>"
            ],
            "text/html": [
              "Synced <strong style=\"color:#cdcd00\">warm-bush-2</strong>: <a href=\"https://wandb.ai/melzheng/GPT%203%20for%20Generating%20Texts%20in%20Shakespeare%20tone%20%28hamlet%29/runs/3ruomilv\" target=\"_blank\">https://wandb.ai/melzheng/GPT%203%20for%20Generating%20Texts%20in%20Shakespeare%20tone%20%28hamlet%29/runs/3ruomilv</a><br/>Synced 5 W&B file(s), 0 media file(s), 1 artifact file(s) and 0 other file(s)"
            ]
          },
          "metadata": {}
        },
        {
          "output_type": "display_data",
          "data": {
            "text/plain": [
              "<IPython.core.display.HTML object>"
            ],
            "text/html": [
              "Find logs at: <code>./wandb/run-20220711_140729-3ruomilv/logs</code>"
            ]
          },
          "metadata": {}
        },
        {
          "output_type": "display_data",
          "data": {
            "text/plain": [
              "<IPython.core.display.HTML object>"
            ],
            "text/html": [
              "Successfully finished last run (ID:3ruomilv). Initializing new run:<br/>"
            ]
          },
          "metadata": {}
        },
        {
          "output_type": "display_data",
          "data": {
            "text/plain": [
              "<IPython.core.display.HTML object>"
            ],
            "text/html": [
              "Tracking run with wandb version 0.12.21"
            ]
          },
          "metadata": {}
        },
        {
          "output_type": "display_data",
          "data": {
            "text/plain": [
              "<IPython.core.display.HTML object>"
            ],
            "text/html": [
              "Run data is saved locally in <code>/content/wandb/run-20220711_140759-2attk6sv</code>"
            ]
          },
          "metadata": {}
        },
        {
          "output_type": "display_data",
          "data": {
            "text/plain": [
              "<IPython.core.display.HTML object>"
            ],
            "text/html": [
              "Syncing run <strong><a href=\"https://wandb.ai/melzheng/GPT%203%20for%20Generating%20Texts%20in%20Shakespeare%20tone%20%28hamlet%29/runs/2attk6sv\" target=\"_blank\">silvery-violet-3</a></strong> to <a href=\"https://wandb.ai/melzheng/GPT%203%20for%20Generating%20Texts%20in%20Shakespeare%20tone%20%28hamlet%29\" target=\"_blank\">Weights & Biases</a> (<a href=\"https://wandb.me/run\" target=\"_blank\">docs</a>)<br/>"
            ]
          },
          "metadata": {}
        }
      ]
    },
    {
      "cell_type": "code",
      "source": [
        "#Shuffling the dataset\n",
        "\n",
        "df = pd.read_csv(artifact_dir)\n",
        "ds = df.sample(frac=1, random_state=0)\n",
        "\n",
        "\n",
        "wandb.init(project=project_name, job_type=\"logging_dataset_as_table\")\n",
        "wandb.run.log({\"Raw dataset\" : wandb.Table(dataframe=ds)})\n",
        "\n",
        "ds.to_csv(training_data_filename)\n",
        "ds.head()"
      ],
      "metadata": {
        "colab": {
          "base_uri": "https://localhost:8080/",
          "height": 362,
          "referenced_widgets": [
            "3559a43f824a45fd8eacaddd3a2b838d",
            "9e92d4f63fc240218142d20f0029f0fe",
            "350b4887e2ef415e932a1cf18a1006b6",
            "5e2c84eea52045afb3794f2dc3a07228",
            "a7a337dba1a84c5ab046b1a73a524db7",
            "9b33513b5ef4452e9267e5486e3bfa80",
            "a142469802da417984c162707b9676f8",
            "7bbc85418cd145729bd737e97dbbc419"
          ]
        },
        "id": "Nh636jG0aMRQ",
        "outputId": "c9d7183a-f32f-4951-b69c-131f95a4c4eb"
      },
      "execution_count": 87,
      "outputs": [
        {
          "output_type": "display_data",
          "data": {
            "text/plain": [
              "<IPython.core.display.HTML object>"
            ],
            "text/html": [
              "Finishing last run (ID:2attk6sv) before initializing another..."
            ]
          },
          "metadata": {}
        },
        {
          "output_type": "display_data",
          "data": {
            "text/plain": [
              "<IPython.core.display.HTML object>"
            ],
            "text/html": [
              "Waiting for W&B process to finish... <strong style=\"color:green\">(success).</strong>"
            ]
          },
          "metadata": {}
        },
        {
          "output_type": "display_data",
          "data": {
            "text/plain": [
              "VBox(children=(Label(value='0.000 MB of 0.001 MB uploaded (0.000 MB deduped)\\r'), FloatProgress(value=0.0, max…"
            ],
            "application/vnd.jupyter.widget-view+json": {
              "version_major": 2,
              "version_minor": 0,
              "model_id": "3559a43f824a45fd8eacaddd3a2b838d"
            }
          },
          "metadata": {}
        },
        {
          "output_type": "display_data",
          "data": {
            "text/plain": [
              "<IPython.core.display.HTML object>"
            ],
            "text/html": [
              "Synced <strong style=\"color:#cdcd00\">silvery-violet-3</strong>: <a href=\"https://wandb.ai/melzheng/GPT%203%20for%20Generating%20Texts%20in%20Shakespeare%20tone%20%28hamlet%29/runs/2attk6sv\" target=\"_blank\">https://wandb.ai/melzheng/GPT%203%20for%20Generating%20Texts%20in%20Shakespeare%20tone%20%28hamlet%29/runs/2attk6sv</a><br/>Synced 4 W&B file(s), 0 media file(s), 0 artifact file(s) and 0 other file(s)"
            ]
          },
          "metadata": {}
        },
        {
          "output_type": "display_data",
          "data": {
            "text/plain": [
              "<IPython.core.display.HTML object>"
            ],
            "text/html": [
              "Find logs at: <code>./wandb/run-20220711_140759-2attk6sv/logs</code>"
            ]
          },
          "metadata": {}
        },
        {
          "output_type": "display_data",
          "data": {
            "text/plain": [
              "<IPython.core.display.HTML object>"
            ],
            "text/html": [
              "Successfully finished last run (ID:2attk6sv). Initializing new run:<br/>"
            ]
          },
          "metadata": {}
        },
        {
          "output_type": "display_data",
          "data": {
            "text/plain": [
              "<IPython.core.display.HTML object>"
            ],
            "text/html": [
              "Tracking run with wandb version 0.12.21"
            ]
          },
          "metadata": {}
        },
        {
          "output_type": "display_data",
          "data": {
            "text/plain": [
              "<IPython.core.display.HTML object>"
            ],
            "text/html": [
              "Run data is saved locally in <code>/content/wandb/run-20220711_140814-2wsny8c1</code>"
            ]
          },
          "metadata": {}
        },
        {
          "output_type": "display_data",
          "data": {
            "text/plain": [
              "<IPython.core.display.HTML object>"
            ],
            "text/html": [
              "Syncing run <strong><a href=\"https://wandb.ai/melzheng/GPT%203%20for%20Generating%20Texts%20in%20Shakespeare%20tone%20%28hamlet%29/runs/2wsny8c1\" target=\"_blank\">northern-valley-4</a></strong> to <a href=\"https://wandb.ai/melzheng/GPT%203%20for%20Generating%20Texts%20in%20Shakespeare%20tone%20%28hamlet%29\" target=\"_blank\">Weights & Biases</a> (<a href=\"https://wandb.me/run\" target=\"_blank\">docs</a>)<br/>"
            ]
          },
          "metadata": {}
        },
        {
          "output_type": "execute_result",
          "data": {
            "text/plain": [
              "     prompt                                         completion\n",
              "90      NaN  It shall to the barber's, with your beard. Pri...\n",
              "260     NaN            I dare not drink yet, madam, by and by.\n",
              "76      NaN  What, are they children? who maintains 'em? ho...\n",
              "83      NaN  My lord, I have news to tell you. When Roscius...\n",
              "176     NaN                  I must to England, you know that?"
            ],
            "text/html": [
              "\n",
              "  <div id=\"df-9aba9946-032a-4b7a-8598-fef706cd961b\">\n",
              "    <div class=\"colab-df-container\">\n",
              "      <div>\n",
              "<style scoped>\n",
              "    .dataframe tbody tr th:only-of-type {\n",
              "        vertical-align: middle;\n",
              "    }\n",
              "\n",
              "    .dataframe tbody tr th {\n",
              "        vertical-align: top;\n",
              "    }\n",
              "\n",
              "    .dataframe thead th {\n",
              "        text-align: right;\n",
              "    }\n",
              "</style>\n",
              "<table border=\"1\" class=\"dataframe\">\n",
              "  <thead>\n",
              "    <tr style=\"text-align: right;\">\n",
              "      <th></th>\n",
              "      <th>prompt</th>\n",
              "      <th>completion</th>\n",
              "    </tr>\n",
              "  </thead>\n",
              "  <tbody>\n",
              "    <tr>\n",
              "      <th>90</th>\n",
              "      <td>NaN</td>\n",
              "      <td>It shall to the barber's, with your beard. Pri...</td>\n",
              "    </tr>\n",
              "    <tr>\n",
              "      <th>260</th>\n",
              "      <td>NaN</td>\n",
              "      <td>I dare not drink yet, madam, by and by.</td>\n",
              "    </tr>\n",
              "    <tr>\n",
              "      <th>76</th>\n",
              "      <td>NaN</td>\n",
              "      <td>What, are they children? who maintains 'em? ho...</td>\n",
              "    </tr>\n",
              "    <tr>\n",
              "      <th>83</th>\n",
              "      <td>NaN</td>\n",
              "      <td>My lord, I have news to tell you. When Roscius...</td>\n",
              "    </tr>\n",
              "    <tr>\n",
              "      <th>176</th>\n",
              "      <td>NaN</td>\n",
              "      <td>I must to England, you know that?</td>\n",
              "    </tr>\n",
              "  </tbody>\n",
              "</table>\n",
              "</div>\n",
              "      <button class=\"colab-df-convert\" onclick=\"convertToInteractive('df-9aba9946-032a-4b7a-8598-fef706cd961b')\"\n",
              "              title=\"Convert this dataframe to an interactive table.\"\n",
              "              style=\"display:none;\">\n",
              "        \n",
              "  <svg xmlns=\"http://www.w3.org/2000/svg\" height=\"24px\"viewBox=\"0 0 24 24\"\n",
              "       width=\"24px\">\n",
              "    <path d=\"M0 0h24v24H0V0z\" fill=\"none\"/>\n",
              "    <path d=\"M18.56 5.44l.94 2.06.94-2.06 2.06-.94-2.06-.94-.94-2.06-.94 2.06-2.06.94zm-11 1L8.5 8.5l.94-2.06 2.06-.94-2.06-.94L8.5 2.5l-.94 2.06-2.06.94zm10 10l.94 2.06.94-2.06 2.06-.94-2.06-.94-.94-2.06-.94 2.06-2.06.94z\"/><path d=\"M17.41 7.96l-1.37-1.37c-.4-.4-.92-.59-1.43-.59-.52 0-1.04.2-1.43.59L10.3 9.45l-7.72 7.72c-.78.78-.78 2.05 0 2.83L4 21.41c.39.39.9.59 1.41.59.51 0 1.02-.2 1.41-.59l7.78-7.78 2.81-2.81c.8-.78.8-2.07 0-2.86zM5.41 20L4 18.59l7.72-7.72 1.47 1.35L5.41 20z\"/>\n",
              "  </svg>\n",
              "      </button>\n",
              "      \n",
              "  <style>\n",
              "    .colab-df-container {\n",
              "      display:flex;\n",
              "      flex-wrap:wrap;\n",
              "      gap: 12px;\n",
              "    }\n",
              "\n",
              "    .colab-df-convert {\n",
              "      background-color: #E8F0FE;\n",
              "      border: none;\n",
              "      border-radius: 50%;\n",
              "      cursor: pointer;\n",
              "      display: none;\n",
              "      fill: #1967D2;\n",
              "      height: 32px;\n",
              "      padding: 0 0 0 0;\n",
              "      width: 32px;\n",
              "    }\n",
              "\n",
              "    .colab-df-convert:hover {\n",
              "      background-color: #E2EBFA;\n",
              "      box-shadow: 0px 1px 2px rgba(60, 64, 67, 0.3), 0px 1px 3px 1px rgba(60, 64, 67, 0.15);\n",
              "      fill: #174EA6;\n",
              "    }\n",
              "\n",
              "    [theme=dark] .colab-df-convert {\n",
              "      background-color: #3B4455;\n",
              "      fill: #D2E3FC;\n",
              "    }\n",
              "\n",
              "    [theme=dark] .colab-df-convert:hover {\n",
              "      background-color: #434B5C;\n",
              "      box-shadow: 0px 1px 3px 1px rgba(0, 0, 0, 0.15);\n",
              "      filter: drop-shadow(0px 1px 2px rgba(0, 0, 0, 0.3));\n",
              "      fill: #FFFFFF;\n",
              "    }\n",
              "  </style>\n",
              "\n",
              "      <script>\n",
              "        const buttonEl =\n",
              "          document.querySelector('#df-9aba9946-032a-4b7a-8598-fef706cd961b button.colab-df-convert');\n",
              "        buttonEl.style.display =\n",
              "          google.colab.kernel.accessAllowed ? 'block' : 'none';\n",
              "\n",
              "        async function convertToInteractive(key) {\n",
              "          const element = document.querySelector('#df-9aba9946-032a-4b7a-8598-fef706cd961b');\n",
              "          const dataTable =\n",
              "            await google.colab.kernel.invokeFunction('convertToInteractive',\n",
              "                                                     [key], {});\n",
              "          if (!dataTable) return;\n",
              "\n",
              "          const docLinkHtml = 'Like what you see? Visit the ' +\n",
              "            '<a target=\"_blank\" href=https://colab.research.google.com/notebooks/data_table.ipynb>data table notebook</a>'\n",
              "            + ' to learn more about interactive tables.';\n",
              "          element.innerHTML = '';\n",
              "          dataTable['output_type'] = 'display_data';\n",
              "          await google.colab.output.renderOutput(dataTable, element);\n",
              "          const docLink = document.createElement('div');\n",
              "          docLink.innerHTML = docLinkHtml;\n",
              "          element.appendChild(docLink);\n",
              "        }\n",
              "      </script>\n",
              "    </div>\n",
              "  </div>\n",
              "  "
            ]
          },
          "metadata": {},
          "execution_count": 87
        }
      ]
    },
    {
      "cell_type": "markdown",
      "source": [
        "## OpenAI preprocess data"
      ],
      "metadata": {
        "id": "f3TQ42f1a7VH"
      }
    },
    {
      "cell_type": "code",
      "source": [
        "!openai tools fine_tunes.prepare_data -f Shakespeare_data_cleaned.csv"
      ],
      "metadata": {
        "colab": {
          "base_uri": "https://localhost:8080/"
        },
        "id": "2OJtev2pazZ5",
        "outputId": "cdcfdd54-a453-4129-ec9a-fc5fa9848146"
      },
      "execution_count": 88,
      "outputs": [
        {
          "output_type": "stream",
          "name": "stdout",
          "text": [
            "Analyzing...\n",
            "\n",
            "- Based on your file extension, your file is formatted as a CSV file\n",
            "- Your file contains 268 prompt-completion pairs\n",
            "- The input file should contain exactly two columns/keys per row. Additional columns/keys present are: ['Unnamed: 0']\n",
            "  WARNING: Some of the additional columns/keys contain `Unnamed: 0` in their name. These will be ignored, and the column/key `Unnamed: 0` will be used instead. This could also result from a duplicate column/key in the provided file.\n",
            "- The completion should start with a whitespace character (` `). This tends to produce better results due to the tokenization we use. See https://beta.openai.com/docs/guides/fine-tuning/preparing-your-dataset for more details\n",
            "\n",
            "Based on the analysis we will perform the following actions:\n",
            "- [Necessary] Your format `CSV` will be converted to `JSONL`\n",
            "- [Necessary] Remove additional columns/keys: ['Unnamed: 0']\n",
            "- [Recommended] Add a whitespace character to the beginning of the completion [Y/n]: Y\n",
            "/usr/local/lib/python3.7/dist-packages/openai/validators.py:415: SettingWithCopyWarning: \n",
            "A value is trying to be set on a copy of a slice from a DataFrame.\n",
            "Try using .loc[row_indexer,col_indexer] = value instead\n",
            "\n",
            "See the caveats in the documentation: https://pandas.pydata.org/pandas-docs/stable/user_guide/indexing.html#returning-a-view-versus-a-copy\n",
            "  lambda x: (\"\" if x[0] == \" \" else \" \") + x\n",
            "\n",
            "\n",
            "Your data will be written to a new JSONL file. Proceed [Y/n]: Y\n",
            "\n",
            "Wrote modified file to `Shakespeare_data_cleaned_prepared.jsonl`\n",
            "Feel free to take a look!\n",
            "\n",
            "Now use that file when fine-tuning:\n",
            "> openai api fine_tunes.create -t \"Shakespeare_data_cleaned_prepared.jsonl\"\n",
            "\n",
            "\n",
            "Once your model starts training, it'll approximately take 6.12 minutes to train a `curie` model, and less for `ada` and `babbage`. Queue will approximately take half an hour per job ahead of you.\n"
          ]
        }
      ]
    },
    {
      "cell_type": "code",
      "source": [
        "#The dataset has 500 pairs in total\n",
        "with open('Shakespeare_data_cleaned_prepared.jsonl', 'r') as json_file:\n",
        "    json_list = list(json_file)\n",
        "\n",
        "num_data = len(json_list)\n",
        "print(\"Total:\", num_data)\n",
        "\n",
        "val_part = 0.1 \n",
        "\n",
        "val_amount = int(num_data * val_part)\n",
        "print(\"Val data:\", val_amount)\n",
        "train_amount = num_data - val_amount \n",
        "print(\"Train data:\", train_amount)\n",
        "\n",
        "!head -n $train_amount Shakespeare_data_cleaned_prepared.jsonl > sh_train.jsonl\n",
        "!tail -n $val_amount  Shakespeare_data_cleaned_prepared.jsonl > sh_valid.jsonl"
      ],
      "metadata": {
        "colab": {
          "base_uri": "https://localhost:8080/"
        },
        "id": "v7Ok6wvJbt9f",
        "outputId": "d369b732-119c-4b2e-c251-7d476f4fd3ba"
      },
      "execution_count": 89,
      "outputs": [
        {
          "output_type": "stream",
          "name": "stdout",
          "text": [
            "Total: 268\n",
            "Val data: 26\n",
            "Train data: 242\n"
          ]
        }
      ]
    },
    {
      "cell_type": "code",
      "source": [
        "wandb.finish()"
      ],
      "metadata": {
        "colab": {
          "base_uri": "https://localhost:8080/",
          "height": 86,
          "referenced_widgets": [
            "7dea4500216d42c1af26d8c58d09e537",
            "c8c65233a387429c88ea3023fdc63ee7",
            "c9ec6dbe41cd427ea11b6ce0033c392d",
            "c98bdedd1bac4d968e6a02e3cdd7d32f",
            "664a07ade00c4fc4879162c7120b0984",
            "867958364a34498c870dbf9761fe9f43",
            "fd0ff6bea02d47ebb99f2eec94194e11",
            "f71132367725416b8c4fc153fd53b470"
          ]
        },
        "id": "_JmrARUyceMW",
        "outputId": "d81d98ad-85cf-40e2-a245-ccee694f2461"
      },
      "execution_count": 90,
      "outputs": [
        {
          "output_type": "display_data",
          "data": {
            "text/plain": [
              "<IPython.core.display.HTML object>"
            ],
            "text/html": [
              "Waiting for W&B process to finish... <strong style=\"color:green\">(success).</strong>"
            ]
          },
          "metadata": {}
        },
        {
          "output_type": "display_data",
          "data": {
            "text/plain": [
              "VBox(children=(Label(value='0.121 MB of 0.121 MB uploaded (0.000 MB deduped)\\r'), FloatProgress(value=1.0, max…"
            ],
            "application/vnd.jupyter.widget-view+json": {
              "version_major": 2,
              "version_minor": 0,
              "model_id": "7dea4500216d42c1af26d8c58d09e537"
            }
          },
          "metadata": {}
        },
        {
          "output_type": "display_data",
          "data": {
            "text/plain": [
              "<IPython.core.display.HTML object>"
            ],
            "text/html": [
              "Synced <strong style=\"color:#cdcd00\">northern-valley-4</strong>: <a href=\"https://wandb.ai/melzheng/GPT%203%20for%20Generating%20Texts%20in%20Shakespeare%20tone%20%28hamlet%29/runs/2wsny8c1\" target=\"_blank\">https://wandb.ai/melzheng/GPT%203%20for%20Generating%20Texts%20in%20Shakespeare%20tone%20%28hamlet%29/runs/2wsny8c1</a><br/>Synced 5 W&B file(s), 1 media file(s), 1 artifact file(s) and 0 other file(s)"
            ]
          },
          "metadata": {}
        },
        {
          "output_type": "display_data",
          "data": {
            "text/plain": [
              "<IPython.core.display.HTML object>"
            ],
            "text/html": [
              "Find logs at: <code>./wandb/run-20220711_140814-2wsny8c1/logs</code>"
            ]
          },
          "metadata": {}
        }
      ]
    },
    {
      "cell_type": "markdown",
      "source": [
        "## OpenAI Fine-tuning"
      ],
      "metadata": {
        "id": "KkJXXpWvck2d"
      }
    },
    {
      "cell_type": "code",
      "source": [
        "'''define fine-tune params'''\n",
        "\n",
        "model = 'curie'  # can be ada, babbage or curie\n",
        "n_epochs = 4\n",
        "batch_size = 4\n",
        "learning_rate_multiplier = 0.1\n",
        "prompt_loss_weight = 0.1\n",
        "custom_modelname = 'Shakespeare-Hamlet-v0'"
      ],
      "metadata": {
        "id": "DorzOz84cgbw"
      },
      "execution_count": 91,
      "outputs": []
    },
    {
      "cell_type": "code",
      "source": [
        "'''train'''\n",
        "\n",
        "!openai api fine_tunes.create \\\n",
        "    -t sh_train.jsonl \\\n",
        "    -v sh_valid.jsonl \\\n",
        "    -m $model \\\n",
        "    --n_epochs $n_epochs \\\n",
        "    --batch_size $batch_size \\\n",
        "    --learning_rate_multiplier $learning_rate_multiplier \\\n",
        "    --prompt_loss_weight $prompt_loss_weight \\\n",
        "    --suffix $custom_modelname"
      ],
      "metadata": {
        "colab": {
          "base_uri": "https://localhost:8080/"
        },
        "id": "DDJ_NXOWcwmU",
        "outputId": "59eed7f1-c125-41aa-bc90-43b3566aa181"
      },
      "execution_count": 92,
      "outputs": [
        {
          "output_type": "stream",
          "name": "stdout",
          "text": [
            "\rUpload progress:   0% 0.00/59.8k [00:00<?, ?it/s]\rUpload progress: 100% 59.8k/59.8k [00:00<00:00, 78.3Mit/s]\n",
            "Uploaded file from sh_train.jsonl: file-Pkgwrn3gouwxi8VtsmHmdeV2\n",
            "Upload progress: 100% 8.28k/8.28k [00:00<00:00, 10.9Mit/s]\n",
            "Uploaded file from sh_valid.jsonl: file-Ex9W9ttcgAKNvU93MCYhEoEr\n",
            "Created fine-tune: ft-cwLfwFSBz1fi2HP4NYk6umI8\n",
            "Streaming events until fine-tuning is complete...\n",
            "\n",
            "(Ctrl-C will interrupt the stream, but not cancel the fine-tune)\n",
            "[2022-07-11 14:13:49] Created fine-tune: ft-cwLfwFSBz1fi2HP4NYk6umI8\n",
            "[2022-07-11 14:14:08] Fine-tune costs $0.16\n",
            "[2022-07-11 14:14:09] Fine-tune enqueued. Queue number: 0\n",
            "[2022-07-11 14:14:11] Fine-tune started\n",
            "[2022-07-11 14:15:38] Completed epoch 1/4\n",
            "[2022-07-11 14:16:12] Completed epoch 2/4\n",
            "[2022-07-11 14:16:46] Completed epoch 3/4\n",
            "[2022-07-11 14:17:19] Completed epoch 4/4\n",
            "[2022-07-11 14:17:47] Uploaded model: curie:ft-personal:shakespeare-hamlet-v0-2022-07-11-14-17-45\n",
            "[2022-07-11 14:17:49] Uploaded result file: file-2g6pVRur4zFSywxoPuqcqS99\n",
            "[2022-07-11 14:17:50] Fine-tune succeeded\n",
            "\n",
            "Job complete! Status: succeeded 🎉\n",
            "Try out your fine-tuned model:\n",
            "\n",
            "openai api completions.create -m curie:ft-personal:shakespeare-hamlet-v0-2022-07-11-14-17-45 -p <YOUR_PROMPT>\n"
          ]
        }
      ]
    },
    {
      "cell_type": "code",
      "source": [
        "# sync fine-tune jobs to W&B\n",
        "!openai wandb sync --project 'GPT 3 for Generating Texts in Shakespeare tone (hamlet)'"
      ],
      "metadata": {
        "colab": {
          "base_uri": "https://localhost:8080/"
        },
        "id": "Wz5Qh2QzdDZn",
        "outputId": "8ffab871-a05b-407b-a556-d1e310f65f7e"
      },
      "execution_count": 93,
      "outputs": [
        {
          "output_type": "stream",
          "name": "stdout",
          "text": [
            "\u001b[34m\u001b[1mwandb\u001b[0m: Currently logged in as: \u001b[33mmelzheng\u001b[0m. Use \u001b[1m`wandb login --relogin`\u001b[0m to force relogin\n",
            "\u001b[34m\u001b[1mwandb\u001b[0m: Tracking run with wandb version 0.12.21\n",
            "\u001b[34m\u001b[1mwandb\u001b[0m: Run data is saved locally in \u001b[35m\u001b[1m/content/wandb/run-20220711_142803-ft-FIwEP3IK7apKnBAFzYT1TrC0\u001b[0m\n",
            "\u001b[34m\u001b[1mwandb\u001b[0m: Run \u001b[1m`wandb offline`\u001b[0m to turn off syncing.\n",
            "\u001b[34m\u001b[1mwandb\u001b[0m: Syncing run \u001b[33mft-FIwEP3IK7apKnBAFzYT1TrC0\u001b[0m\n",
            "\u001b[34m\u001b[1mwandb\u001b[0m: ⭐️ View project at \u001b[34m\u001b[4mhttps://wandb.ai/melzheng/GPT%203%20for%20Generating%20Texts%20in%20Shakespeare%20tone%20%28hamlet%29\u001b[0m\n",
            "\u001b[34m\u001b[1mwandb\u001b[0m: 🚀 View run at \u001b[34m\u001b[4mhttps://wandb.ai/melzheng/GPT%203%20for%20Generating%20Texts%20in%20Shakespeare%20tone%20%28hamlet%29/runs/ft-FIwEP3IK7apKnBAFzYT1TrC0\u001b[0m\n",
            "File file-0WmhoqG2hyEsx7A0iNzvaFCw could not be retrieved. Make sure you are allowed to download training/validation files\n",
            "File file-05Fz8bnpJhkRFtnkxpSLrV4G could not be retrieved. Make sure you are allowed to download training/validation files\n",
            "\u001b[34m\u001b[1mwandb\u001b[0m: Waiting for W&B process to finish... \u001b[32m(success).\u001b[0m\n",
            "\u001b[34m\u001b[1mwandb\u001b[0m:                                                                                \n",
            "\u001b[34m\u001b[1mwandb\u001b[0m: \n",
            "\u001b[34m\u001b[1mwandb\u001b[0m: Run history:\n",
            "\u001b[34m\u001b[1mwandb\u001b[0m:             elapsed_examples ▁▁▁▂▂▂▂▂▂▃▃▃▃▃▃▄▄▄▄▄▅▅▅▅▅▅▆▆▆▆▆▇▇▇▇▇▇███\n",
            "\u001b[34m\u001b[1mwandb\u001b[0m:               elapsed_tokens ▁▁▁▂▂▂▂▂▂▃▃▃▃▃▃▄▄▄▄▄▅▅▅▅▅▅▆▆▆▆▆▇▇▇▇▇▇███\n",
            "\u001b[34m\u001b[1mwandb\u001b[0m:                training_loss ▇██▅▆█▆▇▇▄▆▅▄▇▃▄▆▅▆▆▄▂▄▃▄▄▄▅▄▃▃▃▃▄▂▁▂▂▃▂\n",
            "\u001b[34m\u001b[1mwandb\u001b[0m:   training_sequence_accuracy ▁▁▁▁▁▁▁▁▁▁▁▁▁▁▁▁▁▁▁▁▁▁▁▁▁▁▁▁▁▁▁▁▁▁▁█▁▁▁▁\n",
            "\u001b[34m\u001b[1mwandb\u001b[0m:      training_token_accuracy ▁▄▃▂▄▂▄▃▁▃▄▄▅▄▄▂▃▃▃▃▅▆▅▄▄▅▅▃▄▄▅▅▆▅▆█▇▇▇█\n",
            "\u001b[34m\u001b[1mwandb\u001b[0m:              validation_loss ▃▃▃▃▃▅▃▃▄▃▂▃▃▃█▄▂▃▂▂▁▃▄▃▄▃▄▂▃▃▂▄▂▄▁▄▃▂▄\n",
            "\u001b[34m\u001b[1mwandb\u001b[0m: validation_sequence_accuracy ▁▁▁▁▁▁▁▁▁▁█▁▁▁▁▁▁▁▁▁█▁▁▁▁▁▁▁▁▁█▁▁▁█▁▁█▁\n",
            "\u001b[34m\u001b[1mwandb\u001b[0m:    validation_token_accuracy ▁▃▃▅▅▁▇▆▅▄▇▅▄▄▂▅▄▅▇▅▃▃▅▁▃▁▄▃▄▄▇▅█▂▇▄▃▃▂\n",
            "\u001b[34m\u001b[1mwandb\u001b[0m: \n",
            "\u001b[34m\u001b[1mwandb\u001b[0m: Run summary:\n",
            "\u001b[34m\u001b[1mwandb\u001b[0m:             elapsed_examples 1800.0\n",
            "\u001b[34m\u001b[1mwandb\u001b[0m:               elapsed_tokens 30856.0\n",
            "\u001b[34m\u001b[1mwandb\u001b[0m:             fine_tuned_model curie:ft-personal-20...\n",
            "\u001b[34m\u001b[1mwandb\u001b[0m:                       status succeeded\n",
            "\u001b[34m\u001b[1mwandb\u001b[0m:                training_loss 0.68924\n",
            "\u001b[34m\u001b[1mwandb\u001b[0m:   training_sequence_accuracy 0.0\n",
            "\u001b[34m\u001b[1mwandb\u001b[0m:      training_token_accuracy 0.61905\n",
            "\u001b[34m\u001b[1mwandb\u001b[0m:              validation_loss 2.85484\n",
            "\u001b[34m\u001b[1mwandb\u001b[0m: validation_sequence_accuracy 0.0\n",
            "\u001b[34m\u001b[1mwandb\u001b[0m:    validation_token_accuracy 0.11905\n",
            "\u001b[34m\u001b[1mwandb\u001b[0m: \n",
            "\u001b[34m\u001b[1mwandb\u001b[0m: Synced \u001b[33mft-FIwEP3IK7apKnBAFzYT1TrC0\u001b[0m: \u001b[34m\u001b[4mhttps://wandb.ai/melzheng/GPT%203%20for%20Generating%20Texts%20in%20Shakespeare%20tone%20%28hamlet%29/runs/ft-FIwEP3IK7apKnBAFzYT1TrC0\u001b[0m\n",
            "\u001b[34m\u001b[1mwandb\u001b[0m: Synced 5 W&B file(s), 0 media file(s), 1 artifact file(s) and 0 other file(s)\n",
            "\u001b[34m\u001b[1mwandb\u001b[0m: Find logs at: \u001b[35m\u001b[1m./wandb/run-20220711_142803-ft-FIwEP3IK7apKnBAFzYT1TrC0/logs\u001b[0m\n",
            "\u001b[34m\u001b[1mwandb\u001b[0m: Tracking run with wandb version 0.12.21\n",
            "\u001b[34m\u001b[1mwandb\u001b[0m: Run data is saved locally in \u001b[35m\u001b[1m/content/wandb/run-20220711_142811-ft-5P5zViPlEZSp6nORO0j5srT3\u001b[0m\n",
            "\u001b[34m\u001b[1mwandb\u001b[0m: Run \u001b[1m`wandb offline`\u001b[0m to turn off syncing.\n",
            "\u001b[34m\u001b[1mwandb\u001b[0m: Syncing run \u001b[33mft-5P5zViPlEZSp6nORO0j5srT3\u001b[0m\n",
            "\u001b[34m\u001b[1mwandb\u001b[0m: ⭐️ View project at \u001b[34m\u001b[4mhttps://wandb.ai/melzheng/GPT%203%20for%20Generating%20Texts%20in%20Shakespeare%20tone%20%28hamlet%29\u001b[0m\n",
            "\u001b[34m\u001b[1mwandb\u001b[0m: 🚀 View run at \u001b[34m\u001b[4mhttps://wandb.ai/melzheng/GPT%203%20for%20Generating%20Texts%20in%20Shakespeare%20tone%20%28hamlet%29/runs/ft-5P5zViPlEZSp6nORO0j5srT3\u001b[0m\n",
            "File file-SFXUTsaPoXizclMpz4W2wbGO could not be retrieved. Make sure you are allowed to download training/validation files\n",
            "File file-4MxmwoU0vg3AlruBW6x8nAz8 could not be retrieved. Make sure you are allowed to download training/validation files\n",
            "\u001b[34m\u001b[1mwandb\u001b[0m: Waiting for W&B process to finish... \u001b[32m(success).\u001b[0m\n",
            "\u001b[34m\u001b[1mwandb\u001b[0m:                                                                                \n",
            "\u001b[34m\u001b[1mwandb\u001b[0m: \n",
            "\u001b[34m\u001b[1mwandb\u001b[0m: Run history:\n",
            "\u001b[34m\u001b[1mwandb\u001b[0m:             elapsed_examples ▁▁▁▂▂▂▂▂▂▃▃▃▃▃▃▄▄▄▄▄▅▅▅▅▅▅▆▆▆▆▆▇▇▇▇▇▇███\n",
            "\u001b[34m\u001b[1mwandb\u001b[0m:               elapsed_tokens ▁▁▁▁▂▂▂▂▂▃▃▃▃▃▃▄▄▄▄▄▅▅▅▅▅▅▆▆▆▆▆▇▇▇▇▇▇███\n",
            "\u001b[34m\u001b[1mwandb\u001b[0m:                training_loss ▄▇█▆▇▅▄▆▅▇▇▃▅▄▆▃▅▆▃▄▃▅▄▅▂▄▅▅▄▃▃▂▂▂▃▂▁▂▃▂\n",
            "\u001b[34m\u001b[1mwandb\u001b[0m:   training_sequence_accuracy █▁▁▁▁█▁▁▁▁▁█▁▁▁▁▁▁▁▁▁▁▁▁█▁▁▁▁▁▁▁▁▁▁▁▁▁▁▁\n",
            "\u001b[34m\u001b[1mwandb\u001b[0m:      training_token_accuracy ▄▃▃▄▁▃▃▁▂▂▂▃▃▄▂▅▃▃▆▄▇▄▆▄█▅▆▄▅▅▆▆▅▆▇▇█▅▆▇\n",
            "\u001b[34m\u001b[1mwandb\u001b[0m:              validation_loss ▅▅▅▅▄▃▃▅▃▃▂▂▅▂▅▅▁█▄▆▃▆▄▅▄▅▇▃▅▄▂▄▅▄▄▃▂▅▇▄\n",
            "\u001b[34m\u001b[1mwandb\u001b[0m: validation_sequence_accuracy ▁▁▁▁▁▁▁▁▁▁▁▁▁▁▁▁▁▁▁▁▁▁▁▁▁▁▁▁▁▁▁▁▁▁▁▁▁▁▁▁\n",
            "\u001b[34m\u001b[1mwandb\u001b[0m:    validation_token_accuracy ▁▂▅▃▃▅▅▂▃▃▄▄▅▄▃▃█▂▄▅▄▃▄▁▅▄▂▄▅▂▆▂▅▃▄▂▅▃▃▂\n",
            "\u001b[34m\u001b[1mwandb\u001b[0m: \n",
            "\u001b[34m\u001b[1mwandb\u001b[0m: Run summary:\n",
            "\u001b[34m\u001b[1mwandb\u001b[0m:             elapsed_examples 5336.0\n",
            "\u001b[34m\u001b[1mwandb\u001b[0m:               elapsed_tokens 96760.0\n",
            "\u001b[34m\u001b[1mwandb\u001b[0m:             fine_tuned_model curie:ft-personal-20...\n",
            "\u001b[34m\u001b[1mwandb\u001b[0m:                       status succeeded\n",
            "\u001b[34m\u001b[1mwandb\u001b[0m:                training_loss 0.94239\n",
            "\u001b[34m\u001b[1mwandb\u001b[0m:   training_sequence_accuracy 0.0\n",
            "\u001b[34m\u001b[1mwandb\u001b[0m:      training_token_accuracy 0.78049\n",
            "\u001b[34m\u001b[1mwandb\u001b[0m:              validation_loss 2.17718\n",
            "\u001b[34m\u001b[1mwandb\u001b[0m: validation_sequence_accuracy 0.0\n",
            "\u001b[34m\u001b[1mwandb\u001b[0m:    validation_token_accuracy 0.17241\n",
            "\u001b[34m\u001b[1mwandb\u001b[0m: \n",
            "\u001b[34m\u001b[1mwandb\u001b[0m: Synced \u001b[33mft-5P5zViPlEZSp6nORO0j5srT3\u001b[0m: \u001b[34m\u001b[4mhttps://wandb.ai/melzheng/GPT%203%20for%20Generating%20Texts%20in%20Shakespeare%20tone%20%28hamlet%29/runs/ft-5P5zViPlEZSp6nORO0j5srT3\u001b[0m\n",
            "\u001b[34m\u001b[1mwandb\u001b[0m: Synced 5 W&B file(s), 0 media file(s), 1 artifact file(s) and 0 other file(s)\n",
            "\u001b[34m\u001b[1mwandb\u001b[0m: Find logs at: \u001b[35m\u001b[1m./wandb/run-20220711_142811-ft-5P5zViPlEZSp6nORO0j5srT3/logs\u001b[0m\n",
            "\u001b[34m\u001b[1mwandb\u001b[0m: Tracking run with wandb version 0.12.21\n",
            "\u001b[34m\u001b[1mwandb\u001b[0m: Run data is saved locally in \u001b[35m\u001b[1m/content/wandb/run-20220711_142821-ft-SOLIteqDuhHQuKfyZhiRX1Z4\u001b[0m\n",
            "\u001b[34m\u001b[1mwandb\u001b[0m: Run \u001b[1m`wandb offline`\u001b[0m to turn off syncing.\n",
            "\u001b[34m\u001b[1mwandb\u001b[0m: Syncing run \u001b[33mft-SOLIteqDuhHQuKfyZhiRX1Z4\u001b[0m\n",
            "\u001b[34m\u001b[1mwandb\u001b[0m: ⭐️ View project at \u001b[34m\u001b[4mhttps://wandb.ai/melzheng/GPT%203%20for%20Generating%20Texts%20in%20Shakespeare%20tone%20%28hamlet%29\u001b[0m\n",
            "\u001b[34m\u001b[1mwandb\u001b[0m: 🚀 View run at \u001b[34m\u001b[4mhttps://wandb.ai/melzheng/GPT%203%20for%20Generating%20Texts%20in%20Shakespeare%20tone%20%28hamlet%29/runs/ft-SOLIteqDuhHQuKfyZhiRX1Z4\u001b[0m\n",
            "File file-pGFMrexJ1KL8tFSMOPtYmRGr could not be retrieved. Make sure you are allowed to download training/validation files\n",
            "File file-gktOF6KQf6043vJSuVA2UFq1 could not be retrieved. Make sure you are allowed to download training/validation files\n",
            "\u001b[34m\u001b[1mwandb\u001b[0m: Waiting for W&B process to finish... \u001b[32m(success).\u001b[0m\n",
            "\u001b[34m\u001b[1mwandb\u001b[0m:                                                                                \n",
            "\u001b[34m\u001b[1mwandb\u001b[0m: \n",
            "\u001b[34m\u001b[1mwandb\u001b[0m: Run history:\n",
            "\u001b[34m\u001b[1mwandb\u001b[0m:             elapsed_examples ▁▁▁▂▂▂▂▂▂▃▃▃▃▃▃▄▄▄▄▄▅▅▅▅▅▅▆▆▆▆▆▇▇▇▇▇▇███\n",
            "\u001b[34m\u001b[1mwandb\u001b[0m:               elapsed_tokens ▁▁▁▂▂▂▂▂▂▃▃▃▃▃▃▄▄▄▄▄▅▅▅▅▅▅▆▆▆▆▆▇▇▇▇▇▇███\n",
            "\u001b[34m\u001b[1mwandb\u001b[0m:                training_loss █▇█▆▅▇▇▄▇█▄▆▃▅▅▄▅▄██▁▂▇▄▅▃▂▃▂▅▂▃▃▃▂▂▄▁▃▄\n",
            "\u001b[34m\u001b[1mwandb\u001b[0m:   training_sequence_accuracy ▁▁▁▁▁▁▁▁▁▁▁▁▁▁▁▁▁▁▁▁▁▁▁▁▁▁▁▁▁▁▁▁▁▁▁▁▁▁▁▁\n",
            "\u001b[34m\u001b[1mwandb\u001b[0m:      training_token_accuracy ▁▁▁▁▂▂▁▂▂▂▅▄▅▄▄▄▄▃▃▂▇▇▄▅▅▆▆▇▆▄▇▆▆▄▆▆▅▇█▅\n",
            "\u001b[34m\u001b[1mwandb\u001b[0m:              validation_loss █▅▄▅▄▄▅▄▄▂▆▇▃▃▃▆▃█▄▄▃▁▆▄▄▄▃▄▃▄▄▂▂▄▄▄▅▅▄▂\n",
            "\u001b[34m\u001b[1mwandb\u001b[0m: validation_sequence_accuracy ▁▁▁▁▁▁▁▁▁▁▁▁▁▁▁▁▁▁▁▁▁▁▁▁▁▁▁▁▁▁▁▁▁▁▁▁▁▁▁▁\n",
            "\u001b[34m\u001b[1mwandb\u001b[0m:    validation_token_accuracy ▁▅▄▄▅▆▅▅▅▆▄▅▆▆▅▃▇▄▇▅▆▆▅▅▅▆▆▇▆▆▅█▆▄▅▆▇▅▆▇\n",
            "\u001b[34m\u001b[1mwandb\u001b[0m: \n",
            "\u001b[34m\u001b[1mwandb\u001b[0m: Run summary:\n",
            "\u001b[34m\u001b[1mwandb\u001b[0m:             elapsed_examples 10448.0\n",
            "\u001b[34m\u001b[1mwandb\u001b[0m:               elapsed_tokens 589456.0\n",
            "\u001b[34m\u001b[1mwandb\u001b[0m:             fine_tuned_model curie:ft-personal-20...\n",
            "\u001b[34m\u001b[1mwandb\u001b[0m:                       status succeeded\n",
            "\u001b[34m\u001b[1mwandb\u001b[0m:                training_loss 0.87301\n",
            "\u001b[34m\u001b[1mwandb\u001b[0m:   training_sequence_accuracy 0.0\n",
            "\u001b[34m\u001b[1mwandb\u001b[0m:      training_token_accuracy 0.61719\n",
            "\u001b[34m\u001b[1mwandb\u001b[0m:              validation_loss 1.0583\n",
            "\u001b[34m\u001b[1mwandb\u001b[0m: validation_sequence_accuracy 0.0\n",
            "\u001b[34m\u001b[1mwandb\u001b[0m:    validation_token_accuracy 0.58\n",
            "\u001b[34m\u001b[1mwandb\u001b[0m: \n",
            "\u001b[34m\u001b[1mwandb\u001b[0m: Synced \u001b[33mft-SOLIteqDuhHQuKfyZhiRX1Z4\u001b[0m: \u001b[34m\u001b[4mhttps://wandb.ai/melzheng/GPT%203%20for%20Generating%20Texts%20in%20Shakespeare%20tone%20%28hamlet%29/runs/ft-SOLIteqDuhHQuKfyZhiRX1Z4\u001b[0m\n",
            "\u001b[34m\u001b[1mwandb\u001b[0m: Synced 5 W&B file(s), 0 media file(s), 1 artifact file(s) and 0 other file(s)\n",
            "\u001b[34m\u001b[1mwandb\u001b[0m: Find logs at: \u001b[35m\u001b[1m./wandb/run-20220711_142821-ft-SOLIteqDuhHQuKfyZhiRX1Z4/logs\u001b[0m\n",
            "\u001b[34m\u001b[1mwandb\u001b[0m: Tracking run with wandb version 0.12.21\n",
            "\u001b[34m\u001b[1mwandb\u001b[0m: Run data is saved locally in \u001b[35m\u001b[1m/content/wandb/run-20220711_142831-ft-J1x3ZaSCLeOvHzlMN3ZzaXMH\u001b[0m\n",
            "\u001b[34m\u001b[1mwandb\u001b[0m: Run \u001b[1m`wandb offline`\u001b[0m to turn off syncing.\n",
            "\u001b[34m\u001b[1mwandb\u001b[0m: Syncing run \u001b[33mft-J1x3ZaSCLeOvHzlMN3ZzaXMH\u001b[0m\n",
            "\u001b[34m\u001b[1mwandb\u001b[0m: ⭐️ View project at \u001b[34m\u001b[4mhttps://wandb.ai/melzheng/GPT%203%20for%20Generating%20Texts%20in%20Shakespeare%20tone%20%28hamlet%29\u001b[0m\n",
            "\u001b[34m\u001b[1mwandb\u001b[0m: 🚀 View run at \u001b[34m\u001b[4mhttps://wandb.ai/melzheng/GPT%203%20for%20Generating%20Texts%20in%20Shakespeare%20tone%20%28hamlet%29/runs/ft-J1x3ZaSCLeOvHzlMN3ZzaXMH\u001b[0m\n",
            "File file-aQxCfJBLkw6PVNakWgEbY9Iz could not be retrieved. Make sure you are allowed to download training/validation files\n",
            "File file-YehZykKtGPNpARhvLjTNy3Bg could not be retrieved. Make sure you are allowed to download training/validation files\n",
            "\u001b[34m\u001b[1mwandb\u001b[0m: Waiting for W&B process to finish... \u001b[32m(success).\u001b[0m\n",
            "\u001b[34m\u001b[1mwandb\u001b[0m:                                                                                \n",
            "\u001b[34m\u001b[1mwandb\u001b[0m: \n",
            "\u001b[34m\u001b[1mwandb\u001b[0m: Run history:\n",
            "\u001b[34m\u001b[1mwandb\u001b[0m:             elapsed_examples ▁▁▁▁▂▂▂▂▂▃▃▃▃▃▃▄▄▄▄▄▅▅▅▅▅▅▆▆▆▆▆▆▇▇▇▇▇███\n",
            "\u001b[34m\u001b[1mwandb\u001b[0m:               elapsed_tokens ▁▁▁▁▂▂▂▂▂▃▃▃▃▃▃▄▄▄▄▄▅▅▅▅▅▅▆▆▆▆▆▆▇▇▇▇▇███\n",
            "\u001b[34m\u001b[1mwandb\u001b[0m:                training_loss ▄▂██▃▆▄▄▅▆█▆▆▆▆▄▅▃▇▇▅▄▆▆▃▃▃▃▃▅▄▃▄▄▂▁▄▅▆▄\n",
            "\u001b[34m\u001b[1mwandb\u001b[0m:   training_sequence_accuracy ▁▁▁▁▁▁▁▁▁▁▁▁▁▁▁▁▁▁▁▁▁▁▁▁▁▁▁▁▁▁▁▁▁▁▁▁▁▁▁▁\n",
            "\u001b[34m\u001b[1mwandb\u001b[0m:      training_token_accuracy ▂█▁▃▁▂▂▂▂▂▂▄▃▂▂▂▃▂▂▃▃▄▁▃▇▃▅▇▃▄▃▂▃▅▄▇▃▄▂▃\n",
            "\u001b[34m\u001b[1mwandb\u001b[0m:              validation_loss ▅▂▄▇▃▃▅▄▆▇▁▆▇▃▇▆▆▃▄▆▄█▅▄▅▅▄▂▁▆▄▆▆█▇▇▅▆\n",
            "\u001b[34m\u001b[1mwandb\u001b[0m: validation_sequence_accuracy ▁▁▁▁▁▁▁▁▁▁▁▁▁▁▁▁▁▁▁▁▁▁▁▁▁▁▁▁▁▁▁▁▁▁▁▁▁▁\n",
            "\u001b[34m\u001b[1mwandb\u001b[0m:    validation_token_accuracy ▁▂▄▂▂▇▂▂▂▄█▂▂▃▃▁▃▇▂▁▄▂▂▄▃▃▂▆▇▂▅▂▂▃▃▂▂▂\n",
            "\u001b[34m\u001b[1mwandb\u001b[0m: \n",
            "\u001b[34m\u001b[1mwandb\u001b[0m: Run summary:\n",
            "\u001b[34m\u001b[1mwandb\u001b[0m:             elapsed_examples 1052.0\n",
            "\u001b[34m\u001b[1mwandb\u001b[0m:               elapsed_tokens 1090428.0\n",
            "\u001b[34m\u001b[1mwandb\u001b[0m:             fine_tuned_model curie:ft-personal-20...\n",
            "\u001b[34m\u001b[1mwandb\u001b[0m:                       status succeeded\n",
            "\u001b[34m\u001b[1mwandb\u001b[0m:                training_loss 1.39066\n",
            "\u001b[34m\u001b[1mwandb\u001b[0m:   training_sequence_accuracy 0.0\n",
            "\u001b[34m\u001b[1mwandb\u001b[0m:      training_token_accuracy 0.5133\n",
            "\u001b[34m\u001b[1mwandb\u001b[0m:              validation_loss 1.58204\n",
            "\u001b[34m\u001b[1mwandb\u001b[0m: validation_sequence_accuracy 0.0\n",
            "\u001b[34m\u001b[1mwandb\u001b[0m:    validation_token_accuracy 0.48393\n",
            "\u001b[34m\u001b[1mwandb\u001b[0m: \n",
            "\u001b[34m\u001b[1mwandb\u001b[0m: Synced \u001b[33mft-J1x3ZaSCLeOvHzlMN3ZzaXMH\u001b[0m: \u001b[34m\u001b[4mhttps://wandb.ai/melzheng/GPT%203%20for%20Generating%20Texts%20in%20Shakespeare%20tone%20%28hamlet%29/runs/ft-J1x3ZaSCLeOvHzlMN3ZzaXMH\u001b[0m\n",
            "\u001b[34m\u001b[1mwandb\u001b[0m: Synced 5 W&B file(s), 0 media file(s), 1 artifact file(s) and 0 other file(s)\n",
            "\u001b[34m\u001b[1mwandb\u001b[0m: Find logs at: \u001b[35m\u001b[1m./wandb/run-20220711_142831-ft-J1x3ZaSCLeOvHzlMN3ZzaXMH/logs\u001b[0m\n",
            "\u001b[34m\u001b[1mwandb\u001b[0m: Tracking run with wandb version 0.12.21\n",
            "\u001b[34m\u001b[1mwandb\u001b[0m: Run data is saved locally in \u001b[35m\u001b[1m/content/wandb/run-20220711_142839-ft-cwLfwFSBz1fi2HP4NYk6umI8\u001b[0m\n",
            "\u001b[34m\u001b[1mwandb\u001b[0m: Run \u001b[1m`wandb offline`\u001b[0m to turn off syncing.\n",
            "\u001b[34m\u001b[1mwandb\u001b[0m: Syncing run \u001b[33mft-cwLfwFSBz1fi2HP4NYk6umI8\u001b[0m\n",
            "\u001b[34m\u001b[1mwandb\u001b[0m: ⭐️ View project at \u001b[34m\u001b[4mhttps://wandb.ai/melzheng/GPT%203%20for%20Generating%20Texts%20in%20Shakespeare%20tone%20%28hamlet%29\u001b[0m\n",
            "\u001b[34m\u001b[1mwandb\u001b[0m: 🚀 View run at \u001b[34m\u001b[4mhttps://wandb.ai/melzheng/GPT%203%20for%20Generating%20Texts%20in%20Shakespeare%20tone%20%28hamlet%29/runs/ft-cwLfwFSBz1fi2HP4NYk6umI8\u001b[0m\n",
            "File file-Pkgwrn3gouwxi8VtsmHmdeV2 could not be retrieved. Make sure you are allowed to download training/validation files\n",
            "File file-Ex9W9ttcgAKNvU93MCYhEoEr could not be retrieved. Make sure you are allowed to download training/validation files\n",
            "\u001b[34m\u001b[1mwandb\u001b[0m: Waiting for W&B process to finish... \u001b[32m(success).\u001b[0m\n",
            "\u001b[34m\u001b[1mwandb\u001b[0m:                                                                                \n",
            "\u001b[34m\u001b[1mwandb\u001b[0m: \n",
            "\u001b[34m\u001b[1mwandb\u001b[0m: Run history:\n",
            "\u001b[34m\u001b[1mwandb\u001b[0m:             elapsed_examples ▁▁▁▂▂▂▂▂▂▃▃▃▃▃▃▄▄▄▄▄▅▅▅▅▅▅▆▆▆▆▆▇▇▇▇▇▇███\n",
            "\u001b[34m\u001b[1mwandb\u001b[0m:               elapsed_tokens ▁▁▁▂▂▂▂▂▂▃▃▃▃▃▃▄▄▄▄▄▅▅▅▅▅▆▆▆▆▆▆▇▇▇▇▇▇███\n",
            "\u001b[34m\u001b[1mwandb\u001b[0m:                training_loss ▆█▅▆▆▄▂▂▂▂▂▄▅▄▂▁▃▄▃▂▂▄▃▁▅▂▂▃▃▂▂▃▂▂▃▁▂▁▃▃\n",
            "\u001b[34m\u001b[1mwandb\u001b[0m:   training_sequence_accuracy ▁▁▁▁▁▁▁▁▁▁▁▁▁▁▁▁▁▁▁▁▁▁▁▁▁▁▁▁▁▁▁▁█▁▁▁▁▁▁▁\n",
            "\u001b[34m\u001b[1mwandb\u001b[0m:      training_token_accuracy ▂▁▂▂▁▃▇▅▆▅▆▃▄▄▆▇▇▂▄▅▆▄▅█▃▆▆▅▅▆▇▄▆▇▅█▆█▇▆\n",
            "\u001b[34m\u001b[1mwandb\u001b[0m:              validation_loss ▆▂█▃▁▄▆▇▂█▄▄▂▇▂▂▄▁▁▂▅▂▃▂▆▂▁▆▂▃▄▆▁▃▁▆▄\n",
            "\u001b[34m\u001b[1mwandb\u001b[0m: validation_sequence_accuracy ▁▁▁▁▁▁▁▁▁▁▁▁▁▁▁▁▁▁▁▁▁▁▁▁▁▁▁▁▁▁▁▁▁▁▁▁▁\n",
            "\u001b[34m\u001b[1mwandb\u001b[0m:    validation_token_accuracy ▂▇▂▆▇▄▁▃▇▁▅▅█▃▅▆▆▇▇▆▃▆▄▇▂▇█▃▆▅▅▁█▆█▂▂\n",
            "\u001b[34m\u001b[1mwandb\u001b[0m: \n",
            "\u001b[34m\u001b[1mwandb\u001b[0m: Run summary:\n",
            "\u001b[34m\u001b[1mwandb\u001b[0m:             elapsed_examples 976.0\n",
            "\u001b[34m\u001b[1mwandb\u001b[0m:               elapsed_tokens 129808.0\n",
            "\u001b[34m\u001b[1mwandb\u001b[0m:             fine_tuned_model curie:ft-personal:sh...\n",
            "\u001b[34m\u001b[1mwandb\u001b[0m:                       status succeeded\n",
            "\u001b[34m\u001b[1mwandb\u001b[0m:                training_loss 0.5787\n",
            "\u001b[34m\u001b[1mwandb\u001b[0m:   training_sequence_accuracy 0.0\n",
            "\u001b[34m\u001b[1mwandb\u001b[0m:      training_token_accuracy 0.78049\n",
            "\u001b[34m\u001b[1mwandb\u001b[0m:              validation_loss 0.85337\n",
            "\u001b[34m\u001b[1mwandb\u001b[0m: validation_sequence_accuracy 0.0\n",
            "\u001b[34m\u001b[1mwandb\u001b[0m:    validation_token_accuracy 0.47273\n",
            "\u001b[34m\u001b[1mwandb\u001b[0m: \n",
            "\u001b[34m\u001b[1mwandb\u001b[0m: Synced \u001b[33mft-cwLfwFSBz1fi2HP4NYk6umI8\u001b[0m: \u001b[34m\u001b[4mhttps://wandb.ai/melzheng/GPT%203%20for%20Generating%20Texts%20in%20Shakespeare%20tone%20%28hamlet%29/runs/ft-cwLfwFSBz1fi2HP4NYk6umI8\u001b[0m\n",
            "\u001b[34m\u001b[1mwandb\u001b[0m: Synced 5 W&B file(s), 0 media file(s), 1 artifact file(s) and 0 other file(s)\n",
            "\u001b[34m\u001b[1mwandb\u001b[0m: Find logs at: \u001b[35m\u001b[1m./wandb/run-20220711_142839-ft-cwLfwFSBz1fi2HP4NYk6umI8/logs\u001b[0m\n",
            "🎉 wandb sync completed successfully\n"
          ]
        }
      ]
    },
    {
      "cell_type": "markdown",
      "source": [
        "## Log validation samples"
      ],
      "metadata": {
        "id": "nqkIMnTCebdz"
      }
    },
    {
      "cell_type": "code",
      "source": [
        "# create eval job\n",
        "run = wandb.init(project=project_name, job_type='eval')\n",
        "entity = wandb.run.entity"
      ],
      "metadata": {
        "colab": {
          "base_uri": "https://localhost:8080/",
          "height": 86
        },
        "id": "1c2xb5nnei_i",
        "outputId": "ba1b01a0-78e5-4db2-861f-bb795d43b320"
      },
      "execution_count": 94,
      "outputs": [
        {
          "output_type": "stream",
          "name": "stderr",
          "text": [
            "\u001b[34m\u001b[1mwandb\u001b[0m: Currently logged in as: \u001b[33mmelzheng\u001b[0m. Use \u001b[1m`wandb login --relogin`\u001b[0m to force relogin\n"
          ]
        },
        {
          "output_type": "display_data",
          "data": {
            "text/plain": [
              "<IPython.core.display.HTML object>"
            ],
            "text/html": [
              "Tracking run with wandb version 0.12.21"
            ]
          },
          "metadata": {}
        },
        {
          "output_type": "display_data",
          "data": {
            "text/plain": [
              "<IPython.core.display.HTML object>"
            ],
            "text/html": [
              "Run data is saved locally in <code>/content/wandb/run-20220711_142906-366inexr</code>"
            ]
          },
          "metadata": {}
        },
        {
          "output_type": "display_data",
          "data": {
            "text/plain": [
              "<IPython.core.display.HTML object>"
            ],
            "text/html": [
              "Syncing run <strong><a href=\"https://wandb.ai/melzheng/GPT%203%20for%20Generating%20Texts%20in%20Shakespeare%20tone%20%28hamlet%29/runs/366inexr\" target=\"_blank\">robust-morning-10</a></strong> to <a href=\"https://wandb.ai/melzheng/GPT%203%20for%20Generating%20Texts%20in%20Shakespeare%20tone%20%28hamlet%29\" target=\"_blank\">Weights & Biases</a> (<a href=\"https://wandb.me/run\" target=\"_blank\">docs</a>)<br/>"
            ]
          },
          "metadata": {}
        }
      ]
    },
    {
      "cell_type": "code",
      "source": [
        "# choose a fine-tuned model\n",
        "artifact_job = run.use_artifact(f'{entity}/{project_name}/fine_tune_details:latest', type='fine_tune_details')\n",
        "artifact_job.metadata"
      ],
      "metadata": {
        "colab": {
          "base_uri": "https://localhost:8080/"
        },
        "id": "rFrcC5D9epeK",
        "outputId": "79784f94-c210-4f98-f30e-c5c747590b4e"
      },
      "execution_count": 95,
      "outputs": [
        {
          "output_type": "execute_result",
          "data": {
            "text/plain": [
              "{'created_at': 1657548829,\n",
              " 'fine_tuned_model': 'curie:ft-personal:shakespeare-hamlet-v0-2022-07-11-14-17-45',\n",
              " 'hyperparams': {'batch_size': 4,\n",
              "  'learning_rate_multiplier': 0.1,\n",
              "  'n_epochs': 4,\n",
              "  'prompt_loss_weight': 0.1},\n",
              " 'id': 'ft-cwLfwFSBz1fi2HP4NYk6umI8',\n",
              " 'model': 'curie',\n",
              " 'object': 'fine-tune',\n",
              " 'organization_id': 'org-2ud1sYF9hh0kQ0RoB3CMcf09',\n",
              " 'result_files': [{'bytes': 15739,\n",
              "   'created_at': 1657549067,\n",
              "   'filename': 'compiled_results.csv',\n",
              "   'id': 'file-2g6pVRur4zFSywxoPuqcqS99',\n",
              "   'object': 'file',\n",
              "   'purpose': 'fine-tune-results',\n",
              "   'status': 'processed',\n",
              "   'status_details': None}],\n",
              " 'status': 'succeeded',\n",
              " 'training_files': [{'bytes': 59792,\n",
              "   'created_at': 1657548825,\n",
              "   'filename': 'sh_train.jsonl',\n",
              "   'id': 'file-Pkgwrn3gouwxi8VtsmHmdeV2',\n",
              "   'object': 'file',\n",
              "   'purpose': 'fine-tune',\n",
              "   'status': 'processed',\n",
              "   'status_details': None}],\n",
              " 'updated_at': 1657549071,\n",
              " 'validation_files': [{'bytes': 8283,\n",
              "   'created_at': 1657548828,\n",
              "   'filename': 'sh_valid.jsonl',\n",
              "   'id': 'file-Ex9W9ttcgAKNvU93MCYhEoEr',\n",
              "   'object': 'file',\n",
              "   'purpose': 'fine-tune',\n",
              "   'status': 'processed',\n",
              "   'status_details': None}]}"
            ]
          },
          "metadata": {},
          "execution_count": 95
        }
      ]
    },
    {
      "cell_type": "code",
      "source": [
        "wandb.config.update({k:artifact_job.metadata[k] for k in ['fine_tuned_model', 'model', 'hyperparams']})"
      ],
      "metadata": {
        "id": "Q6XhNvJ3e0C0"
      },
      "execution_count": 96,
      "outputs": []
    },
    {
      "cell_type": "code",
      "source": [
        "fine_tuned_model = artifact_job.metadata['fine_tuned_model']\n",
        "fine_tuned_model"
      ],
      "metadata": {
        "colab": {
          "base_uri": "https://localhost:8080/",
          "height": 35
        },
        "id": "B3yORlfde3nE",
        "outputId": "38df147d-23fd-4626-d7ed-24b368e91be5"
      },
      "execution_count": 97,
      "outputs": [
        {
          "output_type": "execute_result",
          "data": {
            "text/plain": [
              "'curie:ft-personal:shakespeare-hamlet-v0-2022-07-11-14-17-45'"
            ],
            "application/vnd.google.colaboratory.intrinsic+json": {
              "type": "string"
            }
          },
          "metadata": {},
          "execution_count": 97
        }
      ]
    },
    {
      "cell_type": "code",
      "source": [
        "df = pd.read_json(\"sh_valid.jsonl\", orient='records', lines=True)\n",
        "df.head(5)"
      ],
      "metadata": {
        "colab": {
          "base_uri": "https://localhost:8080/",
          "height": 206
        },
        "id": "nwhKS0wre5g-",
        "outputId": "39c69c0b-752f-494d-facc-ae77197b25b2"
      },
      "execution_count": 98,
      "outputs": [
        {
          "output_type": "execute_result",
          "data": {
            "text/plain": [
              "  prompt                                         completion\n",
              "0          Come, for the third, Laertes: you but dally, ...\n",
              "1          He that plays the king shall be welcome, his ...\n",
              "2                                Do the boys carry it away?\n",
              "3          Angels and ministers of grace defend us! Be t...\n",
              "4          Look here, upon this picture, and on this, Th..."
            ],
            "text/html": [
              "\n",
              "  <div id=\"df-52b4623f-2fcd-4489-a600-e46649ed8e4b\">\n",
              "    <div class=\"colab-df-container\">\n",
              "      <div>\n",
              "<style scoped>\n",
              "    .dataframe tbody tr th:only-of-type {\n",
              "        vertical-align: middle;\n",
              "    }\n",
              "\n",
              "    .dataframe tbody tr th {\n",
              "        vertical-align: top;\n",
              "    }\n",
              "\n",
              "    .dataframe thead th {\n",
              "        text-align: right;\n",
              "    }\n",
              "</style>\n",
              "<table border=\"1\" class=\"dataframe\">\n",
              "  <thead>\n",
              "    <tr style=\"text-align: right;\">\n",
              "      <th></th>\n",
              "      <th>prompt</th>\n",
              "      <th>completion</th>\n",
              "    </tr>\n",
              "  </thead>\n",
              "  <tbody>\n",
              "    <tr>\n",
              "      <th>0</th>\n",
              "      <td></td>\n",
              "      <td>Come, for the third, Laertes: you but dally, ...</td>\n",
              "    </tr>\n",
              "    <tr>\n",
              "      <th>1</th>\n",
              "      <td></td>\n",
              "      <td>He that plays the king shall be welcome, his ...</td>\n",
              "    </tr>\n",
              "    <tr>\n",
              "      <th>2</th>\n",
              "      <td></td>\n",
              "      <td>Do the boys carry it away?</td>\n",
              "    </tr>\n",
              "    <tr>\n",
              "      <th>3</th>\n",
              "      <td></td>\n",
              "      <td>Angels and ministers of grace defend us! Be t...</td>\n",
              "    </tr>\n",
              "    <tr>\n",
              "      <th>4</th>\n",
              "      <td></td>\n",
              "      <td>Look here, upon this picture, and on this, Th...</td>\n",
              "    </tr>\n",
              "  </tbody>\n",
              "</table>\n",
              "</div>\n",
              "      <button class=\"colab-df-convert\" onclick=\"convertToInteractive('df-52b4623f-2fcd-4489-a600-e46649ed8e4b')\"\n",
              "              title=\"Convert this dataframe to an interactive table.\"\n",
              "              style=\"display:none;\">\n",
              "        \n",
              "  <svg xmlns=\"http://www.w3.org/2000/svg\" height=\"24px\"viewBox=\"0 0 24 24\"\n",
              "       width=\"24px\">\n",
              "    <path d=\"M0 0h24v24H0V0z\" fill=\"none\"/>\n",
              "    <path d=\"M18.56 5.44l.94 2.06.94-2.06 2.06-.94-2.06-.94-.94-2.06-.94 2.06-2.06.94zm-11 1L8.5 8.5l.94-2.06 2.06-.94-2.06-.94L8.5 2.5l-.94 2.06-2.06.94zm10 10l.94 2.06.94-2.06 2.06-.94-2.06-.94-.94-2.06-.94 2.06-2.06.94z\"/><path d=\"M17.41 7.96l-1.37-1.37c-.4-.4-.92-.59-1.43-.59-.52 0-1.04.2-1.43.59L10.3 9.45l-7.72 7.72c-.78.78-.78 2.05 0 2.83L4 21.41c.39.39.9.59 1.41.59.51 0 1.02-.2 1.41-.59l7.78-7.78 2.81-2.81c.8-.78.8-2.07 0-2.86zM5.41 20L4 18.59l7.72-7.72 1.47 1.35L5.41 20z\"/>\n",
              "  </svg>\n",
              "      </button>\n",
              "      \n",
              "  <style>\n",
              "    .colab-df-container {\n",
              "      display:flex;\n",
              "      flex-wrap:wrap;\n",
              "      gap: 12px;\n",
              "    }\n",
              "\n",
              "    .colab-df-convert {\n",
              "      background-color: #E8F0FE;\n",
              "      border: none;\n",
              "      border-radius: 50%;\n",
              "      cursor: pointer;\n",
              "      display: none;\n",
              "      fill: #1967D2;\n",
              "      height: 32px;\n",
              "      padding: 0 0 0 0;\n",
              "      width: 32px;\n",
              "    }\n",
              "\n",
              "    .colab-df-convert:hover {\n",
              "      background-color: #E2EBFA;\n",
              "      box-shadow: 0px 1px 2px rgba(60, 64, 67, 0.3), 0px 1px 3px 1px rgba(60, 64, 67, 0.15);\n",
              "      fill: #174EA6;\n",
              "    }\n",
              "\n",
              "    [theme=dark] .colab-df-convert {\n",
              "      background-color: #3B4455;\n",
              "      fill: #D2E3FC;\n",
              "    }\n",
              "\n",
              "    [theme=dark] .colab-df-convert:hover {\n",
              "      background-color: #434B5C;\n",
              "      box-shadow: 0px 1px 3px 1px rgba(0, 0, 0, 0.15);\n",
              "      filter: drop-shadow(0px 1px 2px rgba(0, 0, 0, 0.3));\n",
              "      fill: #FFFFFF;\n",
              "    }\n",
              "  </style>\n",
              "\n",
              "      <script>\n",
              "        const buttonEl =\n",
              "          document.querySelector('#df-52b4623f-2fcd-4489-a600-e46649ed8e4b button.colab-df-convert');\n",
              "        buttonEl.style.display =\n",
              "          google.colab.kernel.accessAllowed ? 'block' : 'none';\n",
              "\n",
              "        async function convertToInteractive(key) {\n",
              "          const element = document.querySelector('#df-52b4623f-2fcd-4489-a600-e46649ed8e4b');\n",
              "          const dataTable =\n",
              "            await google.colab.kernel.invokeFunction('convertToInteractive',\n",
              "                                                     [key], {});\n",
              "          if (!dataTable) return;\n",
              "\n",
              "          const docLinkHtml = 'Like what you see? Visit the ' +\n",
              "            '<a target=\"_blank\" href=https://colab.research.google.com/notebooks/data_table.ipynb>data table notebook</a>'\n",
              "            + ' to learn more about interactive tables.';\n",
              "          element.innerHTML = '';\n",
              "          dataTable['output_type'] = 'display_data';\n",
              "          await google.colab.output.renderOutput(dataTable, element);\n",
              "          const docLink = document.createElement('div');\n",
              "          docLink.innerHTML = docLinkHtml;\n",
              "          element.appendChild(docLink);\n",
              "        }\n",
              "      </script>\n",
              "    </div>\n",
              "  </div>\n",
              "  "
            ]
          },
          "metadata": {},
          "execution_count": 98
        }
      ]
    },
    {
      "cell_type": "code",
      "source": [
        "# inference on 30 validation examples.\n",
        "\n",
        "n_samples = 30\n",
        "df = df.iloc[:n_samples]\n",
        "\n",
        "data = []\n",
        "\n",
        "for _, row in tqdm(df.iterrows()):\n",
        "    prompt = row['prompt']\n",
        "    res = openai.Completion.create(model=fine_tuned_model, prompt=prompt, max_tokens=300, stop=[\" END\"])\n",
        "    completion = res['choices'][0]['text']\n",
        "    completion = completion[1:]       # remove initial space\n",
        "    prompt = prompt[:-3]              # remove \" ->\"\n",
        "    target = row['completion'][1:-4]  # remove initial space and \"END\"\n",
        "    data.append([prompt, target, completion])\n",
        "\n",
        "prediction_table = wandb.Table(columns=['prompt', 'target', 'completion'], data=data)\n",
        "wandb.log({'predictions': prediction_table})"
      ],
      "metadata": {
        "colab": {
          "base_uri": "https://localhost:8080/",
          "height": 398
        },
        "id": "RKqAga7-e_J5",
        "outputId": "f2976ad0-eaeb-4e05-ed41-31333f18bd16"
      },
      "execution_count": 100,
      "outputs": [
        {
          "output_type": "stream",
          "name": "stderr",
          "text": [
            "18it [01:25,  4.77s/it]\n"
          ]
        },
        {
          "output_type": "error",
          "ename": "RateLimitError",
          "evalue": "ignored",
          "traceback": [
            "\u001b[0;31m---------------------------------------------------------------------------\u001b[0m",
            "\u001b[0;31mRateLimitError\u001b[0m                            Traceback (most recent call last)",
            "\u001b[0;32m<ipython-input-100-c980b3bd9413>\u001b[0m in \u001b[0;36m<module>\u001b[0;34m()\u001b[0m\n\u001b[1;32m      8\u001b[0m \u001b[0;32mfor\u001b[0m \u001b[0m_\u001b[0m\u001b[0;34m,\u001b[0m \u001b[0mrow\u001b[0m \u001b[0;32min\u001b[0m \u001b[0mtqdm\u001b[0m\u001b[0;34m(\u001b[0m\u001b[0mdf\u001b[0m\u001b[0;34m.\u001b[0m\u001b[0miterrows\u001b[0m\u001b[0;34m(\u001b[0m\u001b[0;34m)\u001b[0m\u001b[0;34m)\u001b[0m\u001b[0;34m:\u001b[0m\u001b[0;34m\u001b[0m\u001b[0;34m\u001b[0m\u001b[0m\n\u001b[1;32m      9\u001b[0m     \u001b[0mprompt\u001b[0m \u001b[0;34m=\u001b[0m \u001b[0mrow\u001b[0m\u001b[0;34m[\u001b[0m\u001b[0;34m'prompt'\u001b[0m\u001b[0;34m]\u001b[0m\u001b[0;34m\u001b[0m\u001b[0;34m\u001b[0m\u001b[0m\n\u001b[0;32m---> 10\u001b[0;31m     \u001b[0mres\u001b[0m \u001b[0;34m=\u001b[0m \u001b[0mopenai\u001b[0m\u001b[0;34m.\u001b[0m\u001b[0mCompletion\u001b[0m\u001b[0;34m.\u001b[0m\u001b[0mcreate\u001b[0m\u001b[0;34m(\u001b[0m\u001b[0mmodel\u001b[0m\u001b[0;34m=\u001b[0m\u001b[0mfine_tuned_model\u001b[0m\u001b[0;34m,\u001b[0m \u001b[0mprompt\u001b[0m\u001b[0;34m=\u001b[0m\u001b[0mprompt\u001b[0m\u001b[0;34m,\u001b[0m \u001b[0mmax_tokens\u001b[0m\u001b[0;34m=\u001b[0m\u001b[0;36m300\u001b[0m\u001b[0;34m,\u001b[0m \u001b[0mstop\u001b[0m\u001b[0;34m=\u001b[0m\u001b[0;34m[\u001b[0m\u001b[0;34m\" END\"\u001b[0m\u001b[0;34m]\u001b[0m\u001b[0;34m)\u001b[0m\u001b[0;34m\u001b[0m\u001b[0;34m\u001b[0m\u001b[0m\n\u001b[0m\u001b[1;32m     11\u001b[0m     \u001b[0mcompletion\u001b[0m \u001b[0;34m=\u001b[0m \u001b[0mres\u001b[0m\u001b[0;34m[\u001b[0m\u001b[0;34m'choices'\u001b[0m\u001b[0;34m]\u001b[0m\u001b[0;34m[\u001b[0m\u001b[0;36m0\u001b[0m\u001b[0;34m]\u001b[0m\u001b[0;34m[\u001b[0m\u001b[0;34m'text'\u001b[0m\u001b[0;34m]\u001b[0m\u001b[0;34m\u001b[0m\u001b[0;34m\u001b[0m\u001b[0m\n\u001b[1;32m     12\u001b[0m     \u001b[0mcompletion\u001b[0m \u001b[0;34m=\u001b[0m \u001b[0mcompletion\u001b[0m\u001b[0;34m[\u001b[0m\u001b[0;36m1\u001b[0m\u001b[0;34m:\u001b[0m\u001b[0;34m]\u001b[0m       \u001b[0;31m# remove initial space\u001b[0m\u001b[0;34m\u001b[0m\u001b[0;34m\u001b[0m\u001b[0m\n",
            "\u001b[0;32m/usr/local/lib/python3.7/dist-packages/openai/api_resources/completion.py\u001b[0m in \u001b[0;36mcreate\u001b[0;34m(cls, *args, **kwargs)\u001b[0m\n\u001b[1;32m     29\u001b[0m         \u001b[0;32mwhile\u001b[0m \u001b[0;32mTrue\u001b[0m\u001b[0;34m:\u001b[0m\u001b[0;34m\u001b[0m\u001b[0;34m\u001b[0m\u001b[0m\n\u001b[1;32m     30\u001b[0m             \u001b[0;32mtry\u001b[0m\u001b[0;34m:\u001b[0m\u001b[0;34m\u001b[0m\u001b[0;34m\u001b[0m\u001b[0m\n\u001b[0;32m---> 31\u001b[0;31m                 \u001b[0;32mreturn\u001b[0m \u001b[0msuper\u001b[0m\u001b[0;34m(\u001b[0m\u001b[0;34m)\u001b[0m\u001b[0;34m.\u001b[0m\u001b[0mcreate\u001b[0m\u001b[0;34m(\u001b[0m\u001b[0;34m*\u001b[0m\u001b[0margs\u001b[0m\u001b[0;34m,\u001b[0m \u001b[0;34m**\u001b[0m\u001b[0mkwargs\u001b[0m\u001b[0;34m)\u001b[0m\u001b[0;34m\u001b[0m\u001b[0;34m\u001b[0m\u001b[0m\n\u001b[0m\u001b[1;32m     32\u001b[0m             \u001b[0;32mexcept\u001b[0m \u001b[0mTryAgain\u001b[0m \u001b[0;32mas\u001b[0m \u001b[0me\u001b[0m\u001b[0;34m:\u001b[0m\u001b[0;34m\u001b[0m\u001b[0;34m\u001b[0m\u001b[0m\n\u001b[1;32m     33\u001b[0m                 \u001b[0;32mif\u001b[0m \u001b[0mtimeout\u001b[0m \u001b[0;32mis\u001b[0m \u001b[0;32mnot\u001b[0m \u001b[0;32mNone\u001b[0m \u001b[0;32mand\u001b[0m \u001b[0mtime\u001b[0m\u001b[0;34m.\u001b[0m\u001b[0mtime\u001b[0m\u001b[0;34m(\u001b[0m\u001b[0;34m)\u001b[0m \u001b[0;34m>\u001b[0m \u001b[0mstart\u001b[0m \u001b[0;34m+\u001b[0m \u001b[0mtimeout\u001b[0m\u001b[0;34m:\u001b[0m\u001b[0;34m\u001b[0m\u001b[0;34m\u001b[0m\u001b[0m\n",
            "\u001b[0;32m/usr/local/lib/python3.7/dist-packages/openai/api_resources/abstract/engine_api_resource.py\u001b[0m in \u001b[0;36mcreate\u001b[0;34m(cls, api_key, api_base, api_type, request_id, api_version, organization, **params)\u001b[0m\n\u001b[1;32m    104\u001b[0m             \u001b[0mheaders\u001b[0m\u001b[0;34m=\u001b[0m\u001b[0mheaders\u001b[0m\u001b[0;34m,\u001b[0m\u001b[0;34m\u001b[0m\u001b[0;34m\u001b[0m\u001b[0m\n\u001b[1;32m    105\u001b[0m             \u001b[0mstream\u001b[0m\u001b[0;34m=\u001b[0m\u001b[0mstream\u001b[0m\u001b[0;34m,\u001b[0m\u001b[0;34m\u001b[0m\u001b[0;34m\u001b[0m\u001b[0m\n\u001b[0;32m--> 106\u001b[0;31m             \u001b[0mrequest_id\u001b[0m\u001b[0;34m=\u001b[0m\u001b[0mrequest_id\u001b[0m\u001b[0;34m,\u001b[0m\u001b[0;34m\u001b[0m\u001b[0;34m\u001b[0m\u001b[0m\n\u001b[0m\u001b[1;32m    107\u001b[0m         )\n\u001b[1;32m    108\u001b[0m \u001b[0;34m\u001b[0m\u001b[0m\n",
            "\u001b[0;32m/usr/local/lib/python3.7/dist-packages/openai/api_requestor.py\u001b[0m in \u001b[0;36mrequest\u001b[0;34m(self, method, url, params, headers, files, stream, request_id)\u001b[0m\n\u001b[1;32m    120\u001b[0m             \u001b[0mrequest_id\u001b[0m\u001b[0;34m=\u001b[0m\u001b[0mrequest_id\u001b[0m\u001b[0;34m,\u001b[0m\u001b[0;34m\u001b[0m\u001b[0;34m\u001b[0m\u001b[0m\n\u001b[1;32m    121\u001b[0m         )\n\u001b[0;32m--> 122\u001b[0;31m         \u001b[0mresp\u001b[0m\u001b[0;34m,\u001b[0m \u001b[0mgot_stream\u001b[0m \u001b[0;34m=\u001b[0m \u001b[0mself\u001b[0m\u001b[0;34m.\u001b[0m\u001b[0m_interpret_response\u001b[0m\u001b[0;34m(\u001b[0m\u001b[0mresult\u001b[0m\u001b[0;34m,\u001b[0m \u001b[0mstream\u001b[0m\u001b[0;34m)\u001b[0m\u001b[0;34m\u001b[0m\u001b[0;34m\u001b[0m\u001b[0m\n\u001b[0m\u001b[1;32m    123\u001b[0m         \u001b[0;32mreturn\u001b[0m \u001b[0mresp\u001b[0m\u001b[0;34m,\u001b[0m \u001b[0mgot_stream\u001b[0m\u001b[0;34m,\u001b[0m \u001b[0mself\u001b[0m\u001b[0;34m.\u001b[0m\u001b[0mapi_key\u001b[0m\u001b[0;34m\u001b[0m\u001b[0;34m\u001b[0m\u001b[0m\n\u001b[1;32m    124\u001b[0m \u001b[0;34m\u001b[0m\u001b[0m\n",
            "\u001b[0;32m/usr/local/lib/python3.7/dist-packages/openai/api_requestor.py\u001b[0m in \u001b[0;36m_interpret_response\u001b[0;34m(self, result, stream)\u001b[0m\n\u001b[1;32m    328\u001b[0m             return (\n\u001b[1;32m    329\u001b[0m                 self._interpret_response_line(\n\u001b[0;32m--> 330\u001b[0;31m                     \u001b[0mresult\u001b[0m\u001b[0;34m.\u001b[0m\u001b[0mcontent\u001b[0m\u001b[0;34m,\u001b[0m \u001b[0mresult\u001b[0m\u001b[0;34m.\u001b[0m\u001b[0mstatus_code\u001b[0m\u001b[0;34m,\u001b[0m \u001b[0mresult\u001b[0m\u001b[0;34m.\u001b[0m\u001b[0mheaders\u001b[0m\u001b[0;34m,\u001b[0m \u001b[0mstream\u001b[0m\u001b[0;34m=\u001b[0m\u001b[0;32mFalse\u001b[0m\u001b[0;34m\u001b[0m\u001b[0;34m\u001b[0m\u001b[0m\n\u001b[0m\u001b[1;32m    331\u001b[0m                 ),\n\u001b[1;32m    332\u001b[0m                 \u001b[0;32mFalse\u001b[0m\u001b[0;34m,\u001b[0m\u001b[0;34m\u001b[0m\u001b[0;34m\u001b[0m\u001b[0m\n",
            "\u001b[0;32m/usr/local/lib/python3.7/dist-packages/openai/api_requestor.py\u001b[0m in \u001b[0;36m_interpret_response_line\u001b[0;34m(self, rbody, rcode, rheaders, stream)\u001b[0m\n\u001b[1;32m    361\u001b[0m         \u001b[0;32mif\u001b[0m \u001b[0mstream_error\u001b[0m \u001b[0;32mor\u001b[0m \u001b[0;32mnot\u001b[0m \u001b[0;36m200\u001b[0m \u001b[0;34m<=\u001b[0m \u001b[0mrcode\u001b[0m \u001b[0;34m<\u001b[0m \u001b[0;36m300\u001b[0m\u001b[0;34m:\u001b[0m\u001b[0;34m\u001b[0m\u001b[0;34m\u001b[0m\u001b[0m\n\u001b[1;32m    362\u001b[0m             raise self.handle_error_response(\n\u001b[0;32m--> 363\u001b[0;31m                 \u001b[0mrbody\u001b[0m\u001b[0;34m,\u001b[0m \u001b[0mrcode\u001b[0m\u001b[0;34m,\u001b[0m \u001b[0mresp\u001b[0m\u001b[0;34m.\u001b[0m\u001b[0mdata\u001b[0m\u001b[0;34m,\u001b[0m \u001b[0mrheaders\u001b[0m\u001b[0;34m,\u001b[0m \u001b[0mstream_error\u001b[0m\u001b[0;34m=\u001b[0m\u001b[0mstream_error\u001b[0m\u001b[0;34m\u001b[0m\u001b[0;34m\u001b[0m\u001b[0m\n\u001b[0m\u001b[1;32m    364\u001b[0m             )\n\u001b[1;32m    365\u001b[0m         \u001b[0;32mreturn\u001b[0m \u001b[0mresp\u001b[0m\u001b[0;34m\u001b[0m\u001b[0;34m\u001b[0m\u001b[0m\n",
            "\u001b[0;31mRateLimitError\u001b[0m: That model is still being loaded. Please try again shortly."
          ]
        }
      ]
    },
    {
      "cell_type": "code",
      "source": [
        "wandb.finish() "
      ],
      "metadata": {
        "colab": {
          "base_uri": "https://localhost:8080/",
          "height": 86,
          "referenced_widgets": [
            "59a88f95485546dfb0ccd194153cc3e9",
            "2b86223a5aa744888d32e17a3a45f551",
            "2300b6758ec04bf6975bed49ef1a77fe",
            "6d14732ba7464cc3add29fcf69529dea",
            "1c66f38c9d554183beb040fd00176be6",
            "240bb0624fad4f38b0a82c37d2fc9702",
            "a35b341297e84fa18fa579aa2fd5e8ce",
            "dad8114ec68248b4bc07192f84677266"
          ]
        },
        "id": "xnMAjKb2f50z",
        "outputId": "7d1f6a4a-a7c6-45a4-d238-761227c6f62f"
      },
      "execution_count": 101,
      "outputs": [
        {
          "output_type": "display_data",
          "data": {
            "text/plain": [
              "<IPython.core.display.HTML object>"
            ],
            "text/html": [
              "Waiting for W&B process to finish... <strong style=\"color:green\">(success).</strong>"
            ]
          },
          "metadata": {}
        },
        {
          "output_type": "display_data",
          "data": {
            "text/plain": [
              "VBox(children=(Label(value='0.001 MB of 0.001 MB uploaded (0.000 MB deduped)\\r'), FloatProgress(value=1.0, max…"
            ],
            "application/vnd.jupyter.widget-view+json": {
              "version_major": 2,
              "version_minor": 0,
              "model_id": "59a88f95485546dfb0ccd194153cc3e9"
            }
          },
          "metadata": {}
        },
        {
          "output_type": "display_data",
          "data": {
            "text/plain": [
              "<IPython.core.display.HTML object>"
            ],
            "text/html": [
              "Synced <strong style=\"color:#cdcd00\">robust-morning-10</strong>: <a href=\"https://wandb.ai/melzheng/GPT%203%20for%20Generating%20Texts%20in%20Shakespeare%20tone%20%28hamlet%29/runs/366inexr\" target=\"_blank\">https://wandb.ai/melzheng/GPT%203%20for%20Generating%20Texts%20in%20Shakespeare%20tone%20%28hamlet%29/runs/366inexr</a><br/>Synced 5 W&B file(s), 0 media file(s), 0 artifact file(s) and 0 other file(s)"
            ]
          },
          "metadata": {}
        },
        {
          "output_type": "display_data",
          "data": {
            "text/plain": [
              "<IPython.core.display.HTML object>"
            ],
            "text/html": [
              "Find logs at: <code>./wandb/run-20220711_142906-366inexr/logs</code>"
            ]
          },
          "metadata": {}
        }
      ]
    },
    {
      "cell_type": "markdown",
      "source": [
        "## Example Text Generation using fine-tuned model"
      ],
      "metadata": {
        "id": "KX4zchqLnhEJ"
      }
    },
    {
      "cell_type": "markdown",
      "source": [
        "option 1"
      ],
      "metadata": {
        "id": "1omBxCHjE6V7"
      }
    },
    {
      "cell_type": "code",
      "source": [
        "!openai api completions.create -m curie:ft-personal:shakespeare-hamlet-v0-2022-07-11-14-17-45 -p 'the king would say the climate change is' -t 0.3 -M 32"
      ],
      "metadata": {
        "id": "ouM4KQ2gtESx",
        "colab": {
          "base_uri": "https://localhost:8080/"
        },
        "outputId": "1b80b33c-18ee-4b4f-afb2-38257417aff1"
      },
      "execution_count": 114,
      "outputs": [
        {
          "output_type": "stream",
          "name": "stdout",
          "text": [
            "the king would say the climate change is in his bones, and so it is: for, look you, these southern lands, that you call the Indies, have something in 'em that will change"
          ]
        }
      ]
    },
    {
      "cell_type": "code",
      "source": [
        "openai.api_key = os.getenv(\"OPENAI_API_KEY\")"
      ],
      "metadata": {
        "id": "Ox9KHO6BrBFH"
      },
      "execution_count": 113,
      "outputs": []
    },
    {
      "cell_type": "code",
      "source": [
        "model_name = 'curie:ft-personal:shakespeare-hamlet-v0-2022-07-11-14-17-45'"
      ],
      "metadata": {
        "id": "rxYI_wBQwraU"
      },
      "execution_count": 117,
      "outputs": []
    },
    {
      "cell_type": "markdown",
      "source": [
        "option 2"
      ],
      "metadata": {
        "id": "5XZYuYepE-k3"
      }
    },
    {
      "cell_type": "code",
      "source": [
        "response = openai.Completion.create(model=model_name, prompt=\"the king might say the climate change is\", \n",
        "                                    temperature=0.3, \n",
        "                                    max_tokens=64, \n",
        "                                    n=3,\n",
        "                                    frequency_penalty=0.4, \n",
        "                                    presence_penalty=0, \n",
        "                                    logprobs=3)\n"
      ],
      "metadata": {
        "id": "T9imanlfwwTr"
      },
      "execution_count": 123,
      "outputs": []
    },
    {
      "cell_type": "markdown",
      "source": [
        "## Open AI completion api parameters\n",
        "Reference: https://beta.openai.com/docs/api-reference/models\n",
        "\n",
        "__model*__\n",
        "\n",
        "\n",
        "ID of the model to use. You can use the List models API to see all of your available models, or see our Model overview for descriptions of them.\n",
        "\n",
        "__prompt__\n",
        "\n",
        "Defaults to <|endoftext|>\n",
        "The prompt(s) to generate completions for, encoded as a string, array of strings, array of tokens, or array of token arrays.\n",
        "\n",
        "Note that <|endoftext|> is the document separator that the model sees during training, so if a prompt is not specified the model will generate as if from the beginning of a new document.\n",
        "\n",
        "__suffix__\n",
        "\n",
        "Defaults to null\n",
        "The suffix that comes after a completion of inserted text.\n",
        "\n",
        "__max_tokens__\n",
        "\n",
        "Defaults to 16\n",
        "The maximum number of tokens to generate in the completion.\n",
        "\n",
        "The token count of your prompt plus max_tokens cannot exceed the model's context length. Most models have a context length of 2048 tokens (except for the newest models, which support 4096).\n",
        "\n",
        "__temperature__\n",
        "\n",
        "Defaults to 1\n",
        "What sampling temperature to use. Higher values means the model will take more risks. Try 0.9 for more creative applications, and 0 (argmax sampling) for ones with a well-defined answer.\n",
        "\n",
        "We generally recommend altering this or top_p but not both.\n",
        "\n",
        "__top_p__\n",
        "\n",
        "Defaults to 1\n",
        "An alternative to sampling with temperature, called nucleus sampling, where the model considers the results of the tokens with top_p probability mass. So 0.1 means only the tokens comprising the top 10% probability mass are considered.\n",
        "\n",
        "We generally recommend altering this or temperature but not both.\n",
        "\n",
        "__n__\n",
        "\n",
        "Defaults to 1\n",
        "How many completions to generate for each prompt.\n",
        "\n",
        "Note: Because this parameter generates many completions, it can quickly consume your token quota. Use carefully and ensure that you have reasonable settings for max_tokens and stop.\n",
        "\n",
        "__stream__\n",
        "\n",
        "Defaults to false\n",
        "Whether to stream back partial progress. If set, tokens will be sent as data-only server-sent events as they become available, with the stream terminated by a data: [DONE] message.\n",
        "\n",
        "__logprobs__\n",
        "\n",
        "Defaults to null\n",
        "Include the log probabilities on the logprobs most likely tokens, as well the chosen tokens. For example, if logprobs is 5, the API will return a list of the 5 most likely tokens. The API will always return the logprob of the sampled token, so there may be up to logprobs+1 elements in the response.\n",
        "\n",
        "The maximum value for logprobs is 5. If you need more than this, please contact support@openai.com and describe your use case.\n",
        "\n",
        "__echo__\n",
        "\n",
        "Defaults to false\n",
        "Echo back the prompt in addition to the completion\n",
        "\n",
        "__stop__\n",
        "*string or array*\n",
        "\n",
        "Defaults to null\n",
        "Up to 4 sequences where the API will stop generating further tokens. The returned text will not contain the stop sequence.\n",
        "\n",
        "__presence_penalty__\n",
        "\n",
        "Defaults to 0\n",
        "Number between -2.0 and 2.0. Positive values penalize new tokens based on whether they appear in the text so far, increasing the model's likelihood to talk about new topics.\n",
        "\n",
        "See more information about frequency and presence penalties.\n",
        "\n",
        "__frequency_penalty__\n",
        "\n",
        "Defaults to 0\n",
        "Number between -2.0 and 2.0. Positive values penalize new tokens based on their existing frequency in the text so far, decreasing the model's likelihood to repeat the same line verbatim.\n",
        "\n",
        "See more information about frequency and presence penalties.\n",
        "\n",
        "__best_of__\n",
        "\n",
        "Defaults to 1\n",
        "Generates best_of completions server-side and returns the \"best\" (the one with the highest log probability per token). Results cannot be streamed.\n",
        "\n",
        "When used with n, best_of controls the number of candidate completions and n specifies how many to return – best_of must be greater than n.\n",
        "\n",
        "Note: Because this parameter generates many completions, it can quickly consume your token quota. Use carefully and ensure that you have reasonable settings for max_tokens and stop.\n",
        "\n",
        "__logit_bias__\n",
        "\n",
        "Defaults to null\n",
        "Modify the likelihood of specified tokens appearing in the completion.\n",
        "\n",
        "Accepts a json object that maps tokens (specified by their token ID in the GPT tokenizer) to an associated bias value from -100 to 100. You can use this tokenizer tool (which works for both GPT-2 and GPT-3) to convert text to token IDs. Mathematically, the bias is added to the logits generated by the model prior to sampling. The exact effect will vary per model, but values between -1 and 1 should decrease or increase likelihood of selection; values like -100 or 100 should result in a ban or exclusive selection of the relevant token.\n",
        "\n",
        "As an example, you can pass {\"50256\": -100} to prevent the <|endoftext|> token from being generated."
      ],
      "metadata": {
        "id": "PS32s3OkGOuJ"
      }
    },
    {
      "cell_type": "code",
      "source": [
        "response"
      ],
      "metadata": {
        "colab": {
          "base_uri": "https://localhost:8080/"
        },
        "id": "CfIgvYRbEwj0",
        "outputId": "5bf8c869-23bd-41ad-dca7-c737ddf52e3b"
      },
      "execution_count": 124,
      "outputs": [
        {
          "output_type": "execute_result",
          "data": {
            "text/plain": [
              "<OpenAIObject text_completion id=cmpl-5SqYiKnBIahWWZQZKIvwkpFDNmUta at 0x7f9c1da0cdd0> JSON: {\n",
              "  \"choices\": [\n",
              "    {\n",
              "      \"finish_reason\": \"length\",\n",
              "      \"index\": 0,\n",
              "      \"logprobs\": {\n",
              "        \"text_offset\": [\n",
              "          40,\n",
              "          43,\n",
              "          47,\n",
              "          53,\n",
              "          54,\n",
              "          58,\n",
              "          61,\n",
              "          64,\n",
              "          67,\n",
              "          68,\n",
              "          72,\n",
              "          73,\n",
              "          77,\n",
              "          78,\n",
              "          82,\n",
              "          85,\n",
              "          89,\n",
              "          100,\n",
              "          103,\n",
              "          104,\n",
              "          106,\n",
              "          109,\n",
              "          113,\n",
              "          116,\n",
              "          119,\n",
              "          126,\n",
              "          129,\n",
              "          133,\n",
              "          137,\n",
              "          142,\n",
              "          145,\n",
              "          149,\n",
              "          154,\n",
              "          159,\n",
              "          163,\n",
              "          169,\n",
              "          172,\n",
              "          179,\n",
              "          184,\n",
              "          188,\n",
              "          193,\n",
              "          196,\n",
              "          200,\n",
              "          202,\n",
              "          205,\n",
              "          206,\n",
              "          209,\n",
              "          212,\n",
              "          217,\n",
              "          218,\n",
              "          222,\n",
              "          226,\n",
              "          231,\n",
              "          235,\n",
              "          236,\n",
              "          238,\n",
              "          241,\n",
              "          247,\n",
              "          248,\n",
              "          251,\n",
              "          256,\n",
              "          259,\n",
              "          265,\n",
              "          266\n",
              "        ],\n",
              "        \"token_logprobs\": [\n",
              "          -0.16104189,\n",
              "          -0.20775671,\n",
              "          -1.5653986,\n",
              "          -0.05403663,\n",
              "          -1.7828379,\n",
              "          -1.6081696,\n",
              "          -1.533847,\n",
              "          -0.006988731,\n",
              "          -1.0500307,\n",
              "          -0.81581974,\n",
              "          -1.0011775,\n",
              "          -1.2901096,\n",
              "          -0.84615445,\n",
              "          -0.80899966,\n",
              "          -0.72810256,\n",
              "          -0.60988826,\n",
              "          -1.5235521,\n",
              "          -0.57410973,\n",
              "          -0.6356598,\n",
              "          -0.42503583,\n",
              "          -1.7429504,\n",
              "          -1.0842657,\n",
              "          -2.7379627,\n",
              "          -0.08027583,\n",
              "          -1.5335299,\n",
              "          -0.010326852,\n",
              "          -2.482501,\n",
              "          -0.5007083,\n",
              "          -1.664338,\n",
              "          -0.90441674,\n",
              "          -0.36876366,\n",
              "          -0.41441673,\n",
              "          -1.4046891,\n",
              "          -1.3169086,\n",
              "          -2.412408,\n",
              "          -0.5057967,\n",
              "          -0.598547,\n",
              "          -0.7371204,\n",
              "          -0.8187758,\n",
              "          -4.0973616,\n",
              "          -0.0026821285,\n",
              "          -0.015460382,\n",
              "          -0.57397443,\n",
              "          -0.17513385,\n",
              "          -0.32283205,\n",
              "          -1.6842806,\n",
              "          -0.29721466,\n",
              "          -0.19867615,\n",
              "          -1.0994189,\n",
              "          -1.6222523,\n",
              "          -0.84661794,\n",
              "          -1.5771221,\n",
              "          -1.1705002,\n",
              "          -0.6274911,\n",
              "          -1.2102891,\n",
              "          -0.5820934,\n",
              "          -1.6439891,\n",
              "          -0.43389463,\n",
              "          -1.4385668,\n",
              "          -0.95464,\n",
              "          -0.98541975,\n",
              "          -2.701419,\n",
              "          -0.06982852,\n",
              "          -1.6499506\n",
              "        ],\n",
              "        \"tokens\": [\n",
              "          \" in\",\n",
              "          \" his\",\n",
              "          \" bones\",\n",
              "          \",\",\n",
              "          \" and\",\n",
              "          \" so\",\n",
              "          \" it\",\n",
              "          \" is\",\n",
              "          \".\",\n",
              "          \" But\",\n",
              "          \",\",\n",
              "          \" sir\",\n",
              "          \",\",\n",
              "          \" you\",\n",
              "          \" do\",\n",
              "          \" not\",\n",
              "          \" understand\",\n",
              "          \" me\",\n",
              "          \":\",\n",
              "          \" I\",\n",
              "          \" am\",\n",
              "          \" not\",\n",
              "          \" of\",\n",
              "          \" an\",\n",
              "          \" humour\",\n",
              "          \" to\",\n",
              "          \" put\",\n",
              "          \" the\",\n",
              "          \" case\",\n",
              "          \" of\",\n",
              "          \" the\",\n",
              "          \" king\",\n",
              "          \" upon\",\n",
              "          \" the\",\n",
              "          \" trial\",\n",
              "          \" of\",\n",
              "          \" battle\",\n",
              "          \" with\",\n",
              "          \" the\",\n",
              "          \" case\",\n",
              "          \" of\",\n",
              "          \" the\",\n",
              "          \" d\",\n",
              "          \"uke\",\n",
              "          \":\",\n",
              "          \" if\",\n",
              "          \" it\",\n",
              "          \" were\",\n",
              "          \",\",\n",
              "          \" let\",\n",
              "          \" him\",\n",
              "          \" come\",\n",
              "          \" out\",\n",
              "          \":\",\n",
              "          \" I\",\n",
              "          \"'ll\",\n",
              "          \" fight\",\n",
              "          \",\",\n",
              "          \" or\",\n",
              "          \" else\",\n",
              "          \" be\",\n",
              "          \" quiet\",\n",
              "          \".\",\n",
              "          \" But\"\n",
              "        ],\n",
              "        \"top_logprobs\": [\n",
              "          {\n",
              "            \" come\": -4.185292,\n",
              "            \" in\": -0.16104189,\n",
              "            \" put\": -4.1174226\n",
              "          },\n",
              "          {\n",
              "            \" his\": -0.20775671,\n",
              "            \" my\": -1.7247722,\n",
              "            \" your\": -5.875567\n",
              "          },\n",
              "          {\n",
              "            \" bones\": -1.5653986,\n",
              "            \" brain\": -1.8255188,\n",
              "            \" head\": -1.3862127\n",
              "          },\n",
              "          {\n",
              "            \",\": -0.05403663,\n",
              "            \".\": -3.5174305,\n",
              "            \":\": -5.009898\n",
              "          },\n",
              "          {\n",
              "            \" Or\": -2.3144693,\n",
              "            \" and\": -1.7828379,\n",
              "            \" or\": -2.3560293\n",
              "          },\n",
              "          {\n",
              "            \" for\": -1.8950814,\n",
              "            \" from\": -2.0536823,\n",
              "            \" so\": -1.6081696\n",
              "          },\n",
              "          {\n",
              "            \" indeed\": -2.131408,\n",
              "            \" it\": -1.533847,\n",
              "            \" might\": -1.5489848\n",
              "          },\n",
              "          {\n",
              "            \" follows\": -6.575216,\n",
              "            \" is\": -0.006988731,\n",
              "            \" would\": -6.9229946\n",
              "          },\n",
              "          {\n",
              "            \",\": -1.2705907,\n",
              "            \".\": -1.0500307,\n",
              "            \":\": -1.147542\n",
              "          },\n",
              "          {\n",
              "            \" But\": -0.81581974,\n",
              "            \" For\": -2.7090578,\n",
              "            \" I\": -3.1030412\n",
              "          },\n",
              "          {\n",
              "            \" come\": -0.9722078,\n",
              "            \" to\": -3.3827398,\n",
              "            \",\": -1.0011775\n",
              "          },\n",
              "          {\n",
              "            \" good\": -1.8356056,\n",
              "            \" look\": -2.1783009,\n",
              "            \" sir\": -1.2901096\n",
              "          },\n",
              "          {\n",
              "            \",\": -0.84615445,\n",
              "            \"rah\": -0.6943962,\n",
              "            \"s\": -3.183303\n",
              "          },\n",
              "          {\n",
              "            \" in\": -2.535643,\n",
              "            \" you\": -0.80899966,\n",
              "            \" your\": -2.8915915\n",
              "          },\n",
              "          {\n",
              "            \" are\": -2.973171,\n",
              "            \" do\": -0.72810256,\n",
              "            \" look\": -1.5706614\n",
              "          },\n",
              "          {\n",
              "            \" me\": -3.2880096,\n",
              "            \" not\": -0.60988826,\n",
              "            \" well\": -2.1740963\n",
              "          },\n",
              "          {\n",
              "            \" know\": -1.6616528,\n",
              "            \" look\": -1.5007355,\n",
              "            \" understand\": -1.5235521\n",
              "          },\n",
              "          {\n",
              "            \" me\": -0.57410973,\n",
              "            \"'s\": -3.2883897,\n",
              "            \"'t\": -1.6082569\n",
              "          },\n",
              "          {\n",
              "            \" now\": -3.654675,\n",
              "            \".\": -0.9033181,\n",
              "            \":\": -0.6356598\n",
              "          },\n",
              "          {\n",
              "            \" I\": -0.42503583,\n",
              "            \" let\": -3.2166455,\n",
              "            \" you\": -2.5993578\n",
              "          },\n",
              "          {\n",
              "            \" am\": -1.7429504,\n",
              "            \" did\": -2.10361,\n",
              "            \" loved\": -1.8329841\n",
              "          },\n",
              "          {\n",
              "            \" but\": -2.007287,\n",
              "            \" no\": -1.6795578,\n",
              "            \" not\": -1.0842657\n",
              "          },\n",
              "          {\n",
              "            \" mad\": -2.278244,\n",
              "            \" of\": -2.7379627,\n",
              "            \" well\": -2.5411043\n",
              "          },\n",
              "          {\n",
              "            \" a\": -3.0661244,\n",
              "            \" an\": -0.08027583,\n",
              "            \" the\": -4.217107\n",
              "          },\n",
              "          {\n",
              "            \" age\": -2.0699966,\n",
              "            \" disposition\": -3.8879611,\n",
              "            \" humour\": -1.5335299\n",
              "          },\n",
              "          {\n",
              "            \" for\": -7.748455,\n",
              "            \" that\": -4.9826255,\n",
              "            \" to\": -0.010326852\n",
              "          },\n",
              "          {\n",
              "            \" put\": -2.482501,\n",
              "            \" sc\": -3.368452,\n",
              "            \" tell\": -3.0803518\n",
              "          },\n",
              "          {\n",
              "            \" any\": -3.4474978,\n",
              "            \" my\": -3.2809901,\n",
              "            \" the\": -0.5007083\n",
              "          },\n",
              "          {\n",
              "            \" case\": -1.664338,\n",
              "            \" government\": -2.561857,\n",
              "            \" world\": -3.0038726\n",
              "          },\n",
              "          {\n",
              "            \" between\": -2.0861022,\n",
              "            \" of\": -0.90441674,\n",
              "            \" so\": -2.260797\n",
              "          },\n",
              "          {\n",
              "            \" a\": -2.5664318,\n",
              "            \" my\": -2.2820983,\n",
              "            \" the\": -0.36876366\n",
              "          },\n",
              "          {\n",
              "            \" death\": -4.579743,\n",
              "            \" honest\": -4.5490394,\n",
              "            \" king\": -0.41441673\n",
              "          },\n",
              "          {\n",
              "            \" to\": -1.3774835,\n",
              "            \" upon\": -1.4046891,\n",
              "            \",\": -2.4383252\n",
              "          },\n",
              "          {\n",
              "            \" him\": -3.1144054,\n",
              "            \" mine\": -1.9147117,\n",
              "            \" the\": -1.3169086\n",
              "          },\n",
              "          {\n",
              "            \" question\": -2.54091,\n",
              "            \" stage\": -2.2032247,\n",
              "            \" trial\": -2.412408\n",
              "          },\n",
              "          {\n",
              "            \" of\": -0.5057967,\n",
              "            \".\": -1.6586038,\n",
              "            \":\": -1.8977454\n",
              "          },\n",
              "          {\n",
              "            \" answer\": -2.2503717,\n",
              "            \" battle\": -0.598547,\n",
              "            \" such\": -3.8127108\n",
              "          },\n",
              "          {\n",
              "            \" with\": -0.7371204,\n",
              "            \".\": -3.2842338,\n",
              "            \":\": -0.79152375\n",
              "          },\n",
              "          {\n",
              "            \" him\": -2.3763587,\n",
              "            \" mine\": -2.0985944,\n",
              "            \" the\": -0.8187758\n",
              "          },\n",
              "          {\n",
              "            \" best\": -3.2947483,\n",
              "            \" climate\": -2.8096151,\n",
              "            \" king\": -2.8436296\n",
              "          },\n",
              "          {\n",
              "            \" against\": -7.20991,\n",
              "            \" for\": -7.11588,\n",
              "            \" of\": -0.0026821285\n",
              "          },\n",
              "          {\n",
              "            \" a\": -6.375435,\n",
              "            \" common\": -6.1896644,\n",
              "            \" the\": -0.015460382\n",
              "          },\n",
              "          {\n",
              "            \" Duke\": -3.2167757,\n",
              "            \" common\": -2.7293463,\n",
              "            \" d\": -0.57397443\n",
              "          },\n",
              "          {\n",
              "            \"uch\": -3.6109762,\n",
              "            \"uk\": -2.8744354,\n",
              "            \"uke\": -0.17513385\n",
              "          },\n",
              "          {\n",
              "            \",\": -1.5674763,\n",
              "            \".\": -2.9591844,\n",
              "            \":\": -0.32283205\n",
              "          },\n",
              "          {\n",
              "            \" but\": -2.453561,\n",
              "            \" how\": -2.4008553,\n",
              "            \" if\": -1.6842806\n",
              "          },\n",
              "          {\n",
              "            \" he\": -3.251302,\n",
              "            \" it\": -0.29721466,\n",
              "            \" the\": -2.1415024\n",
              "          },\n",
              "          {\n",
              "            \" be\": -3.5413465,\n",
              "            \" came\": -4.1917543,\n",
              "            \" were\": -0.19867615\n",
              "          },\n",
              "          {\n",
              "            \" otherwise\": -5.670774,\n",
              "            \" so\": -0.4323675,\n",
              "            \",\": -1.0994189\n",
              "          },\n",
              "          {\n",
              "            \" give\": -2.3375416,\n",
              "            \" let\": -1.6222523,\n",
              "            \" the\": -2.402955\n",
              "          },\n",
              "          {\n",
              "            \" him\": -0.84661794,\n",
              "            \" it\": -1.8992083,\n",
              "            \" the\": -1.22952\n",
              "          },\n",
              "          {\n",
              "            \" be\": -1.7518095,\n",
              "            \" come\": -1.5771221,\n",
              "            \" win\": -2.0322783\n",
              "          },\n",
              "          {\n",
              "            \" in\": -2.0284035,\n",
              "            \" out\": -1.1705002,\n",
              "            \" to\": -1.2014946\n",
              "          },\n",
              "          {\n",
              "            \",\": -3.0648232,\n",
              "            \".\": -2.1507218,\n",
              "            \":\": -0.6274911\n",
              "          },\n",
              "          {\n",
              "            \" I\": -1.2102891,\n",
              "            \" if\": -2.03146,\n",
              "            \" it\": -1.9946395\n",
              "          },\n",
              "          {\n",
              "            \" say\": -2.5789235,\n",
              "            \" will\": -1.3179866,\n",
              "            \"'ll\": -0.5820934\n",
              "          },\n",
              "          {\n",
              "            \" fight\": -1.6439891,\n",
              "            \" not\": -2.7077918,\n",
              "            \" say\": -2.066588\n",
              "          },\n",
              "          {\n",
              "            \" him\": -1.8523154,\n",
              "            \" the\": -2.3026195,\n",
              "            \",\": -0.43389463\n",
              "          },\n",
              "          {\n",
              "            \" I\": -2.1865976,\n",
              "            \" if\": -1.8107449,\n",
              "            \" or\": -1.4385668\n",
              "          },\n",
              "          {\n",
              "            \" I\": -2.0021813,\n",
              "            \" die\": -2.5306137,\n",
              "            \" else\": -0.95464\n",
              "          },\n",
              "          {\n",
              "            \" be\": -0.98541975,\n",
              "            \" let\": -2.4410224,\n",
              "            \" set\": -2.6149926\n",
              "          },\n",
              "          {\n",
              "            \" cut\": -3.3135505,\n",
              "            \" quiet\": -2.701419,\n",
              "            \" tied\": -3.2569032\n",
              "          },\n",
              "          {\n",
              "            \"--\": -5.2282047,\n",
              "            \".\": -0.06982852,\n",
              "            \":\": -2.9298668\n",
              "          },\n",
              "          {\n",
              "            \" But\": -1.6499506,\n",
              "            \" Let\": -2.2632825,\n",
              "            \" Sir\": -2.4547565\n",
              "          }\n",
              "        ]\n",
              "      },\n",
              "      \"text\": \" in his bones, and so it is. But, sir, you do not understand me: I am not of an humour to put the case of the king upon the trial of battle with the case of the duke: if it were, let him come out: I'll fight, or else be quiet. But\"\n",
              "    },\n",
              "    {\n",
              "      \"finish_reason\": \"length\",\n",
              "      \"index\": 1,\n",
              "      \"logprobs\": {\n",
              "        \"text_offset\": [\n",
              "          40,\n",
              "          43,\n",
              "          47,\n",
              "          52,\n",
              "          53,\n",
              "          56,\n",
              "          61,\n",
              "          64,\n",
              "          70,\n",
              "          71,\n",
              "          72,\n",
              "          73,\n",
              "          74,\n",
              "          75,\n",
              "          78,\n",
              "          83,\n",
              "          87,\n",
              "          91,\n",
              "          98,\n",
              "          99,\n",
              "          103,\n",
              "          108,\n",
              "          111,\n",
              "          115,\n",
              "          119,\n",
              "          123,\n",
              "          126,\n",
              "          131,\n",
              "          136,\n",
              "          140,\n",
              "          141,\n",
              "          145,\n",
              "          148,\n",
              "          149,\n",
              "          150,\n",
              "          151,\n",
              "          152,\n",
              "          153,\n",
              "          157,\n",
              "          161,\n",
              "          167,\n",
              "          170,\n",
              "          174,\n",
              "          180,\n",
              "          183,\n",
              "          187,\n",
              "          198,\n",
              "          199,\n",
              "          203,\n",
              "          207,\n",
              "          211,\n",
              "          216,\n",
              "          217,\n",
              "          220,\n",
              "          223,\n",
              "          226,\n",
              "          229,\n",
              "          230,\n",
              "          231,\n",
              "          232,\n",
              "          233,\n",
              "          234,\n",
              "          235,\n",
              "          242\n",
              "        ],\n",
              "        \"token_logprobs\": [\n",
              "          -0.16104202,\n",
              "          -0.19757117,\n",
              "          -1.2987432,\n",
              "          -0.12337108,\n",
              "          -0.37219033,\n",
              "          -1.7817434,\n",
              "          -1.3337821,\n",
              "          -0.68372715,\n",
              "          -2.59647,\n",
              "          -1.1893547,\n",
              "          -1.5131372,\n",
              "          -0.51363003,\n",
              "          -1.2875264,\n",
              "          -1.9520944,\n",
              "          -0.64759797,\n",
              "          -1.5643003,\n",
              "          -0.22015756,\n",
              "          -2.555876,\n",
              "          -1.2722565,\n",
              "          -0.8691912,\n",
              "          -1.9812305,\n",
              "          -0.53992254,\n",
              "          -1.5735607,\n",
              "          -0.80072075,\n",
              "          -1.1102678,\n",
              "          -0.005227716,\n",
              "          -1.1497891,\n",
              "          -0.013652503,\n",
              "          -0.427751,\n",
              "          -0.3278704,\n",
              "          -2.248115,\n",
              "          -0.7289627,\n",
              "          -1.2706279,\n",
              "          -0.00060106686,\n",
              "          -0.31894615,\n",
              "          -0.0006670915,\n",
              "          -0.007836908,\n",
              "          -3.1942031,\n",
              "          -1.1943398,\n",
              "          -1.6910807,\n",
              "          -2.003969,\n",
              "          -0.5325773,\n",
              "          -2.7023573,\n",
              "          -0.00483204,\n",
              "          -0.55946976,\n",
              "          -1.1417869,\n",
              "          -0.55249125,\n",
              "          -0.19081481,\n",
              "          -1.6403906,\n",
              "          -0.66026026,\n",
              "          -0.6280976,\n",
              "          -2.4974837,\n",
              "          -2.012518,\n",
              "          -0.02473144,\n",
              "          -0.4505828,\n",
              "          -1.8769321,\n",
              "          -0.07779942,\n",
              "          -0.00047738172,\n",
              "          -0.22135668,\n",
              "          -0.00011523515,\n",
              "          -0.00092150713,\n",
              "          -1.8751712,\n",
              "          -1.4633387,\n",
              "          -0.21042606\n",
              "        ],\n",
              "        \"tokens\": [\n",
              "          \" in\",\n",
              "          \" his\",\n",
              "          \" head\",\n",
              "          \",\",\n",
              "          \" or\",\n",
              "          \" that\",\n",
              "          \" it\",\n",
              "          \" rains\",\n",
              "          \" \",\n",
              "          \"\\t\",\n",
              "          \"\\t\",\n",
              "          \"\\t\",\n",
              "          \"\\t\",\n",
              "          \"too\",\n",
              "          \" much\",\n",
              "          \" for\",\n",
              "          \" his\",\n",
              "          \" liking\",\n",
              "          \":\",\n",
              "          \" but\",\n",
              "          \" this\",\n",
              "          \" is\",\n",
              "          \" not\",\n",
              "          \" the\",\n",
              "          \" way\",\n",
              "          \" to\",\n",
              "          \" deal\",\n",
              "          \" with\",\n",
              "          \" him\",\n",
              "          \".\",\n",
              "          \" Let\",\n",
              "          \" us\",\n",
              "          \" \",\n",
              "          \"\\t\",\n",
              "          \"\\t\",\n",
              "          \"\\t\",\n",
              "          \"\\t\",\n",
              "          \"take\",\n",
              "          \" our\",\n",
              "          \" stand\",\n",
              "          \" on\",\n",
              "          \" the\",\n",
              "          \" order\",\n",
              "          \" of\",\n",
              "          \" our\",\n",
              "          \" visitation\",\n",
              "          \",\",\n",
              "          \" and\",\n",
              "          \" let\",\n",
              "          \" the\",\n",
              "          \" king\",\n",
              "          \",\",\n",
              "          \" if\",\n",
              "          \" he\",\n",
              "          \" be\",\n",
              "          \" so\",\n",
              "          \" \",\n",
              "          \"\\t\",\n",
              "          \"\\t\",\n",
              "          \"\\t\",\n",
              "          \"\\t\",\n",
              "          \"s\",\n",
              "          \"ensible\",\n",
              "          \",\"\n",
              "        ],\n",
              "        \"top_logprobs\": [\n",
              "          {\n",
              "            \" come\": -4.1852922,\n",
              "            \" in\": -0.16104202,\n",
              "            \" put\": -4.1174226\n",
              "          },\n",
              "          {\n",
              "            \" his\": -0.19757117,\n",
              "            \" my\": -1.7731956,\n",
              "            \" your\": -5.8834896\n",
              "          },\n",
              "          {\n",
              "            \" bones\": -1.5491295,\n",
              "            \" brain\": -1.9034061,\n",
              "            \" head\": -1.2987432\n",
              "          },\n",
              "          {\n",
              "            \",\": -0.12337108,\n",
              "            \".\": -2.554945,\n",
              "            \":\": -3.8070877\n",
              "          },\n",
              "          {\n",
              "            \" and\": -2.8599432,\n",
              "            \" for\": -2.363239,\n",
              "            \" or\": -0.37219033\n",
              "          },\n",
              "          {\n",
              "            \" his\": -1.922455,\n",
              "            \" that\": -1.7817434,\n",
              "            \" the\": -1.682481\n",
              "          },\n",
              "          {\n",
              "            \" free\": -1.7348021,\n",
              "            \" he\": -1.6312733,\n",
              "            \" it\": -1.3337821\n",
              "          },\n",
              "          {\n",
              "            \" is\": -2.0020769,\n",
              "            \" rain\": -1.9159219,\n",
              "            \" rains\": -0.68372715\n",
              "          },\n",
              "          {\n",
              "            \" \": -2.59647,\n",
              "            \" inward\": -2.5530152,\n",
              "            \" out\": -2.6396947\n",
              "          },\n",
              "          {\n",
              "            \"\\t\": -1.1893547,\n",
              "            \"bytes:\\\\xe3\\\\x80\": -2.966955,\n",
              "            \"ills\": -1.6902349\n",
              "          },\n",
              "          {\n",
              "            \"\\t\": -1.5131372,\n",
              "            \"because\": -2.4384444,\n",
              "            \"in\": -2.0592911\n",
              "          },\n",
              "          {\n",
              "            \"\\t\": -0.51363003,\n",
              "            \"because\": -2.5507128,\n",
              "            \"the\": -3.3046114\n",
              "          },\n",
              "          {\n",
              "            \"\\t\": -1.2875264,\n",
              "            \"in\": -2.979791,\n",
              "            \"too\": -2.4370692\n",
              "          },\n",
              "          {\n",
              "            \"mon\": -2.6500125,\n",
              "            \"on\": -2.7876494,\n",
              "            \"too\": -1.9520944\n",
              "          },\n",
              "          {\n",
              "            \" hard\": -2.1568084,\n",
              "            \" much\": -0.64759797,\n",
              "            \",\": -2.3323467\n",
              "          },\n",
              "          {\n",
              "            \" for\": -1.5643003,\n",
              "            \" on\": -1.6487633,\n",
              "            \",\": -1.798863\n",
              "          },\n",
              "          {\n",
              "            \" comfort\": -4.299358,\n",
              "            \" him\": -2.1028337,\n",
              "            \" his\": -0.22015756\n",
              "          },\n",
              "          {\n",
              "            \" health\": -3.295907,\n",
              "            \" heart\": -3.2524884,\n",
              "            \" liking\": -2.555876\n",
              "          },\n",
              "          {\n",
              "            \",\": -2.4057555,\n",
              "            \".\": -0.5263649,\n",
              "            \":\": -1.2722565\n",
              "          },\n",
              "          {\n",
              "            \" but\": -0.8691912,\n",
              "            \" let\": -2.875677,\n",
              "            \" or\": -3.3609352\n",
              "          },\n",
              "          {\n",
              "            \" no\": -1.3126847,\n",
              "            \" this\": -1.9812305,\n",
              "            \",\": -1.9740635\n",
              "          },\n",
              "          {\n",
              "            \" cannot\": -2.3364494,\n",
              "            \" fellow\": -3.42716,\n",
              "            \" is\": -0.53992254\n",
              "          },\n",
              "          {\n",
              "            \" more\": -1.4629946,\n",
              "            \" no\": -1.9596589,\n",
              "            \" not\": -1.5735607\n",
              "          },\n",
              "          {\n",
              "            \" like\": -1.8813776,\n",
              "            \" the\": -0.80072075,\n",
              "            \" what\": -3.1046212\n",
              "          },\n",
              "          {\n",
              "            \" question\": -2.1574652,\n",
              "            \" state\": -3.1191616,\n",
              "            \" way\": -1.1102678\n",
              "          },\n",
              "          {\n",
              "            \" to\": -0.005227716,\n",
              "            \",\": -6.8222513,\n",
              "            \".\": -6.8436084\n",
              "          },\n",
              "          {\n",
              "            \" deal\": -1.1497891,\n",
              "            \" handle\": -2.6009715,\n",
              "            \" win\": -3.214825\n",
              "          },\n",
              "          {\n",
              "            \" \": -6.2616096,\n",
              "            \" with\": -0.013652503,\n",
              "            \".\": -6.451573\n",
              "          },\n",
              "          {\n",
              "            \" him\": -0.427751,\n",
              "            \" it\": -1.7657264,\n",
              "            \" the\": -2.8403826\n",
              "          },\n",
              "          {\n",
              "            \",\": -2.063977,\n",
              "            \".\": -0.3278704,\n",
              "            \":\": -2.156943\n",
              "          },\n",
              "          {\n",
              "            \" Come\": -2.8557074,\n",
              "            \" Let\": -2.248115,\n",
              "            \" We\": -2.6112046\n",
              "          },\n",
              "          {\n",
              "            \" him\": -1.6642674,\n",
              "            \" the\": -2.1804645,\n",
              "            \" us\": -0.7289627\n",
              "          },\n",
              "          {\n",
              "            \" \": -1.2706279,\n",
              "            \" find\": -3.1174076,\n",
              "            \" go\": -3.281845\n",
              "          },\n",
              "          {\n",
              "            \"\\t\": -0.00060106686,\n",
              "            \" \": -9.651262,\n",
              "            \"vern\": -9.282246\n",
              "          },\n",
              "          {\n",
              "            \"\\t\": -0.31894615,\n",
              "            \" \": -1.4825051,\n",
              "            \"\\u00a0\": -5.2760115\n",
              "          },\n",
              "          {\n",
              "            \"\\t\": -0.0006670915,\n",
              "            \" \": -8.468684,\n",
              "            \"\\u2013\": -11.023255\n",
              "          },\n",
              "          {\n",
              "            \"\\t\": -0.007836908,\n",
              "            \" \": -7.405386,\n",
              "            \"the\": -7.210826\n",
              "          },\n",
              "          {\n",
              "            \"have\": -3.5376623,\n",
              "            \"take\": -3.1942031,\n",
              "            \"think\": -3.5109107\n",
              "          },\n",
              "          {\n",
              "            \" him\": -2.3619452,\n",
              "            \" our\": -1.1943398,\n",
              "            \" the\": -1.9466877\n",
              "          },\n",
              "          {\n",
              "            \" oath\": -3.17286,\n",
              "            \" stand\": -1.6910807,\n",
              "            \" weapons\": -1.9469554\n",
              "          },\n",
              "          {\n",
              "            \" by\": -2.5094185,\n",
              "            \" on\": -2.003969,\n",
              "            \" upon\": -1.5758113\n",
              "          },\n",
              "          {\n",
              "            \" another\": -3.2186325,\n",
              "            \" our\": -3.1890924,\n",
              "            \" the\": -0.5325773\n",
              "          },\n",
              "          {\n",
              "            \" old\": -2.3797674,\n",
              "            \" order\": -2.7023573,\n",
              "            \" other\": -2.2098315\n",
              "          },\n",
              "          {\n",
              "            \" and\": -5.518376,\n",
              "            \" of\": -0.00483204,\n",
              "            \" which\": -7.9436116\n",
              "          },\n",
              "          {\n",
              "            \" kn\": -2.9963915,\n",
              "            \" nature\": -2.305385,\n",
              "            \" our\": -0.55946976\n",
              "          },\n",
              "          {\n",
              "            \" going\": -3.205129,\n",
              "            \" speaking\": -3.257727,\n",
              "            \" visitation\": -1.1417869\n",
              "          },\n",
              "          {\n",
              "            \",\": -0.55249125,\n",
              "            \".\": -1.6431111,\n",
              "            \":\": -2.0086527\n",
              "          },\n",
              "          {\n",
              "            \" and\": -0.19081481,\n",
              "            \" as\": -3.5188215,\n",
              "            \" which\": -3.3094385\n",
              "          },\n",
              "          {\n",
              "            \" in\": -2.8540616,\n",
              "            \" let\": -1.6403906,\n",
              "            \" so\": -1.9432395\n",
              "          },\n",
              "          {\n",
              "            \" me\": -2.4638653,\n",
              "            \" the\": -0.66026026,\n",
              "            \" us\": -1.2658454\n",
              "          },\n",
              "          {\n",
              "            \" first\": -1.5491401,\n",
              "            \" king\": -0.6280976,\n",
              "            \" question\": -3.011522\n",
              "          },\n",
              "          {\n",
              "            \" say\": -1.3734096,\n",
              "            \" speak\": -1.7854369,\n",
              "            \",\": -2.4974837\n",
              "          },\n",
              "          {\n",
              "            \" as\": -2.4209805,\n",
              "            \" if\": -2.012518,\n",
              "            \" in\": -2.3524837\n",
              "          },\n",
              "          {\n",
              "            \" I\": -5.1525116,\n",
              "            \" he\": -0.02473144,\n",
              "            \" we\": -4.8114295\n",
              "          },\n",
              "          {\n",
              "            \" be\": -0.4505828,\n",
              "            \" think\": -2.2842228,\n",
              "            \" will\": -2.769478\n",
              "          },\n",
              "          {\n",
              "            \" mad\": -1.512536,\n",
              "            \" not\": -1.4199982,\n",
              "            \" so\": -1.8769321\n",
              "          },\n",
              "          {\n",
              "            \" \": -0.07779942,\n",
              "            \" mad\": -4.8390756,\n",
              "            \" minded\": -3.518559\n",
              "          },\n",
              "          {\n",
              "            \"\\t\": -0.00047738172,\n",
              "            \"\\n\": -9.34318,\n",
              "            \" \": -9.621365\n",
              "          },\n",
              "          {\n",
              "            \"\\t\": -0.22135668,\n",
              "            \" \": -1.8309168,\n",
              "            \"\\u00a0\": -5.662978\n",
              "          },\n",
              "          {\n",
              "            \"\\t\": -0.00011523515,\n",
              "            \" \": -11.800825,\n",
              "            \"\\u2013\": -12.171592\n",
              "          },\n",
              "          {\n",
              "            \"\\t\": -0.00092150713,\n",
              "            \" \": -9.683089,\n",
              "            \"'\": -8.608466\n",
              "          },\n",
              "          {\n",
              "            \"mad\": -1.9699168,\n",
              "            \"r\": -2.4452548,\n",
              "            \"s\": -1.8751712\n",
              "          },\n",
              "          {\n",
              "            \"ensible\": -1.4633387,\n",
              "            \"illy\": -2.2051313,\n",
              "            \"ore\": -2.2726955\n",
              "          },\n",
              "          {\n",
              "            \" as\": -2.6154287,\n",
              "            \" of\": -3.1229875,\n",
              "            \",\": -0.21042606\n",
              "          }\n",
              "        ]\n",
              "      },\n",
              "      \"text\": \" in his head, or that it rains \\t\\t\\t\\ttoo much for his liking: but this is not the way to deal with him. Let us \\t\\t\\t\\ttake our stand on the order of our visitation, and let the king, if he be so \\t\\t\\t\\tsensible,\"\n",
              "    },\n",
              "    {\n",
              "      \"finish_reason\": \"length\",\n",
              "      \"index\": 2,\n",
              "      \"logprobs\": {\n",
              "        \"text_offset\": [\n",
              "          40,\n",
              "          43,\n",
              "          47,\n",
              "          52,\n",
              "          53,\n",
              "          56,\n",
              "          60,\n",
              "          64,\n",
              "          67,\n",
              "          74,\n",
              "          76,\n",
              "          85,\n",
              "          91,\n",
              "          95,\n",
              "          99,\n",
              "          102,\n",
              "          104,\n",
              "          108,\n",
              "          112,\n",
              "          119,\n",
              "          120,\n",
              "          124,\n",
              "          126,\n",
              "          129,\n",
              "          134,\n",
              "          143,\n",
              "          144,\n",
              "          148,\n",
              "          153,\n",
              "          162,\n",
              "          163,\n",
              "          168,\n",
              "          172,\n",
              "          176,\n",
              "          180,\n",
              "          188,\n",
              "          189,\n",
              "          193,\n",
              "          198,\n",
              "          202,\n",
              "          206,\n",
              "          210,\n",
              "          212,\n",
              "          213,\n",
              "          217,\n",
              "          224,\n",
              "          228,\n",
              "          234,\n",
              "          245,\n",
              "          248,\n",
              "          254,\n",
              "          257,\n",
              "          265,\n",
              "          269,\n",
              "          273,\n",
              "          285,\n",
              "          290,\n",
              "          291,\n",
              "          296,\n",
              "          300,\n",
              "          303,\n",
              "          307,\n",
              "          312,\n",
              "          318\n",
              "        ],\n",
              "        \"token_logprobs\": [\n",
              "          -0.1610423,\n",
              "          -0.19964331,\n",
              "          -1.3201706,\n",
              "          -0.13880445,\n",
              "          -0.34019613,\n",
              "          -1.9141039,\n",
              "          -1.8533595,\n",
              "          -1.7959583,\n",
              "          -1.8490285,\n",
              "          -0.1142964,\n",
              "          -2.1563225,\n",
              "          -1.6093488,\n",
              "          -0.31252933,\n",
              "          -0.59302676,\n",
              "          -0.12665366,\n",
              "          -0.02777122,\n",
              "          -1.7912302,\n",
              "          -0.4092701,\n",
              "          -1.6948014,\n",
              "          -0.22636002,\n",
              "          -1.5651662,\n",
              "          -2.390212,\n",
              "          -0.1684796,\n",
              "          -0.39141798,\n",
              "          -1.4070942,\n",
              "          -1.4477202,\n",
              "          -1.658526,\n",
              "          -1.5573792,\n",
              "          -1.2700484,\n",
              "          -0.21545373,\n",
              "          -0.7730201,\n",
              "          -1.1169131,\n",
              "          -2.3696404,\n",
              "          -0.7079549,\n",
              "          -1.4075028,\n",
              "          -0.7273986,\n",
              "          -0.5347173,\n",
              "          -1.0879867,\n",
              "          -0.0024933473,\n",
              "          -2.318928,\n",
              "          -0.5361455,\n",
              "          -0.0017083121,\n",
              "          -0.0841999,\n",
              "          -0.48195404,\n",
              "          -1.264969,\n",
              "          -0.6290144,\n",
              "          -0.3044201,\n",
              "          -1.8802484,\n",
              "          -0.0021041848,\n",
              "          -0.43345633,\n",
              "          -0.5473815,\n",
              "          -0.5553969,\n",
              "          -0.33386418,\n",
              "          -0.8047372,\n",
              "          -0.4559843,\n",
              "          -0.9068306,\n",
              "          -0.015406511,\n",
              "          -0.31194076,\n",
              "          -0.02140234,\n",
              "          -0.61913574,\n",
              "          -0.09633535,\n",
              "          -1.3068662,\n",
              "          -2.9996758,\n",
              "          -2.62228\n",
              "        ],\n",
              "        \"tokens\": [\n",
              "          \" in\",\n",
              "          \" his\",\n",
              "          \" head\",\n",
              "          \",\",\n",
              "          \" or\",\n",
              "          \" his\",\n",
              "          \" and\",\n",
              "          \" my\",\n",
              "          \" mother\",\n",
              "          \"'s\",\n",
              "          \" marriage\",\n",
              "          \" might\",\n",
              "          \" put\",\n",
              "          \" him\",\n",
              "          \" in\",\n",
              "          \" a\",\n",
              "          \" lun\",\n",
              "          \"atic\",\n",
              "          \" asylum\",\n",
              "          \".\",\n",
              "          \" But\",\n",
              "          \" '\",\n",
              "          \"tis\",\n",
              "          \" very\",\n",
              "          \" possible\",\n",
              "          \",\",\n",
              "          \" and\",\n",
              "          \" very\",\n",
              "          \" probable\",\n",
              "          \",\",\n",
              "          \" that\",\n",
              "          \" the\",\n",
              "          \" lun\",\n",
              "          \"atic\",\n",
              "          \" himself\",\n",
              "          \",\",\n",
              "          \" his\",\n",
              "          \" wife\",\n",
              "          \" and\",\n",
              "          \" you\",\n",
              "          \" and\",\n",
              "          \" I\",\n",
              "          \",\",\n",
              "          \" and\",\n",
              "          \" indeed\",\n",
              "          \" the\",\n",
              "          \" whole\",\n",
              "          \" succession\",\n",
              "          \" of\",\n",
              "          \" kings\",\n",
              "          \" of\",\n",
              "          \" England\",\n",
              "          \" for\",\n",
              "          \" ten\",\n",
              "          \" generations\",\n",
              "          \" back\",\n",
              "          \",\",\n",
              "          \" were\",\n",
              "          \" all\",\n",
              "          \" in\",\n",
              "          \" the\",\n",
              "          \" main\",\n",
              "          \" quite\",\n",
              "          \" sane\"\n",
              "        ],\n",
              "        \"top_logprobs\": [\n",
              "          {\n",
              "            \" come\": -4.1852894,\n",
              "            \" in\": -0.1610423,\n",
              "            \" put\": -4.1174197\n",
              "          },\n",
              "          {\n",
              "            \" his\": -0.19964331,\n",
              "            \" my\": -1.7631314,\n",
              "            \" your\": -5.9095006\n",
              "          },\n",
              "          {\n",
              "            \" bones\": -1.5874647,\n",
              "            \" brain\": -1.8462118,\n",
              "            \" head\": -1.3201706\n",
              "          },\n",
              "          {\n",
              "            \",\": -0.13880445,\n",
              "            \".\": -2.4346724,\n",
              "            \":\": -3.7029638\n",
              "          },\n",
              "          {\n",
              "            \" and\": -2.8972437,\n",
              "            \" for\": -2.5348916,\n",
              "            \" or\": -0.34019613\n",
              "          },\n",
              "          {\n",
              "            \" his\": -1.9141039,\n",
              "            \" that\": -1.7845627,\n",
              "            \" the\": -1.7445779\n",
              "          },\n",
              "          {\n",
              "            \" and\": -1.8533595,\n",
              "            \" eyes\": -2.807851,\n",
              "            \" heart\": -1.6138908\n",
              "          },\n",
              "          {\n",
              "            \" my\": -1.7959583,\n",
              "            \" no\": -2.2017353,\n",
              "            \" your\": -2.122497\n",
              "          },\n",
              "          {\n",
              "            \" fortunes\": -3.720559,\n",
              "            \" mother\": -1.8490285,\n",
              "            \" uncle\": -3.2206066\n",
              "          },\n",
              "          {\n",
              "            \" both\": -4.935187,\n",
              "            \" was\": -2.4305367,\n",
              "            \"'s\": -0.1142964\n",
              "          },\n",
              "          {\n",
              "            \" conc\": -3.0472183,\n",
              "            \" joint\": -3.4139576,\n",
              "            \" marriage\": -2.1563225\n",
              "          },\n",
              "          {\n",
              "            \" is\": -2.8692946,\n",
              "            \" might\": -1.6093488,\n",
              "            \".\": -2.538531\n",
              "          },\n",
              "          {\n",
              "            \" come\": -3.8782823,\n",
              "            \" have\": -2.8050325,\n",
              "            \" put\": -0.31252933\n",
              "          },\n",
              "          {\n",
              "            \" him\": -0.59302676,\n",
              "            \" that\": -1.8563392,\n",
              "            \" this\": -3.4775546\n",
              "          },\n",
              "          {\n",
              "            \" in\": -0.12665366,\n",
              "            \" out\": -2.407462,\n",
              "            \" thus\": -5.884154\n",
              "          },\n",
              "          {\n",
              "            \" a\": -0.02777122,\n",
              "            \" some\": -5.197892,\n",
              "            \" this\": -4.704606\n",
              "          },\n",
              "          {\n",
              "            \" lun\": -1.7912302,\n",
              "            \" passion\": -2.1104383,\n",
              "            \" rage\": -2.019048\n",
              "          },\n",
              "          {\n",
              "            \"acy\": -1.1475494,\n",
              "            \"at\": -4.0132527,\n",
              "            \"atic\": -0.4092701\n",
              "          },\n",
              "          {\n",
              "            \" asylum\": -1.6948014,\n",
              "            \" fit\": -2.5671866,\n",
              "            \" rage\": -2.7284842\n",
              "          },\n",
              "          {\n",
              "            \",\": -2.7587106,\n",
              "            \".\": -0.22636002,\n",
              "            \":\": -2.1704173\n",
              "          },\n",
              "          {\n",
              "            \" But\": -1.5651662,\n",
              "            \" Go\": -2.6603086,\n",
              "            \" Let\": -2.862109\n",
              "          },\n",
              "          {\n",
              "            \" '\": -2.390212,\n",
              "            \" no\": -2.7298174,\n",
              "            \",\": -1.1429007\n",
              "          },\n",
              "          {\n",
              "            \"t\": -3.8078628,\n",
              "            \"tis\": -0.1684796,\n",
              "            \"tw\": -2.4647365\n",
              "          },\n",
              "          {\n",
              "            \" no\": -2.6583397,\n",
              "            \" not\": -1.9912066,\n",
              "            \" very\": -0.39141798\n",
              "          },\n",
              "          {\n",
              "            \" certain\": -2.3462374,\n",
              "            \" possible\": -1.4070942,\n",
              "            \" well\": -2.0407689\n",
              "          },\n",
              "          {\n",
              "            \" he\": -2.2974765,\n",
              "            \",\": -1.4477202,\n",
              "            \"--\": -2.4852397\n",
              "          },\n",
              "          {\n",
              "            \" and\": -1.658526,\n",
              "            \" let\": -2.582625,\n",
              "            \" sir\": -1.4956193\n",
              "          },\n",
              "          {\n",
              "            \" nothing\": -2.2394528,\n",
              "            \" very\": -1.5573792,\n",
              "            \" what\": -1.3939824\n",
              "          },\n",
              "          {\n",
              "            \" like\": -2.1728623,\n",
              "            \" much\": -2.2668288,\n",
              "            \" probable\": -1.2700484\n",
              "          },\n",
              "          {\n",
              "            \" I\": -2.5843942,\n",
              "            \" also\": -3.3340104,\n",
              "            \",\": -0.21545373\n",
              "          },\n",
              "          {\n",
              "            \" indeed\": -1.6831133,\n",
              "            \" sir\": -2.733513,\n",
              "            \" that\": -0.7730201\n",
              "          },\n",
              "          {\n",
              "            \" the\": -1.1169131,\n",
              "            \" we\": -2.160209,\n",
              "            \" you\": -2.745948\n",
              "          },\n",
              "          {\n",
              "            \" king\": -3.400113,\n",
              "            \" lun\": -2.3696404,\n",
              "            \" weight\": -2.4506161\n",
              "          },\n",
              "          {\n",
              "            \"acy\": -0.7515988,\n",
              "            \"at\": -3.4733183,\n",
              "            \"atic\": -0.7079549\n",
              "          },\n",
              "          {\n",
              "            \" asylum\": -2.3120267,\n",
              "            \" course\": -2.4947896,\n",
              "            \" himself\": -1.4075028\n",
              "          },\n",
              "          {\n",
              "            \" is\": -1.5987289,\n",
              "            \" may\": -1.6138065,\n",
              "            \",\": -0.7273986\n",
              "          },\n",
              "          {\n",
              "            \" her\": -2.3300178,\n",
              "            \" his\": -0.5347173,\n",
              "            \" my\": -1.8982514\n",
              "          },\n",
              "          {\n",
              "            \" father\": -1.5290077,\n",
              "            \" son\": -2.3679461,\n",
              "            \" wife\": -1.0879867\n",
              "          },\n",
              "          {\n",
              "            \" and\": -0.0024933473,\n",
              "            \"'s\": -7.6355367,\n",
              "            \",\": -6.27053\n",
              "          },\n",
              "          {\n",
              "            \" her\": -1.6657765,\n",
              "            \" mother\": -2.3768818,\n",
              "            \" you\": -2.318928\n",
              "          },\n",
              "          {\n",
              "            \" all\": -4.325928,\n",
              "            \" and\": -0.5361455,\n",
              "            \",\": -1.0457547\n",
              "          },\n",
              "          {\n",
              "            \" \": -7.902793,\n",
              "            \" I\": -0.0017083121,\n",
              "            \" all\": -8.412246\n",
              "          },\n",
              "          {\n",
              "            \" together\": -3.0007038,\n",
              "            \",\": -0.0841999,\n",
              "            \"--\": -5.1973524\n",
              "          },\n",
              "          {\n",
              "            \" and\": -0.48195404,\n",
              "            \" are\": -1.5665154,\n",
              "            \" were\": -3.301826\n",
              "          },\n",
              "          {\n",
              "            \" all\": -1.9823782,\n",
              "            \" do\": -3.1242466,\n",
              "            \" indeed\": -1.264969\n",
              "          },\n",
              "          {\n",
              "            \" all\": -3.204675,\n",
              "            \" everybody\": -1.6428331,\n",
              "            \" the\": -0.6290144\n",
              "          },\n",
              "          {\n",
              "            \" country\": -3.1948798,\n",
              "            \" town\": -2.5200934,\n",
              "            \" whole\": -0.3044201\n",
              "          },\n",
              "          {\n",
              "            \" court\": -2.7470994,\n",
              "            \" family\": -2.1799433,\n",
              "            \" succession\": -1.8802484\n",
              "          },\n",
              "          {\n",
              "            \" from\": -7.094478,\n",
              "            \" of\": -0.0021041848,\n",
              "            \" on\": -7.8120217\n",
              "          },\n",
              "          {\n",
              "            \" king\": -2.6909091,\n",
              "            \" kings\": -0.43345633,\n",
              "            \" monarch\": -3.2299163\n",
              "          },\n",
              "          {\n",
              "            \" of\": -0.5473815,\n",
              "            \" that\": -1.8487751,\n",
              "            \" upon\": -3.881793\n",
              "          },\n",
              "          {\n",
              "            \" Britain\": -2.2309656,\n",
              "            \" England\": -0.5553969,\n",
              "            \" Scotland\": -2.1099994\n",
              "          },\n",
              "          {\n",
              "            \" for\": -0.33386418,\n",
              "            \" since\": -4.055969,\n",
              "            \",\": -1.4115658\n",
              "          },\n",
              "          {\n",
              "            \" ten\": -0.8047372,\n",
              "            \" twenty\": -3.2537012,\n",
              "            \"ten\": -1.7318364\n",
              "          },\n",
              "          {\n",
              "            \" generations\": -0.4559843,\n",
              "            \" several\": -2.9009266,\n",
              "            \" thousand\": -2.86403\n",
              "          },\n",
              "          {\n",
              "            \" back\": -0.9068306,\n",
              "            \" together\": -5.0296583,\n",
              "            \",\": -0.5655659\n",
              "          },\n",
              "          {\n",
              "            \" might\": -5.8900547,\n",
              "            \",\": -0.015406511,\n",
              "            \"--\": -5.089108\n",
              "          },\n",
              "          {\n",
              "            \" are\": -1.6221939,\n",
              "            \" was\": -3.7907078,\n",
              "            \" were\": -0.31194076\n",
              "          },\n",
              "          {\n",
              "            \" all\": -0.02140234,\n",
              "            \" none\": -5.908647,\n",
              "            \" together\": -5.9737062\n",
              "          },\n",
              "          {\n",
              "            \" in\": -0.61913574,\n",
              "            \" mad\": -3.0150392,\n",
              "            \" together\": -3.6367936\n",
              "          },\n",
              "          {\n",
              "            \" our\": -5.5236034,\n",
              "            \" the\": -0.09633535,\n",
              "            \" this\": -3.58433\n",
              "          },\n",
              "          {\n",
              "            \" grain\": -2.0360074,\n",
              "            \" main\": -1.3068662,\n",
              "            \" same\": -2.140058\n",
              "          },\n",
              "          {\n",
              "            \" kernel\": -3.8898675,\n",
              "            \" quite\": -2.9996758,\n",
              "            \" true\": -2.9859064\n",
              "          },\n",
              "          {\n",
              "            \" ordinary\": -2.5944993,\n",
              "            \" right\": -2.2100334,\n",
              "            \" sane\": -2.62228\n",
              "          }\n",
              "        ]\n",
              "      },\n",
              "      \"text\": \" in his head, or his and my mother's marriage might put him in a lunatic asylum. But 'tis very possible, and very probable, that the lunatic himself, his wife and you and I, and indeed the whole succession of kings of England for ten generations back, were all in the main quite sane\"\n",
              "    }\n",
              "  ],\n",
              "  \"created\": 1657556904,\n",
              "  \"id\": \"cmpl-5SqYiKnBIahWWZQZKIvwkpFDNmUta\",\n",
              "  \"model\": \"curie:ft-personal:shakespeare-hamlet-v0-2022-07-11-14-17-45\",\n",
              "  \"object\": \"text_completion\",\n",
              "  \"usage\": {\n",
              "    \"completion_tokens\": 192,\n",
              "    \"prompt_tokens\": 8,\n",
              "    \"total_tokens\": 200\n",
              "  }\n",
              "}"
            ]
          },
          "metadata": {},
          "execution_count": 124
        }
      ]
    },
    {
      "cell_type": "code",
      "source": [
        ""
      ],
      "metadata": {
        "id": "oik9jXb_E5eo"
      },
      "execution_count": null,
      "outputs": []
    }
  ]
}