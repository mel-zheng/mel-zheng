{
  "nbformat": 4,
  "nbformat_minor": 0,
  "metadata": {
    "colab": {
      "provenance": [],
      "toc_visible": true,
      "collapsed_sections": [
        "yf9iC9w6HF4P",
        "8gUiXfXCito7",
        "_1qdqzeAFziJ"
      ],
      "authorship_tag": "ABX9TyMlh/50MTiG02+ukEvtddNp",
      "include_colab_link": true
    },
    "kernelspec": {
      "name": "python3",
      "display_name": "Python 3"
    },
    "language_info": {
      "name": "python"
    }
  },
  "cells": [
    {
      "cell_type": "markdown",
      "metadata": {
        "id": "view-in-github",
        "colab_type": "text"
      },
      "source": [
        "<a href=\"https://colab.research.google.com/github/mel-zheng/mel-zheng/blob/main/Data_Processing_URLs.ipynb\" target=\"_parent\"><img src=\"https://colab.research.google.com/assets/colab-badge.svg\" alt=\"Open In Colab\"/></a>"
      ]
    },
    {
      "cell_type": "markdown",
      "source": [
        "\n",
        "\n",
        "# Data Processing (Text from urls)\n",
        "\n",
        "Primary usecase: SEO content generation\n",
        "\n",
        "Goal: Data cleaning, processing, prepare training dataset for prompt tuning LLMs, store final training dataset in Google Cloud Storage.\n"
      ],
      "metadata": {
        "id": "8hfWEjeyo4nY"
      }
    },
    {
      "cell_type": "code",
      "source": [
        "!pip install google-cloud-aiplatform google-cloud-bigquery google-cloud-vision google-cloud-storage mlflow==2.5 jsonlines python-dotenv --upgrade --user"
      ],
      "metadata": {
        "colab": {
          "base_uri": "https://localhost:8080/"
        },
        "id": "EIGiOSOPplt1",
        "outputId": "f1d7703d-02f0-4280-e362-8f6e56b2ee40"
      },
      "execution_count": 2,
      "outputs": [
        {
          "output_type": "stream",
          "name": "stdout",
          "text": [
            "Requirement already satisfied: google-cloud-aiplatform in /root/.local/lib/python3.10/site-packages (1.32.0)\n",
            "Requirement already satisfied: google-cloud-bigquery in /root/.local/lib/python3.10/site-packages (3.11.4)\n",
            "Requirement already satisfied: google-cloud-vision in /root/.local/lib/python3.10/site-packages (3.4.4)\n",
            "Requirement already satisfied: google-cloud-storage in /root/.local/lib/python3.10/site-packages (2.10.0)\n",
            "Requirement already satisfied: mlflow==2.5 in /root/.local/lib/python3.10/site-packages (2.5.0)\n",
            "Requirement already satisfied: jsonlines in /root/.local/lib/python3.10/site-packages (4.0.0)\n",
            "Requirement already satisfied: python-dotenv in /root/.local/lib/python3.10/site-packages (1.0.0)\n",
            "Requirement already satisfied: click<9,>=7.0 in /usr/local/lib/python3.10/dist-packages (from mlflow==2.5) (8.1.7)\n",
            "Requirement already satisfied: cloudpickle<3 in /usr/local/lib/python3.10/dist-packages (from mlflow==2.5) (2.2.1)\n",
            "Requirement already satisfied: databricks-cli<1,>=0.8.7 in /root/.local/lib/python3.10/site-packages (from mlflow==2.5) (0.17.7)\n",
            "Requirement already satisfied: entrypoints<1 in /usr/local/lib/python3.10/dist-packages (from mlflow==2.5) (0.4)\n",
            "Requirement already satisfied: gitpython<4,>=2.1.0 in /root/.local/lib/python3.10/site-packages (from mlflow==2.5) (3.1.36)\n",
            "Requirement already satisfied: pyyaml<7,>=5.1 in /usr/local/lib/python3.10/dist-packages (from mlflow==2.5) (6.0.1)\n",
            "Requirement already satisfied: protobuf<5,>=3.12.0 in /usr/local/lib/python3.10/dist-packages (from mlflow==2.5) (3.20.3)\n",
            "Requirement already satisfied: pytz<2024 in /usr/local/lib/python3.10/dist-packages (from mlflow==2.5) (2023.3.post1)\n",
            "Requirement already satisfied: requests<3,>=2.17.3 in /usr/local/lib/python3.10/dist-packages (from mlflow==2.5) (2.31.0)\n",
            "Requirement already satisfied: packaging<24 in /usr/local/lib/python3.10/dist-packages (from mlflow==2.5) (23.1)\n",
            "Requirement already satisfied: importlib-metadata!=4.7.0,<7,>=3.7.0 in /usr/local/lib/python3.10/dist-packages (from mlflow==2.5) (6.8.0)\n",
            "Requirement already satisfied: sqlparse<1,>=0.4.0 in /usr/local/lib/python3.10/dist-packages (from mlflow==2.5) (0.4.4)\n",
            "Requirement already satisfied: alembic!=1.10.0,<2 in /root/.local/lib/python3.10/site-packages (from mlflow==2.5) (1.12.0)\n",
            "Requirement already satisfied: docker<7,>=4.0.0 in /root/.local/lib/python3.10/site-packages (from mlflow==2.5) (6.1.3)\n",
            "Requirement already satisfied: Flask<3 in /usr/local/lib/python3.10/dist-packages (from mlflow==2.5) (2.2.5)\n",
            "Requirement already satisfied: numpy<2 in /usr/local/lib/python3.10/dist-packages (from mlflow==2.5) (1.23.5)\n",
            "Requirement already satisfied: scipy<2 in /usr/local/lib/python3.10/dist-packages (from mlflow==2.5) (1.11.2)\n",
            "Requirement already satisfied: pandas<3 in /usr/local/lib/python3.10/dist-packages (from mlflow==2.5) (1.5.3)\n",
            "Requirement already satisfied: querystring-parser<2 in /root/.local/lib/python3.10/site-packages (from mlflow==2.5) (1.2.4)\n",
            "Requirement already satisfied: sqlalchemy<3,>=1.4.0 in /usr/local/lib/python3.10/dist-packages (from mlflow==2.5) (2.0.20)\n",
            "Requirement already satisfied: scikit-learn<2 in /usr/local/lib/python3.10/dist-packages (from mlflow==2.5) (1.2.2)\n",
            "Requirement already satisfied: pyarrow<13,>=4.0.0 in /usr/local/lib/python3.10/dist-packages (from mlflow==2.5) (9.0.0)\n",
            "Requirement already satisfied: markdown<4,>=3.3 in /usr/local/lib/python3.10/dist-packages (from mlflow==2.5) (3.4.4)\n",
            "Requirement already satisfied: matplotlib<4 in /usr/local/lib/python3.10/dist-packages (from mlflow==2.5) (3.7.1)\n",
            "Requirement already satisfied: gunicorn<21 in /root/.local/lib/python3.10/site-packages (from mlflow==2.5) (20.1.0)\n",
            "Requirement already satisfied: Jinja2<4,>=2.11 in /usr/local/lib/python3.10/dist-packages (from mlflow==2.5) (3.1.2)\n",
            "Requirement already satisfied: google-api-core[grpc]!=2.0.*,!=2.1.*,!=2.2.*,!=2.3.*,!=2.4.*,!=2.5.*,!=2.6.*,!=2.7.*,<3.0.0dev,>=1.32.0 in /usr/local/lib/python3.10/dist-packages (from google-cloud-aiplatform) (2.11.1)\n",
            "Requirement already satisfied: proto-plus<2.0.0dev,>=1.22.0 in /usr/local/lib/python3.10/dist-packages (from google-cloud-aiplatform) (1.22.3)\n",
            "Requirement already satisfied: google-cloud-resource-manager<3.0.0dev,>=1.3.3 in /root/.local/lib/python3.10/site-packages (from google-cloud-aiplatform) (1.10.3)\n",
            "Requirement already satisfied: shapely<2.0.0 in /root/.local/lib/python3.10/site-packages (from google-cloud-aiplatform) (1.8.5.post1)\n",
            "Requirement already satisfied: grpcio<2.0dev,>=1.47.0 in /usr/local/lib/python3.10/dist-packages (from google-cloud-bigquery) (1.57.0)\n",
            "Requirement already satisfied: google-cloud-core<3.0.0dev,>=1.6.0 in /usr/local/lib/python3.10/dist-packages (from google-cloud-bigquery) (2.3.3)\n",
            "Requirement already satisfied: google-resumable-media<3.0dev,>=0.6.0 in /usr/local/lib/python3.10/dist-packages (from google-cloud-bigquery) (2.6.0)\n",
            "Requirement already satisfied: python-dateutil<3.0dev,>=2.7.2 in /usr/local/lib/python3.10/dist-packages (from google-cloud-bigquery) (2.8.2)\n",
            "Requirement already satisfied: google-auth<3.0dev,>=1.25.0 in /usr/local/lib/python3.10/dist-packages (from google-cloud-storage) (2.17.3)\n",
            "Requirement already satisfied: attrs>=19.2.0 in /usr/local/lib/python3.10/dist-packages (from jsonlines) (23.1.0)\n",
            "Requirement already satisfied: Mako in /root/.local/lib/python3.10/site-packages (from alembic!=1.10.0,<2->mlflow==2.5) (1.2.4)\n",
            "Requirement already satisfied: typing-extensions>=4 in /usr/local/lib/python3.10/dist-packages (from alembic!=1.10.0,<2->mlflow==2.5) (4.5.0)\n",
            "Requirement already satisfied: pyjwt>=1.7.0 in /usr/lib/python3/dist-packages (from databricks-cli<1,>=0.8.7->mlflow==2.5) (2.3.0)\n",
            "Requirement already satisfied: oauthlib>=3.1.0 in /usr/local/lib/python3.10/dist-packages (from databricks-cli<1,>=0.8.7->mlflow==2.5) (3.2.2)\n",
            "Requirement already satisfied: tabulate>=0.7.7 in /usr/local/lib/python3.10/dist-packages (from databricks-cli<1,>=0.8.7->mlflow==2.5) (0.9.0)\n",
            "Requirement already satisfied: six>=1.10.0 in /usr/local/lib/python3.10/dist-packages (from databricks-cli<1,>=0.8.7->mlflow==2.5) (1.16.0)\n",
            "Requirement already satisfied: urllib3<2.0.0,>=1.26.7 in /root/.local/lib/python3.10/site-packages (from databricks-cli<1,>=0.8.7->mlflow==2.5) (1.26.16)\n",
            "Requirement already satisfied: websocket-client>=0.32.0 in /usr/local/lib/python3.10/dist-packages (from docker<7,>=4.0.0->mlflow==2.5) (1.6.2)\n",
            "Requirement already satisfied: Werkzeug>=2.2.2 in /usr/local/lib/python3.10/dist-packages (from Flask<3->mlflow==2.5) (2.3.7)\n",
            "Requirement already satisfied: itsdangerous>=2.0 in /usr/local/lib/python3.10/dist-packages (from Flask<3->mlflow==2.5) (2.1.2)\n",
            "Requirement already satisfied: gitdb<5,>=4.0.1 in /root/.local/lib/python3.10/site-packages (from gitpython<4,>=2.1.0->mlflow==2.5) (4.0.10)\n",
            "Requirement already satisfied: googleapis-common-protos<2.0.dev0,>=1.56.2 in /usr/local/lib/python3.10/dist-packages (from google-api-core[grpc]!=2.0.*,!=2.1.*,!=2.2.*,!=2.3.*,!=2.4.*,!=2.5.*,!=2.6.*,!=2.7.*,<3.0.0dev,>=1.32.0->google-cloud-aiplatform) (1.60.0)\n",
            "Requirement already satisfied: grpcio-status<2.0.dev0,>=1.33.2 in /usr/local/lib/python3.10/dist-packages (from google-api-core[grpc]!=2.0.*,!=2.1.*,!=2.2.*,!=2.3.*,!=2.4.*,!=2.5.*,!=2.6.*,!=2.7.*,<3.0.0dev,>=1.32.0->google-cloud-aiplatform) (1.48.2)\n",
            "Requirement already satisfied: cachetools<6.0,>=2.0.0 in /usr/local/lib/python3.10/dist-packages (from google-auth<3.0dev,>=1.25.0->google-cloud-storage) (5.3.1)\n",
            "Requirement already satisfied: pyasn1-modules>=0.2.1 in /usr/local/lib/python3.10/dist-packages (from google-auth<3.0dev,>=1.25.0->google-cloud-storage) (0.3.0)\n",
            "Requirement already satisfied: rsa<5,>=3.1.4 in /usr/local/lib/python3.10/dist-packages (from google-auth<3.0dev,>=1.25.0->google-cloud-storage) (4.9)\n",
            "Requirement already satisfied: grpc-google-iam-v1<1.0.0dev,>=0.12.4 in /usr/local/lib/python3.10/dist-packages (from google-cloud-resource-manager<3.0.0dev,>=1.3.3->google-cloud-aiplatform) (0.12.6)\n",
            "Requirement already satisfied: google-crc32c<2.0dev,>=1.0 in /usr/local/lib/python3.10/dist-packages (from google-resumable-media<3.0dev,>=0.6.0->google-cloud-bigquery) (1.5.0)\n",
            "Requirement already satisfied: setuptools>=3.0 in /usr/local/lib/python3.10/dist-packages (from gunicorn<21->mlflow==2.5) (67.7.2)\n",
            "Requirement already satisfied: zipp>=0.5 in /usr/local/lib/python3.10/dist-packages (from importlib-metadata!=4.7.0,<7,>=3.7.0->mlflow==2.5) (3.16.2)\n",
            "Requirement already satisfied: MarkupSafe>=2.0 in /usr/local/lib/python3.10/dist-packages (from Jinja2<4,>=2.11->mlflow==2.5) (2.1.3)\n",
            "Requirement already satisfied: contourpy>=1.0.1 in /usr/local/lib/python3.10/dist-packages (from matplotlib<4->mlflow==2.5) (1.1.0)\n",
            "Requirement already satisfied: cycler>=0.10 in /usr/local/lib/python3.10/dist-packages (from matplotlib<4->mlflow==2.5) (0.11.0)\n",
            "Requirement already satisfied: fonttools>=4.22.0 in /usr/local/lib/python3.10/dist-packages (from matplotlib<4->mlflow==2.5) (4.42.1)\n",
            "Requirement already satisfied: kiwisolver>=1.0.1 in /usr/local/lib/python3.10/dist-packages (from matplotlib<4->mlflow==2.5) (1.4.5)\n",
            "Requirement already satisfied: pillow>=6.2.0 in /usr/local/lib/python3.10/dist-packages (from matplotlib<4->mlflow==2.5) (9.4.0)\n",
            "Requirement already satisfied: pyparsing>=2.3.1 in /usr/local/lib/python3.10/dist-packages (from matplotlib<4->mlflow==2.5) (3.1.1)\n",
            "Requirement already satisfied: charset-normalizer<4,>=2 in /usr/local/lib/python3.10/dist-packages (from requests<3,>=2.17.3->mlflow==2.5) (3.2.0)\n",
            "Requirement already satisfied: idna<4,>=2.5 in /usr/local/lib/python3.10/dist-packages (from requests<3,>=2.17.3->mlflow==2.5) (3.4)\n",
            "Requirement already satisfied: certifi>=2017.4.17 in /usr/local/lib/python3.10/dist-packages (from requests<3,>=2.17.3->mlflow==2.5) (2023.7.22)\n",
            "Requirement already satisfied: joblib>=1.1.1 in /usr/local/lib/python3.10/dist-packages (from scikit-learn<2->mlflow==2.5) (1.3.2)\n",
            "Requirement already satisfied: threadpoolctl>=2.0.0 in /usr/local/lib/python3.10/dist-packages (from scikit-learn<2->mlflow==2.5) (3.2.0)\n",
            "Requirement already satisfied: greenlet!=0.4.17 in /usr/local/lib/python3.10/dist-packages (from sqlalchemy<3,>=1.4.0->mlflow==2.5) (2.0.2)\n",
            "Requirement already satisfied: smmap<6,>=3.0.1 in /root/.local/lib/python3.10/site-packages (from gitdb<5,>=4.0.1->gitpython<4,>=2.1.0->mlflow==2.5) (5.0.0)\n",
            "Requirement already satisfied: pyasn1<0.6.0,>=0.4.6 in /usr/local/lib/python3.10/dist-packages (from pyasn1-modules>=0.2.1->google-auth<3.0dev,>=1.25.0->google-cloud-storage) (0.5.0)\n"
          ]
        }
      ]
    },
    {
      "cell_type": "markdown",
      "source": [
        "# Set up"
      ],
      "metadata": {
        "id": "79Ur7Fc260ts"
      }
    },
    {
      "cell_type": "code",
      "source": [
        "from google.colab import auth as google_auth\n",
        "google_auth.authenticate_user()"
      ],
      "metadata": {
        "id": "lvrl0PREo0vA"
      },
      "execution_count": 3,
      "outputs": []
    },
    {
      "cell_type": "code",
      "source": [
        "from google.colab import drive\n",
        "drive.mount('/content/drive')"
      ],
      "metadata": {
        "colab": {
          "base_uri": "https://localhost:8080/"
        },
        "id": "nhnbb9awo1Zi",
        "outputId": "b52cad48-f006-4f9d-bb14-fa49cd888ac9"
      },
      "execution_count": 4,
      "outputs": [
        {
          "output_type": "stream",
          "name": "stdout",
          "text": [
            "Mounted at /content/drive\n"
          ]
        }
      ]
    },
    {
      "cell_type": "code",
      "source": [
        "!cp /content/drive/MyDrive/brand-voice/.env .env"
      ],
      "metadata": {
        "id": "5U-zjlmNhD18"
      },
      "execution_count": 1,
      "outputs": []
    },
    {
      "cell_type": "code",
      "source": [
        "import pandas as pd\n",
        "from dotenv import load_dotenv\n",
        "import os\n",
        "load_dotenv()  # take environment variables from .env."
      ],
      "metadata": {
        "colab": {
          "base_uri": "https://localhost:8080/"
        },
        "id": "4skUVIVxhDcI",
        "outputId": "8ebb801a-fff7-4fb8-e5b1-917c7567bebc"
      },
      "execution_count": 2,
      "outputs": [
        {
          "output_type": "execute_result",
          "data": {
            "text/plain": [
              "True"
            ]
          },
          "metadata": {},
          "execution_count": 2
        }
      ]
    },
    {
      "cell_type": "markdown",
      "source": [
        "# Set up ML flow"
      ],
      "metadata": {
        "id": "408m1tE_p3Qx"
      }
    },
    {
      "cell_type": "code",
      "source": [
        "# # Importing our required libraries\n",
        "import mlflow\n",
        "\n",
        "\n",
        "# # Setting the MLflow client\n",
        "# client = mlflow.tracking.MlflowClient(tracking_uri = 'Brand Voice Test 1')"
      ],
      "metadata": {
        "id": "SaHXonypZs9Y"
      },
      "execution_count": 4,
      "outputs": []
    },
    {
      "cell_type": "code",
      "source": [
        "mlflow.set_tracking_uri('mlflow-dp.non-prod.kinesso.ninja')"
      ],
      "metadata": {
        "id": "25RtLv5M97sD"
      },
      "execution_count": 5,
      "outputs": []
    },
    {
      "cell_type": "code",
      "source": [
        "mlflow.create_experiment('Brand Voice Training Input Extraction Prompt')"
      ],
      "metadata": {
        "colab": {
          "base_uri": "https://localhost:8080/",
          "height": 35
        },
        "id": "OYrEUUdy9_9_",
        "outputId": "d10fb095-a7d2-45f0-af44-bb9473ed940a"
      },
      "execution_count": null,
      "outputs": [
        {
          "output_type": "execute_result",
          "data": {
            "text/plain": [
              "'758760816997049357'"
            ],
            "application/vnd.google.colaboratory.intrinsic+json": {
              "type": "string"
            }
          },
          "metadata": {},
          "execution_count": 7
        }
      ]
    },
    {
      "cell_type": "code",
      "source": [
        "mlflow.set_experiment('Brand Voice Training Input Extraction Prompt')"
      ],
      "metadata": {
        "colab": {
          "base_uri": "https://localhost:8080/"
        },
        "id": "BY0T4oSC-MGw",
        "outputId": "ca7f43e3-4ca7-4b3d-a953-66f4740fdbfe"
      },
      "execution_count": 6,
      "outputs": [
        {
          "output_type": "stream",
          "name": "stderr",
          "text": [
            "2023/09/13 16:47:30 INFO mlflow.tracking.fluent: Experiment with name 'Brand Voice Training Input Extraction Prompt' does not exist. Creating a new experiment.\n"
          ]
        },
        {
          "output_type": "execute_result",
          "data": {
            "text/plain": [
              "<Experiment: artifact_location='/content/mlflow-dp.non-prod.kinesso.ninja/103011558505213548', creation_time=1694623650363, experiment_id='103011558505213548', last_update_time=1694623650363, lifecycle_stage='active', name='Brand Voice Training Input Extraction Prompt', tags={}>"
            ]
          },
          "metadata": {},
          "execution_count": 6
        }
      ]
    },
    {
      "cell_type": "code",
      "source": [
        "from mlflow.tracking import MlflowClient\n",
        "from mlflow.data import from_pandas\n",
        "client = MlflowClient()"
      ],
      "metadata": {
        "id": "hizdENID-X8P"
      },
      "execution_count": 7,
      "outputs": []
    },
    {
      "cell_type": "code",
      "source": [
        "experiments = (\n",
        "    client.search_experiments()\n",
        ")"
      ],
      "metadata": {
        "id": "1nMci_6u-tL5"
      },
      "execution_count": 8,
      "outputs": []
    },
    {
      "cell_type": "code",
      "source": [
        "experiments"
      ],
      "metadata": {
        "colab": {
          "base_uri": "https://localhost:8080/"
        },
        "id": "0vhxpf_W-vGb",
        "outputId": "a1775616-2b17-45cb-dcc1-e7dbfe94f994"
      },
      "execution_count": 9,
      "outputs": [
        {
          "output_type": "execute_result",
          "data": {
            "text/plain": [
              "[<Experiment: artifact_location='/content/mlflow-dp.non-prod.kinesso.ninja/103011558505213548', creation_time=1694623650363, experiment_id='103011558505213548', last_update_time=1694623650363, lifecycle_stage='active', name='Brand Voice Training Input Extraction Prompt', tags={}>,\n",
              " <Experiment: artifact_location='/content/mlflow-dp.non-prod.kinesso.ninja/0', creation_time=1694623650251, experiment_id='0', last_update_time=1694623650251, lifecycle_stage='active', name='Default', tags={}>]"
            ]
          },
          "metadata": {},
          "execution_count": 9
        }
      ]
    },
    {
      "cell_type": "markdown",
      "source": [
        "# Data Pipelines\n",
        "\n",
        "only run once to upload data to BQ"
      ],
      "metadata": {
        "id": "Ddl3yuRHp8J8"
      }
    },
    {
      "cell_type": "code",
      "source": [
        "!mkdir data |cp -r /content/drive/MyDrive/brand-voice/data/web-scraped/nationwide/raw ./data/raw"
      ],
      "metadata": {
        "id": "mDq7jt79o1jm"
      },
      "execution_count": 10,
      "outputs": []
    },
    {
      "cell_type": "markdown",
      "source": [
        "### Details on data:\n",
        "\n",
        "ziped json files - each json file has a web scrapped long form landing page content\n",
        "\n",
        "steps:\n",
        "\n",
        "* clean up json files\n",
        "* create BQ dataset and table\n",
        "* load data to BQ.\n",
        "\n",
        "\n",
        "\n",
        "\n",
        "\n",
        "\n",
        "\n"
      ],
      "metadata": {
        "id": "l9LI47YrHE1C"
      }
    },
    {
      "cell_type": "markdown",
      "source": [
        "## Clean up json files"
      ],
      "metadata": {
        "id": "yf9iC9w6HF4P"
      }
    },
    {
      "cell_type": "code",
      "source": [
        "import zipfile\n",
        "import json\n",
        "import jsonlines\n",
        "import pandas as pd\n",
        "\n",
        "def unzip_files(zip_file_path, destination_dir='./tmp/'):\n",
        "    with zipfile.ZipFile(zip_file_path, 'r') as zip_ref:\n",
        "        # extract all the contents\n",
        "        zip_ref.extractall(destination_dir)\n",
        "\n",
        "\n",
        "def process_json_to_jsonl(in_dir, out_dir, out_filename):\n",
        "    if not os.path.exists(out_dir):\n",
        "        os.makedirs(out_dir)\n",
        "    # list all json files in file_dir\n",
        "    json_files = [pos_json for pos_json in os.listdir(in_dir) if pos_json.endswith('.json')]\n",
        "    out_path = out_dir + out_filename\n",
        "    failed_json_files = []\n",
        "    with open(out_path, 'w+') as jsonl_output:\n",
        "        # loop through each json file\n",
        "        for f in json_files:\n",
        "            with open(os.path.join(in_dir, f)) as json_file:\n",
        "                json_data = json.load(json_file)\n",
        "            try:\n",
        "                # extract relevant information and clean up new lines\n",
        "                article_json = json_data[1]\n",
        "                article_json['url'] = json_data[0]['url']\n",
        "                if article_json.get('text'):\n",
        "                    article_json['text'] = article_json['text'].replace('\\n','*').replace('***','\\n')\n",
        "                json.dump(article_json, jsonl_output)\n",
        "                jsonl_output.write('\\n')\n",
        "            except:\n",
        "                # save failed to processed filenames\n",
        "                failed_json_files.append(f)\n",
        "    if len(failed_json_files) > 0:\n",
        "        with open(r'./failed_files.txt', 'w') as fp:\n",
        "            for item in failed_json_files:\n",
        "                fp.write(\"%s\\n\" % item)\n",
        "        print(f'Failed to process {len(failed_json_files)} json files. Saved to failed_files.txt')\n",
        "    print(f'Successfully processed {len(json_files)-len(failed_json_files)} json files. Saved in {out_path}')\n",
        "\n",
        "\n",
        "def run_data_cleaning(zip_file_path, in_dir, out_dir, out_filename):\n",
        "    unzip_files(zip_file_path, in_dir)\n",
        "    process_json_to_jsonl(in_dir, out_dir, out_filename)\n",
        "\n",
        "zip_file_path = \"./data/raw/nationwide_scraped.zip\"\n",
        "in_dir = './tmp/'\n",
        "out_dir = './tmp/processed/'\n",
        "out_filename = 'nationwide.jsonl'\n",
        "run_data_cleaning(zip_file_path, in_dir, out_dir, out_filename)"
      ],
      "metadata": {
        "colab": {
          "base_uri": "https://localhost:8080/"
        },
        "id": "1ho-cJ3hqLf3",
        "outputId": "c41c0357-60b5-4356-ecc7-e0ed1ff46f0c"
      },
      "execution_count": null,
      "outputs": [
        {
          "output_type": "stream",
          "name": "stdout",
          "text": [
            "Failed to process 20 json files. Saved to failed_files.txt\n",
            "Successfully processed 970 json files. Saved in ./tmp/processed/nationwide.jsonl\n"
          ]
        }
      ]
    },
    {
      "cell_type": "markdown",
      "source": [
        "### Inspect one example"
      ],
      "metadata": {
        "id": "hl9FJiLfdtW8"
      }
    },
    {
      "cell_type": "code",
      "source": [
        "import json\n",
        "with open('./tmp/output_www_nationwide_com_lc_resources_farm-and-agribusiness_articles_food-insecurity-and-farming.json', 'r') as f:\n",
        "    json_data = json.load(f)"
      ],
      "metadata": {
        "id": "49_zv-lItFss"
      },
      "execution_count": null,
      "outputs": []
    },
    {
      "cell_type": "code",
      "source": [
        "json_data"
      ],
      "metadata": {
        "colab": {
          "base_uri": "https://localhost:8080/"
        },
        "id": "f7rCm9V-tcdi",
        "outputId": "931e743a-cac1-47d9-9c5b-231100f25332"
      },
      "execution_count": null,
      "outputs": [
        {
          "output_type": "execute_result",
          "data": {
            "text/plain": [
              "[{'url': 'https://www.nationwide.com/lc/resources/farm-and-agribusiness/articles/food-insecurity-and-farming'},\n",
              " {'h1': 'Food insecurity and farming go hand in hand',\n",
              "  'text': \"The level of hunger in U.S. households has almost tripled between 2019 and August 2020, according to \\nan analysis\\n of new data from the Census Bureau and the Department of Agriculture. Feeding America, the nation's largest hunger-relief organization, says more than 54 million people in the country are at risk of food insecurity and 87% of U.S. counties with the highest rates of food insecurity are considered rural communities.\\n\\n\\nMeet Tessa Jarvis, an Iowa State University grad assistant in the Meat Science department, a division of ISU’s College of Agriculture and Life Sciences. As part of the agriculture industry facing very different needs during the COVID-19 pandemic, she pivoted from research to hands-on help with harvesting pork and has been a part of the Pass the Pork program that has fed more than 30,000 Iowans.\\n\\n\\nMarji Alaniz, \\nFarmHer\\n founder, talks with Tessa about food insecurity and the Pass the Pork program that connects Iowa pig farmers with food-insecure Iowans.\",\n",
              "  'image_caption': 'Pigs in a pen',\n",
              "  'call_to_action': ['an analysis', 'FarmHer']},\n",
              " {'h1': 'Food insecurity and farming go hand in hand',\n",
              "  'text': 'FarmHer is an organization that celebrates and lifts women who are a part of agriculture through their stories. Together, Nationwide and FarmHer have shared a long running relationship with a mutual appreciation for supporting these women. Through the \\nEverybody Eats\\n partnership, we encourage you to explore these educational, empowering and inspirational women and to share their stories with your community.',\n",
              "  'call_to_action': ['Everybody Eats']},\n",
              " {'h1': 'Food insecurity and farming go hand in hand',\n",
              "  'text': 'How cattle producers are adjusting to COVID-19 \\n\\n\\t\\t\\t\\t\\t\\n\\n\\t\\t\\t\\t\\n\\n\\t\\t\\t\\n\\t\\t\\t\\t\\n\\t\\t\\t\\t\\n\\n\\t\\t\\t\\t\\t\\n\\t\\t\\t\\t\\t\\n\\n\\t\\t\\t\\t\\t\\n\\n\\t\\t\\t\\t\\t\\nPodcast: Pivoting through pandemic\\n\\n\\t\\t\\t\\t\\t\\n\\n\\t\\t\\t\\t\\n\\n\\t\\t\\t\\n\\t\\t\\t\\t\\n\\t\\t\\t\\t\\n\\n\\t\\t\\t\\t\\t\\n\\t\\t\\t\\t\\t\\n\\n\\t\\t\\t\\t\\t\\n\\n\\t\\t\\t\\t\\t\\nContingency planning for farmers\\n\\n\\t\\t\\t\\t\\t\\n\\n\\t\\t\\t\\t\\n\\n\\t\\t\\t\\n\\t\\t\\t\\t\\n\\t\\t\\t\\t\\n\\n\\t\\t\\t\\t\\t\\n\\t\\t\\t\\t\\t\\n\\n\\t\\t\\t\\t\\t\\n\\n\\t\\t\\t\\t\\t\\nPodcast: Finding farm risk peace of mind in a pandemic \\n\\n\\t\\t\\t\\t\\t\\n\\n\\t\\t\\t\\t\\n\\n\\t\\t\\t\\n\\t\\t\\t\\n\\n\\t\\t\\t\\t\\n\\t\\t\\t\\t\\n\\t\\t\\t\\t\\n\\n\\t\\t\\t\\t\\n\\n\\t\\t\\t\\t\\nMore farm & agribusiness resources',\n",
              "  'call_to_action': ['How cattle producers are adjusting to COVID-19',\n",
              "   'Podcast: Pivoting through pandemic',\n",
              "   'Contingency planning for farmers',\n",
              "   'Podcast: Finding farm risk peace of mind in a pandemic',\n",
              "   'More farm & agribusiness resources']},\n",
              " {'h1': 'Food insecurity and farming go hand in hand',\n",
              "  'text': 'How cattle producers are adjusting to COVID-19',\n",
              "  'call_to_action': ['How cattle producers are adjusting to COVID-19']},\n",
              " {'h1': 'Food insecurity and farming go hand in hand',\n",
              "  'text': 'Podcast: Pivoting through pandemic',\n",
              "  'call_to_action': ['Podcast: Pivoting through pandemic']},\n",
              " {'h1': 'Food insecurity and farming go hand in hand',\n",
              "  'text': 'Contingency planning for farmers',\n",
              "  'call_to_action': ['Contingency planning for farmers']},\n",
              " {'h1': 'Food insecurity and farming go hand in hand',\n",
              "  'text': 'Podcast: Finding farm risk peace of mind in a pandemic',\n",
              "  'call_to_action': ['Podcast: Finding farm risk peace of mind in a pandemic']},\n",
              " {'h1': 'Food insecurity and farming go hand in hand',\n",
              "  'text': 'More farm & agribusiness resources',\n",
              "  'call_to_action': ['More farm & agribusiness resources']}]"
            ]
          },
          "metadata": {},
          "execution_count": 44
        }
      ]
    },
    {
      "cell_type": "code",
      "source": [
        "json_data[1]"
      ],
      "metadata": {
        "colab": {
          "base_uri": "https://localhost:8080/"
        },
        "id": "aKuREgwkkCsS",
        "outputId": "212724de-2d02-46ee-bd50-b9ba307f10b6"
      },
      "execution_count": null,
      "outputs": [
        {
          "output_type": "execute_result",
          "data": {
            "text/plain": [
              "{'h1': 'Food insecurity and farming go hand in hand',\n",
              " 'text': \"The level of hunger in U.S. households has almost tripled between 2019 and August 2020, according to \\nan analysis\\n of new data from the Census Bureau and the Department of Agriculture. Feeding America, the nation's largest hunger-relief organization, says more than 54 million people in the country are at risk of food insecurity and 87% of U.S. counties with the highest rates of food insecurity are considered rural communities.\\n\\n\\nMeet Tessa Jarvis, an Iowa State University grad assistant in the Meat Science department, a division of ISU’s College of Agriculture and Life Sciences. As part of the agriculture industry facing very different needs during the COVID-19 pandemic, she pivoted from research to hands-on help with harvesting pork and has been a part of the Pass the Pork program that has fed more than 30,000 Iowans.\\n\\n\\nMarji Alaniz, \\nFarmHer\\n founder, talks with Tessa about food insecurity and the Pass the Pork program that connects Iowa pig farmers with food-insecure Iowans.\",\n",
              " 'image_caption': 'Pigs in a pen',\n",
              " 'call_to_action': ['an analysis', 'FarmHer']}"
            ]
          },
          "metadata": {},
          "execution_count": 46
        }
      ]
    },
    {
      "cell_type": "code",
      "source": [
        "json_data[0]"
      ],
      "metadata": {
        "colab": {
          "base_uri": "https://localhost:8080/"
        },
        "id": "HUlTUM5KwIs8",
        "outputId": "b35c9ff9-4167-4a72-fdf1-88f4a2efdf51"
      },
      "execution_count": null,
      "outputs": [
        {
          "output_type": "execute_result",
          "data": {
            "text/plain": [
              "{'url': 'https://www.nationwide.com/lc/resources/farm-and-agribusiness/articles/food-insecurity-and-farming'}"
            ]
          },
          "metadata": {},
          "execution_count": 4
        }
      ]
    },
    {
      "cell_type": "markdown",
      "source": [
        "## create BQ dataset & table"
      ],
      "metadata": {
        "id": "8gUiXfXCito7"
      }
    },
    {
      "cell_type": "code",
      "source": [
        "from google.cloud import bigquery\n",
        "from google.cloud.exceptions import NotFound\n",
        "\n",
        "def create_dataset(dataset_name):\n",
        "    client = bigquery.Client(project=os.getenv('GCP_PROJECT_ID'))\n",
        "    dataset_id = f\"{client.project}.{dataset_name}\"\n",
        "    try:\n",
        "        client.get_dataset(dataset_id)\n",
        "        print(\"Dataset {} already exists\".format(dataset_id))\n",
        "    except NotFound:\n",
        "        dataset = bigquery.Dataset(dataset_id)\n",
        "        dataset = client.create_dataset(dataset, timeout=30)\n",
        "        print(\"Created dataset {}.{}\".format(client.project, dataset.dataset_id))\n",
        "    return dataset_id\n",
        "\n",
        "def create_table(dataset_id, table_name, schema):\n",
        "    client = bigquery.Client(project=os.getenv('GCP_PROJECT_ID'))\n",
        "    table_id = f\"{dataset_id}.{table_name}\"\n",
        "    try:\n",
        "        client.get_table(table_id)  # Make an API request.\n",
        "        print(\"Table {} already exists.\".format(table_id))\n",
        "    except NotFound:\n",
        "        table = bigquery.Table(table_id, schema=schema)\n",
        "        table = client.create_table(table)\n",
        "        print(\"Created Table {}\".format(table_id))\n",
        "    return table_id\n",
        "\n",
        "def delete_dataset(dataset_id):\n",
        "    client = bigquery.Client(project=os.getenv('GCP_PROJECT_ID'))\n",
        "    client.delete_dataset(\n",
        "        dataset_id, delete_contents=True, not_found_ok=True\n",
        "    )  # Make an API request.\n",
        "    print(\"Deleted dataset '{}'.\".format(dataset_id))\n",
        "\n"
      ],
      "metadata": {
        "id": "2_VMPu0fAbxY"
      },
      "execution_count": null,
      "outputs": []
    },
    {
      "cell_type": "code",
      "source": [
        "from google.cloud import bigquery\n",
        "\n",
        "dataset_name = 'brand_voice_test_data'\n",
        "dataset_id = create_dataset(dataset_name)"
      ],
      "metadata": {
        "id": "7Oa3u6fFfgwm",
        "colab": {
          "base_uri": "https://localhost:8080/"
        },
        "outputId": "1f4fb532-a99e-4f8e-ab3d-ca439b7ab226"
      },
      "execution_count": null,
      "outputs": [
        {
          "output_type": "stream",
          "name": "stdout",
          "text": [
            "Dataset ido-81-rnd-gcp-sandbox-2023q3.brand_voice_test_data already exists\n"
          ]
        }
      ]
    },
    {
      "cell_type": "code",
      "source": [
        "table_name = 'nationwide'\n",
        "schema = [\n",
        "    bigquery.SchemaField(\"url\", \"STRING\", mode=\"REQUIRED\"),\n",
        "    bigquery.SchemaField(\"h1\", \"STRING\", mode=\"Nullable\"),\n",
        "    bigquery.SchemaField(\"h2\", \"STRING\", mode=\"Nullable\"),\n",
        "    bigquery.SchemaField(\"text\", \"STRING\", mode=\"REQUIRED\"),\n",
        "    bigquery.SchemaField(\"image_caption\", \"INTEGER\", mode=\"Nullable\"),\n",
        "    bigquery.SchemaField(\"call_to_action\", \"INTEGER\", mode=\"Nullable\"),\n",
        "]\n",
        "\n",
        "table_id = create_table(dataset_id, table_name, schema)"
      ],
      "metadata": {
        "colab": {
          "base_uri": "https://localhost:8080/"
        },
        "id": "7OA1B1goCUBP",
        "outputId": "a4d2568a-5891-43b7-a4f1-0aef8d94327f"
      },
      "execution_count": null,
      "outputs": [
        {
          "output_type": "stream",
          "name": "stdout",
          "text": [
            "Created Table ido-81-rnd-gcp-sandbox-2023q3.brand_voice_test_data.nationwide\n"
          ]
        }
      ]
    },
    {
      "cell_type": "code",
      "source": [
        "# delete_dataset(dataset_id)"
      ],
      "metadata": {
        "colab": {
          "base_uri": "https://localhost:8080/"
        },
        "id": "8EkDYSMwC6og",
        "outputId": "36647d30-1091-4cd4-9f97-ed3142732af7"
      },
      "execution_count": null,
      "outputs": [
        {
          "output_type": "stream",
          "name": "stdout",
          "text": [
            "Deleted dataset 'ido-81-rnd-gcp-sandbox-2023q3.brand_voice_test_data'.\n"
          ]
        }
      ]
    },
    {
      "cell_type": "markdown",
      "source": [
        "## Load data to BQ"
      ],
      "metadata": {
        "id": "_1qdqzeAFziJ"
      }
    },
    {
      "cell_type": "code",
      "source": [
        "def load_df_to_bq(df, table_id, schema):\n",
        "    client = bigquery.Client(project=os.getenv('GCP_PROJECT_ID'))\n",
        "    job_config = bigquery.LoadJobConfig(\n",
        "        schema=schema,\n",
        "        write_disposition=\"WRITE_TRUNCATE\",\n",
        "    )\n",
        "\n",
        "    job = client.load_table_from_dataframe(\n",
        "        jsonOjb, table_id, job_config=job_config\n",
        "    )\n",
        "    job.result()  # Wait for the job to complete.\n",
        "    table = client.get_table(table_id)\n",
        "    print(\n",
        "        \"Loaded {} rows and {} columns to {}\".format(\n",
        "            table.num_rows, len(table.schema), table_id\n",
        "        )\n",
        "    )"
      ],
      "metadata": {
        "id": "tvIZvs9FEnji"
      },
      "execution_count": null,
      "outputs": []
    },
    {
      "cell_type": "code",
      "source": [
        "bq_load_schema=[\n",
        "    # Specify the type of columns whose type cannot be auto-detected. For\n",
        "    # example the \"title\" column uses pandas dtype \"object\", so its\n",
        "    # data type is ambiguous.\n",
        "    bigquery.SchemaField(\"url\", bigquery.enums.SqlTypeNames.STRING),\n",
        "    # Indexes are written if included in the schema by name.\n",
        "    bigquery.SchemaField(\"h1\", bigquery.enums.SqlTypeNames.STRING),\n",
        "    bigquery.SchemaField(\"h2\", bigquery.enums.SqlTypeNames.STRING),\n",
        "    bigquery.SchemaField(\"text\", bigquery.enums.SqlTypeNames.STRING),\n",
        "    bigquery.SchemaField(\"image_caption\", bigquery.enums.SqlTypeNames.STRING),\n",
        "    bigquery.SchemaField(\"call_to_action\", bigquery.enums.SqlTypeNames.STRING),\n",
        "]\n",
        "jsonOjb = pd.read_json(out_dir+out_filename, lines=True)\n",
        "df = jsonOjb.astype('str')\n",
        "df.set_index('url', inplace=True)\n",
        "load_df_to_bq(df, table_id, bq_load_schema)"
      ],
      "metadata": {
        "colab": {
          "base_uri": "https://localhost:8080/"
        },
        "id": "CKhBr4x1FfRl",
        "outputId": "42046418-b170-44aa-8567-db1df487d9ac"
      },
      "execution_count": null,
      "outputs": [
        {
          "output_type": "stream",
          "name": "stdout",
          "text": [
            "Loaded 970 rows and 6 columns to ido-81-rnd-gcp-sandbox-2023q3.brand_voice_test_data.nationwide\n"
          ]
        }
      ]
    },
    {
      "cell_type": "markdown",
      "source": [
        "## Get data from BQ"
      ],
      "metadata": {
        "id": "roPvcsaEfMhK"
      }
    },
    {
      "cell_type": "code",
      "source": [
        "# from google.cloud import bigquery\n",
        "from google.cloud import bigquery\n",
        "def construct_sql(table_id):\n",
        "    return f\"\"\"\n",
        "    SELECT *\n",
        "    FROM `{table_id}`\n",
        "    \"\"\"\n",
        "\n",
        "def run_bq_sql(sql):\n",
        "    client = bigquery.Client(project=os.getenv('GCP_PROJECT_ID'))\n",
        "    df = client.query(sql).to_dataframe()\n",
        "    return df\n",
        "\n",
        "table_id = 'ido-81-rnd-gcp-sandbox-2023q3.brand_voice_test_data.nationwide'\n",
        "df = run_bq_sql(construct_sql(table_id))"
      ],
      "metadata": {
        "id": "kAEZ-btrfSzt"
      },
      "execution_count": null,
      "outputs": []
    },
    {
      "cell_type": "code",
      "source": [
        "print(df.shape)\n",
        "df.head(4)"
      ],
      "metadata": {
        "colab": {
          "base_uri": "https://localhost:8080/",
          "height": 401
        },
        "id": "_r76DUQNgVBV",
        "outputId": "e680a353-1360-4d88-8570-0ba2d22775af"
      },
      "execution_count": null,
      "outputs": [
        {
          "output_type": "stream",
          "name": "stdout",
          "text": [
            "(970, 6)\n"
          ]
        },
        {
          "output_type": "execute_result",
          "data": {
            "text/plain": [
              "                                                 url  \\\n",
              "0  https://www.nationwide.com/lc/resources/invest...   \n",
              "1  https://www.nationwide.com/lc/resources/person...   \n",
              "2  https://www.nationwide.com/lc/resources/invest...   \n",
              "3  https://www.nationwide.com/lc/resources/powers...   \n",
              "\n",
              "                                                  h1  \\\n",
              "0  Read the latest findings from Nationwide's 202...   \n",
              "1               Leveraging your investments for cash   \n",
              "2                            What do annuities cost?   \n",
              "3  Consider a few things before purchasing a used...   \n",
              "\n",
              "                                                  h2  \\\n",
              "0                Make more informed filing decisions   \n",
              "1  Did you know that liquidity is an important fa...   \n",
              "2                                                nan   \n",
              "3                                   When to buy used   \n",
              "\n",
              "                                                text  \\\n",
              "0  Make more informed filing decisions\\nYour deci...   \n",
              "1  Did you know that liquidity is an important fa...   \n",
              "2  While variable annuities generally have higher...   \n",
              "3  When buying a motorcycle, whether you’re a fir...   \n",
              "\n",
              "                                  image_caption call_to_action  \n",
              "0       two women looking at a map in the woods            nan  \n",
              "1         two people sitting on couches talking            nan  \n",
              "2               business woman standing outside            nan  \n",
              "3  couple standing near motorcycle at the beach            nan  "
            ],
            "text/html": [
              "\n",
              "  <div id=\"df-9eabca55-b8b8-4f88-adcb-3bc65bed9845\" class=\"colab-df-container\">\n",
              "    <div>\n",
              "<style scoped>\n",
              "    .dataframe tbody tr th:only-of-type {\n",
              "        vertical-align: middle;\n",
              "    }\n",
              "\n",
              "    .dataframe tbody tr th {\n",
              "        vertical-align: top;\n",
              "    }\n",
              "\n",
              "    .dataframe thead th {\n",
              "        text-align: right;\n",
              "    }\n",
              "</style>\n",
              "<table border=\"1\" class=\"dataframe\">\n",
              "  <thead>\n",
              "    <tr style=\"text-align: right;\">\n",
              "      <th></th>\n",
              "      <th>url</th>\n",
              "      <th>h1</th>\n",
              "      <th>h2</th>\n",
              "      <th>text</th>\n",
              "      <th>image_caption</th>\n",
              "      <th>call_to_action</th>\n",
              "    </tr>\n",
              "  </thead>\n",
              "  <tbody>\n",
              "    <tr>\n",
              "      <th>0</th>\n",
              "      <td>https://www.nationwide.com/lc/resources/invest...</td>\n",
              "      <td>Read the latest findings from Nationwide's 202...</td>\n",
              "      <td>Make more informed filing decisions</td>\n",
              "      <td>Make more informed filing decisions\\nYour deci...</td>\n",
              "      <td>two women looking at a map in the woods</td>\n",
              "      <td>nan</td>\n",
              "    </tr>\n",
              "    <tr>\n",
              "      <th>1</th>\n",
              "      <td>https://www.nationwide.com/lc/resources/person...</td>\n",
              "      <td>Leveraging your investments for cash</td>\n",
              "      <td>Did you know that liquidity is an important fa...</td>\n",
              "      <td>Did you know that liquidity is an important fa...</td>\n",
              "      <td>two people sitting on couches talking</td>\n",
              "      <td>nan</td>\n",
              "    </tr>\n",
              "    <tr>\n",
              "      <th>2</th>\n",
              "      <td>https://www.nationwide.com/lc/resources/invest...</td>\n",
              "      <td>What do annuities cost?</td>\n",
              "      <td>nan</td>\n",
              "      <td>While variable annuities generally have higher...</td>\n",
              "      <td>business woman standing outside</td>\n",
              "      <td>nan</td>\n",
              "    </tr>\n",
              "    <tr>\n",
              "      <th>3</th>\n",
              "      <td>https://www.nationwide.com/lc/resources/powers...</td>\n",
              "      <td>Consider a few things before purchasing a used...</td>\n",
              "      <td>When to buy used</td>\n",
              "      <td>When buying a motorcycle, whether you’re a fir...</td>\n",
              "      <td>couple standing near motorcycle at the beach</td>\n",
              "      <td>nan</td>\n",
              "    </tr>\n",
              "  </tbody>\n",
              "</table>\n",
              "</div>\n",
              "    <div class=\"colab-df-buttons\">\n",
              "\n",
              "  <div class=\"colab-df-container\">\n",
              "    <button class=\"colab-df-convert\" onclick=\"convertToInteractive('df-9eabca55-b8b8-4f88-adcb-3bc65bed9845')\"\n",
              "            title=\"Convert this dataframe to an interactive table.\"\n",
              "            style=\"display:none;\">\n",
              "\n",
              "  <svg xmlns=\"http://www.w3.org/2000/svg\" height=\"24px\" viewBox=\"0 -960 960 960\">\n",
              "    <path d=\"M120-120v-720h720v720H120Zm60-500h600v-160H180v160Zm220 220h160v-160H400v160Zm0 220h160v-160H400v160ZM180-400h160v-160H180v160Zm440 0h160v-160H620v160ZM180-180h160v-160H180v160Zm440 0h160v-160H620v160Z\"/>\n",
              "  </svg>\n",
              "    </button>\n",
              "\n",
              "  <style>\n",
              "    .colab-df-container {\n",
              "      display:flex;\n",
              "      gap: 12px;\n",
              "    }\n",
              "\n",
              "    .colab-df-convert {\n",
              "      background-color: #E8F0FE;\n",
              "      border: none;\n",
              "      border-radius: 50%;\n",
              "      cursor: pointer;\n",
              "      display: none;\n",
              "      fill: #1967D2;\n",
              "      height: 32px;\n",
              "      padding: 0 0 0 0;\n",
              "      width: 32px;\n",
              "    }\n",
              "\n",
              "    .colab-df-convert:hover {\n",
              "      background-color: #E2EBFA;\n",
              "      box-shadow: 0px 1px 2px rgba(60, 64, 67, 0.3), 0px 1px 3px 1px rgba(60, 64, 67, 0.15);\n",
              "      fill: #174EA6;\n",
              "    }\n",
              "\n",
              "    .colab-df-buttons div {\n",
              "      margin-bottom: 4px;\n",
              "    }\n",
              "\n",
              "    [theme=dark] .colab-df-convert {\n",
              "      background-color: #3B4455;\n",
              "      fill: #D2E3FC;\n",
              "    }\n",
              "\n",
              "    [theme=dark] .colab-df-convert:hover {\n",
              "      background-color: #434B5C;\n",
              "      box-shadow: 0px 1px 3px 1px rgba(0, 0, 0, 0.15);\n",
              "      filter: drop-shadow(0px 1px 2px rgba(0, 0, 0, 0.3));\n",
              "      fill: #FFFFFF;\n",
              "    }\n",
              "  </style>\n",
              "\n",
              "    <script>\n",
              "      const buttonEl =\n",
              "        document.querySelector('#df-9eabca55-b8b8-4f88-adcb-3bc65bed9845 button.colab-df-convert');\n",
              "      buttonEl.style.display =\n",
              "        google.colab.kernel.accessAllowed ? 'block' : 'none';\n",
              "\n",
              "      async function convertToInteractive(key) {\n",
              "        const element = document.querySelector('#df-9eabca55-b8b8-4f88-adcb-3bc65bed9845');\n",
              "        const dataTable =\n",
              "          await google.colab.kernel.invokeFunction('convertToInteractive',\n",
              "                                                    [key], {});\n",
              "        if (!dataTable) return;\n",
              "\n",
              "        const docLinkHtml = 'Like what you see? Visit the ' +\n",
              "          '<a target=\"_blank\" href=https://colab.research.google.com/notebooks/data_table.ipynb>data table notebook</a>'\n",
              "          + ' to learn more about interactive tables.';\n",
              "        element.innerHTML = '';\n",
              "        dataTable['output_type'] = 'display_data';\n",
              "        await google.colab.output.renderOutput(dataTable, element);\n",
              "        const docLink = document.createElement('div');\n",
              "        docLink.innerHTML = docLinkHtml;\n",
              "        element.appendChild(docLink);\n",
              "      }\n",
              "    </script>\n",
              "  </div>\n",
              "\n",
              "\n",
              "<div id=\"df-fa9b2a5c-15a3-4b0f-aab8-1065f63988e3\">\n",
              "  <button class=\"colab-df-quickchart\" onclick=\"quickchart('df-fa9b2a5c-15a3-4b0f-aab8-1065f63988e3')\"\n",
              "            title=\"Suggest charts.\"\n",
              "            style=\"display:none;\">\n",
              "\n",
              "<svg xmlns=\"http://www.w3.org/2000/svg\" height=\"24px\"viewBox=\"0 0 24 24\"\n",
              "     width=\"24px\">\n",
              "    <g>\n",
              "        <path d=\"M19 3H5c-1.1 0-2 .9-2 2v14c0 1.1.9 2 2 2h14c1.1 0 2-.9 2-2V5c0-1.1-.9-2-2-2zM9 17H7v-7h2v7zm4 0h-2V7h2v10zm4 0h-2v-4h2v4z\"/>\n",
              "    </g>\n",
              "</svg>\n",
              "  </button>\n",
              "\n",
              "<style>\n",
              "  .colab-df-quickchart {\n",
              "      --bg-color: #E8F0FE;\n",
              "      --fill-color: #1967D2;\n",
              "      --hover-bg-color: #E2EBFA;\n",
              "      --hover-fill-color: #174EA6;\n",
              "      --disabled-fill-color: #AAA;\n",
              "      --disabled-bg-color: #DDD;\n",
              "  }\n",
              "\n",
              "  [theme=dark] .colab-df-quickchart {\n",
              "      --bg-color: #3B4455;\n",
              "      --fill-color: #D2E3FC;\n",
              "      --hover-bg-color: #434B5C;\n",
              "      --hover-fill-color: #FFFFFF;\n",
              "      --disabled-bg-color: #3B4455;\n",
              "      --disabled-fill-color: #666;\n",
              "  }\n",
              "\n",
              "  .colab-df-quickchart {\n",
              "    background-color: var(--bg-color);\n",
              "    border: none;\n",
              "    border-radius: 50%;\n",
              "    cursor: pointer;\n",
              "    display: none;\n",
              "    fill: var(--fill-color);\n",
              "    height: 32px;\n",
              "    padding: 0;\n",
              "    width: 32px;\n",
              "  }\n",
              "\n",
              "  .colab-df-quickchart:hover {\n",
              "    background-color: var(--hover-bg-color);\n",
              "    box-shadow: 0 1px 2px rgba(60, 64, 67, 0.3), 0 1px 3px 1px rgba(60, 64, 67, 0.15);\n",
              "    fill: var(--button-hover-fill-color);\n",
              "  }\n",
              "\n",
              "  .colab-df-quickchart-complete:disabled,\n",
              "  .colab-df-quickchart-complete:disabled:hover {\n",
              "    background-color: var(--disabled-bg-color);\n",
              "    fill: var(--disabled-fill-color);\n",
              "    box-shadow: none;\n",
              "  }\n",
              "\n",
              "  .colab-df-spinner {\n",
              "    border: 2px solid var(--fill-color);\n",
              "    border-color: transparent;\n",
              "    border-bottom-color: var(--fill-color);\n",
              "    animation:\n",
              "      spin 1s steps(1) infinite;\n",
              "  }\n",
              "\n",
              "  @keyframes spin {\n",
              "    0% {\n",
              "      border-color: transparent;\n",
              "      border-bottom-color: var(--fill-color);\n",
              "      border-left-color: var(--fill-color);\n",
              "    }\n",
              "    20% {\n",
              "      border-color: transparent;\n",
              "      border-left-color: var(--fill-color);\n",
              "      border-top-color: var(--fill-color);\n",
              "    }\n",
              "    30% {\n",
              "      border-color: transparent;\n",
              "      border-left-color: var(--fill-color);\n",
              "      border-top-color: var(--fill-color);\n",
              "      border-right-color: var(--fill-color);\n",
              "    }\n",
              "    40% {\n",
              "      border-color: transparent;\n",
              "      border-right-color: var(--fill-color);\n",
              "      border-top-color: var(--fill-color);\n",
              "    }\n",
              "    60% {\n",
              "      border-color: transparent;\n",
              "      border-right-color: var(--fill-color);\n",
              "    }\n",
              "    80% {\n",
              "      border-color: transparent;\n",
              "      border-right-color: var(--fill-color);\n",
              "      border-bottom-color: var(--fill-color);\n",
              "    }\n",
              "    90% {\n",
              "      border-color: transparent;\n",
              "      border-bottom-color: var(--fill-color);\n",
              "    }\n",
              "  }\n",
              "</style>\n",
              "\n",
              "  <script>\n",
              "    async function quickchart(key) {\n",
              "      const quickchartButtonEl =\n",
              "        document.querySelector('#' + key + ' button');\n",
              "      quickchartButtonEl.disabled = true;  // To prevent multiple clicks.\n",
              "      quickchartButtonEl.classList.add('colab-df-spinner');\n",
              "      try {\n",
              "        const charts = await google.colab.kernel.invokeFunction(\n",
              "            'suggestCharts', [key], {});\n",
              "      } catch (error) {\n",
              "        console.error('Error during call to suggestCharts:', error);\n",
              "      }\n",
              "      quickchartButtonEl.classList.remove('colab-df-spinner');\n",
              "      quickchartButtonEl.classList.add('colab-df-quickchart-complete');\n",
              "    }\n",
              "    (() => {\n",
              "      let quickchartButtonEl =\n",
              "        document.querySelector('#df-fa9b2a5c-15a3-4b0f-aab8-1065f63988e3 button');\n",
              "      quickchartButtonEl.style.display =\n",
              "        google.colab.kernel.accessAllowed ? 'block' : 'none';\n",
              "    })();\n",
              "  </script>\n",
              "</div>\n",
              "    </div>\n",
              "  </div>\n"
            ]
          },
          "metadata": {},
          "execution_count": 13
        }
      ]
    },
    {
      "cell_type": "markdown",
      "source": [
        "# Data Processing"
      ],
      "metadata": {
        "id": "GdTR3lQ05q7n"
      }
    },
    {
      "cell_type": "code",
      "source": [
        "df['wc'] = df['text'].apply(lambda x: len(x.split(' '))) # word count"
      ],
      "metadata": {
        "id": "27hqd1se5ptu"
      },
      "execution_count": null,
      "outputs": []
    },
    {
      "cell_type": "code",
      "source": [
        "df['wc'].describe()"
      ],
      "metadata": {
        "colab": {
          "base_uri": "https://localhost:8080/"
        },
        "id": "5Gi_qwBW5u4P",
        "outputId": "d00d7fd4-4ef1-44ca-f1b9-29344184d9d4"
      },
      "execution_count": null,
      "outputs": [
        {
          "output_type": "execute_result",
          "data": {
            "text/plain": [
              "count     970.000000\n",
              "mean      587.094845\n",
              "std       316.442319\n",
              "min         8.000000\n",
              "25%       395.000000\n",
              "50%       578.500000\n",
              "75%       759.000000\n",
              "max      2145.000000\n",
              "Name: wc, dtype: float64"
            ]
          },
          "metadata": {},
          "execution_count": 15
        }
      ]
    },
    {
      "cell_type": "code",
      "source": [
        "df_long = df[df['wc']>=df['wc'].describe()['25%']].reset_index() # only tune on long content > 395 words\n",
        "df_long.shape"
      ],
      "metadata": {
        "colab": {
          "base_uri": "https://localhost:8080/"
        },
        "id": "aTKcT3xL60pp",
        "outputId": "245a1e6a-9849-4efb-a971-6850967b0367"
      },
      "execution_count": null,
      "outputs": [
        {
          "output_type": "execute_result",
          "data": {
            "text/plain": [
              "(728, 8)"
            ]
          },
          "metadata": {},
          "execution_count": 16
        }
      ]
    },
    {
      "cell_type": "code",
      "source": [
        "df_long['text'][0]"
      ],
      "metadata": {
        "colab": {
          "base_uri": "https://localhost:8080/",
          "height": 140
        },
        "id": "M18wl7kS68f6",
        "outputId": "d3923045-5609-4492-ff13-379908351b40"
      },
      "execution_count": null,
      "outputs": [
        {
          "output_type": "execute_result",
          "data": {
            "text/plain": [
              "\"When buying a motorcycle, whether you’re a first-time owner or you’ve already owned a two-wheeler, you’ll have many options to consider. These include the engine size, the make and model of the bike and whether you want a new motorcycle or a used one.\\nIf you’re new to the motorcycle world, you might be better off buying a new motorcycle because you’ll have the support of a dealership – which can be helpful, particularly if you’re not experienced in the mechanics and servicing of a bike. A new motorcycle is also good if you want to make sure you have all the latest technology and features.\\nHowever, for some riders, a used motorcycle makes more sense.\\nWhen to buy used\\nOne of the biggest advantages to buying a used motorcycle is the price. Whether you’re going through a private seller or a dealership, there’s usually a significant price difference between new and used motorcycles. If your budget is the biggest consideration, buying used could be a great way to get more bike for your buck.\\nExperienced riders may also be good candidates for used motorcycles. If you have some experience riding, you’ll know better about what to look for in the overall feel of the bike.\\nIf it has some minor mechanical flaws, you’ll be more likely to notice them. You’ll probably know whether, say, that clinking sound you hear coming from the motor is something that can easily be fixed or something that’s setting you up for bigger problems down the road.;\\nKeep in mind that older bikes may not have all the technology and safety features of new models, such as ABS or other recent technology advances. That can affect your decision as to which motorcycle is best for your skill level and intended usage.\\nPrivate seller or a dealer?\\n**Buying from a private seller can be a great experience or it can be less than perfect, and much of that depends on the seller's honesty. With a dealership, you can often get a certified pre-owned bike, so you’ll know it’s been checked out mechanically and is in good condition for the road.\\xa0\\nThat’s not the case with a private seller, so be extra diligent. Some things you’ll want to check are:\\n\\n*Is it up to date on its service visits? Can the owner provide the paperwork to prove it?\\xa0\\nHas it been in any accidents or had any major repair work done?\\nHow many owners has it had? What is its overall driving history?\\nWhat is the odometer reading?\\n**Getting a vehicle history report, which also is called a VIN check, can provide you with most of what you’ll need to know about the bike before you decide to buy. Once you have the VIN, or vehicle identification number, you can get a free report from services such as vehiclehistory.com about that particular motorcycle’s history online. In most cases, if you buy from a dealership, it will be able to provide that for you.\\nRed flags\\nThings to look for when buying a used motorcycle include rust or significant scratches, oxidized paint, a rusty chain, smoke from the exhaust when the bike is started and leakage from the engine or transmission. Any of these can signal signs of bigger problems. If you aren’t entirely familiar with the mechanics of working on a motorcycle, have it checked out by a pro.\\nFinding the right bike can take some time and homework but making an informed, well-researched decision can lead to miles of pleasure on the road.\""
            ],
            "application/vnd.google.colaboratory.intrinsic+json": {
              "type": "string"
            }
          },
          "metadata": {},
          "execution_count": 50
        }
      ]
    },
    {
      "cell_type": "code",
      "source": [
        "from google.cloud import aiplatform\n",
        "aiplatform.init(project=os.getenv('GCP_PROJECT_ID'), location=os.getenv('GCP_LOCATION'))\n",
        "\n",
        "from vertexai.preview.language_models import TextGenerationModel\n",
        "\n",
        "def generate(model_name, prompt, temperature, max_output_tokens, top_k, top_p):\n",
        "    model = TextGenerationModel.from_pretrained(model_name)\n",
        "    response = model.predict(\n",
        "            prompt,\n",
        "            temperature=temperature,\n",
        "            max_output_tokens=max_output_tokens,\n",
        "            top_k=top_k,\n",
        "            top_p=top_p,\n",
        "        )\n",
        "    model_metadata = {'model_name':model_name, 'temperature':temperature, 'max_output_tokens':max_output_tokens, 'top_k':top_k, 'top_p':top_p}\n",
        "    return {'prompt':prompt, 'response':response, 'model_metadata':model_metadata}\n",
        "model_name = 'text-bison@001'"
      ],
      "metadata": {
        "id": "ZxpPwyco8JBL"
      },
      "execution_count": null,
      "outputs": []
    },
    {
      "cell_type": "markdown",
      "source": [
        "## Prompt experimentation to extract information of an article or long form content"
      ],
      "metadata": {
        "id": "soYZv9CmdXvK"
      }
    },
    {
      "cell_type": "code",
      "source": [
        "def summarization_experiment1(df, i, temperature = 0.2, max_output_tokens = 516, top_k = 40, top_p = .8):\n",
        "    title = df['h1'][i]\n",
        "    text = df['text'][i]\n",
        "    prompt = f\"\"\"\n",
        "        Summarize the following SEO content.\n",
        "        Output should be in json format and include objective, audience, audience_location, audience_stage_of_awareness, h1 tag, h2 tags, primary_keywords, secondary_keywords, language, and tones.\n",
        "        The audience_stage_of_awareness describes how well audience knows the product and can take a single value from ['Most Aware','Product Aware','Solution Aware','Problem Aware','Unaware']\n",
        "        The audience_location is the location of the intended audience. If unsure, use 'Anywhere'.\n",
        "        The language should be in full name. For example, use English instead of en.\n",
        "\n",
        "        **SEO content**: \\n\n",
        "        h1: {title}\\n\n",
        "        text:{text}\\n\n",
        "\n",
        "        \"\"\"\n",
        "    return generate(model_name, prompt, temperature, max_output_tokens, top_k, top_p)"
      ],
      "metadata": {
        "id": "JuD_F3CEBCEB"
      },
      "execution_count": null,
      "outputs": []
    },
    {
      "cell_type": "code",
      "source": [
        "output = summarization_experiment1(df_long, 5)\n",
        "print(output['response'].text)"
      ],
      "metadata": {
        "colab": {
          "base_uri": "https://localhost:8080/"
        },
        "id": "6TAs5TrFBZeo",
        "outputId": "0e78b8f0-684b-4f40-c2bd-42d4b9ea5415"
      },
      "execution_count": null,
      "outputs": [
        {
          "output_type": "stream",
          "name": "stdout",
          "text": [
            "{\n",
            "          \"objective\": \"Lead Generation\",\n",
            "          \"audience\": \"Consumers\",\n",
            "          \"audience_location\": \"Anywhere\",\n",
            "          \"audience_stage_of_awareness\": \"Problem Aware\",\n",
            "          \"h1\": \"Cómo comprar un auto a un vendedor particular\",\n",
            "          \"h2\": [\n",
            "            \"Ventajas de las ventas de vehículos entre particulares\",\n",
            "            \"Desventajas de la venta entre particulares\",\n",
            "            \"Guía para comprar un auto a un vendedor particular\",\n",
            "            \"Investiga\",\n",
            "            \"Examina detenidamente los anuncios\",\n",
            "            \"Contacta al vendedor\",\n",
            "            \"Examina el vehículo\",\n",
            "            \"Prueba de conducción\",\n",
            "            \"Lleva el vehículo a tu mecánico\",\n",
            "            \"Haz una oferta y cierra la venta\",\n",
            "            \"Consejos adicionales\"\n",
            "          ],\n",
            "          \"primary_keywords\": [\n",
            "            \"comprar un auto\",\n",
            "            \"vendedor particular\",\n",
            "            \"auto usado\"\n",
            "          ],\n",
            "          \"secondary_keywords\": [\n",
            "            \"automóvil\",\n",
            "            \"vehículo\",\n",
            "            \"automóviles\",\n",
            "            \"coche\",\n",
            "            \"coches\"\n",
            "          ],\n",
            "          \"language\": \"Spanish\",\n",
            "          \"tones\": [\n",
            "            \"Informative\",\n",
            "            \"Helpful\"\n",
            "          ]\n",
            "        }\n"
          ]
        }
      ]
    },
    {
      "cell_type": "code",
      "source": [
        "output = summarization_experiment1(df_long, 50)\n",
        "print(output['response'].text)"
      ],
      "metadata": {
        "colab": {
          "base_uri": "https://localhost:8080/"
        },
        "id": "Qu9eiQNX4RDh",
        "outputId": "db2f61a9-59a8-4c6e-bb50-e3eda4dbe9e0"
      },
      "execution_count": null,
      "outputs": [
        {
          "output_type": "stream",
          "name": "stdout",
          "text": [
            "{\n",
            "          \"objective\": \"Increase awareness of safe following distance\",\n",
            "          \"audience\": \"Drivers\",\n",
            "          \"audience_location\": \"Anywhere\",\n",
            "          \"audience_stage_of_awareness\": \"Problem Aware\",\n",
            "          \"h1\": \"What is a safe following distance\",\n",
            "          \"h2\": [\"Practice the 3-second rule\", \"When to increase your following distance\", \"Use defensive driving techniques\"],\n",
            "          \"primary_keywords\": [\"safe following distance\", \"defensive driving\", \"safe driving\"],\n",
            "          \"secondary_keywords\": [\"driving\", \"traffic\", \"accidents\"],\n",
            "          \"language\": \"English\",\n",
            "          \"tones\": [\"informative\", \"helpful\"]\n",
            "        }\n"
          ]
        }
      ]
    },
    {
      "cell_type": "code",
      "source": [
        "output = summarization_experiment1(df_long, 50, temperature=0.2) # use differnt temperature\n",
        "print(output['response'].text)"
      ],
      "metadata": {
        "colab": {
          "base_uri": "https://localhost:8080/"
        },
        "id": "VJyLNYxS5FOf",
        "outputId": "e60a834d-c70c-4d3d-adc8-31b205810356"
      },
      "execution_count": null,
      "outputs": [
        {
          "output_type": "stream",
          "name": "stdout",
          "text": [
            "{\n",
            "          \"objective\": \"Increase awareness of the importance of safe following distance\",\n",
            "          \"audience\": \"Drivers\",\n",
            "          \"audience_location\": \"Anywhere\",\n",
            "          \"audience_stage_of_awareness\": \"Problem Aware\",\n",
            "          \"h1\": \"What is a safe following distance\",\n",
            "          \"h2\": [\n",
            "            \"Practice the 3-second rule\",\n",
            "            \"When to increase your following distance\",\n",
            "            \"Use defensive driving techniques\"\n",
            "          ],\n",
            "          \"primary_keywords\": [\n",
            "            \"safe following distance\",\n",
            "            \"defensive driving\",\n",
            "            \"safe driving\"\n",
            "          ],\n",
            "          \"secondary_keywords\": [\n",
            "            \"following distance\",\n",
            "            \"defensive driving tips\",\n",
            "            \"safe driving tips\"\n",
            "          ],\n",
            "          \"language\": \"English\",\n",
            "          \"tones\": [\n",
            "            \"informative\",\n",
            "            \"helpful\"\n",
            "          ]\n",
            "        }\n"
          ]
        }
      ]
    },
    {
      "cell_type": "markdown",
      "source": [
        "## Log prompts and LLM predictions on ML Flow"
      ],
      "metadata": {
        "id": "hXfU3ryXE2QN"
      }
    },
    {
      "cell_type": "code",
      "source": [
        "inputs = [output['model_metadata']]\n",
        "\n",
        "outputs = [\n",
        "    output['response'].text\n",
        "]\n",
        "\n",
        "prompts = [\n",
        "    output['prompt']\n",
        "]\n",
        "\n",
        "\n",
        "with mlflow.start_run():\n",
        "    # Log llm predictions\n",
        "    mlflow.llm.log_predictions(inputs, outputs, prompts)"
      ],
      "metadata": {
        "colab": {
          "base_uri": "https://localhost:8080/"
        },
        "id": "n5fPWh8vE4LE",
        "outputId": "c4e7f6b1-90c0-489e-e440-6c228eda4c5e"
      },
      "execution_count": null,
      "outputs": [
        {
          "output_type": "stream",
          "name": "stderr",
          "text": [
            "2023/09/13 14:14:44 INFO mlflow.tracking.llm_utils: Creating a new llm_predictions.csv for run 19c56b1809e349f6b4398f4f2a5b5971.\n"
          ]
        }
      ]
    },
    {
      "cell_type": "code",
      "source": [
        "mlflow.search_runs(experiment_ids=['758760816997049357'])"
      ],
      "metadata": {
        "colab": {
          "base_uri": "https://localhost:8080/",
          "height": 264
        },
        "id": "SmdlI4qxFxqb",
        "outputId": "747356b0-5fac-4410-c09f-362fc9ebc217"
      },
      "execution_count": null,
      "outputs": [
        {
          "output_type": "execute_result",
          "data": {
            "text/plain": [
              "                             run_id       experiment_id    status  \\\n",
              "0  19c56b1809e349f6b4398f4f2a5b5971  758760816997049357  FINISHED   \n",
              "1  141a4961b93c4662a435935f9c2c0740  758760816997049357  FINISHED   \n",
              "2  9abae531e9c542e0a602379b612b8b0a  758760816997049357  FINISHED   \n",
              "3  63c989523ec64bdb840903e2c787d4fb  758760816997049357  FINISHED   \n",
              "\n",
              "                                        artifact_uri  \\\n",
              "0  /content/mlflow-dp.non-prod.kinesso.ninja/7587...   \n",
              "1  /content/mlflow-dp.non-prod.kinesso.ninja/7587...   \n",
              "2  /content/mlflow-dp.non-prod.kinesso.ninja/7587...   \n",
              "3  /content/mlflow-dp.non-prod.kinesso.ninja/7587...   \n",
              "\n",
              "                        start_time                         end_time  \\\n",
              "0 2023-09-13 14:14:44.534000+00:00 2023-09-13 14:14:44.551000+00:00   \n",
              "1 2023-09-13 14:11:28.156000+00:00 2023-09-13 14:11:28.185000+00:00   \n",
              "2 2023-09-13 14:01:41.789000+00:00 2023-09-13 14:01:41.806000+00:00   \n",
              "3 2023-09-13 13:53:46.731000+00:00 2023-09-13 13:53:46.746000+00:00   \n",
              "\n",
              "   tags.mlflow.runName                            tags.mlflow.source.name  \\\n",
              "0    agreeable-sow-527  /usr/local/lib/python3.10/dist-packages/ipyker...   \n",
              "1  trusting-grouse-164  /usr/local/lib/python3.10/dist-packages/ipyker...   \n",
              "2    carefree-dove-323  /usr/local/lib/python3.10/dist-packages/ipyker...   \n",
              "3     smiling-shad-817  /usr/local/lib/python3.10/dist-packages/ipyker...   \n",
              "\n",
              "  tags.mlflow.source.type tags.mlflow.user  \n",
              "0                   LOCAL             root  \n",
              "1                   LOCAL             root  \n",
              "2                   LOCAL             root  \n",
              "3                   LOCAL             root  "
            ],
            "text/html": [
              "\n",
              "  <div id=\"df-c079e3f7-7606-4c46-b652-fe894d94b90b\" class=\"colab-df-container\">\n",
              "    <div>\n",
              "<style scoped>\n",
              "    .dataframe tbody tr th:only-of-type {\n",
              "        vertical-align: middle;\n",
              "    }\n",
              "\n",
              "    .dataframe tbody tr th {\n",
              "        vertical-align: top;\n",
              "    }\n",
              "\n",
              "    .dataframe thead th {\n",
              "        text-align: right;\n",
              "    }\n",
              "</style>\n",
              "<table border=\"1\" class=\"dataframe\">\n",
              "  <thead>\n",
              "    <tr style=\"text-align: right;\">\n",
              "      <th></th>\n",
              "      <th>run_id</th>\n",
              "      <th>experiment_id</th>\n",
              "      <th>status</th>\n",
              "      <th>artifact_uri</th>\n",
              "      <th>start_time</th>\n",
              "      <th>end_time</th>\n",
              "      <th>tags.mlflow.runName</th>\n",
              "      <th>tags.mlflow.source.name</th>\n",
              "      <th>tags.mlflow.source.type</th>\n",
              "      <th>tags.mlflow.user</th>\n",
              "    </tr>\n",
              "  </thead>\n",
              "  <tbody>\n",
              "    <tr>\n",
              "      <th>0</th>\n",
              "      <td>19c56b1809e349f6b4398f4f2a5b5971</td>\n",
              "      <td>758760816997049357</td>\n",
              "      <td>FINISHED</td>\n",
              "      <td>/content/mlflow-dp.non-prod.kinesso.ninja/7587...</td>\n",
              "      <td>2023-09-13 14:14:44.534000+00:00</td>\n",
              "      <td>2023-09-13 14:14:44.551000+00:00</td>\n",
              "      <td>agreeable-sow-527</td>\n",
              "      <td>/usr/local/lib/python3.10/dist-packages/ipyker...</td>\n",
              "      <td>LOCAL</td>\n",
              "      <td>root</td>\n",
              "    </tr>\n",
              "    <tr>\n",
              "      <th>1</th>\n",
              "      <td>141a4961b93c4662a435935f9c2c0740</td>\n",
              "      <td>758760816997049357</td>\n",
              "      <td>FINISHED</td>\n",
              "      <td>/content/mlflow-dp.non-prod.kinesso.ninja/7587...</td>\n",
              "      <td>2023-09-13 14:11:28.156000+00:00</td>\n",
              "      <td>2023-09-13 14:11:28.185000+00:00</td>\n",
              "      <td>trusting-grouse-164</td>\n",
              "      <td>/usr/local/lib/python3.10/dist-packages/ipyker...</td>\n",
              "      <td>LOCAL</td>\n",
              "      <td>root</td>\n",
              "    </tr>\n",
              "    <tr>\n",
              "      <th>2</th>\n",
              "      <td>9abae531e9c542e0a602379b612b8b0a</td>\n",
              "      <td>758760816997049357</td>\n",
              "      <td>FINISHED</td>\n",
              "      <td>/content/mlflow-dp.non-prod.kinesso.ninja/7587...</td>\n",
              "      <td>2023-09-13 14:01:41.789000+00:00</td>\n",
              "      <td>2023-09-13 14:01:41.806000+00:00</td>\n",
              "      <td>carefree-dove-323</td>\n",
              "      <td>/usr/local/lib/python3.10/dist-packages/ipyker...</td>\n",
              "      <td>LOCAL</td>\n",
              "      <td>root</td>\n",
              "    </tr>\n",
              "    <tr>\n",
              "      <th>3</th>\n",
              "      <td>63c989523ec64bdb840903e2c787d4fb</td>\n",
              "      <td>758760816997049357</td>\n",
              "      <td>FINISHED</td>\n",
              "      <td>/content/mlflow-dp.non-prod.kinesso.ninja/7587...</td>\n",
              "      <td>2023-09-13 13:53:46.731000+00:00</td>\n",
              "      <td>2023-09-13 13:53:46.746000+00:00</td>\n",
              "      <td>smiling-shad-817</td>\n",
              "      <td>/usr/local/lib/python3.10/dist-packages/ipyker...</td>\n",
              "      <td>LOCAL</td>\n",
              "      <td>root</td>\n",
              "    </tr>\n",
              "  </tbody>\n",
              "</table>\n",
              "</div>\n",
              "    <div class=\"colab-df-buttons\">\n",
              "\n",
              "  <div class=\"colab-df-container\">\n",
              "    <button class=\"colab-df-convert\" onclick=\"convertToInteractive('df-c079e3f7-7606-4c46-b652-fe894d94b90b')\"\n",
              "            title=\"Convert this dataframe to an interactive table.\"\n",
              "            style=\"display:none;\">\n",
              "\n",
              "  <svg xmlns=\"http://www.w3.org/2000/svg\" height=\"24px\" viewBox=\"0 -960 960 960\">\n",
              "    <path d=\"M120-120v-720h720v720H120Zm60-500h600v-160H180v160Zm220 220h160v-160H400v160Zm0 220h160v-160H400v160ZM180-400h160v-160H180v160Zm440 0h160v-160H620v160ZM180-180h160v-160H180v160Zm440 0h160v-160H620v160Z\"/>\n",
              "  </svg>\n",
              "    </button>\n",
              "\n",
              "  <style>\n",
              "    .colab-df-container {\n",
              "      display:flex;\n",
              "      gap: 12px;\n",
              "    }\n",
              "\n",
              "    .colab-df-convert {\n",
              "      background-color: #E8F0FE;\n",
              "      border: none;\n",
              "      border-radius: 50%;\n",
              "      cursor: pointer;\n",
              "      display: none;\n",
              "      fill: #1967D2;\n",
              "      height: 32px;\n",
              "      padding: 0 0 0 0;\n",
              "      width: 32px;\n",
              "    }\n",
              "\n",
              "    .colab-df-convert:hover {\n",
              "      background-color: #E2EBFA;\n",
              "      box-shadow: 0px 1px 2px rgba(60, 64, 67, 0.3), 0px 1px 3px 1px rgba(60, 64, 67, 0.15);\n",
              "      fill: #174EA6;\n",
              "    }\n",
              "\n",
              "    .colab-df-buttons div {\n",
              "      margin-bottom: 4px;\n",
              "    }\n",
              "\n",
              "    [theme=dark] .colab-df-convert {\n",
              "      background-color: #3B4455;\n",
              "      fill: #D2E3FC;\n",
              "    }\n",
              "\n",
              "    [theme=dark] .colab-df-convert:hover {\n",
              "      background-color: #434B5C;\n",
              "      box-shadow: 0px 1px 3px 1px rgba(0, 0, 0, 0.15);\n",
              "      filter: drop-shadow(0px 1px 2px rgba(0, 0, 0, 0.3));\n",
              "      fill: #FFFFFF;\n",
              "    }\n",
              "  </style>\n",
              "\n",
              "    <script>\n",
              "      const buttonEl =\n",
              "        document.querySelector('#df-c079e3f7-7606-4c46-b652-fe894d94b90b button.colab-df-convert');\n",
              "      buttonEl.style.display =\n",
              "        google.colab.kernel.accessAllowed ? 'block' : 'none';\n",
              "\n",
              "      async function convertToInteractive(key) {\n",
              "        const element = document.querySelector('#df-c079e3f7-7606-4c46-b652-fe894d94b90b');\n",
              "        const dataTable =\n",
              "          await google.colab.kernel.invokeFunction('convertToInteractive',\n",
              "                                                    [key], {});\n",
              "        if (!dataTable) return;\n",
              "\n",
              "        const docLinkHtml = 'Like what you see? Visit the ' +\n",
              "          '<a target=\"_blank\" href=https://colab.research.google.com/notebooks/data_table.ipynb>data table notebook</a>'\n",
              "          + ' to learn more about interactive tables.';\n",
              "        element.innerHTML = '';\n",
              "        dataTable['output_type'] = 'display_data';\n",
              "        await google.colab.output.renderOutput(dataTable, element);\n",
              "        const docLink = document.createElement('div');\n",
              "        docLink.innerHTML = docLinkHtml;\n",
              "        element.appendChild(docLink);\n",
              "      }\n",
              "    </script>\n",
              "  </div>\n",
              "\n",
              "\n",
              "<div id=\"df-19e59c12-27b5-4c71-8799-7e15a29a817f\">\n",
              "  <button class=\"colab-df-quickchart\" onclick=\"quickchart('df-19e59c12-27b5-4c71-8799-7e15a29a817f')\"\n",
              "            title=\"Suggest charts.\"\n",
              "            style=\"display:none;\">\n",
              "\n",
              "<svg xmlns=\"http://www.w3.org/2000/svg\" height=\"24px\"viewBox=\"0 0 24 24\"\n",
              "     width=\"24px\">\n",
              "    <g>\n",
              "        <path d=\"M19 3H5c-1.1 0-2 .9-2 2v14c0 1.1.9 2 2 2h14c1.1 0 2-.9 2-2V5c0-1.1-.9-2-2-2zM9 17H7v-7h2v7zm4 0h-2V7h2v10zm4 0h-2v-4h2v4z\"/>\n",
              "    </g>\n",
              "</svg>\n",
              "  </button>\n",
              "\n",
              "<style>\n",
              "  .colab-df-quickchart {\n",
              "      --bg-color: #E8F0FE;\n",
              "      --fill-color: #1967D2;\n",
              "      --hover-bg-color: #E2EBFA;\n",
              "      --hover-fill-color: #174EA6;\n",
              "      --disabled-fill-color: #AAA;\n",
              "      --disabled-bg-color: #DDD;\n",
              "  }\n",
              "\n",
              "  [theme=dark] .colab-df-quickchart {\n",
              "      --bg-color: #3B4455;\n",
              "      --fill-color: #D2E3FC;\n",
              "      --hover-bg-color: #434B5C;\n",
              "      --hover-fill-color: #FFFFFF;\n",
              "      --disabled-bg-color: #3B4455;\n",
              "      --disabled-fill-color: #666;\n",
              "  }\n",
              "\n",
              "  .colab-df-quickchart {\n",
              "    background-color: var(--bg-color);\n",
              "    border: none;\n",
              "    border-radius: 50%;\n",
              "    cursor: pointer;\n",
              "    display: none;\n",
              "    fill: var(--fill-color);\n",
              "    height: 32px;\n",
              "    padding: 0;\n",
              "    width: 32px;\n",
              "  }\n",
              "\n",
              "  .colab-df-quickchart:hover {\n",
              "    background-color: var(--hover-bg-color);\n",
              "    box-shadow: 0 1px 2px rgba(60, 64, 67, 0.3), 0 1px 3px 1px rgba(60, 64, 67, 0.15);\n",
              "    fill: var(--button-hover-fill-color);\n",
              "  }\n",
              "\n",
              "  .colab-df-quickchart-complete:disabled,\n",
              "  .colab-df-quickchart-complete:disabled:hover {\n",
              "    background-color: var(--disabled-bg-color);\n",
              "    fill: var(--disabled-fill-color);\n",
              "    box-shadow: none;\n",
              "  }\n",
              "\n",
              "  .colab-df-spinner {\n",
              "    border: 2px solid var(--fill-color);\n",
              "    border-color: transparent;\n",
              "    border-bottom-color: var(--fill-color);\n",
              "    animation:\n",
              "      spin 1s steps(1) infinite;\n",
              "  }\n",
              "\n",
              "  @keyframes spin {\n",
              "    0% {\n",
              "      border-color: transparent;\n",
              "      border-bottom-color: var(--fill-color);\n",
              "      border-left-color: var(--fill-color);\n",
              "    }\n",
              "    20% {\n",
              "      border-color: transparent;\n",
              "      border-left-color: var(--fill-color);\n",
              "      border-top-color: var(--fill-color);\n",
              "    }\n",
              "    30% {\n",
              "      border-color: transparent;\n",
              "      border-left-color: var(--fill-color);\n",
              "      border-top-color: var(--fill-color);\n",
              "      border-right-color: var(--fill-color);\n",
              "    }\n",
              "    40% {\n",
              "      border-color: transparent;\n",
              "      border-right-color: var(--fill-color);\n",
              "      border-top-color: var(--fill-color);\n",
              "    }\n",
              "    60% {\n",
              "      border-color: transparent;\n",
              "      border-right-color: var(--fill-color);\n",
              "    }\n",
              "    80% {\n",
              "      border-color: transparent;\n",
              "      border-right-color: var(--fill-color);\n",
              "      border-bottom-color: var(--fill-color);\n",
              "    }\n",
              "    90% {\n",
              "      border-color: transparent;\n",
              "      border-bottom-color: var(--fill-color);\n",
              "    }\n",
              "  }\n",
              "</style>\n",
              "\n",
              "  <script>\n",
              "    async function quickchart(key) {\n",
              "      const quickchartButtonEl =\n",
              "        document.querySelector('#' + key + ' button');\n",
              "      quickchartButtonEl.disabled = true;  // To prevent multiple clicks.\n",
              "      quickchartButtonEl.classList.add('colab-df-spinner');\n",
              "      try {\n",
              "        const charts = await google.colab.kernel.invokeFunction(\n",
              "            'suggestCharts', [key], {});\n",
              "      } catch (error) {\n",
              "        console.error('Error during call to suggestCharts:', error);\n",
              "      }\n",
              "      quickchartButtonEl.classList.remove('colab-df-spinner');\n",
              "      quickchartButtonEl.classList.add('colab-df-quickchart-complete');\n",
              "    }\n",
              "    (() => {\n",
              "      let quickchartButtonEl =\n",
              "        document.querySelector('#df-19e59c12-27b5-4c71-8799-7e15a29a817f button');\n",
              "      quickchartButtonEl.style.display =\n",
              "        google.colab.kernel.accessAllowed ? 'block' : 'none';\n",
              "    })();\n",
              "  </script>\n",
              "</div>\n",
              "    </div>\n",
              "  </div>\n"
            ]
          },
          "metadata": {},
          "execution_count": 44
        }
      ]
    },
    {
      "cell_type": "markdown",
      "source": [
        "# Build Training Dataset"
      ],
      "metadata": {
        "id": "1O9bOXlWE0Ok"
      }
    },
    {
      "cell_type": "code",
      "source": [
        "import json\n",
        "\n",
        "training_inputs_list = []\n",
        "prompts = []\n",
        "model_configs = []\n",
        "for i in range(len(df_long)):\n",
        "    output = summarization_experiment1(df_long,i)\n",
        "    training_inputs_list.append(json.loads(output['response'].text))\n",
        "    prompts.append(output['prompt'])\n",
        "    model_configs.append(output['model_metadata'])\n",
        "\n",
        "# Note: Sometime the the LLM prediction returns null (very rarely)\n"
      ],
      "metadata": {
        "id": "BKNQVBru0rFT"
      },
      "execution_count": 11,
      "outputs": []
    },
    {
      "cell_type": "code",
      "source": [
        "with mlflow.start_run():\n",
        "    # Log llm predictions\n",
        "    mlflow.llm.log_predictions(model_configs, training_inputs_list, prompts)"
      ],
      "metadata": {
        "colab": {
          "base_uri": "https://localhost:8080/"
        },
        "id": "EmxMN_tF3i9f",
        "outputId": "f32351f6-92c7-49d6-9f2f-1b420620c429"
      },
      "execution_count": null,
      "outputs": [
        {
          "output_type": "stream",
          "name": "stderr",
          "text": [
            "2023/09/13 15:10:06 INFO mlflow.tracking.llm_utils: Creating a new llm_predictions.csv for run 444893d1d8114c129b573e50cd605ca8.\n"
          ]
        }
      ]
    },
    {
      "cell_type": "code",
      "source": [
        "df_tuning = df_long[:len(training_inputs_list)]\n",
        "df_tuning['output_text'] = df['h1'] + '\\n' + df['text']\n",
        "df_tuning['input_text'] = training_inputs_list\n",
        "df_tuning = df_tuning[['input_text','output_text']]"
      ],
      "metadata": {
        "colab": {
          "base_uri": "https://localhost:8080/"
        },
        "id": "jVGPZjUG1uwI",
        "outputId": "c1ce763a-ddec-407d-b800-cb42beb800b7"
      },
      "execution_count": null,
      "outputs": [
        {
          "output_type": "stream",
          "name": "stderr",
          "text": [
            "<ipython-input-85-12b0ed83b5ec>:2: SettingWithCopyWarning: \n",
            "A value is trying to be set on a copy of a slice from a DataFrame.\n",
            "Try using .loc[row_indexer,col_indexer] = value instead\n",
            "\n",
            "See the caveats in the documentation: https://pandas.pydata.org/pandas-docs/stable/user_guide/indexing.html#returning-a-view-versus-a-copy\n",
            "  df_tuning['output_text'] = df['h1'] + '\\n' + df['text']\n",
            "<ipython-input-85-12b0ed83b5ec>:3: SettingWithCopyWarning: \n",
            "A value is trying to be set on a copy of a slice from a DataFrame.\n",
            "Try using .loc[row_indexer,col_indexer] = value instead\n",
            "\n",
            "See the caveats in the documentation: https://pandas.pydata.org/pandas-docs/stable/user_guide/indexing.html#returning-a-view-versus-a-copy\n",
            "  df_tuning['input_text'] = training_inputs_list\n"
          ]
        }
      ]
    },
    {
      "cell_type": "code",
      "source": [
        "df_tuning.head(3)"
      ],
      "metadata": {
        "colab": {
          "base_uri": "https://localhost:8080/",
          "height": 143
        },
        "id": "DfkA3Fyq-PI5",
        "outputId": "5c574c19-0593-4840-808c-e2a7d8980f44"
      },
      "execution_count": null,
      "outputs": [
        {
          "output_type": "execute_result",
          "data": {
            "text/plain": [
              "                                            input_text  \\\n",
              "676  {'objective': 'To generate leads for Nationwid...   \n",
              "677  {'objective': 'Lead Generation', 'audience': '...   \n",
              "678  {'objective': 'Lead Generation', 'audience': '...   \n",
              "\n",
              "                                           output_text  \n",
              "676  8 motorcycle maintenance tasks you should be d...  \n",
              "677  What to consider before franchising your busin...  \n",
              "678  4 motivos para considerar el seguro para masco...  "
            ],
            "text/html": [
              "\n",
              "  <div id=\"df-199c7b60-5b73-48ef-8957-008cf578b1be\" class=\"colab-df-container\">\n",
              "    <div>\n",
              "<style scoped>\n",
              "    .dataframe tbody tr th:only-of-type {\n",
              "        vertical-align: middle;\n",
              "    }\n",
              "\n",
              "    .dataframe tbody tr th {\n",
              "        vertical-align: top;\n",
              "    }\n",
              "\n",
              "    .dataframe thead th {\n",
              "        text-align: right;\n",
              "    }\n",
              "</style>\n",
              "<table border=\"1\" class=\"dataframe\">\n",
              "  <thead>\n",
              "    <tr style=\"text-align: right;\">\n",
              "      <th></th>\n",
              "      <th>input_text</th>\n",
              "      <th>output_text</th>\n",
              "    </tr>\n",
              "  </thead>\n",
              "  <tbody>\n",
              "    <tr>\n",
              "      <th>676</th>\n",
              "      <td>{'objective': 'To generate leads for Nationwid...</td>\n",
              "      <td>8 motorcycle maintenance tasks you should be d...</td>\n",
              "    </tr>\n",
              "    <tr>\n",
              "      <th>677</th>\n",
              "      <td>{'objective': 'Lead Generation', 'audience': '...</td>\n",
              "      <td>What to consider before franchising your busin...</td>\n",
              "    </tr>\n",
              "    <tr>\n",
              "      <th>678</th>\n",
              "      <td>{'objective': 'Lead Generation', 'audience': '...</td>\n",
              "      <td>4 motivos para considerar el seguro para masco...</td>\n",
              "    </tr>\n",
              "  </tbody>\n",
              "</table>\n",
              "</div>\n",
              "    <div class=\"colab-df-buttons\">\n",
              "\n",
              "  <div class=\"colab-df-container\">\n",
              "    <button class=\"colab-df-convert\" onclick=\"convertToInteractive('df-199c7b60-5b73-48ef-8957-008cf578b1be')\"\n",
              "            title=\"Convert this dataframe to an interactive table.\"\n",
              "            style=\"display:none;\">\n",
              "\n",
              "  <svg xmlns=\"http://www.w3.org/2000/svg\" height=\"24px\" viewBox=\"0 -960 960 960\">\n",
              "    <path d=\"M120-120v-720h720v720H120Zm60-500h600v-160H180v160Zm220 220h160v-160H400v160Zm0 220h160v-160H400v160ZM180-400h160v-160H180v160Zm440 0h160v-160H620v160ZM180-180h160v-160H180v160Zm440 0h160v-160H620v160Z\"/>\n",
              "  </svg>\n",
              "    </button>\n",
              "\n",
              "  <style>\n",
              "    .colab-df-container {\n",
              "      display:flex;\n",
              "      gap: 12px;\n",
              "    }\n",
              "\n",
              "    .colab-df-convert {\n",
              "      background-color: #E8F0FE;\n",
              "      border: none;\n",
              "      border-radius: 50%;\n",
              "      cursor: pointer;\n",
              "      display: none;\n",
              "      fill: #1967D2;\n",
              "      height: 32px;\n",
              "      padding: 0 0 0 0;\n",
              "      width: 32px;\n",
              "    }\n",
              "\n",
              "    .colab-df-convert:hover {\n",
              "      background-color: #E2EBFA;\n",
              "      box-shadow: 0px 1px 2px rgba(60, 64, 67, 0.3), 0px 1px 3px 1px rgba(60, 64, 67, 0.15);\n",
              "      fill: #174EA6;\n",
              "    }\n",
              "\n",
              "    .colab-df-buttons div {\n",
              "      margin-bottom: 4px;\n",
              "    }\n",
              "\n",
              "    [theme=dark] .colab-df-convert {\n",
              "      background-color: #3B4455;\n",
              "      fill: #D2E3FC;\n",
              "    }\n",
              "\n",
              "    [theme=dark] .colab-df-convert:hover {\n",
              "      background-color: #434B5C;\n",
              "      box-shadow: 0px 1px 3px 1px rgba(0, 0, 0, 0.15);\n",
              "      filter: drop-shadow(0px 1px 2px rgba(0, 0, 0, 0.3));\n",
              "      fill: #FFFFFF;\n",
              "    }\n",
              "  </style>\n",
              "\n",
              "    <script>\n",
              "      const buttonEl =\n",
              "        document.querySelector('#df-199c7b60-5b73-48ef-8957-008cf578b1be button.colab-df-convert');\n",
              "      buttonEl.style.display =\n",
              "        google.colab.kernel.accessAllowed ? 'block' : 'none';\n",
              "\n",
              "      async function convertToInteractive(key) {\n",
              "        const element = document.querySelector('#df-199c7b60-5b73-48ef-8957-008cf578b1be');\n",
              "        const dataTable =\n",
              "          await google.colab.kernel.invokeFunction('convertToInteractive',\n",
              "                                                    [key], {});\n",
              "        if (!dataTable) return;\n",
              "\n",
              "        const docLinkHtml = 'Like what you see? Visit the ' +\n",
              "          '<a target=\"_blank\" href=https://colab.research.google.com/notebooks/data_table.ipynb>data table notebook</a>'\n",
              "          + ' to learn more about interactive tables.';\n",
              "        element.innerHTML = '';\n",
              "        dataTable['output_type'] = 'display_data';\n",
              "        await google.colab.output.renderOutput(dataTable, element);\n",
              "        const docLink = document.createElement('div');\n",
              "        docLink.innerHTML = docLinkHtml;\n",
              "        element.appendChild(docLink);\n",
              "      }\n",
              "    </script>\n",
              "  </div>\n",
              "\n",
              "\n",
              "<div id=\"df-d870675e-bc08-4137-85be-530520ae8988\">\n",
              "  <button class=\"colab-df-quickchart\" onclick=\"quickchart('df-d870675e-bc08-4137-85be-530520ae8988')\"\n",
              "            title=\"Suggest charts.\"\n",
              "            style=\"display:none;\">\n",
              "\n",
              "<svg xmlns=\"http://www.w3.org/2000/svg\" height=\"24px\"viewBox=\"0 0 24 24\"\n",
              "     width=\"24px\">\n",
              "    <g>\n",
              "        <path d=\"M19 3H5c-1.1 0-2 .9-2 2v14c0 1.1.9 2 2 2h14c1.1 0 2-.9 2-2V5c0-1.1-.9-2-2-2zM9 17H7v-7h2v7zm4 0h-2V7h2v10zm4 0h-2v-4h2v4z\"/>\n",
              "    </g>\n",
              "</svg>\n",
              "  </button>\n",
              "\n",
              "<style>\n",
              "  .colab-df-quickchart {\n",
              "      --bg-color: #E8F0FE;\n",
              "      --fill-color: #1967D2;\n",
              "      --hover-bg-color: #E2EBFA;\n",
              "      --hover-fill-color: #174EA6;\n",
              "      --disabled-fill-color: #AAA;\n",
              "      --disabled-bg-color: #DDD;\n",
              "  }\n",
              "\n",
              "  [theme=dark] .colab-df-quickchart {\n",
              "      --bg-color: #3B4455;\n",
              "      --fill-color: #D2E3FC;\n",
              "      --hover-bg-color: #434B5C;\n",
              "      --hover-fill-color: #FFFFFF;\n",
              "      --disabled-bg-color: #3B4455;\n",
              "      --disabled-fill-color: #666;\n",
              "  }\n",
              "\n",
              "  .colab-df-quickchart {\n",
              "    background-color: var(--bg-color);\n",
              "    border: none;\n",
              "    border-radius: 50%;\n",
              "    cursor: pointer;\n",
              "    display: none;\n",
              "    fill: var(--fill-color);\n",
              "    height: 32px;\n",
              "    padding: 0;\n",
              "    width: 32px;\n",
              "  }\n",
              "\n",
              "  .colab-df-quickchart:hover {\n",
              "    background-color: var(--hover-bg-color);\n",
              "    box-shadow: 0 1px 2px rgba(60, 64, 67, 0.3), 0 1px 3px 1px rgba(60, 64, 67, 0.15);\n",
              "    fill: var(--button-hover-fill-color);\n",
              "  }\n",
              "\n",
              "  .colab-df-quickchart-complete:disabled,\n",
              "  .colab-df-quickchart-complete:disabled:hover {\n",
              "    background-color: var(--disabled-bg-color);\n",
              "    fill: var(--disabled-fill-color);\n",
              "    box-shadow: none;\n",
              "  }\n",
              "\n",
              "  .colab-df-spinner {\n",
              "    border: 2px solid var(--fill-color);\n",
              "    border-color: transparent;\n",
              "    border-bottom-color: var(--fill-color);\n",
              "    animation:\n",
              "      spin 1s steps(1) infinite;\n",
              "  }\n",
              "\n",
              "  @keyframes spin {\n",
              "    0% {\n",
              "      border-color: transparent;\n",
              "      border-bottom-color: var(--fill-color);\n",
              "      border-left-color: var(--fill-color);\n",
              "    }\n",
              "    20% {\n",
              "      border-color: transparent;\n",
              "      border-left-color: var(--fill-color);\n",
              "      border-top-color: var(--fill-color);\n",
              "    }\n",
              "    30% {\n",
              "      border-color: transparent;\n",
              "      border-left-color: var(--fill-color);\n",
              "      border-top-color: var(--fill-color);\n",
              "      border-right-color: var(--fill-color);\n",
              "    }\n",
              "    40% {\n",
              "      border-color: transparent;\n",
              "      border-right-color: var(--fill-color);\n",
              "      border-top-color: var(--fill-color);\n",
              "    }\n",
              "    60% {\n",
              "      border-color: transparent;\n",
              "      border-right-color: var(--fill-color);\n",
              "    }\n",
              "    80% {\n",
              "      border-color: transparent;\n",
              "      border-right-color: var(--fill-color);\n",
              "      border-bottom-color: var(--fill-color);\n",
              "    }\n",
              "    90% {\n",
              "      border-color: transparent;\n",
              "      border-bottom-color: var(--fill-color);\n",
              "    }\n",
              "  }\n",
              "</style>\n",
              "\n",
              "  <script>\n",
              "    async function quickchart(key) {\n",
              "      const quickchartButtonEl =\n",
              "        document.querySelector('#' + key + ' button');\n",
              "      quickchartButtonEl.disabled = true;  // To prevent multiple clicks.\n",
              "      quickchartButtonEl.classList.add('colab-df-spinner');\n",
              "      try {\n",
              "        const charts = await google.colab.kernel.invokeFunction(\n",
              "            'suggestCharts', [key], {});\n",
              "      } catch (error) {\n",
              "        console.error('Error during call to suggestCharts:', error);\n",
              "      }\n",
              "      quickchartButtonEl.classList.remove('colab-df-spinner');\n",
              "      quickchartButtonEl.classList.add('colab-df-quickchart-complete');\n",
              "    }\n",
              "    (() => {\n",
              "      let quickchartButtonEl =\n",
              "        document.querySelector('#df-d870675e-bc08-4137-85be-530520ae8988 button');\n",
              "      quickchartButtonEl.style.display =\n",
              "        google.colab.kernel.accessAllowed ? 'block' : 'none';\n",
              "    })();\n",
              "  </script>\n",
              "</div>\n",
              "    </div>\n",
              "  </div>\n"
            ]
          },
          "metadata": {},
          "execution_count": 86
        }
      ]
    },
    {
      "cell_type": "code",
      "source": [
        "df_tuning.to_csv('/content/drive/MyDrive/brand-voice/data/model-tuning/tuning_df_test_small_batch_676_708_temp0.2.csv', index=False)\n"
      ],
      "metadata": {
        "id": "t8L3Y3HN6-kZ"
      },
      "execution_count": null,
      "outputs": []
    },
    {
      "cell_type": "markdown",
      "source": [
        "# Store Training Dataset"
      ],
      "metadata": {
        "id": "c2Eo_GZPRPFS"
      }
    },
    {
      "cell_type": "code",
      "source": [
        "from google.cloud import storage\n",
        "\n",
        "def list_buckets():\n",
        "    \"\"\"Lists all buckets.\"\"\"\n",
        "\n",
        "    storage_client = storage.Client(project=os.getenv('GCP_PROJECT_ID'))\n",
        "    buckets = storage_client.list_buckets()\n",
        "\n",
        "    for bucket in buckets:\n",
        "        print(bucket.name)\n",
        "\n",
        "def create_bucket_class_location(bucket_name):\n",
        "    \"\"\"\n",
        "    Create a new bucket in the US region with the coldline storage\n",
        "    class\n",
        "    TODO: default to the cheapest storage class for now. Update if needed in the future.\n",
        "    Storage class can also be changed from an existing bucket.\n",
        "    \"\"\"\n",
        "\n",
        "    storage_client = storage.Client(project=os.getenv('GCP_PROJECT_ID'))\n",
        "\n",
        "    bucket = storage_client.bucket(bucket_name)\n",
        "    bucket.storage_class = \"STANDARD\"\n",
        "    new_bucket = storage_client.create_bucket(bucket, location=\"us\")\n",
        "\n",
        "    print(\n",
        "        \"Created bucket {} in {} with storage class {}\".format(\n",
        "            new_bucket.name, new_bucket.location, new_bucket.storage_class\n",
        "        )\n",
        "    )\n",
        "    return new_bucket\n",
        "\n",
        "def upload_blob(bucket_name, source_file_name, destination_blob_name):\n",
        "    \"\"\"Uploads a file to the bucket.\"\"\"\n",
        "    # The ID of your GCS bucket\n",
        "    # bucket_name = \"your-bucket-name\"\n",
        "    # The path to your file to upload\n",
        "    # source_file_name = \"local/path/to/file\"\n",
        "    # The ID of your GCS object\n",
        "    # destination_blob_name = \"storage-object-name\"\n",
        "\n",
        "    storage_client = storage.Client(project=os.getenv('GCP_PROJECT_ID'))\n",
        "    bucket = storage_client.bucket(bucket_name)\n",
        "    blob = bucket.blob(destination_blob_name)\n",
        "\n",
        "    # Optional: set a generation-match precondition to avoid potential race conditions\n",
        "    # and data corruptions. The request to upload is aborted if the object's\n",
        "    # generation number does not match your precondition. For a destination\n",
        "    # object that does not yet exist, set the if_generation_match precondition to 0.\n",
        "    # If the destination object already exists in your bucket, set instead a\n",
        "    # generation-match precondition using its generation number.\n",
        "    generation_match_precondition = 0\n",
        "\n",
        "    blob.upload_from_filename(source_file_name, if_generation_match=generation_match_precondition)\n",
        "\n",
        "    print(\n",
        "        f\"File {source_file_name} uploaded to {destination_blob_name}.\"\n",
        "    )\n"
      ],
      "metadata": {
        "id": "JfKY_KGFRR5d"
      },
      "execution_count": 14,
      "outputs": []
    },
    {
      "cell_type": "code",
      "source": [
        "list_buckets()"
      ],
      "metadata": {
        "colab": {
          "base_uri": "https://localhost:8080/"
        },
        "id": "fPxRq-OBfGaO",
        "outputId": "a04caeea-6513-4140-8bbb-ddfe5c747ab3"
      },
      "execution_count": 13,
      "outputs": [
        {
          "output_type": "stream",
          "name": "stdout",
          "text": [
            "3d5a267881db4384bbd87b4c03ca3c50_clouddeploy\n",
            "64f0b432e9d646a5b65ae4f97a547380_clouddeploy\n",
            "brand-voice-training-data-bucket\n",
            "f44a8e3b1407491cb7b6c8284aabc6d4_clouddeploy\n",
            "fc85a8bb89e8448b8e960e6081a71555_clouddeploy\n",
            "ido-81-rnd-gcp-sandbox-2023q3-vertex-pipelines-europe-west4\n",
            "ido-81-rnd-gcp-sandbox-2023q3-vertex-pipelines-us-central1\n",
            "us-central1.deploy-artifacts.ido-81-rnd-gcp-sandbox-2023q3.appspot.com\n"
          ]
        }
      ]
    },
    {
      "cell_type": "code",
      "source": [
        "bucket_name = 'brand-voice-training-data-bucket'"
      ],
      "metadata": {
        "id": "X-_t-lDYjRzT"
      },
      "execution_count": 18,
      "outputs": []
    },
    {
      "cell_type": "markdown",
      "source": [
        "## Upload prepared training data"
      ],
      "metadata": {
        "id": "81glIC5PjuzQ"
      }
    },
    {
      "cell_type": "code",
      "source": [
        "# upload_blob(bucket_name=bucket_name,\n",
        "#             source_file_name=\"/content/drive/MyDrive/brand-voice/data/model-tuning/tuning_df_test_small_batch.csv\",\n",
        "#             destination_blob_name=\"nationwide/model-tuning/test_small_batch.csv\")"
      ],
      "metadata": {
        "colab": {
          "base_uri": "https://localhost:8080/"
        },
        "id": "WiLk-w_igxgr",
        "outputId": "5d18e4fd-7fca-4701-f1c4-0bc83263905d"
      },
      "execution_count": 15,
      "outputs": [
        {
          "output_type": "stream",
          "name": "stdout",
          "text": [
            "File /content/drive/MyDrive/brand-voice/data/model-tuning/tuning_df_test_small_batch.csv uploaded to nationwide/model-tuning/test_small_batch.csv.\n"
          ]
        }
      ]
    },
    {
      "cell_type": "markdown",
      "source": [
        "## Download training data"
      ],
      "metadata": {
        "id": "Eort3rFqj0F1"
      }
    },
    {
      "cell_type": "code",
      "source": [
        "bucket_name = 'brand-voice-training-data-bucket'\n",
        "training_data_path = 'nationwide/model-tuning/test_small_batch.csv'\n",
        "df = pd.read_csv(f'gs://{bucket_name}/{training_data_path}')"
      ],
      "metadata": {
        "id": "v8WKIQGQjOIo"
      },
      "execution_count": 19,
      "outputs": []
    },
    {
      "cell_type": "code",
      "source": [
        "df.head(3)"
      ],
      "metadata": {
        "colab": {
          "base_uri": "https://localhost:8080/",
          "height": 143
        },
        "id": "Img9CQqJjeuw",
        "outputId": "52f98b37-8872-405a-fa0b-9407f49eb8d8"
      },
      "execution_count": 20,
      "outputs": [
        {
          "output_type": "execute_result",
          "data": {
            "text/plain": [
              "                                          input_text  \\\n",
              "0  {'objective': 'Provide information about how t...   \n",
              "1  {'objective': 'To educate readers about the be...   \n",
              "2  {'objective': 'Provide information on how to l...   \n",
              "\n",
              "                                         output_text  \n",
              "0  Read the latest findings from Nationwide's 202...  \n",
              "1  Leveraging your investments for cash\\nDid you ...  \n",
              "2  What do annuities cost?\\nWhile variable annuit...  "
            ],
            "text/html": [
              "\n",
              "  <div id=\"df-c7f480bf-0412-4666-8585-d9b915f42799\" class=\"colab-df-container\">\n",
              "    <div>\n",
              "<style scoped>\n",
              "    .dataframe tbody tr th:only-of-type {\n",
              "        vertical-align: middle;\n",
              "    }\n",
              "\n",
              "    .dataframe tbody tr th {\n",
              "        vertical-align: top;\n",
              "    }\n",
              "\n",
              "    .dataframe thead th {\n",
              "        text-align: right;\n",
              "    }\n",
              "</style>\n",
              "<table border=\"1\" class=\"dataframe\">\n",
              "  <thead>\n",
              "    <tr style=\"text-align: right;\">\n",
              "      <th></th>\n",
              "      <th>input_text</th>\n",
              "      <th>output_text</th>\n",
              "    </tr>\n",
              "  </thead>\n",
              "  <tbody>\n",
              "    <tr>\n",
              "      <th>0</th>\n",
              "      <td>{'objective': 'Provide information about how t...</td>\n",
              "      <td>Read the latest findings from Nationwide's 202...</td>\n",
              "    </tr>\n",
              "    <tr>\n",
              "      <th>1</th>\n",
              "      <td>{'objective': 'To educate readers about the be...</td>\n",
              "      <td>Leveraging your investments for cash\\nDid you ...</td>\n",
              "    </tr>\n",
              "    <tr>\n",
              "      <th>2</th>\n",
              "      <td>{'objective': 'Provide information on how to l...</td>\n",
              "      <td>What do annuities cost?\\nWhile variable annuit...</td>\n",
              "    </tr>\n",
              "  </tbody>\n",
              "</table>\n",
              "</div>\n",
              "    <div class=\"colab-df-buttons\">\n",
              "\n",
              "  <div class=\"colab-df-container\">\n",
              "    <button class=\"colab-df-convert\" onclick=\"convertToInteractive('df-c7f480bf-0412-4666-8585-d9b915f42799')\"\n",
              "            title=\"Convert this dataframe to an interactive table.\"\n",
              "            style=\"display:none;\">\n",
              "\n",
              "  <svg xmlns=\"http://www.w3.org/2000/svg\" height=\"24px\" viewBox=\"0 -960 960 960\">\n",
              "    <path d=\"M120-120v-720h720v720H120Zm60-500h600v-160H180v160Zm220 220h160v-160H400v160Zm0 220h160v-160H400v160ZM180-400h160v-160H180v160Zm440 0h160v-160H620v160ZM180-180h160v-160H180v160Zm440 0h160v-160H620v160Z\"/>\n",
              "  </svg>\n",
              "    </button>\n",
              "\n",
              "  <style>\n",
              "    .colab-df-container {\n",
              "      display:flex;\n",
              "      gap: 12px;\n",
              "    }\n",
              "\n",
              "    .colab-df-convert {\n",
              "      background-color: #E8F0FE;\n",
              "      border: none;\n",
              "      border-radius: 50%;\n",
              "      cursor: pointer;\n",
              "      display: none;\n",
              "      fill: #1967D2;\n",
              "      height: 32px;\n",
              "      padding: 0 0 0 0;\n",
              "      width: 32px;\n",
              "    }\n",
              "\n",
              "    .colab-df-convert:hover {\n",
              "      background-color: #E2EBFA;\n",
              "      box-shadow: 0px 1px 2px rgba(60, 64, 67, 0.3), 0px 1px 3px 1px rgba(60, 64, 67, 0.15);\n",
              "      fill: #174EA6;\n",
              "    }\n",
              "\n",
              "    .colab-df-buttons div {\n",
              "      margin-bottom: 4px;\n",
              "    }\n",
              "\n",
              "    [theme=dark] .colab-df-convert {\n",
              "      background-color: #3B4455;\n",
              "      fill: #D2E3FC;\n",
              "    }\n",
              "\n",
              "    [theme=dark] .colab-df-convert:hover {\n",
              "      background-color: #434B5C;\n",
              "      box-shadow: 0px 1px 3px 1px rgba(0, 0, 0, 0.15);\n",
              "      filter: drop-shadow(0px 1px 2px rgba(0, 0, 0, 0.3));\n",
              "      fill: #FFFFFF;\n",
              "    }\n",
              "  </style>\n",
              "\n",
              "    <script>\n",
              "      const buttonEl =\n",
              "        document.querySelector('#df-c7f480bf-0412-4666-8585-d9b915f42799 button.colab-df-convert');\n",
              "      buttonEl.style.display =\n",
              "        google.colab.kernel.accessAllowed ? 'block' : 'none';\n",
              "\n",
              "      async function convertToInteractive(key) {\n",
              "        const element = document.querySelector('#df-c7f480bf-0412-4666-8585-d9b915f42799');\n",
              "        const dataTable =\n",
              "          await google.colab.kernel.invokeFunction('convertToInteractive',\n",
              "                                                    [key], {});\n",
              "        if (!dataTable) return;\n",
              "\n",
              "        const docLinkHtml = 'Like what you see? Visit the ' +\n",
              "          '<a target=\"_blank\" href=https://colab.research.google.com/notebooks/data_table.ipynb>data table notebook</a>'\n",
              "          + ' to learn more about interactive tables.';\n",
              "        element.innerHTML = '';\n",
              "        dataTable['output_type'] = 'display_data';\n",
              "        await google.colab.output.renderOutput(dataTable, element);\n",
              "        const docLink = document.createElement('div');\n",
              "        docLink.innerHTML = docLinkHtml;\n",
              "        element.appendChild(docLink);\n",
              "      }\n",
              "    </script>\n",
              "  </div>\n",
              "\n",
              "\n",
              "<div id=\"df-40ba0680-bd58-437a-9dd4-78506c1371ee\">\n",
              "  <button class=\"colab-df-quickchart\" onclick=\"quickchart('df-40ba0680-bd58-437a-9dd4-78506c1371ee')\"\n",
              "            title=\"Suggest charts.\"\n",
              "            style=\"display:none;\">\n",
              "\n",
              "<svg xmlns=\"http://www.w3.org/2000/svg\" height=\"24px\"viewBox=\"0 0 24 24\"\n",
              "     width=\"24px\">\n",
              "    <g>\n",
              "        <path d=\"M19 3H5c-1.1 0-2 .9-2 2v14c0 1.1.9 2 2 2h14c1.1 0 2-.9 2-2V5c0-1.1-.9-2-2-2zM9 17H7v-7h2v7zm4 0h-2V7h2v10zm4 0h-2v-4h2v4z\"/>\n",
              "    </g>\n",
              "</svg>\n",
              "  </button>\n",
              "\n",
              "<style>\n",
              "  .colab-df-quickchart {\n",
              "      --bg-color: #E8F0FE;\n",
              "      --fill-color: #1967D2;\n",
              "      --hover-bg-color: #E2EBFA;\n",
              "      --hover-fill-color: #174EA6;\n",
              "      --disabled-fill-color: #AAA;\n",
              "      --disabled-bg-color: #DDD;\n",
              "  }\n",
              "\n",
              "  [theme=dark] .colab-df-quickchart {\n",
              "      --bg-color: #3B4455;\n",
              "      --fill-color: #D2E3FC;\n",
              "      --hover-bg-color: #434B5C;\n",
              "      --hover-fill-color: #FFFFFF;\n",
              "      --disabled-bg-color: #3B4455;\n",
              "      --disabled-fill-color: #666;\n",
              "  }\n",
              "\n",
              "  .colab-df-quickchart {\n",
              "    background-color: var(--bg-color);\n",
              "    border: none;\n",
              "    border-radius: 50%;\n",
              "    cursor: pointer;\n",
              "    display: none;\n",
              "    fill: var(--fill-color);\n",
              "    height: 32px;\n",
              "    padding: 0;\n",
              "    width: 32px;\n",
              "  }\n",
              "\n",
              "  .colab-df-quickchart:hover {\n",
              "    background-color: var(--hover-bg-color);\n",
              "    box-shadow: 0 1px 2px rgba(60, 64, 67, 0.3), 0 1px 3px 1px rgba(60, 64, 67, 0.15);\n",
              "    fill: var(--button-hover-fill-color);\n",
              "  }\n",
              "\n",
              "  .colab-df-quickchart-complete:disabled,\n",
              "  .colab-df-quickchart-complete:disabled:hover {\n",
              "    background-color: var(--disabled-bg-color);\n",
              "    fill: var(--disabled-fill-color);\n",
              "    box-shadow: none;\n",
              "  }\n",
              "\n",
              "  .colab-df-spinner {\n",
              "    border: 2px solid var(--fill-color);\n",
              "    border-color: transparent;\n",
              "    border-bottom-color: var(--fill-color);\n",
              "    animation:\n",
              "      spin 1s steps(1) infinite;\n",
              "  }\n",
              "\n",
              "  @keyframes spin {\n",
              "    0% {\n",
              "      border-color: transparent;\n",
              "      border-bottom-color: var(--fill-color);\n",
              "      border-left-color: var(--fill-color);\n",
              "    }\n",
              "    20% {\n",
              "      border-color: transparent;\n",
              "      border-left-color: var(--fill-color);\n",
              "      border-top-color: var(--fill-color);\n",
              "    }\n",
              "    30% {\n",
              "      border-color: transparent;\n",
              "      border-left-color: var(--fill-color);\n",
              "      border-top-color: var(--fill-color);\n",
              "      border-right-color: var(--fill-color);\n",
              "    }\n",
              "    40% {\n",
              "      border-color: transparent;\n",
              "      border-right-color: var(--fill-color);\n",
              "      border-top-color: var(--fill-color);\n",
              "    }\n",
              "    60% {\n",
              "      border-color: transparent;\n",
              "      border-right-color: var(--fill-color);\n",
              "    }\n",
              "    80% {\n",
              "      border-color: transparent;\n",
              "      border-right-color: var(--fill-color);\n",
              "      border-bottom-color: var(--fill-color);\n",
              "    }\n",
              "    90% {\n",
              "      border-color: transparent;\n",
              "      border-bottom-color: var(--fill-color);\n",
              "    }\n",
              "  }\n",
              "</style>\n",
              "\n",
              "  <script>\n",
              "    async function quickchart(key) {\n",
              "      const quickchartButtonEl =\n",
              "        document.querySelector('#' + key + ' button');\n",
              "      quickchartButtonEl.disabled = true;  // To prevent multiple clicks.\n",
              "      quickchartButtonEl.classList.add('colab-df-spinner');\n",
              "      try {\n",
              "        const charts = await google.colab.kernel.invokeFunction(\n",
              "            'suggestCharts', [key], {});\n",
              "      } catch (error) {\n",
              "        console.error('Error during call to suggestCharts:', error);\n",
              "      }\n",
              "      quickchartButtonEl.classList.remove('colab-df-spinner');\n",
              "      quickchartButtonEl.classList.add('colab-df-quickchart-complete');\n",
              "    }\n",
              "    (() => {\n",
              "      let quickchartButtonEl =\n",
              "        document.querySelector('#df-40ba0680-bd58-437a-9dd4-78506c1371ee button');\n",
              "      quickchartButtonEl.style.display =\n",
              "        google.colab.kernel.accessAllowed ? 'block' : 'none';\n",
              "    })();\n",
              "  </script>\n",
              "</div>\n",
              "    </div>\n",
              "  </div>\n"
            ]
          },
          "metadata": {},
          "execution_count": 20
        }
      ]
    },
    {
      "cell_type": "code",
      "source": [
        "#!gcloud auth application-default login"
      ],
      "metadata": {
        "id": "4k8CBlM1LqQF"
      },
      "execution_count": null,
      "outputs": []
    },
    {
      "cell_type": "markdown",
      "source": [
        "## log training data"
      ],
      "metadata": {
        "id": "S3ZrC0qiBtiX"
      }
    },
    {
      "cell_type": "code",
      "source": [
        "with mlflow.start_run():\n",
        "    mlflow.log_input(from_pandas(df=df_tuning), context=\"training\")"
      ],
      "metadata": {
        "id": "4Lqu-GpaA4_r"
      },
      "execution_count": null,
      "outputs": []
    },
    {
      "cell_type": "markdown",
      "source": [
        "# Test training data inputs in one shot"
      ],
      "metadata": {
        "id": "-o_ornsdByd8"
      }
    },
    {
      "cell_type": "code",
      "source": [
        "from google.cloud import aiplatform\n",
        "aiplatform.init(project=os.getenv('GCP_PROJECT_ID'), location=os.getenv('GCP_LOCATION'))\n",
        "\n",
        "from vertexai.preview.language_models import TextGenerationModel\n",
        "\n",
        "def generate(model_name, prompt, temperature = 0.2, max_output_tokens = 516, top_k = 40, top_p = .8):\n",
        "    model = TextGenerationModel.from_pretrained(model_name)\n",
        "    response = model.predict(\n",
        "            prompt,\n",
        "            temperature=temperature,\n",
        "            max_output_tokens=max_output_tokens,\n",
        "            top_k=top_k,\n",
        "            top_p=top_p,\n",
        "        )\n",
        "    return response\n",
        "model_name = 'text-bison@001'\n",
        "\n",
        "def tuning_prompt_experiment_1shot(df, i, temperature):\n",
        "    title = df['input_text'][i]\n",
        "    text = df['output_text'][i]\n",
        "    prompt = f\"\"\"Use the following json data to write a compelling SEO article.\\n\\n\n",
        "    JSON: {df_tuning['input_text'][5]} \\n\n",
        "    ARTICLE: {df_tuning['output_text'][5]} \\n\\n\n",
        "    JSON: {df_tuning['input_text'][i]} \\n\n",
        "    ARTICLE:\n",
        "    \"\"\"\n",
        "    return generate(model_name, prompt, temperature=temperature)"
      ],
      "metadata": {
        "id": "dbV3pSfr8IQ8"
      },
      "execution_count": null,
      "outputs": []
    },
    {
      "cell_type": "code",
      "source": [
        "ground_truth = df_tuning['output_text'][10]\n",
        "print(ground_truth)"
      ],
      "metadata": {
        "colab": {
          "base_uri": "https://localhost:8080/"
        },
        "id": "fKth10io-YS5",
        "outputId": "ce2a7051-dfdc-4d2d-9b09-6267fe5b65b8"
      },
      "execution_count": null,
      "outputs": [
        {
          "output_type": "stream",
          "name": "stdout",
          "text": [
            "Trampoline safety tips everyone should know\n",
            "While a trampoline is a great source of entertainment and exercise, it can also be very dangerous if trampoline safety rules are not followed.**\t\t\t\t\t\t\t\t\t*\t\t**\t*\t\t*\t\t*\t\t*\t\t*\t\t*\t\t*\t\t*\t\t*\t\t*\t\t*\t\t*\t\t*\t\t*\t\t*\t\t**\t\t\t*\t\t\t*\t\t\t\t*Jumping safely\n",
            "Follow these trampoline safety guidelines:\n",
            "**Children age 5 and under should not be permitted on a trampoline.\n",
            "Provide adult supervision and adult spotters around the edge of the trampoline.\n",
            "Never allow more than 1 person to jump at a time.\n",
            "Do not permit gymnastic exercises or stunts, such as somersaults or flips.\n",
            "Never allow children to bounce off the trampoline. Encourage them to stop bouncing, walk to the edge, sit and slide off.\n",
            "To prevent young children from getting on without supervision, do not leave a ladder or chair near the trampoline.\n",
            "Never permit children to play on a wet trampoline.\n",
            "Place your trampoline in a fenced area to avoid being liable for injuries caused by your trampoline acting as an attractive nuisance. Failing to take proper precautions regarding an attractive nuisance could make you ineligible for a standard homeowners policy.\n",
            "**Best spot for a trampoline\n",
            "In addition to following home trampoline safety rules, spend time choosing the safest place to put your trampoline. Be sure to:\n",
            "**Find a clear, flat area free from potential hazards, such as fences, hedges, trees, washing lines or other equipment.\n",
            "Place the trampoline on soft, energy-absorbing ground. Good options include sand, bark or other materials that produce a cushioning effect.\n",
            "Don't put the trampoline on concrete, asphalt or other hard surface without having a trampoline safety net or crash mats in place.\n",
            "Create a safe fall zone of at least 8 feet around the outside of the trampoline, and keep this area clear.\n",
            "**Trampoline equipment requirements\n",
            "To stay safe, follow these trampoline equipment tips:\n",
            "**Purchase a round trampoline (rectangular trampolines provide a dangerously high bounce)\n",
            "Enclose trampolines with high trampoline safety nets around the perimeter\n",
            "Do not use the trampoline without shock-absorbing trampoline safety pads that completely cover its springs, hooks and frame\n",
            "Place the trampoline away from other play areas, buildings and trees\n",
            "Use soft materials like sand or wood chips to provide a softer surface around and underneath the trampoline\n",
            "Carefully review the safety materials included with your trampoline purchase\n",
            "**Trampoline injury statistics\n",
            "Be aware of these trampoline injury statistics*1*:\n",
            "**Most trips to the hospital emergency rooms result from jumpers colliding, falling off the trampoline or stunts.\n",
            "The most common areas of injury are: \n",
            "*Legs and feet: 40%\n",
            "Arms or hands: 29%\n",
            "Head, face or neck: 20%\n",
            "Shoulder or trunk: 10%\n",
            "\n",
            "*About 246,875 medically-treated trampoline injuries occur annually in the United States. 75% of these injuries occur in children 14 or younger.\n",
            "Children under 6 were treated for about 15% of trampoline injuries in hospital emergency rooms.\n",
            "Improper use of a trampoline can result in death. Most victims are teenagers, ages 12 to 19. Falls from the trampoline were the most frequent cause of death, followed by landing on the neck while attempting somersaults.\n"
          ]
        }
      ]
    },
    {
      "cell_type": "code",
      "source": [
        "result = tuning_prompt_experiment_1shot(df_tuning, 10, temperature=0.7)\n",
        "generated_text = result.text\n",
        "print(generated_text)"
      ],
      "metadata": {
        "colab": {
          "base_uri": "https://localhost:8080/"
        },
        "id": "sQ2Nw418_CAu",
        "outputId": "4256175c-0710-4bd1-ebec-3381f4b94f7a"
      },
      "execution_count": null,
      "outputs": [
        {
          "output_type": "stream",
          "name": "stdout",
          "text": [
            "Trampolines can be a lot of fun for kids, but they can also be dangerous. It's important to take safety precautions to prevent injuries.\n",
            "\n",
            "**Sit back and enjoy the show**\n",
            "\n",
            "One of the best ways to keep kids safe on a trampoline is to sit back and watch them. This will allow you to see if they're doing anything dangerous and correct them if necessary. It's also important to make sure that there are no other kids around when they're jumping.\n",
            "\n",
            "**Trampoline safety rules**\n",
            "\n",
            "There are a few basic trampoline safety rules that everyone should follow:\n",
            "\n",
            "* Never jump on a trampoline alone.\n",
            "* Always wear shoes when jumping.\n",
            "* Never jump with objects in your hands.\n",
            "* Don't bounce too high.\n",
            "* Don't flip or do other dangerous stunts.\n",
            "* Stop jumping if you feel dizzy or tired.\n",
            "\n",
            "**Best place for a trampoline**\n",
            "\n",
            "Trampolines should be placed in a safe area away from trees, fences, and other objects. The ground underneath the trampoline should be soft, such as grass or sand. It's also important to make sure that there is enough space around the trampoline for kids to jump safely.\n",
            "\n",
            "**Trampoline equipment requirements**\n",
            "\n",
            "Trampolines should be inspected regularly for damage. If there are any tears or holes in the mat, it should be replaced. The springs should also be inspected for rust or damage. If the springs are damaged, they should be replaced.\n",
            "\n",
            "**Trampoline injury statistics**\n",
            "\n",
            "According to the Consumer Product Safety Commission, trampolines are responsible for an average of 100,000 injuries each year. Most of these injuries are to children under the age of 15. The most common injuries are sprains, fractures, and head injuries.\n",
            "\n",
            "By following these safety tips, you can help keep your kids safe on a trampoline.\n"
          ]
        }
      ]
    },
    {
      "cell_type": "code",
      "source": [
        "def refine_generated_text(generated_text, guide):\n",
        "    prompt = f\"\"\"Rewrite the following draft article to incorporate the brand writing guide.\\\n",
        "    Brand Writing Guide: {guide} \\\n",
        "    Make sure writing guidelines are followed.\\\n",
        "    Use words like HOW, WHY, WHAT, and WHERE—these help people understand what they will find on the page.\\\n",
        "    Avoid using repetitive words and phrases.\\\n",
        "\n",
        "    Draft article: {generated_text}\n",
        "    \"\"\"\n",
        "    return generate(model_name, prompt, temperature=0.8)\n",
        "\n",
        "guide = \"\"\"These are the three key principles that guide our writing:\n",
        "Write with the conversational warmth of a good friend who is “on your side.”\n",
        "Write with the self-assurance that can only come from over 90 years in the business.\n",
        "Write in a way that is clear, concise, and easy to understand.\n",
        "We use these principles to create content that is relevant, engaging, and informative for our customers.\"\"\"\n",
        "\n",
        "# See notebook Tone and Voice (Nationwide).ipynb for how the guide is generated."
      ],
      "metadata": {
        "id": "wZtiNYXdAg7R"
      },
      "execution_count": null,
      "outputs": []
    },
    {
      "cell_type": "code",
      "source": [
        "refined_result = refine_generated_text(generated_text, guide)\n",
        "refined_text = refined_result.text\n",
        "print(refined_text)"
      ],
      "metadata": {
        "colab": {
          "base_uri": "https://localhost:8080/"
        },
        "id": "O4GcJ4ZbBxR5",
        "outputId": "4a71cc4b-068f-404a-eca5-4a0ec8c56777"
      },
      "execution_count": null,
      "outputs": [
        {
          "output_type": "stream",
          "name": "stdout",
          "text": [
            "**How to Keep Kids Safe on a Trampoline**\n",
            "\n",
            "Trampolines can be a lot of fun for kids, but they can also be dangerous. It's important to take safety precautions to prevent injuries.\n",
            "\n",
            "**Sit back and enjoy the show**\n",
            "\n",
            "One of the best ways to keep kids safe on a trampoline is to sit back and watch them. This will allow you to see if they're doing anything dangerous and correct them if necessary. It's also important to make sure that there are no other kids around when they're jumping.\n",
            "\n",
            "**Trampoline safety rules**\n",
            "\n",
            "Here are a few basic trampoline safety rules that everyone should follow:\n",
            "\n",
            "* Never jump on a trampoline alone.\n",
            "* Always wear shoes when jumping.\n",
            "* Never jump with objects in your hands.\n",
            "* Don't bounce too high.\n",
            "* Don't flip or do other dangerous stunts.\n",
            "* Stop jumping if you feel dizzy or tired.\n",
            "\n",
            "**Best place for a trampoline**\n",
            "\n",
            "Trampolines should be placed in a safe area away from trees, fences, and other objects. The ground underneath the trampoline should be soft, such as grass or sand. It's also important to make sure that there is enough space around the trampoline for kids to jump safely.\n",
            "\n",
            "**Trampoline equipment requirements**\n",
            "\n",
            "Trampolines should be inspected regularly for damage. If there are any tears or holes in the mat, it should be replaced. The springs should also be inspected for rust or damage. If the springs are damaged, they should be replaced.\n",
            "\n",
            "**Trampoline injury statistics**\n",
            "\n",
            "According to the Consumer Product Safety Commission, trampolines are responsible for an average of 100,000 injuries each year. Most of these injuries are to children under the age of 15. The most common injuries are sprains, fractures, and head injuries.\n",
            "\n",
            "By following these safety tips, you can help keep your kids safe on a trampoline.\n"
          ]
        }
      ]
    },
    {
      "cell_type": "code",
      "source": [],
      "metadata": {
        "id": "fjE1A-MDz5b2"
      },
      "execution_count": null,
      "outputs": []
    }
  ]
}