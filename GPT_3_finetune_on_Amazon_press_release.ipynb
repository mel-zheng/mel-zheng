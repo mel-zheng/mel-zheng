{
  "nbformat": 4,
  "nbformat_minor": 0,
  "metadata": {
    "colab": {
      "name": "GPT-3 finetune on Amazon press release.ipynb",
      "provenance": [],
      "collapsed_sections": [],
      "toc_visible": true,
      "authorship_tag": "ABX9TyMQysI4tpIbV8ROrqf+0+Of",
      "include_colab_link": true
    },
    "kernelspec": {
      "name": "python3",
      "display_name": "Python 3"
    },
    "language_info": {
      "name": "python"
    },
    "widgets": {
      "application/vnd.jupyter.widget-state+json": {
        "8f725478948e4eeaaffb3c1647841971": {
          "model_module": "@jupyter-widgets/controls",
          "model_name": "VBoxModel",
          "model_module_version": "1.5.0",
          "state": {
            "_dom_classes": [],
            "_model_module": "@jupyter-widgets/controls",
            "_model_module_version": "1.5.0",
            "_model_name": "VBoxModel",
            "_view_count": null,
            "_view_module": "@jupyter-widgets/controls",
            "_view_module_version": "1.5.0",
            "_view_name": "VBoxView",
            "box_style": "",
            "children": [
              "IPY_MODEL_804dc2973d7c46bda60ddddd7d5a2eb2",
              "IPY_MODEL_63e266ab17f3485ebc1ef2a63f2cb346"
            ],
            "layout": "IPY_MODEL_b2d7cd6ff7914bc69a800acea537d6de"
          }
        },
        "804dc2973d7c46bda60ddddd7d5a2eb2": {
          "model_module": "@jupyter-widgets/controls",
          "model_name": "LabelModel",
          "model_module_version": "1.5.0",
          "state": {
            "_dom_classes": [],
            "_model_module": "@jupyter-widgets/controls",
            "_model_module_version": "1.5.0",
            "_model_name": "LabelModel",
            "_view_count": null,
            "_view_module": "@jupyter-widgets/controls",
            "_view_module_version": "1.5.0",
            "_view_name": "LabelView",
            "description": "",
            "description_tooltip": null,
            "layout": "IPY_MODEL_c67e9857b43342fdaeafb9a9a7198fae",
            "placeholder": "​",
            "style": "IPY_MODEL_baf03036ce7e4a8bba5d2ed9fb297c55",
            "value": "0.008 MB of 0.008 MB uploaded (0.000 MB deduped)\r"
          }
        },
        "63e266ab17f3485ebc1ef2a63f2cb346": {
          "model_module": "@jupyter-widgets/controls",
          "model_name": "FloatProgressModel",
          "model_module_version": "1.5.0",
          "state": {
            "_dom_classes": [],
            "_model_module": "@jupyter-widgets/controls",
            "_model_module_version": "1.5.0",
            "_model_name": "FloatProgressModel",
            "_view_count": null,
            "_view_module": "@jupyter-widgets/controls",
            "_view_module_version": "1.5.0",
            "_view_name": "ProgressView",
            "bar_style": "",
            "description": "",
            "description_tooltip": null,
            "layout": "IPY_MODEL_6ef463e0d7c54806b2df932a92085a03",
            "max": 1,
            "min": 0,
            "orientation": "horizontal",
            "style": "IPY_MODEL_f8937d0b20224980a321d78e03c0c7a2",
            "value": 1
          }
        },
        "b2d7cd6ff7914bc69a800acea537d6de": {
          "model_module": "@jupyter-widgets/base",
          "model_name": "LayoutModel",
          "model_module_version": "1.2.0",
          "state": {
            "_model_module": "@jupyter-widgets/base",
            "_model_module_version": "1.2.0",
            "_model_name": "LayoutModel",
            "_view_count": null,
            "_view_module": "@jupyter-widgets/base",
            "_view_module_version": "1.2.0",
            "_view_name": "LayoutView",
            "align_content": null,
            "align_items": null,
            "align_self": null,
            "border": null,
            "bottom": null,
            "display": null,
            "flex": null,
            "flex_flow": null,
            "grid_area": null,
            "grid_auto_columns": null,
            "grid_auto_flow": null,
            "grid_auto_rows": null,
            "grid_column": null,
            "grid_gap": null,
            "grid_row": null,
            "grid_template_areas": null,
            "grid_template_columns": null,
            "grid_template_rows": null,
            "height": null,
            "justify_content": null,
            "justify_items": null,
            "left": null,
            "margin": null,
            "max_height": null,
            "max_width": null,
            "min_height": null,
            "min_width": null,
            "object_fit": null,
            "object_position": null,
            "order": null,
            "overflow": null,
            "overflow_x": null,
            "overflow_y": null,
            "padding": null,
            "right": null,
            "top": null,
            "visibility": null,
            "width": null
          }
        },
        "c67e9857b43342fdaeafb9a9a7198fae": {
          "model_module": "@jupyter-widgets/base",
          "model_name": "LayoutModel",
          "model_module_version": "1.2.0",
          "state": {
            "_model_module": "@jupyter-widgets/base",
            "_model_module_version": "1.2.0",
            "_model_name": "LayoutModel",
            "_view_count": null,
            "_view_module": "@jupyter-widgets/base",
            "_view_module_version": "1.2.0",
            "_view_name": "LayoutView",
            "align_content": null,
            "align_items": null,
            "align_self": null,
            "border": null,
            "bottom": null,
            "display": null,
            "flex": null,
            "flex_flow": null,
            "grid_area": null,
            "grid_auto_columns": null,
            "grid_auto_flow": null,
            "grid_auto_rows": null,
            "grid_column": null,
            "grid_gap": null,
            "grid_row": null,
            "grid_template_areas": null,
            "grid_template_columns": null,
            "grid_template_rows": null,
            "height": null,
            "justify_content": null,
            "justify_items": null,
            "left": null,
            "margin": null,
            "max_height": null,
            "max_width": null,
            "min_height": null,
            "min_width": null,
            "object_fit": null,
            "object_position": null,
            "order": null,
            "overflow": null,
            "overflow_x": null,
            "overflow_y": null,
            "padding": null,
            "right": null,
            "top": null,
            "visibility": null,
            "width": null
          }
        },
        "baf03036ce7e4a8bba5d2ed9fb297c55": {
          "model_module": "@jupyter-widgets/controls",
          "model_name": "DescriptionStyleModel",
          "model_module_version": "1.5.0",
          "state": {
            "_model_module": "@jupyter-widgets/controls",
            "_model_module_version": "1.5.0",
            "_model_name": "DescriptionStyleModel",
            "_view_count": null,
            "_view_module": "@jupyter-widgets/base",
            "_view_module_version": "1.2.0",
            "_view_name": "StyleView",
            "description_width": ""
          }
        },
        "6ef463e0d7c54806b2df932a92085a03": {
          "model_module": "@jupyter-widgets/base",
          "model_name": "LayoutModel",
          "model_module_version": "1.2.0",
          "state": {
            "_model_module": "@jupyter-widgets/base",
            "_model_module_version": "1.2.0",
            "_model_name": "LayoutModel",
            "_view_count": null,
            "_view_module": "@jupyter-widgets/base",
            "_view_module_version": "1.2.0",
            "_view_name": "LayoutView",
            "align_content": null,
            "align_items": null,
            "align_self": null,
            "border": null,
            "bottom": null,
            "display": null,
            "flex": null,
            "flex_flow": null,
            "grid_area": null,
            "grid_auto_columns": null,
            "grid_auto_flow": null,
            "grid_auto_rows": null,
            "grid_column": null,
            "grid_gap": null,
            "grid_row": null,
            "grid_template_areas": null,
            "grid_template_columns": null,
            "grid_template_rows": null,
            "height": null,
            "justify_content": null,
            "justify_items": null,
            "left": null,
            "margin": null,
            "max_height": null,
            "max_width": null,
            "min_height": null,
            "min_width": null,
            "object_fit": null,
            "object_position": null,
            "order": null,
            "overflow": null,
            "overflow_x": null,
            "overflow_y": null,
            "padding": null,
            "right": null,
            "top": null,
            "visibility": null,
            "width": null
          }
        },
        "f8937d0b20224980a321d78e03c0c7a2": {
          "model_module": "@jupyter-widgets/controls",
          "model_name": "ProgressStyleModel",
          "model_module_version": "1.5.0",
          "state": {
            "_model_module": "@jupyter-widgets/controls",
            "_model_module_version": "1.5.0",
            "_model_name": "ProgressStyleModel",
            "_view_count": null,
            "_view_module": "@jupyter-widgets/base",
            "_view_module_version": "1.2.0",
            "_view_name": "StyleView",
            "bar_color": null,
            "description_width": ""
          }
        },
        "ead728cf72364b019f524c5f3d01b5a3": {
          "model_module": "@jupyter-widgets/controls",
          "model_name": "VBoxModel",
          "model_module_version": "1.5.0",
          "state": {
            "_dom_classes": [],
            "_model_module": "@jupyter-widgets/controls",
            "_model_module_version": "1.5.0",
            "_model_name": "VBoxModel",
            "_view_count": null,
            "_view_module": "@jupyter-widgets/controls",
            "_view_module_version": "1.5.0",
            "_view_name": "VBoxView",
            "box_style": "",
            "children": [
              "IPY_MODEL_989f0709813a442f86c463aaa889381e",
              "IPY_MODEL_9bda980fda2a4d9d9d6ac236c071a05c"
            ],
            "layout": "IPY_MODEL_b6f97a10c4e64cb7b5f307a95f1f53d6"
          }
        },
        "989f0709813a442f86c463aaa889381e": {
          "model_module": "@jupyter-widgets/controls",
          "model_name": "LabelModel",
          "model_module_version": "1.5.0",
          "state": {
            "_dom_classes": [],
            "_model_module": "@jupyter-widgets/controls",
            "_model_module_version": "1.5.0",
            "_model_name": "LabelModel",
            "_view_count": null,
            "_view_module": "@jupyter-widgets/controls",
            "_view_module_version": "1.5.0",
            "_view_name": "LabelView",
            "description": "",
            "description_tooltip": null,
            "layout": "IPY_MODEL_b8411dab5bfe4fefaff19d757da92692",
            "placeholder": "​",
            "style": "IPY_MODEL_7874e2e8dc914b4995e5b6dbdf4b7987",
            "value": "7.765 MB of 7.765 MB uploaded (0.000 MB deduped)\r"
          }
        },
        "9bda980fda2a4d9d9d6ac236c071a05c": {
          "model_module": "@jupyter-widgets/controls",
          "model_name": "FloatProgressModel",
          "model_module_version": "1.5.0",
          "state": {
            "_dom_classes": [],
            "_model_module": "@jupyter-widgets/controls",
            "_model_module_version": "1.5.0",
            "_model_name": "FloatProgressModel",
            "_view_count": null,
            "_view_module": "@jupyter-widgets/controls",
            "_view_module_version": "1.5.0",
            "_view_name": "ProgressView",
            "bar_style": "",
            "description": "",
            "description_tooltip": null,
            "layout": "IPY_MODEL_b568fca55cc047419c96fe95a09a70e5",
            "max": 1,
            "min": 0,
            "orientation": "horizontal",
            "style": "IPY_MODEL_936664d4bc78454cb0e81aa964613cb2",
            "value": 1
          }
        },
        "b6f97a10c4e64cb7b5f307a95f1f53d6": {
          "model_module": "@jupyter-widgets/base",
          "model_name": "LayoutModel",
          "model_module_version": "1.2.0",
          "state": {
            "_model_module": "@jupyter-widgets/base",
            "_model_module_version": "1.2.0",
            "_model_name": "LayoutModel",
            "_view_count": null,
            "_view_module": "@jupyter-widgets/base",
            "_view_module_version": "1.2.0",
            "_view_name": "LayoutView",
            "align_content": null,
            "align_items": null,
            "align_self": null,
            "border": null,
            "bottom": null,
            "display": null,
            "flex": null,
            "flex_flow": null,
            "grid_area": null,
            "grid_auto_columns": null,
            "grid_auto_flow": null,
            "grid_auto_rows": null,
            "grid_column": null,
            "grid_gap": null,
            "grid_row": null,
            "grid_template_areas": null,
            "grid_template_columns": null,
            "grid_template_rows": null,
            "height": null,
            "justify_content": null,
            "justify_items": null,
            "left": null,
            "margin": null,
            "max_height": null,
            "max_width": null,
            "min_height": null,
            "min_width": null,
            "object_fit": null,
            "object_position": null,
            "order": null,
            "overflow": null,
            "overflow_x": null,
            "overflow_y": null,
            "padding": null,
            "right": null,
            "top": null,
            "visibility": null,
            "width": null
          }
        },
        "b8411dab5bfe4fefaff19d757da92692": {
          "model_module": "@jupyter-widgets/base",
          "model_name": "LayoutModel",
          "model_module_version": "1.2.0",
          "state": {
            "_model_module": "@jupyter-widgets/base",
            "_model_module_version": "1.2.0",
            "_model_name": "LayoutModel",
            "_view_count": null,
            "_view_module": "@jupyter-widgets/base",
            "_view_module_version": "1.2.0",
            "_view_name": "LayoutView",
            "align_content": null,
            "align_items": null,
            "align_self": null,
            "border": null,
            "bottom": null,
            "display": null,
            "flex": null,
            "flex_flow": null,
            "grid_area": null,
            "grid_auto_columns": null,
            "grid_auto_flow": null,
            "grid_auto_rows": null,
            "grid_column": null,
            "grid_gap": null,
            "grid_row": null,
            "grid_template_areas": null,
            "grid_template_columns": null,
            "grid_template_rows": null,
            "height": null,
            "justify_content": null,
            "justify_items": null,
            "left": null,
            "margin": null,
            "max_height": null,
            "max_width": null,
            "min_height": null,
            "min_width": null,
            "object_fit": null,
            "object_position": null,
            "order": null,
            "overflow": null,
            "overflow_x": null,
            "overflow_y": null,
            "padding": null,
            "right": null,
            "top": null,
            "visibility": null,
            "width": null
          }
        },
        "7874e2e8dc914b4995e5b6dbdf4b7987": {
          "model_module": "@jupyter-widgets/controls",
          "model_name": "DescriptionStyleModel",
          "model_module_version": "1.5.0",
          "state": {
            "_model_module": "@jupyter-widgets/controls",
            "_model_module_version": "1.5.0",
            "_model_name": "DescriptionStyleModel",
            "_view_count": null,
            "_view_module": "@jupyter-widgets/base",
            "_view_module_version": "1.2.0",
            "_view_name": "StyleView",
            "description_width": ""
          }
        },
        "b568fca55cc047419c96fe95a09a70e5": {
          "model_module": "@jupyter-widgets/base",
          "model_name": "LayoutModel",
          "model_module_version": "1.2.0",
          "state": {
            "_model_module": "@jupyter-widgets/base",
            "_model_module_version": "1.2.0",
            "_model_name": "LayoutModel",
            "_view_count": null,
            "_view_module": "@jupyter-widgets/base",
            "_view_module_version": "1.2.0",
            "_view_name": "LayoutView",
            "align_content": null,
            "align_items": null,
            "align_self": null,
            "border": null,
            "bottom": null,
            "display": null,
            "flex": null,
            "flex_flow": null,
            "grid_area": null,
            "grid_auto_columns": null,
            "grid_auto_flow": null,
            "grid_auto_rows": null,
            "grid_column": null,
            "grid_gap": null,
            "grid_row": null,
            "grid_template_areas": null,
            "grid_template_columns": null,
            "grid_template_rows": null,
            "height": null,
            "justify_content": null,
            "justify_items": null,
            "left": null,
            "margin": null,
            "max_height": null,
            "max_width": null,
            "min_height": null,
            "min_width": null,
            "object_fit": null,
            "object_position": null,
            "order": null,
            "overflow": null,
            "overflow_x": null,
            "overflow_y": null,
            "padding": null,
            "right": null,
            "top": null,
            "visibility": null,
            "width": null
          }
        },
        "936664d4bc78454cb0e81aa964613cb2": {
          "model_module": "@jupyter-widgets/controls",
          "model_name": "ProgressStyleModel",
          "model_module_version": "1.5.0",
          "state": {
            "_model_module": "@jupyter-widgets/controls",
            "_model_module_version": "1.5.0",
            "_model_name": "ProgressStyleModel",
            "_view_count": null,
            "_view_module": "@jupyter-widgets/base",
            "_view_module_version": "1.2.0",
            "_view_name": "StyleView",
            "bar_color": null,
            "description_width": ""
          }
        },
        "d7735705ffaa4a61baf525566a14ce64": {
          "model_module": "@jupyter-widgets/controls",
          "model_name": "VBoxModel",
          "model_module_version": "1.5.0",
          "state": {
            "_dom_classes": [],
            "_model_module": "@jupyter-widgets/controls",
            "_model_module_version": "1.5.0",
            "_model_name": "VBoxModel",
            "_view_count": null,
            "_view_module": "@jupyter-widgets/controls",
            "_view_module_version": "1.5.0",
            "_view_name": "VBoxView",
            "box_style": "",
            "children": [
              "IPY_MODEL_f32b669628e74f268248ee1e6eb6f29f",
              "IPY_MODEL_1479b8c925c64170b285a37bf8d4973f"
            ],
            "layout": "IPY_MODEL_19c7e04ac0444cefb56da94c3a98deac"
          }
        },
        "f32b669628e74f268248ee1e6eb6f29f": {
          "model_module": "@jupyter-widgets/controls",
          "model_name": "LabelModel",
          "model_module_version": "1.5.0",
          "state": {
            "_dom_classes": [],
            "_model_module": "@jupyter-widgets/controls",
            "_model_module_version": "1.5.0",
            "_model_name": "LabelModel",
            "_view_count": null,
            "_view_module": "@jupyter-widgets/controls",
            "_view_module_version": "1.5.0",
            "_view_name": "LabelView",
            "description": "",
            "description_tooltip": null,
            "layout": "IPY_MODEL_e7b96c8412f543b6bb6de51c38513a72",
            "placeholder": "​",
            "style": "IPY_MODEL_22a942ba86be446d972e2a3a8281fd15",
            "value": "0.008 MB of 0.008 MB uploaded (0.000 MB deduped)\r"
          }
        },
        "1479b8c925c64170b285a37bf8d4973f": {
          "model_module": "@jupyter-widgets/controls",
          "model_name": "FloatProgressModel",
          "model_module_version": "1.5.0",
          "state": {
            "_dom_classes": [],
            "_model_module": "@jupyter-widgets/controls",
            "_model_module_version": "1.5.0",
            "_model_name": "FloatProgressModel",
            "_view_count": null,
            "_view_module": "@jupyter-widgets/controls",
            "_view_module_version": "1.5.0",
            "_view_name": "ProgressView",
            "bar_style": "",
            "description": "",
            "description_tooltip": null,
            "layout": "IPY_MODEL_9425f14313cb46ddba61127c76211004",
            "max": 1,
            "min": 0,
            "orientation": "horizontal",
            "style": "IPY_MODEL_2db6e83559d940acba8d0670b0930ccc",
            "value": 1
          }
        },
        "19c7e04ac0444cefb56da94c3a98deac": {
          "model_module": "@jupyter-widgets/base",
          "model_name": "LayoutModel",
          "model_module_version": "1.2.0",
          "state": {
            "_model_module": "@jupyter-widgets/base",
            "_model_module_version": "1.2.0",
            "_model_name": "LayoutModel",
            "_view_count": null,
            "_view_module": "@jupyter-widgets/base",
            "_view_module_version": "1.2.0",
            "_view_name": "LayoutView",
            "align_content": null,
            "align_items": null,
            "align_self": null,
            "border": null,
            "bottom": null,
            "display": null,
            "flex": null,
            "flex_flow": null,
            "grid_area": null,
            "grid_auto_columns": null,
            "grid_auto_flow": null,
            "grid_auto_rows": null,
            "grid_column": null,
            "grid_gap": null,
            "grid_row": null,
            "grid_template_areas": null,
            "grid_template_columns": null,
            "grid_template_rows": null,
            "height": null,
            "justify_content": null,
            "justify_items": null,
            "left": null,
            "margin": null,
            "max_height": null,
            "max_width": null,
            "min_height": null,
            "min_width": null,
            "object_fit": null,
            "object_position": null,
            "order": null,
            "overflow": null,
            "overflow_x": null,
            "overflow_y": null,
            "padding": null,
            "right": null,
            "top": null,
            "visibility": null,
            "width": null
          }
        },
        "e7b96c8412f543b6bb6de51c38513a72": {
          "model_module": "@jupyter-widgets/base",
          "model_name": "LayoutModel",
          "model_module_version": "1.2.0",
          "state": {
            "_model_module": "@jupyter-widgets/base",
            "_model_module_version": "1.2.0",
            "_model_name": "LayoutModel",
            "_view_count": null,
            "_view_module": "@jupyter-widgets/base",
            "_view_module_version": "1.2.0",
            "_view_name": "LayoutView",
            "align_content": null,
            "align_items": null,
            "align_self": null,
            "border": null,
            "bottom": null,
            "display": null,
            "flex": null,
            "flex_flow": null,
            "grid_area": null,
            "grid_auto_columns": null,
            "grid_auto_flow": null,
            "grid_auto_rows": null,
            "grid_column": null,
            "grid_gap": null,
            "grid_row": null,
            "grid_template_areas": null,
            "grid_template_columns": null,
            "grid_template_rows": null,
            "height": null,
            "justify_content": null,
            "justify_items": null,
            "left": null,
            "margin": null,
            "max_height": null,
            "max_width": null,
            "min_height": null,
            "min_width": null,
            "object_fit": null,
            "object_position": null,
            "order": null,
            "overflow": null,
            "overflow_x": null,
            "overflow_y": null,
            "padding": null,
            "right": null,
            "top": null,
            "visibility": null,
            "width": null
          }
        },
        "22a942ba86be446d972e2a3a8281fd15": {
          "model_module": "@jupyter-widgets/controls",
          "model_name": "DescriptionStyleModel",
          "model_module_version": "1.5.0",
          "state": {
            "_model_module": "@jupyter-widgets/controls",
            "_model_module_version": "1.5.0",
            "_model_name": "DescriptionStyleModel",
            "_view_count": null,
            "_view_module": "@jupyter-widgets/base",
            "_view_module_version": "1.2.0",
            "_view_name": "StyleView",
            "description_width": ""
          }
        },
        "9425f14313cb46ddba61127c76211004": {
          "model_module": "@jupyter-widgets/base",
          "model_name": "LayoutModel",
          "model_module_version": "1.2.0",
          "state": {
            "_model_module": "@jupyter-widgets/base",
            "_model_module_version": "1.2.0",
            "_model_name": "LayoutModel",
            "_view_count": null,
            "_view_module": "@jupyter-widgets/base",
            "_view_module_version": "1.2.0",
            "_view_name": "LayoutView",
            "align_content": null,
            "align_items": null,
            "align_self": null,
            "border": null,
            "bottom": null,
            "display": null,
            "flex": null,
            "flex_flow": null,
            "grid_area": null,
            "grid_auto_columns": null,
            "grid_auto_flow": null,
            "grid_auto_rows": null,
            "grid_column": null,
            "grid_gap": null,
            "grid_row": null,
            "grid_template_areas": null,
            "grid_template_columns": null,
            "grid_template_rows": null,
            "height": null,
            "justify_content": null,
            "justify_items": null,
            "left": null,
            "margin": null,
            "max_height": null,
            "max_width": null,
            "min_height": null,
            "min_width": null,
            "object_fit": null,
            "object_position": null,
            "order": null,
            "overflow": null,
            "overflow_x": null,
            "overflow_y": null,
            "padding": null,
            "right": null,
            "top": null,
            "visibility": null,
            "width": null
          }
        },
        "2db6e83559d940acba8d0670b0930ccc": {
          "model_module": "@jupyter-widgets/controls",
          "model_name": "ProgressStyleModel",
          "model_module_version": "1.5.0",
          "state": {
            "_model_module": "@jupyter-widgets/controls",
            "_model_module_version": "1.5.0",
            "_model_name": "ProgressStyleModel",
            "_view_count": null,
            "_view_module": "@jupyter-widgets/base",
            "_view_module_version": "1.2.0",
            "_view_name": "StyleView",
            "bar_color": null,
            "description_width": ""
          }
        },
        "0b80d638f1194e038ac4be6331dd7054": {
          "model_module": "@jupyter-widgets/controls",
          "model_name": "VBoxModel",
          "model_module_version": "1.5.0",
          "state": {
            "_dom_classes": [],
            "_model_module": "@jupyter-widgets/controls",
            "_model_module_version": "1.5.0",
            "_model_name": "VBoxModel",
            "_view_count": null,
            "_view_module": "@jupyter-widgets/controls",
            "_view_module_version": "1.5.0",
            "_view_name": "VBoxView",
            "box_style": "",
            "children": [
              "IPY_MODEL_a2c1ea29fa6148d4ba552423384b63a5",
              "IPY_MODEL_c4f51a6fd5fc4504a44914ec143f3d0a"
            ],
            "layout": "IPY_MODEL_38c48754c8854f8fa38222abdf831c89"
          }
        },
        "a2c1ea29fa6148d4ba552423384b63a5": {
          "model_module": "@jupyter-widgets/controls",
          "model_name": "LabelModel",
          "model_module_version": "1.5.0",
          "state": {
            "_dom_classes": [],
            "_model_module": "@jupyter-widgets/controls",
            "_model_module_version": "1.5.0",
            "_model_name": "LabelModel",
            "_view_count": null,
            "_view_module": "@jupyter-widgets/controls",
            "_view_module_version": "1.5.0",
            "_view_name": "LabelView",
            "description": "",
            "description_tooltip": null,
            "layout": "IPY_MODEL_ad245cc1a7b94c0dbf30a6ab324be657",
            "placeholder": "​",
            "style": "IPY_MODEL_8934248810864e939174206b8fc88075",
            "value": "7.796 MB of 7.796 MB uploaded (0.000 MB deduped)\r"
          }
        },
        "c4f51a6fd5fc4504a44914ec143f3d0a": {
          "model_module": "@jupyter-widgets/controls",
          "model_name": "FloatProgressModel",
          "model_module_version": "1.5.0",
          "state": {
            "_dom_classes": [],
            "_model_module": "@jupyter-widgets/controls",
            "_model_module_version": "1.5.0",
            "_model_name": "FloatProgressModel",
            "_view_count": null,
            "_view_module": "@jupyter-widgets/controls",
            "_view_module_version": "1.5.0",
            "_view_name": "ProgressView",
            "bar_style": "",
            "description": "",
            "description_tooltip": null,
            "layout": "IPY_MODEL_6c201b68f5c64e718b55c482ddfb2234",
            "max": 1,
            "min": 0,
            "orientation": "horizontal",
            "style": "IPY_MODEL_ca3421f8754343ac9ded9df582e8f208",
            "value": 1
          }
        },
        "38c48754c8854f8fa38222abdf831c89": {
          "model_module": "@jupyter-widgets/base",
          "model_name": "LayoutModel",
          "model_module_version": "1.2.0",
          "state": {
            "_model_module": "@jupyter-widgets/base",
            "_model_module_version": "1.2.0",
            "_model_name": "LayoutModel",
            "_view_count": null,
            "_view_module": "@jupyter-widgets/base",
            "_view_module_version": "1.2.0",
            "_view_name": "LayoutView",
            "align_content": null,
            "align_items": null,
            "align_self": null,
            "border": null,
            "bottom": null,
            "display": null,
            "flex": null,
            "flex_flow": null,
            "grid_area": null,
            "grid_auto_columns": null,
            "grid_auto_flow": null,
            "grid_auto_rows": null,
            "grid_column": null,
            "grid_gap": null,
            "grid_row": null,
            "grid_template_areas": null,
            "grid_template_columns": null,
            "grid_template_rows": null,
            "height": null,
            "justify_content": null,
            "justify_items": null,
            "left": null,
            "margin": null,
            "max_height": null,
            "max_width": null,
            "min_height": null,
            "min_width": null,
            "object_fit": null,
            "object_position": null,
            "order": null,
            "overflow": null,
            "overflow_x": null,
            "overflow_y": null,
            "padding": null,
            "right": null,
            "top": null,
            "visibility": null,
            "width": null
          }
        },
        "ad245cc1a7b94c0dbf30a6ab324be657": {
          "model_module": "@jupyter-widgets/base",
          "model_name": "LayoutModel",
          "model_module_version": "1.2.0",
          "state": {
            "_model_module": "@jupyter-widgets/base",
            "_model_module_version": "1.2.0",
            "_model_name": "LayoutModel",
            "_view_count": null,
            "_view_module": "@jupyter-widgets/base",
            "_view_module_version": "1.2.0",
            "_view_name": "LayoutView",
            "align_content": null,
            "align_items": null,
            "align_self": null,
            "border": null,
            "bottom": null,
            "display": null,
            "flex": null,
            "flex_flow": null,
            "grid_area": null,
            "grid_auto_columns": null,
            "grid_auto_flow": null,
            "grid_auto_rows": null,
            "grid_column": null,
            "grid_gap": null,
            "grid_row": null,
            "grid_template_areas": null,
            "grid_template_columns": null,
            "grid_template_rows": null,
            "height": null,
            "justify_content": null,
            "justify_items": null,
            "left": null,
            "margin": null,
            "max_height": null,
            "max_width": null,
            "min_height": null,
            "min_width": null,
            "object_fit": null,
            "object_position": null,
            "order": null,
            "overflow": null,
            "overflow_x": null,
            "overflow_y": null,
            "padding": null,
            "right": null,
            "top": null,
            "visibility": null,
            "width": null
          }
        },
        "8934248810864e939174206b8fc88075": {
          "model_module": "@jupyter-widgets/controls",
          "model_name": "DescriptionStyleModel",
          "model_module_version": "1.5.0",
          "state": {
            "_model_module": "@jupyter-widgets/controls",
            "_model_module_version": "1.5.0",
            "_model_name": "DescriptionStyleModel",
            "_view_count": null,
            "_view_module": "@jupyter-widgets/base",
            "_view_module_version": "1.2.0",
            "_view_name": "StyleView",
            "description_width": ""
          }
        },
        "6c201b68f5c64e718b55c482ddfb2234": {
          "model_module": "@jupyter-widgets/base",
          "model_name": "LayoutModel",
          "model_module_version": "1.2.0",
          "state": {
            "_model_module": "@jupyter-widgets/base",
            "_model_module_version": "1.2.0",
            "_model_name": "LayoutModel",
            "_view_count": null,
            "_view_module": "@jupyter-widgets/base",
            "_view_module_version": "1.2.0",
            "_view_name": "LayoutView",
            "align_content": null,
            "align_items": null,
            "align_self": null,
            "border": null,
            "bottom": null,
            "display": null,
            "flex": null,
            "flex_flow": null,
            "grid_area": null,
            "grid_auto_columns": null,
            "grid_auto_flow": null,
            "grid_auto_rows": null,
            "grid_column": null,
            "grid_gap": null,
            "grid_row": null,
            "grid_template_areas": null,
            "grid_template_columns": null,
            "grid_template_rows": null,
            "height": null,
            "justify_content": null,
            "justify_items": null,
            "left": null,
            "margin": null,
            "max_height": null,
            "max_width": null,
            "min_height": null,
            "min_width": null,
            "object_fit": null,
            "object_position": null,
            "order": null,
            "overflow": null,
            "overflow_x": null,
            "overflow_y": null,
            "padding": null,
            "right": null,
            "top": null,
            "visibility": null,
            "width": null
          }
        },
        "ca3421f8754343ac9ded9df582e8f208": {
          "model_module": "@jupyter-widgets/controls",
          "model_name": "ProgressStyleModel",
          "model_module_version": "1.5.0",
          "state": {
            "_model_module": "@jupyter-widgets/controls",
            "_model_module_version": "1.5.0",
            "_model_name": "ProgressStyleModel",
            "_view_count": null,
            "_view_module": "@jupyter-widgets/base",
            "_view_module_version": "1.2.0",
            "_view_name": "StyleView",
            "bar_color": null,
            "description_width": ""
          }
        },
        "a636ff86e3584694911aa85a355d2e70": {
          "model_module": "@jupyter-widgets/controls",
          "model_name": "VBoxModel",
          "model_module_version": "1.5.0",
          "state": {
            "_dom_classes": [],
            "_model_module": "@jupyter-widgets/controls",
            "_model_module_version": "1.5.0",
            "_model_name": "VBoxModel",
            "_view_count": null,
            "_view_module": "@jupyter-widgets/controls",
            "_view_module_version": "1.5.0",
            "_view_name": "VBoxView",
            "box_style": "",
            "children": [
              "IPY_MODEL_8d996b2a432541d69da8fefaf2cadad4",
              "IPY_MODEL_f9027c89f357443c987d17ce8192cf9c"
            ],
            "layout": "IPY_MODEL_722d52f31a194888bb732d3f63e7eb19"
          }
        },
        "8d996b2a432541d69da8fefaf2cadad4": {
          "model_module": "@jupyter-widgets/controls",
          "model_name": "LabelModel",
          "model_module_version": "1.5.0",
          "state": {
            "_dom_classes": [],
            "_model_module": "@jupyter-widgets/controls",
            "_model_module_version": "1.5.0",
            "_model_name": "LabelModel",
            "_view_count": null,
            "_view_module": "@jupyter-widgets/controls",
            "_view_module_version": "1.5.0",
            "_view_name": "LabelView",
            "description": "",
            "description_tooltip": null,
            "layout": "IPY_MODEL_20560730c46d459f818194e42c0c206d",
            "placeholder": "​",
            "style": "IPY_MODEL_2302b81c3962433584edc604bd773df0",
            "value": "0.145 MB of 0.145 MB uploaded (0.000 MB deduped)\r"
          }
        },
        "f9027c89f357443c987d17ce8192cf9c": {
          "model_module": "@jupyter-widgets/controls",
          "model_name": "FloatProgressModel",
          "model_module_version": "1.5.0",
          "state": {
            "_dom_classes": [],
            "_model_module": "@jupyter-widgets/controls",
            "_model_module_version": "1.5.0",
            "_model_name": "FloatProgressModel",
            "_view_count": null,
            "_view_module": "@jupyter-widgets/controls",
            "_view_module_version": "1.5.0",
            "_view_name": "ProgressView",
            "bar_style": "",
            "description": "",
            "description_tooltip": null,
            "layout": "IPY_MODEL_76d24f036dd946ae99356d025cba7939",
            "max": 1,
            "min": 0,
            "orientation": "horizontal",
            "style": "IPY_MODEL_77bc9e52262044b0a33b7fe71fe07036",
            "value": 1
          }
        },
        "722d52f31a194888bb732d3f63e7eb19": {
          "model_module": "@jupyter-widgets/base",
          "model_name": "LayoutModel",
          "model_module_version": "1.2.0",
          "state": {
            "_model_module": "@jupyter-widgets/base",
            "_model_module_version": "1.2.0",
            "_model_name": "LayoutModel",
            "_view_count": null,
            "_view_module": "@jupyter-widgets/base",
            "_view_module_version": "1.2.0",
            "_view_name": "LayoutView",
            "align_content": null,
            "align_items": null,
            "align_self": null,
            "border": null,
            "bottom": null,
            "display": null,
            "flex": null,
            "flex_flow": null,
            "grid_area": null,
            "grid_auto_columns": null,
            "grid_auto_flow": null,
            "grid_auto_rows": null,
            "grid_column": null,
            "grid_gap": null,
            "grid_row": null,
            "grid_template_areas": null,
            "grid_template_columns": null,
            "grid_template_rows": null,
            "height": null,
            "justify_content": null,
            "justify_items": null,
            "left": null,
            "margin": null,
            "max_height": null,
            "max_width": null,
            "min_height": null,
            "min_width": null,
            "object_fit": null,
            "object_position": null,
            "order": null,
            "overflow": null,
            "overflow_x": null,
            "overflow_y": null,
            "padding": null,
            "right": null,
            "top": null,
            "visibility": null,
            "width": null
          }
        },
        "20560730c46d459f818194e42c0c206d": {
          "model_module": "@jupyter-widgets/base",
          "model_name": "LayoutModel",
          "model_module_version": "1.2.0",
          "state": {
            "_model_module": "@jupyter-widgets/base",
            "_model_module_version": "1.2.0",
            "_model_name": "LayoutModel",
            "_view_count": null,
            "_view_module": "@jupyter-widgets/base",
            "_view_module_version": "1.2.0",
            "_view_name": "LayoutView",
            "align_content": null,
            "align_items": null,
            "align_self": null,
            "border": null,
            "bottom": null,
            "display": null,
            "flex": null,
            "flex_flow": null,
            "grid_area": null,
            "grid_auto_columns": null,
            "grid_auto_flow": null,
            "grid_auto_rows": null,
            "grid_column": null,
            "grid_gap": null,
            "grid_row": null,
            "grid_template_areas": null,
            "grid_template_columns": null,
            "grid_template_rows": null,
            "height": null,
            "justify_content": null,
            "justify_items": null,
            "left": null,
            "margin": null,
            "max_height": null,
            "max_width": null,
            "min_height": null,
            "min_width": null,
            "object_fit": null,
            "object_position": null,
            "order": null,
            "overflow": null,
            "overflow_x": null,
            "overflow_y": null,
            "padding": null,
            "right": null,
            "top": null,
            "visibility": null,
            "width": null
          }
        },
        "2302b81c3962433584edc604bd773df0": {
          "model_module": "@jupyter-widgets/controls",
          "model_name": "DescriptionStyleModel",
          "model_module_version": "1.5.0",
          "state": {
            "_model_module": "@jupyter-widgets/controls",
            "_model_module_version": "1.5.0",
            "_model_name": "DescriptionStyleModel",
            "_view_count": null,
            "_view_module": "@jupyter-widgets/base",
            "_view_module_version": "1.2.0",
            "_view_name": "StyleView",
            "description_width": ""
          }
        },
        "76d24f036dd946ae99356d025cba7939": {
          "model_module": "@jupyter-widgets/base",
          "model_name": "LayoutModel",
          "model_module_version": "1.2.0",
          "state": {
            "_model_module": "@jupyter-widgets/base",
            "_model_module_version": "1.2.0",
            "_model_name": "LayoutModel",
            "_view_count": null,
            "_view_module": "@jupyter-widgets/base",
            "_view_module_version": "1.2.0",
            "_view_name": "LayoutView",
            "align_content": null,
            "align_items": null,
            "align_self": null,
            "border": null,
            "bottom": null,
            "display": null,
            "flex": null,
            "flex_flow": null,
            "grid_area": null,
            "grid_auto_columns": null,
            "grid_auto_flow": null,
            "grid_auto_rows": null,
            "grid_column": null,
            "grid_gap": null,
            "grid_row": null,
            "grid_template_areas": null,
            "grid_template_columns": null,
            "grid_template_rows": null,
            "height": null,
            "justify_content": null,
            "justify_items": null,
            "left": null,
            "margin": null,
            "max_height": null,
            "max_width": null,
            "min_height": null,
            "min_width": null,
            "object_fit": null,
            "object_position": null,
            "order": null,
            "overflow": null,
            "overflow_x": null,
            "overflow_y": null,
            "padding": null,
            "right": null,
            "top": null,
            "visibility": null,
            "width": null
          }
        },
        "77bc9e52262044b0a33b7fe71fe07036": {
          "model_module": "@jupyter-widgets/controls",
          "model_name": "ProgressStyleModel",
          "model_module_version": "1.5.0",
          "state": {
            "_model_module": "@jupyter-widgets/controls",
            "_model_module_version": "1.5.0",
            "_model_name": "ProgressStyleModel",
            "_view_count": null,
            "_view_module": "@jupyter-widgets/base",
            "_view_module_version": "1.2.0",
            "_view_name": "StyleView",
            "bar_color": null,
            "description_width": ""
          }
        }
      }
    }
  },
  "cells": [
    {
      "cell_type": "markdown",
      "metadata": {
        "id": "view-in-github",
        "colab_type": "text"
      },
      "source": [
        "<a href=\"https://colab.research.google.com/github/mel-zheng/mel-zheng/blob/main/GPT_3_finetune_on_Amazon_press_release.ipynb\" target=\"_parent\"><img src=\"https://colab.research.google.com/assets/colab-badge.svg\" alt=\"Open In Colab\"/></a>"
      ]
    },
    {
      "cell_type": "code",
      "source": [
        "from google.colab import drive\n",
        "drive.mount('/content/drive')"
      ],
      "metadata": {
        "colab": {
          "base_uri": "https://localhost:8080/"
        },
        "id": "4pmiEqQ5gbQ7",
        "outputId": "4683fa01-ba2c-4390-d8d2-b198781d5dc8"
      },
      "execution_count": null,
      "outputs": [
        {
          "output_type": "stream",
          "name": "stdout",
          "text": [
            "Mounted at /content/drive\n"
          ]
        }
      ]
    },
    {
      "cell_type": "markdown",
      "source": [
        "## Import Dependencies"
      ],
      "metadata": {
        "id": "vkySRX45cgWm"
      }
    },
    {
      "cell_type": "code",
      "source": [
        "!pip install --upgrade openai wandb"
      ],
      "metadata": {
        "colab": {
          "base_uri": "https://localhost:8080/"
        },
        "id": "htxEKykTciHi",
        "outputId": "a5a23d8c-017d-4fa0-83fa-822becc3a4a6"
      },
      "execution_count": null,
      "outputs": [
        {
          "output_type": "stream",
          "name": "stdout",
          "text": [
            "Looking in indexes: https://pypi.org/simple, https://us-python.pkg.dev/colab-wheels/public/simple/\n",
            "Collecting openai\n",
            "  Downloading openai-0.20.0.tar.gz (42 kB)\n",
            "\u001b[K     |████████████████████████████████| 42 kB 1.2 MB/s \n",
            "\u001b[?25h  Installing build dependencies ... \u001b[?25l\u001b[?25hdone\n",
            "  Getting requirements to build wheel ... \u001b[?25l\u001b[?25hdone\n",
            "    Preparing wheel metadata ... \u001b[?25l\u001b[?25hdone\n",
            "Collecting wandb\n",
            "  Downloading wandb-0.12.21-py2.py3-none-any.whl (1.8 MB)\n",
            "\u001b[K     |████████████████████████████████| 1.8 MB 8.0 MB/s \n",
            "\u001b[?25hRequirement already satisfied: pandas>=1.2.3 in /usr/local/lib/python3.7/dist-packages (from openai) (1.3.5)\n",
            "Requirement already satisfied: requests>=2.20 in /usr/local/lib/python3.7/dist-packages (from openai) (2.23.0)\n",
            "Collecting pandas-stubs>=1.1.0.11\n",
            "  Downloading pandas_stubs-1.2.0.62-py3-none-any.whl (163 kB)\n",
            "\u001b[K     |████████████████████████████████| 163 kB 48.8 MB/s \n",
            "\u001b[?25hRequirement already satisfied: openpyxl>=3.0.7 in /usr/local/lib/python3.7/dist-packages (from openai) (3.0.10)\n",
            "Requirement already satisfied: tqdm in /usr/local/lib/python3.7/dist-packages (from openai) (4.64.0)\n",
            "Requirement already satisfied: et-xmlfile in /usr/local/lib/python3.7/dist-packages (from openpyxl>=3.0.7->openai) (1.1.0)\n",
            "Requirement already satisfied: python-dateutil>=2.7.3 in /usr/local/lib/python3.7/dist-packages (from pandas>=1.2.3->openai) (2.8.2)\n",
            "Requirement already satisfied: numpy>=1.17.3 in /usr/local/lib/python3.7/dist-packages (from pandas>=1.2.3->openai) (1.21.6)\n",
            "Requirement already satisfied: pytz>=2017.3 in /usr/local/lib/python3.7/dist-packages (from pandas>=1.2.3->openai) (2022.1)\n",
            "Requirement already satisfied: typing-extensions>=3.7.4.3 in /usr/local/lib/python3.7/dist-packages (from pandas-stubs>=1.1.0.11->openai) (4.1.1)\n",
            "Requirement already satisfied: six>=1.5 in /usr/local/lib/python3.7/dist-packages (from python-dateutil>=2.7.3->pandas>=1.2.3->openai) (1.15.0)\n",
            "Requirement already satisfied: idna<3,>=2.5 in /usr/local/lib/python3.7/dist-packages (from requests>=2.20->openai) (2.10)\n",
            "Requirement already satisfied: chardet<4,>=3.0.2 in /usr/local/lib/python3.7/dist-packages (from requests>=2.20->openai) (3.0.4)\n",
            "Requirement already satisfied: certifi>=2017.4.17 in /usr/local/lib/python3.7/dist-packages (from requests>=2.20->openai) (2022.6.15)\n",
            "Requirement already satisfied: urllib3!=1.25.0,!=1.25.1,<1.26,>=1.21.1 in /usr/local/lib/python3.7/dist-packages (from requests>=2.20->openai) (1.24.3)\n",
            "Requirement already satisfied: setuptools in /usr/local/lib/python3.7/dist-packages (from wandb) (57.4.0)\n",
            "Requirement already satisfied: psutil>=5.0.0 in /usr/local/lib/python3.7/dist-packages (from wandb) (5.4.8)\n",
            "Requirement already satisfied: protobuf<4.0dev,>=3.12.0 in /usr/local/lib/python3.7/dist-packages (from wandb) (3.17.3)\n",
            "Collecting docker-pycreds>=0.4.0\n",
            "  Downloading docker_pycreds-0.4.0-py2.py3-none-any.whl (9.0 kB)\n",
            "Collecting pathtools\n",
            "  Downloading pathtools-0.1.2.tar.gz (11 kB)\n",
            "Collecting sentry-sdk>=1.0.0\n",
            "  Downloading sentry_sdk-1.7.2-py2.py3-none-any.whl (147 kB)\n",
            "\u001b[K     |████████████████████████████████| 147 kB 62.3 MB/s \n",
            "\u001b[?25hCollecting shortuuid>=0.5.0\n",
            "  Downloading shortuuid-1.0.9-py3-none-any.whl (9.4 kB)\n",
            "Requirement already satisfied: PyYAML in /usr/local/lib/python3.7/dist-packages (from wandb) (3.13)\n",
            "Collecting setproctitle\n",
            "  Downloading setproctitle-1.2.3-cp37-cp37m-manylinux_2_5_x86_64.manylinux1_x86_64.manylinux_2_17_x86_64.manylinux2014_x86_64.whl (29 kB)\n",
            "Collecting GitPython>=1.0.0\n",
            "  Downloading GitPython-3.1.27-py3-none-any.whl (181 kB)\n",
            "\u001b[K     |████████████████████████████████| 181 kB 49.0 MB/s \n",
            "\u001b[?25hRequirement already satisfied: promise<3,>=2.0 in /usr/local/lib/python3.7/dist-packages (from wandb) (2.3)\n",
            "Requirement already satisfied: Click!=8.0.0,>=7.0 in /usr/local/lib/python3.7/dist-packages (from wandb) (7.1.2)\n",
            "Collecting gitdb<5,>=4.0.1\n",
            "  Downloading gitdb-4.0.9-py3-none-any.whl (63 kB)\n",
            "\u001b[K     |████████████████████████████████| 63 kB 1.8 MB/s \n",
            "\u001b[?25hCollecting smmap<6,>=3.0.1\n",
            "  Downloading smmap-5.0.0-py3-none-any.whl (24 kB)\n",
            "Building wheels for collected packages: openai, pathtools\n",
            "  Building wheel for openai (PEP 517) ... \u001b[?25l\u001b[?25hdone\n",
            "  Created wheel for openai: filename=openai-0.20.0-py3-none-any.whl size=54118 sha256=89caef8b83bd9420e6b07b8f9e65491a7a13c9e1fa010fb38118e66380433c40\n",
            "  Stored in directory: /root/.cache/pip/wheels/71/8d/9b/e28529ec53123e0279208f99148d4661232120d78cb866839b\n",
            "  Building wheel for pathtools (setup.py) ... \u001b[?25l\u001b[?25hdone\n",
            "  Created wheel for pathtools: filename=pathtools-0.1.2-py3-none-any.whl size=8806 sha256=2eb2b61d22e60870cace6aaf0d7434c9015ece1588a94659cf07a25da06ce6a7\n",
            "  Stored in directory: /root/.cache/pip/wheels/3e/31/09/fa59cef12cdcfecc627b3d24273699f390e71828921b2cbba2\n",
            "Successfully built openai pathtools\n",
            "Installing collected packages: smmap, gitdb, shortuuid, setproctitle, sentry-sdk, pathtools, pandas-stubs, GitPython, docker-pycreds, wandb, openai\n",
            "Successfully installed GitPython-3.1.27 docker-pycreds-0.4.0 gitdb-4.0.9 openai-0.20.0 pandas-stubs-1.2.0.62 pathtools-0.1.2 sentry-sdk-1.7.2 setproctitle-1.2.3 shortuuid-1.0.9 smmap-5.0.0 wandb-0.12.21\n"
          ]
        }
      ]
    },
    {
      "cell_type": "code",
      "source": [
        "import openai\n",
        "import wandb\n",
        "from pathlib import Path\n",
        "import pandas as pd\n",
        "import numpy as np\n",
        "import json\n",
        "from tqdm import tqdm\n",
        "import re"
      ],
      "metadata": {
        "id": "CBBydFcwcpGg"
      },
      "execution_count": null,
      "outputs": []
    },
    {
      "cell_type": "markdown",
      "source": [
        "## Load Training Dataset"
      ],
      "metadata": {
        "id": "ZStJxGIFg0ws"
      }
    },
    {
      "cell_type": "code",
      "source": [
        "!mkdir amazon-press"
      ],
      "metadata": {
        "id": "bR8oVz3IwT2U"
      },
      "execution_count": null,
      "outputs": []
    },
    {
      "cell_type": "code",
      "source": [
        "!cp /content/drive/MyDrive/amazon-articles-cleaned-v0.csv ./amazon-press/training-dataset.csv"
      ],
      "metadata": {
        "id": "zn69Nzqx_Q6L"
      },
      "execution_count": null,
      "outputs": []
    },
    {
      "cell_type": "code",
      "source": [
        "!cp validation.csv /content/drive/MyDrive/amazon-articles-validation-v0.csv"
      ],
      "metadata": {
        "id": "gwg_tl7N8S0Z"
      },
      "execution_count": null,
      "outputs": []
    },
    {
      "cell_type": "code",
      "source": [
        "df_orig = pd.read_csv('amazon-press/training-dataset.csv')\n",
        "df_orig.head(5)"
      ],
      "metadata": {
        "colab": {
          "base_uri": "https://localhost:8080/",
          "height": 337
        },
        "id": "XJbjNu_mWTXS",
        "outputId": "43ee3b18-7551-4888-eaee-28af9f2c3fc8"
      },
      "execution_count": null,
      "outputs": [
        {
          "output_type": "execute_result",
          "data": {
            "text/plain": [
              "                                               title  \\\n",
              "0  Amazon Announces First Mississippi Fulfillment...   \n",
              "1  Amazon’s Air Network Expands to Support the Gr...   \n",
              "2  Amazon Announces Third Annual Digital Day with...   \n",
              "3  Code.org and Amazon Kick Off Hour of Code: Dan...   \n",
              "4           AWS Announces the DeepRacer League (DRL)   \n",
              "\n",
              "                                                 url  \\\n",
              "0  https://press.aboutamazon.com/news-releases/ne...   \n",
              "1  https://press.aboutamazon.com/news-releases/ne...   \n",
              "2  https://press.aboutamazon.com/news-releases/ne...   \n",
              "3  https://press.aboutamazon.com/news-releases/ne...   \n",
              "4  https://press.aboutamazon.com/news-releases/ne...   \n",
              "\n",
              "                           dataetime  num_paragraphs  \\\n",
              "0   December 21, 2018 at 9:00 AM EST              13   \n",
              "1  December 21, 2018 at 12:00 AM EST              13   \n",
              "2   December 18, 2018 at 9:00 AM EST              11   \n",
              "3   December 3, 2018 at 11:30 AM EST              20   \n",
              "4   November 29, 2018 at 1:34 PM EST              17   \n",
              "\n",
              "                                                text  word_count  \n",
              "0  New facility will create 850 full-time jobs in...         437  \n",
              "1  Amazon expands the long term partnership with ...         631  \n",
              "2  Save up to 80% off Marvel graphic novels, 75% ...         777  \n",
              "3  Amazon and Code.org partner for this year’s Ho...         831  \n",
              "4  AWS launches the first global autonomous racin...        1202  "
            ],
            "text/html": [
              "\n",
              "  <div id=\"df-1f57c5a5-afa1-40d9-8d5d-d677ad612c46\">\n",
              "    <div class=\"colab-df-container\">\n",
              "      <div>\n",
              "<style scoped>\n",
              "    .dataframe tbody tr th:only-of-type {\n",
              "        vertical-align: middle;\n",
              "    }\n",
              "\n",
              "    .dataframe tbody tr th {\n",
              "        vertical-align: top;\n",
              "    }\n",
              "\n",
              "    .dataframe thead th {\n",
              "        text-align: right;\n",
              "    }\n",
              "</style>\n",
              "<table border=\"1\" class=\"dataframe\">\n",
              "  <thead>\n",
              "    <tr style=\"text-align: right;\">\n",
              "      <th></th>\n",
              "      <th>title</th>\n",
              "      <th>url</th>\n",
              "      <th>dataetime</th>\n",
              "      <th>num_paragraphs</th>\n",
              "      <th>text</th>\n",
              "      <th>word_count</th>\n",
              "    </tr>\n",
              "  </thead>\n",
              "  <tbody>\n",
              "    <tr>\n",
              "      <th>0</th>\n",
              "      <td>Amazon Announces First Mississippi Fulfillment...</td>\n",
              "      <td>https://press.aboutamazon.com/news-releases/ne...</td>\n",
              "      <td>December 21, 2018 at 9:00 AM EST</td>\n",
              "      <td>13</td>\n",
              "      <td>New facility will create 850 full-time jobs in...</td>\n",
              "      <td>437</td>\n",
              "    </tr>\n",
              "    <tr>\n",
              "      <th>1</th>\n",
              "      <td>Amazon’s Air Network Expands to Support the Gr...</td>\n",
              "      <td>https://press.aboutamazon.com/news-releases/ne...</td>\n",
              "      <td>December 21, 2018 at 12:00 AM EST</td>\n",
              "      <td>13</td>\n",
              "      <td>Amazon expands the long term partnership with ...</td>\n",
              "      <td>631</td>\n",
              "    </tr>\n",
              "    <tr>\n",
              "      <th>2</th>\n",
              "      <td>Amazon Announces Third Annual Digital Day with...</td>\n",
              "      <td>https://press.aboutamazon.com/news-releases/ne...</td>\n",
              "      <td>December 18, 2018 at 9:00 AM EST</td>\n",
              "      <td>11</td>\n",
              "      <td>Save up to 80% off Marvel graphic novels, 75% ...</td>\n",
              "      <td>777</td>\n",
              "    </tr>\n",
              "    <tr>\n",
              "      <th>3</th>\n",
              "      <td>Code.org and Amazon Kick Off Hour of Code: Dan...</td>\n",
              "      <td>https://press.aboutamazon.com/news-releases/ne...</td>\n",
              "      <td>December 3, 2018 at 11:30 AM EST</td>\n",
              "      <td>20</td>\n",
              "      <td>Amazon and Code.org partner for this year’s Ho...</td>\n",
              "      <td>831</td>\n",
              "    </tr>\n",
              "    <tr>\n",
              "      <th>4</th>\n",
              "      <td>AWS Announces the DeepRacer League (DRL)</td>\n",
              "      <td>https://press.aboutamazon.com/news-releases/ne...</td>\n",
              "      <td>November 29, 2018 at 1:34 PM EST</td>\n",
              "      <td>17</td>\n",
              "      <td>AWS launches the first global autonomous racin...</td>\n",
              "      <td>1202</td>\n",
              "    </tr>\n",
              "  </tbody>\n",
              "</table>\n",
              "</div>\n",
              "      <button class=\"colab-df-convert\" onclick=\"convertToInteractive('df-1f57c5a5-afa1-40d9-8d5d-d677ad612c46')\"\n",
              "              title=\"Convert this dataframe to an interactive table.\"\n",
              "              style=\"display:none;\">\n",
              "        \n",
              "  <svg xmlns=\"http://www.w3.org/2000/svg\" height=\"24px\"viewBox=\"0 0 24 24\"\n",
              "       width=\"24px\">\n",
              "    <path d=\"M0 0h24v24H0V0z\" fill=\"none\"/>\n",
              "    <path d=\"M18.56 5.44l.94 2.06.94-2.06 2.06-.94-2.06-.94-.94-2.06-.94 2.06-2.06.94zm-11 1L8.5 8.5l.94-2.06 2.06-.94-2.06-.94L8.5 2.5l-.94 2.06-2.06.94zm10 10l.94 2.06.94-2.06 2.06-.94-2.06-.94-.94-2.06-.94 2.06-2.06.94z\"/><path d=\"M17.41 7.96l-1.37-1.37c-.4-.4-.92-.59-1.43-.59-.52 0-1.04.2-1.43.59L10.3 9.45l-7.72 7.72c-.78.78-.78 2.05 0 2.83L4 21.41c.39.39.9.59 1.41.59.51 0 1.02-.2 1.41-.59l7.78-7.78 2.81-2.81c.8-.78.8-2.07 0-2.86zM5.41 20L4 18.59l7.72-7.72 1.47 1.35L5.41 20z\"/>\n",
              "  </svg>\n",
              "      </button>\n",
              "      \n",
              "  <style>\n",
              "    .colab-df-container {\n",
              "      display:flex;\n",
              "      flex-wrap:wrap;\n",
              "      gap: 12px;\n",
              "    }\n",
              "\n",
              "    .colab-df-convert {\n",
              "      background-color: #E8F0FE;\n",
              "      border: none;\n",
              "      border-radius: 50%;\n",
              "      cursor: pointer;\n",
              "      display: none;\n",
              "      fill: #1967D2;\n",
              "      height: 32px;\n",
              "      padding: 0 0 0 0;\n",
              "      width: 32px;\n",
              "    }\n",
              "\n",
              "    .colab-df-convert:hover {\n",
              "      background-color: #E2EBFA;\n",
              "      box-shadow: 0px 1px 2px rgba(60, 64, 67, 0.3), 0px 1px 3px 1px rgba(60, 64, 67, 0.15);\n",
              "      fill: #174EA6;\n",
              "    }\n",
              "\n",
              "    [theme=dark] .colab-df-convert {\n",
              "      background-color: #3B4455;\n",
              "      fill: #D2E3FC;\n",
              "    }\n",
              "\n",
              "    [theme=dark] .colab-df-convert:hover {\n",
              "      background-color: #434B5C;\n",
              "      box-shadow: 0px 1px 3px 1px rgba(0, 0, 0, 0.15);\n",
              "      filter: drop-shadow(0px 1px 2px rgba(0, 0, 0, 0.3));\n",
              "      fill: #FFFFFF;\n",
              "    }\n",
              "  </style>\n",
              "\n",
              "      <script>\n",
              "        const buttonEl =\n",
              "          document.querySelector('#df-1f57c5a5-afa1-40d9-8d5d-d677ad612c46 button.colab-df-convert');\n",
              "        buttonEl.style.display =\n",
              "          google.colab.kernel.accessAllowed ? 'block' : 'none';\n",
              "\n",
              "        async function convertToInteractive(key) {\n",
              "          const element = document.querySelector('#df-1f57c5a5-afa1-40d9-8d5d-d677ad612c46');\n",
              "          const dataTable =\n",
              "            await google.colab.kernel.invokeFunction('convertToInteractive',\n",
              "                                                     [key], {});\n",
              "          if (!dataTable) return;\n",
              "\n",
              "          const docLinkHtml = 'Like what you see? Visit the ' +\n",
              "            '<a target=\"_blank\" href=https://colab.research.google.com/notebooks/data_table.ipynb>data table notebook</a>'\n",
              "            + ' to learn more about interactive tables.';\n",
              "          element.innerHTML = '';\n",
              "          dataTable['output_type'] = 'display_data';\n",
              "          await google.colab.output.renderOutput(dataTable, element);\n",
              "          const docLink = document.createElement('div');\n",
              "          docLink.innerHTML = docLinkHtml;\n",
              "          element.appendChild(docLink);\n",
              "        }\n",
              "      </script>\n",
              "    </div>\n",
              "  </div>\n",
              "  "
            ]
          },
          "metadata": {},
          "execution_count": 6
        }
      ]
    },
    {
      "cell_type": "code",
      "source": [
        "df_clean = df_orig[['title','text']]\n",
        "df_clean.columns=['prompt','completion']\n",
        "df_clean.head(5)"
      ],
      "metadata": {
        "colab": {
          "base_uri": "https://localhost:8080/",
          "height": 206
        },
        "id": "ksCo733xWu-c",
        "outputId": "ea496c71-1253-4233-8986-716c67f4d43d"
      },
      "execution_count": null,
      "outputs": [
        {
          "output_type": "execute_result",
          "data": {
            "text/plain": [
              "                                              prompt  \\\n",
              "0  Amazon Announces First Mississippi Fulfillment...   \n",
              "1  Amazon’s Air Network Expands to Support the Gr...   \n",
              "2  Amazon Announces Third Annual Digital Day with...   \n",
              "3  Code.org and Amazon Kick Off Hour of Code: Dan...   \n",
              "4           AWS Announces the DeepRacer League (DRL)   \n",
              "\n",
              "                                          completion  \n",
              "0  New facility will create 850 full-time jobs in...  \n",
              "1  Amazon expands the long term partnership with ...  \n",
              "2  Save up to 80% off Marvel graphic novels, 75% ...  \n",
              "3  Amazon and Code.org partner for this year’s Ho...  \n",
              "4  AWS launches the first global autonomous racin...  "
            ],
            "text/html": [
              "\n",
              "  <div id=\"df-0c231b2a-6233-418c-b928-cdc3362a3739\">\n",
              "    <div class=\"colab-df-container\">\n",
              "      <div>\n",
              "<style scoped>\n",
              "    .dataframe tbody tr th:only-of-type {\n",
              "        vertical-align: middle;\n",
              "    }\n",
              "\n",
              "    .dataframe tbody tr th {\n",
              "        vertical-align: top;\n",
              "    }\n",
              "\n",
              "    .dataframe thead th {\n",
              "        text-align: right;\n",
              "    }\n",
              "</style>\n",
              "<table border=\"1\" class=\"dataframe\">\n",
              "  <thead>\n",
              "    <tr style=\"text-align: right;\">\n",
              "      <th></th>\n",
              "      <th>prompt</th>\n",
              "      <th>completion</th>\n",
              "    </tr>\n",
              "  </thead>\n",
              "  <tbody>\n",
              "    <tr>\n",
              "      <th>0</th>\n",
              "      <td>Amazon Announces First Mississippi Fulfillment...</td>\n",
              "      <td>New facility will create 850 full-time jobs in...</td>\n",
              "    </tr>\n",
              "    <tr>\n",
              "      <th>1</th>\n",
              "      <td>Amazon’s Air Network Expands to Support the Gr...</td>\n",
              "      <td>Amazon expands the long term partnership with ...</td>\n",
              "    </tr>\n",
              "    <tr>\n",
              "      <th>2</th>\n",
              "      <td>Amazon Announces Third Annual Digital Day with...</td>\n",
              "      <td>Save up to 80% off Marvel graphic novels, 75% ...</td>\n",
              "    </tr>\n",
              "    <tr>\n",
              "      <th>3</th>\n",
              "      <td>Code.org and Amazon Kick Off Hour of Code: Dan...</td>\n",
              "      <td>Amazon and Code.org partner for this year’s Ho...</td>\n",
              "    </tr>\n",
              "    <tr>\n",
              "      <th>4</th>\n",
              "      <td>AWS Announces the DeepRacer League (DRL)</td>\n",
              "      <td>AWS launches the first global autonomous racin...</td>\n",
              "    </tr>\n",
              "  </tbody>\n",
              "</table>\n",
              "</div>\n",
              "      <button class=\"colab-df-convert\" onclick=\"convertToInteractive('df-0c231b2a-6233-418c-b928-cdc3362a3739')\"\n",
              "              title=\"Convert this dataframe to an interactive table.\"\n",
              "              style=\"display:none;\">\n",
              "        \n",
              "  <svg xmlns=\"http://www.w3.org/2000/svg\" height=\"24px\"viewBox=\"0 0 24 24\"\n",
              "       width=\"24px\">\n",
              "    <path d=\"M0 0h24v24H0V0z\" fill=\"none\"/>\n",
              "    <path d=\"M18.56 5.44l.94 2.06.94-2.06 2.06-.94-2.06-.94-.94-2.06-.94 2.06-2.06.94zm-11 1L8.5 8.5l.94-2.06 2.06-.94-2.06-.94L8.5 2.5l-.94 2.06-2.06.94zm10 10l.94 2.06.94-2.06 2.06-.94-2.06-.94-.94-2.06-.94 2.06-2.06.94z\"/><path d=\"M17.41 7.96l-1.37-1.37c-.4-.4-.92-.59-1.43-.59-.52 0-1.04.2-1.43.59L10.3 9.45l-7.72 7.72c-.78.78-.78 2.05 0 2.83L4 21.41c.39.39.9.59 1.41.59.51 0 1.02-.2 1.41-.59l7.78-7.78 2.81-2.81c.8-.78.8-2.07 0-2.86zM5.41 20L4 18.59l7.72-7.72 1.47 1.35L5.41 20z\"/>\n",
              "  </svg>\n",
              "      </button>\n",
              "      \n",
              "  <style>\n",
              "    .colab-df-container {\n",
              "      display:flex;\n",
              "      flex-wrap:wrap;\n",
              "      gap: 12px;\n",
              "    }\n",
              "\n",
              "    .colab-df-convert {\n",
              "      background-color: #E8F0FE;\n",
              "      border: none;\n",
              "      border-radius: 50%;\n",
              "      cursor: pointer;\n",
              "      display: none;\n",
              "      fill: #1967D2;\n",
              "      height: 32px;\n",
              "      padding: 0 0 0 0;\n",
              "      width: 32px;\n",
              "    }\n",
              "\n",
              "    .colab-df-convert:hover {\n",
              "      background-color: #E2EBFA;\n",
              "      box-shadow: 0px 1px 2px rgba(60, 64, 67, 0.3), 0px 1px 3px 1px rgba(60, 64, 67, 0.15);\n",
              "      fill: #174EA6;\n",
              "    }\n",
              "\n",
              "    [theme=dark] .colab-df-convert {\n",
              "      background-color: #3B4455;\n",
              "      fill: #D2E3FC;\n",
              "    }\n",
              "\n",
              "    [theme=dark] .colab-df-convert:hover {\n",
              "      background-color: #434B5C;\n",
              "      box-shadow: 0px 1px 3px 1px rgba(0, 0, 0, 0.15);\n",
              "      filter: drop-shadow(0px 1px 2px rgba(0, 0, 0, 0.3));\n",
              "      fill: #FFFFFF;\n",
              "    }\n",
              "  </style>\n",
              "\n",
              "      <script>\n",
              "        const buttonEl =\n",
              "          document.querySelector('#df-0c231b2a-6233-418c-b928-cdc3362a3739 button.colab-df-convert');\n",
              "        buttonEl.style.display =\n",
              "          google.colab.kernel.accessAllowed ? 'block' : 'none';\n",
              "\n",
              "        async function convertToInteractive(key) {\n",
              "          const element = document.querySelector('#df-0c231b2a-6233-418c-b928-cdc3362a3739');\n",
              "          const dataTable =\n",
              "            await google.colab.kernel.invokeFunction('convertToInteractive',\n",
              "                                                     [key], {});\n",
              "          if (!dataTable) return;\n",
              "\n",
              "          const docLinkHtml = 'Like what you see? Visit the ' +\n",
              "            '<a target=\"_blank\" href=https://colab.research.google.com/notebooks/data_table.ipynb>data table notebook</a>'\n",
              "            + ' to learn more about interactive tables.';\n",
              "          element.innerHTML = '';\n",
              "          dataTable['output_type'] = 'display_data';\n",
              "          await google.colab.output.renderOutput(dataTable, element);\n",
              "          const docLink = document.createElement('div');\n",
              "          docLink.innerHTML = docLinkHtml;\n",
              "          element.appendChild(docLink);\n",
              "        }\n",
              "      </script>\n",
              "    </div>\n",
              "  </div>\n",
              "  "
            ]
          },
          "metadata": {},
          "execution_count": 7
        }
      ]
    },
    {
      "cell_type": "code",
      "source": [
        "df_clean.shape"
      ],
      "metadata": {
        "colab": {
          "base_uri": "https://localhost:8080/"
        },
        "id": "51gJFS3U4R0v",
        "outputId": "360d2e3f-392e-400c-e4c0-98b5cec96d25"
      },
      "execution_count": null,
      "outputs": [
        {
          "output_type": "execute_result",
          "data": {
            "text/plain": [
              "(645, 2)"
            ]
          },
          "metadata": {},
          "execution_count": 8
        }
      ]
    },
    {
      "cell_type": "code",
      "source": [
        "training_data_filename='amazon_press_data_cleaned.csv'\n",
        "training_data_dirname = 'amazon-press'"
      ],
      "metadata": {
        "id": "ueQl7dsybOxM"
      },
      "execution_count": null,
      "outputs": []
    },
    {
      "cell_type": "code",
      "source": [
        "df_clean.to_csv(f'{training_data_dirname}/{training_data_filename}', index=False)"
      ],
      "metadata": {
        "id": "kkgBOzAtXhgm"
      },
      "execution_count": null,
      "outputs": []
    },
    {
      "cell_type": "markdown",
      "source": [
        "## OpenAI API Key"
      ],
      "metadata": {
        "id": "VWZCuYifYDSS"
      }
    },
    {
      "cell_type": "code",
      "execution_count": null,
      "metadata": {
        "id": "sTUMetGnbjCb"
      },
      "outputs": [],
      "source": [
        "# Enter credentials\n",
        "%env OPENAI_API_KEY='''your api key'''"
      ]
    },
    {
      "cell_type": "markdown",
      "source": [
        "## Initiate W&B (Weights and Bias)"
      ],
      "metadata": {
        "id": "hyGXZ7TeYYvt"
      }
    },
    {
      "cell_type": "code",
      "source": [
        "project_name='GPT 3 for Generating Texts in Amazon tone'\n",
        "\n",
        "run = wandb.init(project=project_name, job_type=\"dataset_preparation\")"
      ],
      "metadata": {
        "colab": {
          "base_uri": "https://localhost:8080/",
          "height": 158
        },
        "id": "9wHtUePOc2bo",
        "outputId": "db320e1a-0349-4fb1-b6d6-e7b26d31b400"
      },
      "execution_count": null,
      "outputs": [
        {
          "output_type": "display_data",
          "data": {
            "text/plain": [
              "<IPython.core.display.Javascript object>"
            ],
            "application/javascript": [
              "\n",
              "        window._wandbApiKey = new Promise((resolve, reject) => {\n",
              "            function loadScript(url) {\n",
              "            return new Promise(function(resolve, reject) {\n",
              "                let newScript = document.createElement(\"script\");\n",
              "                newScript.onerror = reject;\n",
              "                newScript.onload = resolve;\n",
              "                document.body.appendChild(newScript);\n",
              "                newScript.src = url;\n",
              "            });\n",
              "            }\n",
              "            loadScript(\"https://cdn.jsdelivr.net/npm/postmate/build/postmate.min.js\").then(() => {\n",
              "            const iframe = document.createElement('iframe')\n",
              "            iframe.style.cssText = \"width:0;height:0;border:none\"\n",
              "            document.body.appendChild(iframe)\n",
              "            const handshake = new Postmate({\n",
              "                container: iframe,\n",
              "                url: 'https://wandb.ai/authorize'\n",
              "            });\n",
              "            const timeout = setTimeout(() => reject(\"Couldn't auto authenticate\"), 5000)\n",
              "            handshake.then(function(child) {\n",
              "                child.on('authorize', data => {\n",
              "                    clearTimeout(timeout)\n",
              "                    resolve(data)\n",
              "                });\n",
              "            });\n",
              "            })\n",
              "        });\n",
              "    "
            ]
          },
          "metadata": {}
        },
        {
          "output_type": "stream",
          "name": "stderr",
          "text": [
            "\u001b[34m\u001b[1mwandb\u001b[0m: Logging into wandb.ai. (Learn how to deploy a W&B server locally: https://wandb.me/wandb-server)\n",
            "\u001b[34m\u001b[1mwandb\u001b[0m: You can find your API key in your browser here: https://wandb.ai/authorize\n",
            "wandb: Paste an API key from your profile and hit enter, or press ctrl+c to quit: "
          ]
        },
        {
          "name": "stdout",
          "output_type": "stream",
          "text": [
            "··········\n"
          ]
        },
        {
          "output_type": "stream",
          "name": "stderr",
          "text": [
            "\u001b[34m\u001b[1mwandb\u001b[0m: Appending key for api.wandb.ai to your netrc file: /root/.netrc\n"
          ]
        },
        {
          "output_type": "display_data",
          "data": {
            "text/plain": [
              "<IPython.core.display.HTML object>"
            ],
            "text/html": [
              "Tracking run with wandb version 0.12.21"
            ]
          },
          "metadata": {}
        },
        {
          "output_type": "display_data",
          "data": {
            "text/plain": [
              "<IPython.core.display.HTML object>"
            ],
            "text/html": [
              "Run data is saved locally in <code>/content/wandb/run-20220719_184546-3koh7ykc</code>"
            ]
          },
          "metadata": {}
        },
        {
          "output_type": "display_data",
          "data": {
            "text/plain": [
              "<IPython.core.display.HTML object>"
            ],
            "text/html": [
              "Syncing run <strong><a href=\"https://wandb.ai/melzheng/GPT%203%20for%20Generating%20Texts%20in%20Amazon%20tone/runs/3koh7ykc\" target=\"_blank\">dauntless-grass-1</a></strong> to <a href=\"https://wandb.ai/melzheng/GPT%203%20for%20Generating%20Texts%20in%20Amazon%20tone\" target=\"_blank\">Weights & Biases</a> (<a href=\"https://wandb.me/run\" target=\"_blank\">docs</a>)<br/>"
            ]
          },
          "metadata": {}
        }
      ]
    },
    {
      "cell_type": "code",
      "source": [
        "run = wandb.init(project=project_name, entity=\"melzheng\")"
      ],
      "metadata": {
        "colab": {
          "base_uri": "https://localhost:8080/",
          "height": 174,
          "referenced_widgets": [
            "8f725478948e4eeaaffb3c1647841971",
            "804dc2973d7c46bda60ddddd7d5a2eb2",
            "63e266ab17f3485ebc1ef2a63f2cb346",
            "b2d7cd6ff7914bc69a800acea537d6de",
            "c67e9857b43342fdaeafb9a9a7198fae",
            "baf03036ce7e4a8bba5d2ed9fb297c55",
            "6ef463e0d7c54806b2df932a92085a03",
            "f8937d0b20224980a321d78e03c0c7a2"
          ]
        },
        "id": "EcyqOdudfNd0",
        "outputId": "c3022010-1598-44be-db6d-e17103be73a1"
      },
      "execution_count": null,
      "outputs": [
        {
          "output_type": "display_data",
          "data": {
            "text/plain": [
              "<IPython.core.display.HTML object>"
            ],
            "text/html": [
              "Finishing last run (ID:3koh7ykc) before initializing another..."
            ]
          },
          "metadata": {}
        },
        {
          "output_type": "display_data",
          "data": {
            "text/plain": [
              "<IPython.core.display.HTML object>"
            ],
            "text/html": [
              "Waiting for W&B process to finish... <strong style=\"color:green\">(success).</strong>"
            ]
          },
          "metadata": {}
        },
        {
          "output_type": "display_data",
          "data": {
            "text/plain": [
              "VBox(children=(Label(value='0.001 MB of 0.001 MB uploaded (0.000 MB deduped)\\r'), FloatProgress(value=1.0, max…"
            ],
            "application/vnd.jupyter.widget-view+json": {
              "version_major": 2,
              "version_minor": 0,
              "model_id": "8f725478948e4eeaaffb3c1647841971"
            }
          },
          "metadata": {}
        },
        {
          "output_type": "display_data",
          "data": {
            "text/plain": [
              "<IPython.core.display.HTML object>"
            ],
            "text/html": [
              "Synced <strong style=\"color:#cdcd00\">dauntless-grass-1</strong>: <a href=\"https://wandb.ai/melzheng/GPT%203%20for%20Generating%20Texts%20in%20Amazon%20tone/runs/3koh7ykc\" target=\"_blank\">https://wandb.ai/melzheng/GPT%203%20for%20Generating%20Texts%20in%20Amazon%20tone/runs/3koh7ykc</a><br/>Synced 4 W&B file(s), 0 media file(s), 0 artifact file(s) and 0 other file(s)"
            ]
          },
          "metadata": {}
        },
        {
          "output_type": "display_data",
          "data": {
            "text/plain": [
              "<IPython.core.display.HTML object>"
            ],
            "text/html": [
              "Find logs at: <code>./wandb/run-20220719_184546-3koh7ykc/logs</code>"
            ]
          },
          "metadata": {}
        },
        {
          "output_type": "display_data",
          "data": {
            "text/plain": [
              "<IPython.core.display.HTML object>"
            ],
            "text/html": [
              "Successfully finished last run (ID:3koh7ykc). Initializing new run:<br/>"
            ]
          },
          "metadata": {}
        },
        {
          "output_type": "display_data",
          "data": {
            "text/plain": [
              "<IPython.core.display.HTML object>"
            ],
            "text/html": [
              "Tracking run with wandb version 0.12.21"
            ]
          },
          "metadata": {}
        },
        {
          "output_type": "display_data",
          "data": {
            "text/plain": [
              "<IPython.core.display.HTML object>"
            ],
            "text/html": [
              "Run data is saved locally in <code>/content/wandb/run-20220719_184732-7qbtxkk4</code>"
            ]
          },
          "metadata": {}
        },
        {
          "output_type": "display_data",
          "data": {
            "text/plain": [
              "<IPython.core.display.HTML object>"
            ],
            "text/html": [
              "Syncing run <strong><a href=\"https://wandb.ai/melzheng/GPT%203%20for%20Generating%20Texts%20in%20Amazon%20tone/runs/7qbtxkk4\" target=\"_blank\">fresh-lake-2</a></strong> to <a href=\"https://wandb.ai/melzheng/GPT%203%20for%20Generating%20Texts%20in%20Amazon%20tone\" target=\"_blank\">Weights & Biases</a> (<a href=\"https://wandb.me/run\" target=\"_blank\">docs</a>)<br/>"
            ]
          },
          "metadata": {}
        }
      ]
    },
    {
      "cell_type": "markdown",
      "source": [
        "## Creat W&B Artifact"
      ],
      "metadata": {
        "id": "GgR0sFNluKGL"
      }
    },
    {
      "cell_type": "code",
      "source": [
        "artifact = wandb.Artifact(training_data_dirname, type='dataset')\n",
        "artifact.add_dir(training_data_dirname)\n",
        "run.log_artifact(artifact) "
      ],
      "metadata": {
        "colab": {
          "base_uri": "https://localhost:8080/"
        },
        "id": "FwUryG2fZv8t",
        "outputId": "32f1c9a6-4166-42aa-95c7-7f0d411a5e24"
      },
      "execution_count": null,
      "outputs": [
        {
          "output_type": "stream",
          "name": "stderr",
          "text": [
            "\u001b[34m\u001b[1mwandb\u001b[0m: Adding directory to artifact (./amazon-press)... Done. 0.1s\n"
          ]
        },
        {
          "output_type": "execute_result",
          "data": {
            "text/plain": [
              "<wandb.sdk.wandb_artifacts.Artifact at 0x7fe0575b4750>"
            ]
          },
          "metadata": {},
          "execution_count": 14
        }
      ]
    },
    {
      "cell_type": "code",
      "source": [
        "run = wandb.init(project=project_name)\n",
        "\n",
        "artifact = run.use_artifact(f'{training_data_dirname}:v0')\n",
        "artifact_dir = artifact.download()+f\"/{training_data_filename}\""
      ],
      "metadata": {
        "colab": {
          "base_uri": "https://localhost:8080/",
          "height": 174,
          "referenced_widgets": [
            "ead728cf72364b019f524c5f3d01b5a3",
            "989f0709813a442f86c463aaa889381e",
            "9bda980fda2a4d9d9d6ac236c071a05c",
            "b6f97a10c4e64cb7b5f307a95f1f53d6",
            "b8411dab5bfe4fefaff19d757da92692",
            "7874e2e8dc914b4995e5b6dbdf4b7987",
            "b568fca55cc047419c96fe95a09a70e5",
            "936664d4bc78454cb0e81aa964613cb2"
          ]
        },
        "id": "DaJy-Zeac-Nc",
        "outputId": "cc16af58-35e2-4691-a07d-b637cd4dafd8"
      },
      "execution_count": null,
      "outputs": [
        {
          "output_type": "display_data",
          "data": {
            "text/plain": [
              "<IPython.core.display.HTML object>"
            ],
            "text/html": [
              "Finishing last run (ID:7qbtxkk4) before initializing another..."
            ]
          },
          "metadata": {}
        },
        {
          "output_type": "display_data",
          "data": {
            "text/plain": [
              "<IPython.core.display.HTML object>"
            ],
            "text/html": [
              "Waiting for W&B process to finish... <strong style=\"color:green\">(success).</strong>"
            ]
          },
          "metadata": {}
        },
        {
          "output_type": "display_data",
          "data": {
            "text/plain": [
              "VBox(children=(Label(value='7.757 MB of 7.757 MB uploaded (0.000 MB deduped)\\r'), FloatProgress(value=1.0, max…"
            ],
            "application/vnd.jupyter.widget-view+json": {
              "version_major": 2,
              "version_minor": 0,
              "model_id": "ead728cf72364b019f524c5f3d01b5a3"
            }
          },
          "metadata": {}
        },
        {
          "output_type": "display_data",
          "data": {
            "text/plain": [
              "<IPython.core.display.HTML object>"
            ],
            "text/html": [
              "Synced <strong style=\"color:#cdcd00\">fresh-lake-2</strong>: <a href=\"https://wandb.ai/melzheng/GPT%203%20for%20Generating%20Texts%20in%20Amazon%20tone/runs/7qbtxkk4\" target=\"_blank\">https://wandb.ai/melzheng/GPT%203%20for%20Generating%20Texts%20in%20Amazon%20tone/runs/7qbtxkk4</a><br/>Synced 5 W&B file(s), 0 media file(s), 2 artifact file(s) and 0 other file(s)"
            ]
          },
          "metadata": {}
        },
        {
          "output_type": "display_data",
          "data": {
            "text/plain": [
              "<IPython.core.display.HTML object>"
            ],
            "text/html": [
              "Find logs at: <code>./wandb/run-20220719_184732-7qbtxkk4/logs</code>"
            ]
          },
          "metadata": {}
        },
        {
          "output_type": "display_data",
          "data": {
            "text/plain": [
              "<IPython.core.display.HTML object>"
            ],
            "text/html": [
              "Successfully finished last run (ID:7qbtxkk4). Initializing new run:<br/>"
            ]
          },
          "metadata": {}
        },
        {
          "output_type": "display_data",
          "data": {
            "text/plain": [
              "<IPython.core.display.HTML object>"
            ],
            "text/html": [
              "Tracking run with wandb version 0.12.21"
            ]
          },
          "metadata": {}
        },
        {
          "output_type": "display_data",
          "data": {
            "text/plain": [
              "<IPython.core.display.HTML object>"
            ],
            "text/html": [
              "Run data is saved locally in <code>/content/wandb/run-20220719_184815-3r3q9i53</code>"
            ]
          },
          "metadata": {}
        },
        {
          "output_type": "display_data",
          "data": {
            "text/plain": [
              "<IPython.core.display.HTML object>"
            ],
            "text/html": [
              "Syncing run <strong><a href=\"https://wandb.ai/melzheng/GPT%203%20for%20Generating%20Texts%20in%20Amazon%20tone/runs/3r3q9i53\" target=\"_blank\">astral-water-3</a></strong> to <a href=\"https://wandb.ai/melzheng/GPT%203%20for%20Generating%20Texts%20in%20Amazon%20tone\" target=\"_blank\">Weights & Biases</a> (<a href=\"https://wandb.me/run\" target=\"_blank\">docs</a>)<br/>"
            ]
          },
          "metadata": {}
        }
      ]
    },
    {
      "cell_type": "code",
      "source": [
        "#Shuffling the dataset\n",
        "\n",
        "df = pd.read_csv(artifact_dir)\n",
        "ds = df.sample(frac=1, random_state=0)\n",
        "\n",
        "\n",
        "wandb.init(project=project_name, job_type=\"logging_dataset_as_table\")\n",
        "wandb.run.log({\"Raw dataset\" : wandb.Table(dataframe=ds)})\n",
        "\n",
        "ds.to_csv(training_data_filename)\n",
        "ds.head()"
      ],
      "metadata": {
        "colab": {
          "base_uri": "https://localhost:8080/",
          "height": 363,
          "referenced_widgets": [
            "d7735705ffaa4a61baf525566a14ce64",
            "f32b669628e74f268248ee1e6eb6f29f",
            "1479b8c925c64170b285a37bf8d4973f",
            "19c7e04ac0444cefb56da94c3a98deac",
            "e7b96c8412f543b6bb6de51c38513a72",
            "22a942ba86be446d972e2a3a8281fd15",
            "9425f14313cb46ddba61127c76211004",
            "2db6e83559d940acba8d0670b0930ccc"
          ]
        },
        "id": "Nh636jG0aMRQ",
        "outputId": "bfced9a2-fd11-4c49-8d9a-5756d80f308e"
      },
      "execution_count": null,
      "outputs": [
        {
          "output_type": "display_data",
          "data": {
            "text/plain": [
              "<IPython.core.display.HTML object>"
            ],
            "text/html": [
              "Finishing last run (ID:3r3q9i53) before initializing another..."
            ]
          },
          "metadata": {}
        },
        {
          "output_type": "display_data",
          "data": {
            "text/plain": [
              "<IPython.core.display.HTML object>"
            ],
            "text/html": [
              "Waiting for W&B process to finish... <strong style=\"color:green\">(success).</strong>"
            ]
          },
          "metadata": {}
        },
        {
          "output_type": "display_data",
          "data": {
            "text/plain": [
              "VBox(children=(Label(value='0.001 MB of 0.001 MB uploaded (0.000 MB deduped)\\r'), FloatProgress(value=1.0, max…"
            ],
            "application/vnd.jupyter.widget-view+json": {
              "version_major": 2,
              "version_minor": 0,
              "model_id": "d7735705ffaa4a61baf525566a14ce64"
            }
          },
          "metadata": {}
        },
        {
          "output_type": "display_data",
          "data": {
            "text/plain": [
              "<IPython.core.display.HTML object>"
            ],
            "text/html": [
              "Synced <strong style=\"color:#cdcd00\">astral-water-3</strong>: <a href=\"https://wandb.ai/melzheng/GPT%203%20for%20Generating%20Texts%20in%20Amazon%20tone/runs/3r3q9i53\" target=\"_blank\">https://wandb.ai/melzheng/GPT%203%20for%20Generating%20Texts%20in%20Amazon%20tone/runs/3r3q9i53</a><br/>Synced 4 W&B file(s), 0 media file(s), 0 artifact file(s) and 0 other file(s)"
            ]
          },
          "metadata": {}
        },
        {
          "output_type": "display_data",
          "data": {
            "text/plain": [
              "<IPython.core.display.HTML object>"
            ],
            "text/html": [
              "Find logs at: <code>./wandb/run-20220719_184815-3r3q9i53/logs</code>"
            ]
          },
          "metadata": {}
        },
        {
          "output_type": "display_data",
          "data": {
            "text/plain": [
              "<IPython.core.display.HTML object>"
            ],
            "text/html": [
              "Successfully finished last run (ID:3r3q9i53). Initializing new run:<br/>"
            ]
          },
          "metadata": {}
        },
        {
          "output_type": "display_data",
          "data": {
            "text/plain": [
              "<IPython.core.display.HTML object>"
            ],
            "text/html": [
              "Tracking run with wandb version 0.12.21"
            ]
          },
          "metadata": {}
        },
        {
          "output_type": "display_data",
          "data": {
            "text/plain": [
              "<IPython.core.display.HTML object>"
            ],
            "text/html": [
              "Run data is saved locally in <code>/content/wandb/run-20220719_184836-xtwkbg5t</code>"
            ]
          },
          "metadata": {}
        },
        {
          "output_type": "display_data",
          "data": {
            "text/plain": [
              "<IPython.core.display.HTML object>"
            ],
            "text/html": [
              "Syncing run <strong><a href=\"https://wandb.ai/melzheng/GPT%203%20for%20Generating%20Texts%20in%20Amazon%20tone/runs/xtwkbg5t\" target=\"_blank\">likely-bush-4</a></strong> to <a href=\"https://wandb.ai/melzheng/GPT%203%20for%20Generating%20Texts%20in%20Amazon%20tone\" target=\"_blank\">Weights & Biases</a> (<a href=\"https://wandb.me/run\" target=\"_blank\">docs</a>)<br/>"
            ]
          },
          "metadata": {}
        },
        {
          "output_type": "execute_result",
          "data": {
            "text/plain": [
              "                                                prompt  \\\n",
              "352  AWS Announces General Availability of AWS Netw...   \n",
              "530  Amazon Announces Investment in Nature-Based Ca...   \n",
              "315           Amazon Web Services Announces AWS Backup   \n",
              "249  Dean Koontz Signs New Five-Book Deal with Amaz...   \n",
              "266  Amazon Introduces Echo Show 5—Compact Design, ...   \n",
              "\n",
              "                                            completion  \n",
              "352  New high-availability firewall service gives c...  \n",
              "530  The initiative will launch in the Amazon rainf...  \n",
              "315  Centralized backup service makes it easier and...  \n",
              "249  The international best-selling thriller icon w...  \n",
              "266  Alexa adds new features, including how-to vide...  "
            ],
            "text/html": [
              "\n",
              "  <div id=\"df-ad381447-46aa-40fd-b54a-e47601045aa5\">\n",
              "    <div class=\"colab-df-container\">\n",
              "      <div>\n",
              "<style scoped>\n",
              "    .dataframe tbody tr th:only-of-type {\n",
              "        vertical-align: middle;\n",
              "    }\n",
              "\n",
              "    .dataframe tbody tr th {\n",
              "        vertical-align: top;\n",
              "    }\n",
              "\n",
              "    .dataframe thead th {\n",
              "        text-align: right;\n",
              "    }\n",
              "</style>\n",
              "<table border=\"1\" class=\"dataframe\">\n",
              "  <thead>\n",
              "    <tr style=\"text-align: right;\">\n",
              "      <th></th>\n",
              "      <th>prompt</th>\n",
              "      <th>completion</th>\n",
              "    </tr>\n",
              "  </thead>\n",
              "  <tbody>\n",
              "    <tr>\n",
              "      <th>352</th>\n",
              "      <td>AWS Announces General Availability of AWS Netw...</td>\n",
              "      <td>New high-availability firewall service gives c...</td>\n",
              "    </tr>\n",
              "    <tr>\n",
              "      <th>530</th>\n",
              "      <td>Amazon Announces Investment in Nature-Based Ca...</td>\n",
              "      <td>The initiative will launch in the Amazon rainf...</td>\n",
              "    </tr>\n",
              "    <tr>\n",
              "      <th>315</th>\n",
              "      <td>Amazon Web Services Announces AWS Backup</td>\n",
              "      <td>Centralized backup service makes it easier and...</td>\n",
              "    </tr>\n",
              "    <tr>\n",
              "      <th>249</th>\n",
              "      <td>Dean Koontz Signs New Five-Book Deal with Amaz...</td>\n",
              "      <td>The international best-selling thriller icon w...</td>\n",
              "    </tr>\n",
              "    <tr>\n",
              "      <th>266</th>\n",
              "      <td>Amazon Introduces Echo Show 5—Compact Design, ...</td>\n",
              "      <td>Alexa adds new features, including how-to vide...</td>\n",
              "    </tr>\n",
              "  </tbody>\n",
              "</table>\n",
              "</div>\n",
              "      <button class=\"colab-df-convert\" onclick=\"convertToInteractive('df-ad381447-46aa-40fd-b54a-e47601045aa5')\"\n",
              "              title=\"Convert this dataframe to an interactive table.\"\n",
              "              style=\"display:none;\">\n",
              "        \n",
              "  <svg xmlns=\"http://www.w3.org/2000/svg\" height=\"24px\"viewBox=\"0 0 24 24\"\n",
              "       width=\"24px\">\n",
              "    <path d=\"M0 0h24v24H0V0z\" fill=\"none\"/>\n",
              "    <path d=\"M18.56 5.44l.94 2.06.94-2.06 2.06-.94-2.06-.94-.94-2.06-.94 2.06-2.06.94zm-11 1L8.5 8.5l.94-2.06 2.06-.94-2.06-.94L8.5 2.5l-.94 2.06-2.06.94zm10 10l.94 2.06.94-2.06 2.06-.94-2.06-.94-.94-2.06-.94 2.06-2.06.94z\"/><path d=\"M17.41 7.96l-1.37-1.37c-.4-.4-.92-.59-1.43-.59-.52 0-1.04.2-1.43.59L10.3 9.45l-7.72 7.72c-.78.78-.78 2.05 0 2.83L4 21.41c.39.39.9.59 1.41.59.51 0 1.02-.2 1.41-.59l7.78-7.78 2.81-2.81c.8-.78.8-2.07 0-2.86zM5.41 20L4 18.59l7.72-7.72 1.47 1.35L5.41 20z\"/>\n",
              "  </svg>\n",
              "      </button>\n",
              "      \n",
              "  <style>\n",
              "    .colab-df-container {\n",
              "      display:flex;\n",
              "      flex-wrap:wrap;\n",
              "      gap: 12px;\n",
              "    }\n",
              "\n",
              "    .colab-df-convert {\n",
              "      background-color: #E8F0FE;\n",
              "      border: none;\n",
              "      border-radius: 50%;\n",
              "      cursor: pointer;\n",
              "      display: none;\n",
              "      fill: #1967D2;\n",
              "      height: 32px;\n",
              "      padding: 0 0 0 0;\n",
              "      width: 32px;\n",
              "    }\n",
              "\n",
              "    .colab-df-convert:hover {\n",
              "      background-color: #E2EBFA;\n",
              "      box-shadow: 0px 1px 2px rgba(60, 64, 67, 0.3), 0px 1px 3px 1px rgba(60, 64, 67, 0.15);\n",
              "      fill: #174EA6;\n",
              "    }\n",
              "\n",
              "    [theme=dark] .colab-df-convert {\n",
              "      background-color: #3B4455;\n",
              "      fill: #D2E3FC;\n",
              "    }\n",
              "\n",
              "    [theme=dark] .colab-df-convert:hover {\n",
              "      background-color: #434B5C;\n",
              "      box-shadow: 0px 1px 3px 1px rgba(0, 0, 0, 0.15);\n",
              "      filter: drop-shadow(0px 1px 2px rgba(0, 0, 0, 0.3));\n",
              "      fill: #FFFFFF;\n",
              "    }\n",
              "  </style>\n",
              "\n",
              "      <script>\n",
              "        const buttonEl =\n",
              "          document.querySelector('#df-ad381447-46aa-40fd-b54a-e47601045aa5 button.colab-df-convert');\n",
              "        buttonEl.style.display =\n",
              "          google.colab.kernel.accessAllowed ? 'block' : 'none';\n",
              "\n",
              "        async function convertToInteractive(key) {\n",
              "          const element = document.querySelector('#df-ad381447-46aa-40fd-b54a-e47601045aa5');\n",
              "          const dataTable =\n",
              "            await google.colab.kernel.invokeFunction('convertToInteractive',\n",
              "                                                     [key], {});\n",
              "          if (!dataTable) return;\n",
              "\n",
              "          const docLinkHtml = 'Like what you see? Visit the ' +\n",
              "            '<a target=\"_blank\" href=https://colab.research.google.com/notebooks/data_table.ipynb>data table notebook</a>'\n",
              "            + ' to learn more about interactive tables.';\n",
              "          element.innerHTML = '';\n",
              "          dataTable['output_type'] = 'display_data';\n",
              "          await google.colab.output.renderOutput(dataTable, element);\n",
              "          const docLink = document.createElement('div');\n",
              "          docLink.innerHTML = docLinkHtml;\n",
              "          element.appendChild(docLink);\n",
              "        }\n",
              "      </script>\n",
              "    </div>\n",
              "  </div>\n",
              "  "
            ]
          },
          "metadata": {},
          "execution_count": 16
        }
      ]
    },
    {
      "cell_type": "markdown",
      "source": [
        "## OpenAI preprocess data"
      ],
      "metadata": {
        "id": "f3TQ42f1a7VH"
      }
    },
    {
      "cell_type": "code",
      "source": [
        "!openai tools fine_tunes.prepare_data -f amazon_press_data_cleaned.csv"
      ],
      "metadata": {
        "colab": {
          "base_uri": "https://localhost:8080/"
        },
        "id": "2OJtev2pazZ5",
        "outputId": "595b976e-1e44-446f-f51d-55d28faf8ef4"
      },
      "execution_count": null,
      "outputs": [
        {
          "output_type": "stream",
          "name": "stdout",
          "text": [
            "Analyzing...\n",
            "\n",
            "- Based on your file extension, your file is formatted as a CSV file\n",
            "- Your file contains 645 prompt-completion pairs\n",
            "- The input file should contain exactly two columns/keys per row. Additional columns/keys present are: ['Unnamed: 0']\n",
            "  WARNING: Some of the additional columns/keys contain `Unnamed: 0` in their name. These will be ignored, and the column/key `Unnamed: 0` will be used instead. This could also result from a duplicate column/key in the provided file.\n",
            "- There are 4 examples that are very long. These are rows: [196, 222, 382, 549]\n",
            "For conditional generation, and for classification the examples shouldn't be longer than 2048 tokens.\n",
            "- Your data does not contain a common separator at the end of your prompts. Having a separator string appended to the end of the prompt makes it clearer to the fine-tuned model where the completion should begin. See https://beta.openai.com/docs/guides/fine-tuning/preparing-your-dataset for more detail and examples. If you intend to do open-ended generation, then you should leave the prompts empty\n",
            "- Your data does not contain a common ending at the end of your completions. Having a common ending string appended to the end of the completion makes it clearer to the fine-tuned model where the completion should end. See https://beta.openai.com/docs/guides/fine-tuning/preparing-your-dataset for more detail and examples.\n",
            "- The completion should start with a whitespace character (` `). This tends to produce better results due to the tokenization we use. See https://beta.openai.com/docs/guides/fine-tuning/preparing-your-dataset for more details\n",
            "\n",
            "Based on the analysis we will perform the following actions:\n",
            "- [Necessary] Your format `CSV` will be converted to `JSONL`\n",
            "- [Necessary] Remove additional columns/keys: ['Unnamed: 0']\n",
            "- [Recommended] Remove 4 long examples [Y/n]: Y\n",
            "- [Recommended] Add a suffix separator ` ->` to all prompts [Y/n]: Y\n",
            "- [Recommended] Add a suffix ending ` END` to all completions [Y/n]: Y\n",
            "- [Recommended] Add a whitespace character to the beginning of the completion [Y/n]: Y\n",
            "\n",
            "\n",
            "Your data will be written to a new JSONL file. Proceed [Y/n]: Y\n",
            "\n",
            "Wrote modified file to `amazon_press_data_cleaned_prepared.jsonl`\n",
            "Feel free to take a look!\n",
            "\n",
            "Now use that file when fine-tuning:\n",
            "> openai api fine_tunes.create -t \"amazon_press_data_cleaned_prepared.jsonl\"\n",
            "\n",
            "After you’ve fine-tuned a model, remember that your prompt has to end with the indicator string ` ->` for the model to start generating completions, rather than continuing with the prompt. Make sure to include `stop=[\" END\"]` so that the generated texts ends at the expected place.\n",
            "Once your model starts training, it'll approximately take 29.75 minutes to train a `curie` model, and less for `ada` and `babbage`. Queue will approximately take half an hour per job ahead of you.\n"
          ]
        }
      ]
    },
    {
      "cell_type": "code",
      "source": [
        "#The dataset has 500 pairs in total\n",
        "with open('amazon_press_data_cleaned_prepared.jsonl', 'r') as json_file:\n",
        "    json_list = list(json_file)\n",
        "\n",
        "num_data = len(json_list)\n",
        "print(\"Total:\", num_data)\n",
        "\n",
        "val_part = 0.25 \n",
        "\n",
        "val_amount = int(num_data * val_part)\n",
        "print(\"Val data:\", val_amount)\n",
        "train_amount = num_data - val_amount \n",
        "print(\"Train data:\", train_amount)\n",
        "\n",
        "!head -n $train_amount amazon_press_data_cleaned_prepared.jsonl > sh_train.jsonl\n",
        "!tail -n $val_amount amazon_press_data_cleaned_prepared.jsonl > sh_valid.jsonl"
      ],
      "metadata": {
        "colab": {
          "base_uri": "https://localhost:8080/"
        },
        "id": "v7Ok6wvJbt9f",
        "outputId": "ee704f2b-ad5f-4f59-bb0d-1a035f370f94"
      },
      "execution_count": null,
      "outputs": [
        {
          "output_type": "stream",
          "name": "stdout",
          "text": [
            "Total: 641\n",
            "Val data: 160\n",
            "Train data: 481\n"
          ]
        }
      ]
    },
    {
      "cell_type": "code",
      "source": [
        "wandb.finish()"
      ],
      "metadata": {
        "colab": {
          "base_uri": "https://localhost:8080/",
          "height": 87,
          "referenced_widgets": [
            "0b80d638f1194e038ac4be6331dd7054",
            "a2c1ea29fa6148d4ba552423384b63a5",
            "c4f51a6fd5fc4504a44914ec143f3d0a",
            "38c48754c8854f8fa38222abdf831c89",
            "ad245cc1a7b94c0dbf30a6ab324be657",
            "8934248810864e939174206b8fc88075",
            "6c201b68f5c64e718b55c482ddfb2234",
            "ca3421f8754343ac9ded9df582e8f208"
          ]
        },
        "id": "_JmrARUyceMW",
        "outputId": "0b56bfc6-c447-40e8-9ed1-d60706738825"
      },
      "execution_count": null,
      "outputs": [
        {
          "output_type": "display_data",
          "data": {
            "text/plain": [
              "<IPython.core.display.HTML object>"
            ],
            "text/html": [
              "Waiting for W&B process to finish... <strong style=\"color:green\">(success).</strong>"
            ]
          },
          "metadata": {}
        },
        {
          "output_type": "display_data",
          "data": {
            "text/plain": [
              "VBox(children=(Label(value='7.786 MB of 7.786 MB uploaded (0.000 MB deduped)\\r'), FloatProgress(value=1.0, max…"
            ],
            "application/vnd.jupyter.widget-view+json": {
              "version_major": 2,
              "version_minor": 0,
              "model_id": "0b80d638f1194e038ac4be6331dd7054"
            }
          },
          "metadata": {}
        },
        {
          "output_type": "display_data",
          "data": {
            "text/plain": [
              "<IPython.core.display.HTML object>"
            ],
            "text/html": [
              "Synced <strong style=\"color:#cdcd00\">likely-bush-4</strong>: <a href=\"https://wandb.ai/melzheng/GPT%203%20for%20Generating%20Texts%20in%20Amazon%20tone/runs/xtwkbg5t\" target=\"_blank\">https://wandb.ai/melzheng/GPT%203%20for%20Generating%20Texts%20in%20Amazon%20tone/runs/xtwkbg5t</a><br/>Synced 5 W&B file(s), 1 media file(s), 1 artifact file(s) and 0 other file(s)"
            ]
          },
          "metadata": {}
        },
        {
          "output_type": "display_data",
          "data": {
            "text/plain": [
              "<IPython.core.display.HTML object>"
            ],
            "text/html": [
              "Find logs at: <code>./wandb/run-20220719_184836-xtwkbg5t/logs</code>"
            ]
          },
          "metadata": {}
        }
      ]
    },
    {
      "cell_type": "markdown",
      "source": [
        "## OpenAI Fine-tuning"
      ],
      "metadata": {
        "id": "KkJXXpWvck2d"
      }
    },
    {
      "cell_type": "code",
      "source": [
        "'''define fine-tune params'''\n",
        "\n",
        "model = 'curie'  # can be ada, babbage or curie\n",
        "n_epochs = 4\n",
        "batch_size = 8\n",
        "learning_rate_multiplier = 0.1\n",
        "prompt_loss_weight = 0.1"
      ],
      "metadata": {
        "id": "DorzOz84cgbw"
      },
      "execution_count": null,
      "outputs": []
    },
    {
      "cell_type": "code",
      "source": [
        "'''train'''\n",
        "\n",
        "!openai api fine_tunes.create \\\n",
        "    -t sh_train.jsonl \\\n",
        "    -v sh_valid.jsonl \\\n",
        "    -m $model \\\n",
        "    --n_epochs $n_epochs \\\n",
        "    --batch_size $batch_size \\\n",
        "    --learning_rate_multiplier $learning_rate_multiplier \\\n",
        "    --prompt_loss_weight $prompt_loss_weight \\\n",
        "    --suffix \"amazon-press-v0\""
      ],
      "metadata": {
        "colab": {
          "base_uri": "https://localhost:8080/"
        },
        "id": "DDJ_NXOWcwmU",
        "outputId": "b67ccc21-ad04-42e3-946b-95ee142962e8"
      },
      "execution_count": null,
      "outputs": [
        {
          "output_type": "stream",
          "name": "stdout",
          "text": [
            "\rUpload progress:   0% 0.00/3.02M [00:00<?, ?it/s]\rUpload progress: 100% 3.02M/3.02M [00:00<00:00, 3.03Git/s]\n",
            "Uploaded file from sh_train.jsonl: file-GmVQj74hjas4JfLN6I4l6F9z\n",
            "Upload progress: 100% 996k/996k [00:00<00:00, 1.06Git/s]\n",
            "Uploaded file from sh_valid.jsonl: file-o7t3X56pd32TqYE6ajQgwHNk\n",
            "Created fine-tune: ft-Fi9NzvXozIQTV8IkZnrdTLSQ\n",
            "Streaming events until fine-tuning is complete...\n",
            "\n",
            "(Ctrl-C will interrupt the stream, but not cancel the fine-tune)\n",
            "[2022-07-19 18:55:12] Created fine-tune: ft-Fi9NzvXozIQTV8IkZnrdTLSQ\n",
            "[2022-07-19 18:55:25] Fine-tune costs $7.58\n",
            "[2022-07-19 18:55:25] Fine-tune enqueued. Queue number: 1\n",
            "[2022-07-19 18:55:26] Fine-tune started\n",
            "[2022-07-19 18:58:36] Completed epoch 1/4\n",
            "[2022-07-19 19:00:51] Completed epoch 2/4\n",
            "[2022-07-19 19:03:07] Completed epoch 3/4\n",
            "[2022-07-19 19:05:19] Completed epoch 4/4\n",
            "[2022-07-19 19:05:42] Uploaded model: curie:ft-personal:amazon-press-v0-2022-07-19-19-05-41\n",
            "[2022-07-19 19:05:42] Uploaded result file: file-HGq4rK33DMlkyHt2Ghc3kVJC\n",
            "[2022-07-19 19:05:42] Fine-tune succeeded\n",
            "\n",
            "Job complete! Status: succeeded 🎉\n",
            "Try out your fine-tuned model:\n",
            "\n",
            "openai api completions.create -m curie:ft-personal:amazon-press-v0-2022-07-19-19-05-41 -p <YOUR_PROMPT>\n"
          ]
        }
      ]
    },
    {
      "cell_type": "code",
      "source": [
        "# sync fine-tune jobs to W&B\n",
        "!openai wandb sync --project \"GPT 3 for Generating Texts in Amazon tone\" \n"
      ],
      "metadata": {
        "colab": {
          "base_uri": "https://localhost:8080/"
        },
        "id": "Wz5Qh2QzdDZn",
        "outputId": "0a47b097-6ca8-49c9-c59a-fb58847f418f"
      },
      "execution_count": null,
      "outputs": [
        {
          "output_type": "stream",
          "name": "stdout",
          "text": [
            "\u001b[34m\u001b[1mwandb\u001b[0m: Currently logged in as: \u001b[33mmelzheng\u001b[0m. Use \u001b[1m`wandb login --relogin`\u001b[0m to force relogin\n",
            "\u001b[34m\u001b[1mwandb\u001b[0m: Tracking run with wandb version 0.12.21\n",
            "\u001b[34m\u001b[1mwandb\u001b[0m: Run data is saved locally in \u001b[35m\u001b[1m/content/wandb/run-20220719_191652-ft-FIwEP3IK7apKnBAFzYT1TrC0\u001b[0m\n",
            "\u001b[34m\u001b[1mwandb\u001b[0m: Run \u001b[1m`wandb offline`\u001b[0m to turn off syncing.\n",
            "\u001b[34m\u001b[1mwandb\u001b[0m: Syncing run \u001b[33mft-FIwEP3IK7apKnBAFzYT1TrC0\u001b[0m\n",
            "\u001b[34m\u001b[1mwandb\u001b[0m: ⭐️ View project at \u001b[34m\u001b[4mhttps://wandb.ai/melzheng/GPT%203%20for%20Generating%20Texts%20in%20Amazon%20tone\u001b[0m\n",
            "\u001b[34m\u001b[1mwandb\u001b[0m: 🚀 View run at \u001b[34m\u001b[4mhttps://wandb.ai/melzheng/GPT%203%20for%20Generating%20Texts%20in%20Amazon%20tone/runs/ft-FIwEP3IK7apKnBAFzYT1TrC0\u001b[0m\n",
            "File file-0WmhoqG2hyEsx7A0iNzvaFCw could not be retrieved. Make sure you are allowed to download training/validation files\n",
            "File file-05Fz8bnpJhkRFtnkxpSLrV4G could not be retrieved. Make sure you are allowed to download training/validation files\n",
            "\u001b[34m\u001b[1mwandb\u001b[0m: Waiting for W&B process to finish... \u001b[32m(success).\u001b[0m\n",
            "\u001b[34m\u001b[1mwandb\u001b[0m:                                                                                \n",
            "\u001b[34m\u001b[1mwandb\u001b[0m: \n",
            "\u001b[34m\u001b[1mwandb\u001b[0m: Run history:\n",
            "\u001b[34m\u001b[1mwandb\u001b[0m:             elapsed_examples ▁▁▁▂▂▂▂▂▂▃▃▃▃▃▃▄▄▄▄▄▅▅▅▅▅▅▆▆▆▆▆▇▇▇▇▇▇███\n",
            "\u001b[34m\u001b[1mwandb\u001b[0m:               elapsed_tokens ▁▁▁▂▂▂▂▂▂▃▃▃▃▃▃▄▄▄▄▄▅▅▅▅▅▅▆▆▆▆▆▇▇▇▇▇▇███\n",
            "\u001b[34m\u001b[1mwandb\u001b[0m:                training_loss ▇██▅▆█▆▇▇▄▆▅▄▇▃▄▆▅▆▆▄▂▄▃▄▄▄▅▄▃▃▃▃▄▂▁▂▂▃▂\n",
            "\u001b[34m\u001b[1mwandb\u001b[0m:   training_sequence_accuracy ▁▁▁▁▁▁▁▁▁▁▁▁▁▁▁▁▁▁▁▁▁▁▁▁▁▁▁▁▁▁▁▁▁▁▁█▁▁▁▁\n",
            "\u001b[34m\u001b[1mwandb\u001b[0m:      training_token_accuracy ▁▄▃▂▄▂▄▃▁▃▄▄▅▄▄▂▃▃▃▃▅▆▅▄▄▅▅▃▄▄▅▅▆▅▆█▇▇▇█\n",
            "\u001b[34m\u001b[1mwandb\u001b[0m:              validation_loss ▃▃▃▃▃▅▃▃▄▃▂▃▃▃█▄▂▃▂▂▁▃▄▃▄▃▄▂▃▃▂▄▂▄▁▄▃▂▄\n",
            "\u001b[34m\u001b[1mwandb\u001b[0m: validation_sequence_accuracy ▁▁▁▁▁▁▁▁▁▁█▁▁▁▁▁▁▁▁▁█▁▁▁▁▁▁▁▁▁█▁▁▁█▁▁█▁\n",
            "\u001b[34m\u001b[1mwandb\u001b[0m:    validation_token_accuracy ▁▃▃▅▅▁▇▆▅▄▇▅▄▄▂▅▄▅▇▅▃▃▅▁▃▁▄▃▄▄▇▅█▂▇▄▃▃▂\n",
            "\u001b[34m\u001b[1mwandb\u001b[0m: \n",
            "\u001b[34m\u001b[1mwandb\u001b[0m: Run summary:\n",
            "\u001b[34m\u001b[1mwandb\u001b[0m:             elapsed_examples 1800.0\n",
            "\u001b[34m\u001b[1mwandb\u001b[0m:               elapsed_tokens 30856.0\n",
            "\u001b[34m\u001b[1mwandb\u001b[0m:             fine_tuned_model curie:ft-personal-20...\n",
            "\u001b[34m\u001b[1mwandb\u001b[0m:                       status succeeded\n",
            "\u001b[34m\u001b[1mwandb\u001b[0m:                training_loss 0.68924\n",
            "\u001b[34m\u001b[1mwandb\u001b[0m:   training_sequence_accuracy 0.0\n",
            "\u001b[34m\u001b[1mwandb\u001b[0m:      training_token_accuracy 0.61905\n",
            "\u001b[34m\u001b[1mwandb\u001b[0m:              validation_loss 2.85484\n",
            "\u001b[34m\u001b[1mwandb\u001b[0m: validation_sequence_accuracy 0.0\n",
            "\u001b[34m\u001b[1mwandb\u001b[0m:    validation_token_accuracy 0.11905\n",
            "\u001b[34m\u001b[1mwandb\u001b[0m: \n",
            "\u001b[34m\u001b[1mwandb\u001b[0m: Synced \u001b[33mft-FIwEP3IK7apKnBAFzYT1TrC0\u001b[0m: \u001b[34m\u001b[4mhttps://wandb.ai/melzheng/GPT%203%20for%20Generating%20Texts%20in%20Amazon%20tone/runs/ft-FIwEP3IK7apKnBAFzYT1TrC0\u001b[0m\n",
            "\u001b[34m\u001b[1mwandb\u001b[0m: Synced 5 W&B file(s), 0 media file(s), 1 artifact file(s) and 0 other file(s)\n",
            "\u001b[34m\u001b[1mwandb\u001b[0m: Find logs at: \u001b[35m\u001b[1m./wandb/run-20220719_191652-ft-FIwEP3IK7apKnBAFzYT1TrC0/logs\u001b[0m\n",
            "\u001b[34m\u001b[1mwandb\u001b[0m: Tracking run with wandb version 0.12.21\n",
            "\u001b[34m\u001b[1mwandb\u001b[0m: Run data is saved locally in \u001b[35m\u001b[1m/content/wandb/run-20220719_191700-ft-5P5zViPlEZSp6nORO0j5srT3\u001b[0m\n",
            "\u001b[34m\u001b[1mwandb\u001b[0m: Run \u001b[1m`wandb offline`\u001b[0m to turn off syncing.\n",
            "\u001b[34m\u001b[1mwandb\u001b[0m: Syncing run \u001b[33mft-5P5zViPlEZSp6nORO0j5srT3\u001b[0m\n",
            "\u001b[34m\u001b[1mwandb\u001b[0m: ⭐️ View project at \u001b[34m\u001b[4mhttps://wandb.ai/melzheng/GPT%203%20for%20Generating%20Texts%20in%20Amazon%20tone\u001b[0m\n",
            "\u001b[34m\u001b[1mwandb\u001b[0m: 🚀 View run at \u001b[34m\u001b[4mhttps://wandb.ai/melzheng/GPT%203%20for%20Generating%20Texts%20in%20Amazon%20tone/runs/ft-5P5zViPlEZSp6nORO0j5srT3\u001b[0m\n",
            "File file-SFXUTsaPoXizclMpz4W2wbGO could not be retrieved. Make sure you are allowed to download training/validation files\n",
            "File file-4MxmwoU0vg3AlruBW6x8nAz8 could not be retrieved. Make sure you are allowed to download training/validation files\n",
            "\u001b[34m\u001b[1mwandb\u001b[0m: Waiting for W&B process to finish... \u001b[32m(success).\u001b[0m\n",
            "\u001b[34m\u001b[1mwandb\u001b[0m:                                                                                \n",
            "\u001b[34m\u001b[1mwandb\u001b[0m: \n",
            "\u001b[34m\u001b[1mwandb\u001b[0m: Run history:\n",
            "\u001b[34m\u001b[1mwandb\u001b[0m:             elapsed_examples ▁▁▁▂▂▂▂▂▂▃▃▃▃▃▃▄▄▄▄▄▅▅▅▅▅▅▆▆▆▆▆▇▇▇▇▇▇███\n",
            "\u001b[34m\u001b[1mwandb\u001b[0m:               elapsed_tokens ▁▁▁▁▂▂▂▂▂▃▃▃▃▃▃▄▄▄▄▄▅▅▅▅▅▅▆▆▆▆▆▇▇▇▇▇▇███\n",
            "\u001b[34m\u001b[1mwandb\u001b[0m:                training_loss ▄▇█▆▇▅▄▆▅▇▇▃▅▄▆▃▅▆▃▄▃▅▄▅▂▄▅▅▄▃▃▂▂▂▃▂▁▂▃▂\n",
            "\u001b[34m\u001b[1mwandb\u001b[0m:   training_sequence_accuracy █▁▁▁▁█▁▁▁▁▁█▁▁▁▁▁▁▁▁▁▁▁▁█▁▁▁▁▁▁▁▁▁▁▁▁▁▁▁\n",
            "\u001b[34m\u001b[1mwandb\u001b[0m:      training_token_accuracy ▄▃▃▄▁▃▃▁▂▂▂▃▃▄▂▅▃▃▆▄▇▄▆▄█▅▆▄▅▅▆▆▅▆▇▇█▅▆▇\n",
            "\u001b[34m\u001b[1mwandb\u001b[0m:              validation_loss ▅▅▅▅▄▃▃▅▃▃▂▂▅▂▅▅▁█▄▆▃▆▄▅▄▅▇▃▅▄▂▄▅▄▄▃▂▅▇▄\n",
            "\u001b[34m\u001b[1mwandb\u001b[0m: validation_sequence_accuracy ▁▁▁▁▁▁▁▁▁▁▁▁▁▁▁▁▁▁▁▁▁▁▁▁▁▁▁▁▁▁▁▁▁▁▁▁▁▁▁▁\n",
            "\u001b[34m\u001b[1mwandb\u001b[0m:    validation_token_accuracy ▁▂▅▃▃▅▅▂▃▃▄▄▅▄▃▃█▂▄▅▄▃▄▁▅▄▂▄▅▂▆▂▅▃▄▂▅▃▃▂\n",
            "\u001b[34m\u001b[1mwandb\u001b[0m: \n",
            "\u001b[34m\u001b[1mwandb\u001b[0m: Run summary:\n",
            "\u001b[34m\u001b[1mwandb\u001b[0m:             elapsed_examples 5336.0\n",
            "\u001b[34m\u001b[1mwandb\u001b[0m:               elapsed_tokens 96760.0\n",
            "\u001b[34m\u001b[1mwandb\u001b[0m:             fine_tuned_model curie:ft-personal-20...\n",
            "\u001b[34m\u001b[1mwandb\u001b[0m:                       status succeeded\n",
            "\u001b[34m\u001b[1mwandb\u001b[0m:                training_loss 0.94239\n",
            "\u001b[34m\u001b[1mwandb\u001b[0m:   training_sequence_accuracy 0.0\n",
            "\u001b[34m\u001b[1mwandb\u001b[0m:      training_token_accuracy 0.78049\n",
            "\u001b[34m\u001b[1mwandb\u001b[0m:              validation_loss 2.17718\n",
            "\u001b[34m\u001b[1mwandb\u001b[0m: validation_sequence_accuracy 0.0\n",
            "\u001b[34m\u001b[1mwandb\u001b[0m:    validation_token_accuracy 0.17241\n",
            "\u001b[34m\u001b[1mwandb\u001b[0m: \n",
            "\u001b[34m\u001b[1mwandb\u001b[0m: Synced \u001b[33mft-5P5zViPlEZSp6nORO0j5srT3\u001b[0m: \u001b[34m\u001b[4mhttps://wandb.ai/melzheng/GPT%203%20for%20Generating%20Texts%20in%20Amazon%20tone/runs/ft-5P5zViPlEZSp6nORO0j5srT3\u001b[0m\n",
            "\u001b[34m\u001b[1mwandb\u001b[0m: Synced 5 W&B file(s), 0 media file(s), 1 artifact file(s) and 0 other file(s)\n",
            "\u001b[34m\u001b[1mwandb\u001b[0m: Find logs at: \u001b[35m\u001b[1m./wandb/run-20220719_191700-ft-5P5zViPlEZSp6nORO0j5srT3/logs\u001b[0m\n",
            "\u001b[34m\u001b[1mwandb\u001b[0m: Tracking run with wandb version 0.12.21\n",
            "\u001b[34m\u001b[1mwandb\u001b[0m: Run data is saved locally in \u001b[35m\u001b[1m/content/wandb/run-20220719_191709-ft-SOLIteqDuhHQuKfyZhiRX1Z4\u001b[0m\n",
            "\u001b[34m\u001b[1mwandb\u001b[0m: Run \u001b[1m`wandb offline`\u001b[0m to turn off syncing.\n",
            "\u001b[34m\u001b[1mwandb\u001b[0m: Syncing run \u001b[33mft-SOLIteqDuhHQuKfyZhiRX1Z4\u001b[0m\n",
            "\u001b[34m\u001b[1mwandb\u001b[0m: ⭐️ View project at \u001b[34m\u001b[4mhttps://wandb.ai/melzheng/GPT%203%20for%20Generating%20Texts%20in%20Amazon%20tone\u001b[0m\n",
            "\u001b[34m\u001b[1mwandb\u001b[0m: 🚀 View run at \u001b[34m\u001b[4mhttps://wandb.ai/melzheng/GPT%203%20for%20Generating%20Texts%20in%20Amazon%20tone/runs/ft-SOLIteqDuhHQuKfyZhiRX1Z4\u001b[0m\n",
            "File file-pGFMrexJ1KL8tFSMOPtYmRGr could not be retrieved. Make sure you are allowed to download training/validation files\n",
            "File file-gktOF6KQf6043vJSuVA2UFq1 could not be retrieved. Make sure you are allowed to download training/validation files\n",
            "\u001b[34m\u001b[1mwandb\u001b[0m: Waiting for W&B process to finish... \u001b[32m(success).\u001b[0m\n",
            "\u001b[34m\u001b[1mwandb\u001b[0m:                                                                                \n",
            "\u001b[34m\u001b[1mwandb\u001b[0m: \n",
            "\u001b[34m\u001b[1mwandb\u001b[0m: Run history:\n",
            "\u001b[34m\u001b[1mwandb\u001b[0m:             elapsed_examples ▁▁▁▂▂▂▂▂▂▃▃▃▃▃▃▄▄▄▄▄▅▅▅▅▅▅▆▆▆▆▆▇▇▇▇▇▇███\n",
            "\u001b[34m\u001b[1mwandb\u001b[0m:               elapsed_tokens ▁▁▁▂▂▂▂▂▂▃▃▃▃▃▃▄▄▄▄▄▅▅▅▅▅▅▆▆▆▆▆▇▇▇▇▇▇███\n",
            "\u001b[34m\u001b[1mwandb\u001b[0m:                training_loss █▇█▆▅▇▇▄▇█▄▆▃▅▅▄▅▄██▁▂▇▄▅▃▂▃▂▅▂▃▃▃▂▂▄▁▃▄\n",
            "\u001b[34m\u001b[1mwandb\u001b[0m:   training_sequence_accuracy ▁▁▁▁▁▁▁▁▁▁▁▁▁▁▁▁▁▁▁▁▁▁▁▁▁▁▁▁▁▁▁▁▁▁▁▁▁▁▁▁\n",
            "\u001b[34m\u001b[1mwandb\u001b[0m:      training_token_accuracy ▁▁▁▁▂▂▁▂▂▂▅▄▅▄▄▄▄▃▃▂▇▇▄▅▅▆▆▇▆▄▇▆▆▄▆▆▅▇█▅\n",
            "\u001b[34m\u001b[1mwandb\u001b[0m:              validation_loss █▅▄▅▄▄▅▄▄▂▆▇▃▃▃▆▃█▄▄▃▁▆▄▄▄▃▄▃▄▄▂▂▄▄▄▅▅▄▂\n",
            "\u001b[34m\u001b[1mwandb\u001b[0m: validation_sequence_accuracy ▁▁▁▁▁▁▁▁▁▁▁▁▁▁▁▁▁▁▁▁▁▁▁▁▁▁▁▁▁▁▁▁▁▁▁▁▁▁▁▁\n",
            "\u001b[34m\u001b[1mwandb\u001b[0m:    validation_token_accuracy ▁▅▄▄▅▆▅▅▅▆▄▅▆▆▅▃▇▄▇▅▆▆▅▅▅▆▆▇▆▆▅█▆▄▅▆▇▅▆▇\n",
            "\u001b[34m\u001b[1mwandb\u001b[0m: \n",
            "\u001b[34m\u001b[1mwandb\u001b[0m: Run summary:\n",
            "\u001b[34m\u001b[1mwandb\u001b[0m:             elapsed_examples 10448.0\n",
            "\u001b[34m\u001b[1mwandb\u001b[0m:               elapsed_tokens 589456.0\n",
            "\u001b[34m\u001b[1mwandb\u001b[0m:             fine_tuned_model curie:ft-personal-20...\n",
            "\u001b[34m\u001b[1mwandb\u001b[0m:                       status succeeded\n",
            "\u001b[34m\u001b[1mwandb\u001b[0m:                training_loss 0.87301\n",
            "\u001b[34m\u001b[1mwandb\u001b[0m:   training_sequence_accuracy 0.0\n",
            "\u001b[34m\u001b[1mwandb\u001b[0m:      training_token_accuracy 0.61719\n",
            "\u001b[34m\u001b[1mwandb\u001b[0m:              validation_loss 1.0583\n",
            "\u001b[34m\u001b[1mwandb\u001b[0m: validation_sequence_accuracy 0.0\n",
            "\u001b[34m\u001b[1mwandb\u001b[0m:    validation_token_accuracy 0.58\n",
            "\u001b[34m\u001b[1mwandb\u001b[0m: \n",
            "\u001b[34m\u001b[1mwandb\u001b[0m: Synced \u001b[33mft-SOLIteqDuhHQuKfyZhiRX1Z4\u001b[0m: \u001b[34m\u001b[4mhttps://wandb.ai/melzheng/GPT%203%20for%20Generating%20Texts%20in%20Amazon%20tone/runs/ft-SOLIteqDuhHQuKfyZhiRX1Z4\u001b[0m\n",
            "\u001b[34m\u001b[1mwandb\u001b[0m: Synced 5 W&B file(s), 0 media file(s), 1 artifact file(s) and 0 other file(s)\n",
            "\u001b[34m\u001b[1mwandb\u001b[0m: Find logs at: \u001b[35m\u001b[1m./wandb/run-20220719_191709-ft-SOLIteqDuhHQuKfyZhiRX1Z4/logs\u001b[0m\n",
            "\u001b[34m\u001b[1mwandb\u001b[0m: Tracking run with wandb version 0.12.21\n",
            "\u001b[34m\u001b[1mwandb\u001b[0m: Run data is saved locally in \u001b[35m\u001b[1m/content/wandb/run-20220719_191721-ft-J1x3ZaSCLeOvHzlMN3ZzaXMH\u001b[0m\n",
            "\u001b[34m\u001b[1mwandb\u001b[0m: Run \u001b[1m`wandb offline`\u001b[0m to turn off syncing.\n",
            "\u001b[34m\u001b[1mwandb\u001b[0m: Syncing run \u001b[33mft-J1x3ZaSCLeOvHzlMN3ZzaXMH\u001b[0m\n",
            "\u001b[34m\u001b[1mwandb\u001b[0m: ⭐️ View project at \u001b[34m\u001b[4mhttps://wandb.ai/melzheng/GPT%203%20for%20Generating%20Texts%20in%20Amazon%20tone\u001b[0m\n",
            "\u001b[34m\u001b[1mwandb\u001b[0m: 🚀 View run at \u001b[34m\u001b[4mhttps://wandb.ai/melzheng/GPT%203%20for%20Generating%20Texts%20in%20Amazon%20tone/runs/ft-J1x3ZaSCLeOvHzlMN3ZzaXMH\u001b[0m\n",
            "File file-aQxCfJBLkw6PVNakWgEbY9Iz could not be retrieved. Make sure you are allowed to download training/validation files\n",
            "File file-YehZykKtGPNpARhvLjTNy3Bg could not be retrieved. Make sure you are allowed to download training/validation files\n",
            "\u001b[34m\u001b[1mwandb\u001b[0m: Waiting for W&B process to finish... \u001b[32m(success).\u001b[0m\n",
            "\u001b[34m\u001b[1mwandb\u001b[0m:                                                                                \n",
            "\u001b[34m\u001b[1mwandb\u001b[0m: \n",
            "\u001b[34m\u001b[1mwandb\u001b[0m: Run history:\n",
            "\u001b[34m\u001b[1mwandb\u001b[0m:             elapsed_examples ▁▁▁▁▂▂▂▂▂▃▃▃▃▃▃▄▄▄▄▄▅▅▅▅▅▅▆▆▆▆▆▆▇▇▇▇▇███\n",
            "\u001b[34m\u001b[1mwandb\u001b[0m:               elapsed_tokens ▁▁▁▁▂▂▂▂▂▃▃▃▃▃▃▄▄▄▄▄▅▅▅▅▅▅▆▆▆▆▆▆▇▇▇▇▇███\n",
            "\u001b[34m\u001b[1mwandb\u001b[0m:                training_loss ▄▂██▃▆▄▄▅▆█▆▆▆▆▄▅▃▇▇▅▄▆▆▃▃▃▃▃▅▄▃▄▄▂▁▄▅▆▄\n",
            "\u001b[34m\u001b[1mwandb\u001b[0m:   training_sequence_accuracy ▁▁▁▁▁▁▁▁▁▁▁▁▁▁▁▁▁▁▁▁▁▁▁▁▁▁▁▁▁▁▁▁▁▁▁▁▁▁▁▁\n",
            "\u001b[34m\u001b[1mwandb\u001b[0m:      training_token_accuracy ▂█▁▃▁▂▂▂▂▂▂▄▃▂▂▂▃▂▂▃▃▄▁▃▇▃▅▇▃▄▃▂▃▅▄▇▃▄▂▃\n",
            "\u001b[34m\u001b[1mwandb\u001b[0m:              validation_loss ▅▂▄▇▃▃▅▄▆▇▁▆▇▃▇▆▆▃▄▆▄█▅▄▅▅▄▂▁▆▄▆▆█▇▇▅▆\n",
            "\u001b[34m\u001b[1mwandb\u001b[0m: validation_sequence_accuracy ▁▁▁▁▁▁▁▁▁▁▁▁▁▁▁▁▁▁▁▁▁▁▁▁▁▁▁▁▁▁▁▁▁▁▁▁▁▁\n",
            "\u001b[34m\u001b[1mwandb\u001b[0m:    validation_token_accuracy ▁▂▄▂▂▇▂▂▂▄█▂▂▃▃▁▃▇▂▁▄▂▂▄▃▃▂▆▇▂▅▂▂▃▃▂▂▂\n",
            "\u001b[34m\u001b[1mwandb\u001b[0m: \n",
            "\u001b[34m\u001b[1mwandb\u001b[0m: Run summary:\n",
            "\u001b[34m\u001b[1mwandb\u001b[0m:             elapsed_examples 1052.0\n",
            "\u001b[34m\u001b[1mwandb\u001b[0m:               elapsed_tokens 1090428.0\n",
            "\u001b[34m\u001b[1mwandb\u001b[0m:             fine_tuned_model curie:ft-personal-20...\n",
            "\u001b[34m\u001b[1mwandb\u001b[0m:                       status succeeded\n",
            "\u001b[34m\u001b[1mwandb\u001b[0m:                training_loss 1.39066\n",
            "\u001b[34m\u001b[1mwandb\u001b[0m:   training_sequence_accuracy 0.0\n",
            "\u001b[34m\u001b[1mwandb\u001b[0m:      training_token_accuracy 0.5133\n",
            "\u001b[34m\u001b[1mwandb\u001b[0m:              validation_loss 1.58204\n",
            "\u001b[34m\u001b[1mwandb\u001b[0m: validation_sequence_accuracy 0.0\n",
            "\u001b[34m\u001b[1mwandb\u001b[0m:    validation_token_accuracy 0.48393\n",
            "\u001b[34m\u001b[1mwandb\u001b[0m: \n",
            "\u001b[34m\u001b[1mwandb\u001b[0m: Synced \u001b[33mft-J1x3ZaSCLeOvHzlMN3ZzaXMH\u001b[0m: \u001b[34m\u001b[4mhttps://wandb.ai/melzheng/GPT%203%20for%20Generating%20Texts%20in%20Amazon%20tone/runs/ft-J1x3ZaSCLeOvHzlMN3ZzaXMH\u001b[0m\n",
            "\u001b[34m\u001b[1mwandb\u001b[0m: Synced 5 W&B file(s), 0 media file(s), 1 artifact file(s) and 0 other file(s)\n",
            "\u001b[34m\u001b[1mwandb\u001b[0m: Find logs at: \u001b[35m\u001b[1m./wandb/run-20220719_191721-ft-J1x3ZaSCLeOvHzlMN3ZzaXMH/logs\u001b[0m\n",
            "\u001b[34m\u001b[1mwandb\u001b[0m: Tracking run with wandb version 0.12.21\n",
            "\u001b[34m\u001b[1mwandb\u001b[0m: Run data is saved locally in \u001b[35m\u001b[1m/content/wandb/run-20220719_191729-ft-cwLfwFSBz1fi2HP4NYk6umI8\u001b[0m\n",
            "\u001b[34m\u001b[1mwandb\u001b[0m: Run \u001b[1m`wandb offline`\u001b[0m to turn off syncing.\n",
            "\u001b[34m\u001b[1mwandb\u001b[0m: Syncing run \u001b[33mft-cwLfwFSBz1fi2HP4NYk6umI8\u001b[0m\n",
            "\u001b[34m\u001b[1mwandb\u001b[0m: ⭐️ View project at \u001b[34m\u001b[4mhttps://wandb.ai/melzheng/GPT%203%20for%20Generating%20Texts%20in%20Amazon%20tone\u001b[0m\n",
            "\u001b[34m\u001b[1mwandb\u001b[0m: 🚀 View run at \u001b[34m\u001b[4mhttps://wandb.ai/melzheng/GPT%203%20for%20Generating%20Texts%20in%20Amazon%20tone/runs/ft-cwLfwFSBz1fi2HP4NYk6umI8\u001b[0m\n",
            "File file-Pkgwrn3gouwxi8VtsmHmdeV2 could not be retrieved. Make sure you are allowed to download training/validation files\n",
            "File file-Ex9W9ttcgAKNvU93MCYhEoEr could not be retrieved. Make sure you are allowed to download training/validation files\n",
            "\u001b[34m\u001b[1mwandb\u001b[0m: Waiting for W&B process to finish... \u001b[32m(success).\u001b[0m\n",
            "\u001b[34m\u001b[1mwandb\u001b[0m:                                                                                \n",
            "\u001b[34m\u001b[1mwandb\u001b[0m: \n",
            "\u001b[34m\u001b[1mwandb\u001b[0m: Run history:\n",
            "\u001b[34m\u001b[1mwandb\u001b[0m:             elapsed_examples ▁▁▁▂▂▂▂▂▂▃▃▃▃▃▃▄▄▄▄▄▅▅▅▅▅▅▆▆▆▆▆▇▇▇▇▇▇███\n",
            "\u001b[34m\u001b[1mwandb\u001b[0m:               elapsed_tokens ▁▁▁▂▂▂▂▂▂▃▃▃▃▃▃▄▄▄▄▄▅▅▅▅▅▆▆▆▆▆▆▇▇▇▇▇▇███\n",
            "\u001b[34m\u001b[1mwandb\u001b[0m:                training_loss ▆█▅▆▆▄▂▂▂▂▂▄▅▄▂▁▃▄▃▂▂▄▃▁▅▂▂▃▃▂▂▃▂▂▃▁▂▁▃▃\n",
            "\u001b[34m\u001b[1mwandb\u001b[0m:   training_sequence_accuracy ▁▁▁▁▁▁▁▁▁▁▁▁▁▁▁▁▁▁▁▁▁▁▁▁▁▁▁▁▁▁▁▁█▁▁▁▁▁▁▁\n",
            "\u001b[34m\u001b[1mwandb\u001b[0m:      training_token_accuracy ▂▁▂▂▁▃▇▅▆▅▆▃▄▄▆▇▇▂▄▅▆▄▅█▃▆▆▅▅▆▇▄▆▇▅█▆█▇▆\n",
            "\u001b[34m\u001b[1mwandb\u001b[0m:              validation_loss ▆▂█▃▁▄▆▇▂█▄▄▂▇▂▂▄▁▁▂▅▂▃▂▆▂▁▆▂▃▄▆▁▃▁▆▄\n",
            "\u001b[34m\u001b[1mwandb\u001b[0m: validation_sequence_accuracy ▁▁▁▁▁▁▁▁▁▁▁▁▁▁▁▁▁▁▁▁▁▁▁▁▁▁▁▁▁▁▁▁▁▁▁▁▁\n",
            "\u001b[34m\u001b[1mwandb\u001b[0m:    validation_token_accuracy ▂▇▂▆▇▄▁▃▇▁▅▅█▃▅▆▆▇▇▆▃▆▄▇▂▇█▃▆▅▅▁█▆█▂▂\n",
            "\u001b[34m\u001b[1mwandb\u001b[0m: \n",
            "\u001b[34m\u001b[1mwandb\u001b[0m: Run summary:\n",
            "\u001b[34m\u001b[1mwandb\u001b[0m:             elapsed_examples 976.0\n",
            "\u001b[34m\u001b[1mwandb\u001b[0m:               elapsed_tokens 129808.0\n",
            "\u001b[34m\u001b[1mwandb\u001b[0m:             fine_tuned_model curie:ft-personal:sh...\n",
            "\u001b[34m\u001b[1mwandb\u001b[0m:                       status succeeded\n",
            "\u001b[34m\u001b[1mwandb\u001b[0m:                training_loss 0.5787\n",
            "\u001b[34m\u001b[1mwandb\u001b[0m:   training_sequence_accuracy 0.0\n",
            "\u001b[34m\u001b[1mwandb\u001b[0m:      training_token_accuracy 0.78049\n",
            "\u001b[34m\u001b[1mwandb\u001b[0m:              validation_loss 0.85337\n",
            "\u001b[34m\u001b[1mwandb\u001b[0m: validation_sequence_accuracy 0.0\n",
            "\u001b[34m\u001b[1mwandb\u001b[0m:    validation_token_accuracy 0.47273\n",
            "\u001b[34m\u001b[1mwandb\u001b[0m: \n",
            "\u001b[34m\u001b[1mwandb\u001b[0m: Synced \u001b[33mft-cwLfwFSBz1fi2HP4NYk6umI8\u001b[0m: \u001b[34m\u001b[4mhttps://wandb.ai/melzheng/GPT%203%20for%20Generating%20Texts%20in%20Amazon%20tone/runs/ft-cwLfwFSBz1fi2HP4NYk6umI8\u001b[0m\n",
            "\u001b[34m\u001b[1mwandb\u001b[0m: Synced 5 W&B file(s), 0 media file(s), 1 artifact file(s) and 0 other file(s)\n",
            "\u001b[34m\u001b[1mwandb\u001b[0m: Find logs at: \u001b[35m\u001b[1m./wandb/run-20220719_191729-ft-cwLfwFSBz1fi2HP4NYk6umI8/logs\u001b[0m\n",
            "\u001b[34m\u001b[1mwandb\u001b[0m: Tracking run with wandb version 0.12.21\n",
            "\u001b[34m\u001b[1mwandb\u001b[0m: Run data is saved locally in \u001b[35m\u001b[1m/content/wandb/run-20220719_191737-ft-Fi9NzvXozIQTV8IkZnrdTLSQ\u001b[0m\n",
            "\u001b[34m\u001b[1mwandb\u001b[0m: Run \u001b[1m`wandb offline`\u001b[0m to turn off syncing.\n",
            "\u001b[34m\u001b[1mwandb\u001b[0m: Syncing run \u001b[33mft-Fi9NzvXozIQTV8IkZnrdTLSQ\u001b[0m\n",
            "\u001b[34m\u001b[1mwandb\u001b[0m: ⭐️ View project at \u001b[34m\u001b[4mhttps://wandb.ai/melzheng/GPT%203%20for%20Generating%20Texts%20in%20Amazon%20tone\u001b[0m\n",
            "\u001b[34m\u001b[1mwandb\u001b[0m: 🚀 View run at \u001b[34m\u001b[4mhttps://wandb.ai/melzheng/GPT%203%20for%20Generating%20Texts%20in%20Amazon%20tone/runs/ft-Fi9NzvXozIQTV8IkZnrdTLSQ\u001b[0m\n",
            "File file-GmVQj74hjas4JfLN6I4l6F9z could not be retrieved. Make sure you are allowed to download training/validation files\n",
            "File file-o7t3X56pd32TqYE6ajQgwHNk could not be retrieved. Make sure you are allowed to download training/validation files\n",
            "\u001b[34m\u001b[1mwandb\u001b[0m: Waiting for W&B process to finish... \u001b[32m(success).\u001b[0m\n",
            "\u001b[34m\u001b[1mwandb\u001b[0m:                                                                                \n",
            "\u001b[34m\u001b[1mwandb\u001b[0m: \n",
            "\u001b[34m\u001b[1mwandb\u001b[0m: Run history:\n",
            "\u001b[34m\u001b[1mwandb\u001b[0m:             elapsed_examples ▁▁▁▂▂▂▂▂▂▃▃▃▃▃▃▄▄▄▄▄▅▅▅▅▅▅▆▆▆▆▆▇▇▇▇▇▇███\n",
            "\u001b[34m\u001b[1mwandb\u001b[0m:               elapsed_tokens ▁▁▁▂▂▂▂▂▂▃▃▃▃▃▄▄▄▄▄▄▅▅▅▅▅▅▆▆▆▆▆▇▇▇▇▇▇███\n",
            "\u001b[34m\u001b[1mwandb\u001b[0m:                training_loss ▅▆▁▄█▆▃▆▄▄█▃▃▄▄▆▆▄▆▅▅▁▄▅▁▅▆▂▅▄▂▄▃▂▃▃▂▂▅▄\n",
            "\u001b[34m\u001b[1mwandb\u001b[0m:   training_sequence_accuracy ▁▁▁▁▁▁▁▁▁▁▁▁▁▁▁▁▁▁▁▁▁▁▁▁▁▁▁▁▁▁▁▁▁▁▁▁▁▁▁▁\n",
            "\u001b[34m\u001b[1mwandb\u001b[0m:      training_token_accuracy ▁▁▄▄▁▂▃▁▄▃▁▄▂▄▃▄▄▄▃▄▃▅▅▅▆▄▃█▅▃▅▅▆▆█▅▅▅▃▄\n",
            "\u001b[34m\u001b[1mwandb\u001b[0m:              validation_loss ▇█▄▅▃▅▅▇▅▅▇▄▄▆▇▃▃▄▄▂▄▄▇▃▄▇▁▄▆▄▃▃▁▂▆▄▄▂\n",
            "\u001b[34m\u001b[1mwandb\u001b[0m: validation_sequence_accuracy ▁▁▁▁▁▁▁▁▁▁▁▁▁▁▁▁▁▁▁▁▁▁▁▁▁▁▁▁▁▁▁▁▁▁▁▁▁▁\n",
            "\u001b[34m\u001b[1mwandb\u001b[0m:    validation_token_accuracy ▃▁▁▃▄▅▅▃▃▃▂▆▅▅▃▅▅█▄▆▆▇▄▆▅▄▆▄▃▅█▇▇▆▄▅▅▇\n",
            "\u001b[34m\u001b[1mwandb\u001b[0m: \n",
            "\u001b[34m\u001b[1mwandb\u001b[0m: Run summary:\n",
            "\u001b[34m\u001b[1mwandb\u001b[0m:             elapsed_examples 1952.0\n",
            "\u001b[34m\u001b[1mwandb\u001b[0m:               elapsed_tokens 3482144.0\n",
            "\u001b[34m\u001b[1mwandb\u001b[0m:             fine_tuned_model curie:ft-personal:am...\n",
            "\u001b[34m\u001b[1mwandb\u001b[0m:                       status succeeded\n",
            "\u001b[34m\u001b[1mwandb\u001b[0m:                training_loss 1.06364\n",
            "\u001b[34m\u001b[1mwandb\u001b[0m:   training_sequence_accuracy 0.0\n",
            "\u001b[34m\u001b[1mwandb\u001b[0m:      training_token_accuracy 0.66501\n",
            "\u001b[34m\u001b[1mwandb\u001b[0m:              validation_loss 0.87121\n",
            "\u001b[34m\u001b[1mwandb\u001b[0m: validation_sequence_accuracy 0.0\n",
            "\u001b[34m\u001b[1mwandb\u001b[0m:    validation_token_accuracy 0.68635\n",
            "\u001b[34m\u001b[1mwandb\u001b[0m: \n",
            "\u001b[34m\u001b[1mwandb\u001b[0m: Synced \u001b[33mft-Fi9NzvXozIQTV8IkZnrdTLSQ\u001b[0m: \u001b[34m\u001b[4mhttps://wandb.ai/melzheng/GPT%203%20for%20Generating%20Texts%20in%20Amazon%20tone/runs/ft-Fi9NzvXozIQTV8IkZnrdTLSQ\u001b[0m\n",
            "\u001b[34m\u001b[1mwandb\u001b[0m: Synced 5 W&B file(s), 0 media file(s), 1 artifact file(s) and 0 other file(s)\n",
            "\u001b[34m\u001b[1mwandb\u001b[0m: Find logs at: \u001b[35m\u001b[1m./wandb/run-20220719_191737-ft-Fi9NzvXozIQTV8IkZnrdTLSQ/logs\u001b[0m\n",
            "🎉 wandb sync completed successfully\n"
          ]
        }
      ]
    },
    {
      "cell_type": "markdown",
      "source": [
        "## Log validation samples"
      ],
      "metadata": {
        "id": "nqkIMnTCebdz"
      }
    },
    {
      "cell_type": "code",
      "source": [
        "# create eval job\n",
        "run = wandb.init(project=project_name, job_type='eval')\n",
        "entity = wandb.run.entity"
      ],
      "metadata": {
        "colab": {
          "base_uri": "https://localhost:8080/",
          "height": 87
        },
        "id": "1c2xb5nnei_i",
        "outputId": "5611cba1-4c97-4d47-9b92-661249989d83"
      },
      "execution_count": null,
      "outputs": [
        {
          "output_type": "stream",
          "name": "stderr",
          "text": [
            "\u001b[34m\u001b[1mwandb\u001b[0m: Currently logged in as: \u001b[33mmelzheng\u001b[0m. Use \u001b[1m`wandb login --relogin`\u001b[0m to force relogin\n"
          ]
        },
        {
          "output_type": "display_data",
          "data": {
            "text/plain": [
              "<IPython.core.display.HTML object>"
            ],
            "text/html": [
              "Tracking run with wandb version 0.12.21"
            ]
          },
          "metadata": {}
        },
        {
          "output_type": "display_data",
          "data": {
            "text/plain": [
              "<IPython.core.display.HTML object>"
            ],
            "text/html": [
              "Run data is saved locally in <code>/content/wandb/run-20220719_191748-37xfq8xv</code>"
            ]
          },
          "metadata": {}
        },
        {
          "output_type": "display_data",
          "data": {
            "text/plain": [
              "<IPython.core.display.HTML object>"
            ],
            "text/html": [
              "Syncing run <strong><a href=\"https://wandb.ai/melzheng/GPT%203%20for%20Generating%20Texts%20in%20Amazon%20tone/runs/37xfq8xv\" target=\"_blank\">silvery-night-11</a></strong> to <a href=\"https://wandb.ai/melzheng/GPT%203%20for%20Generating%20Texts%20in%20Amazon%20tone\" target=\"_blank\">Weights & Biases</a> (<a href=\"https://wandb.me/run\" target=\"_blank\">docs</a>)<br/>"
            ]
          },
          "metadata": {}
        }
      ]
    },
    {
      "cell_type": "code",
      "source": [
        "# choose a fine-tuned model\n",
        "artifact_job = run.use_artifact(f'{entity}/{project_name}/fine_tune_details:latest', type='fine_tune_details')\n",
        "artifact_job.metadata"
      ],
      "metadata": {
        "colab": {
          "base_uri": "https://localhost:8080/"
        },
        "id": "rFrcC5D9epeK",
        "outputId": "ffb6500c-61a8-40c8-e2cb-58c1bdf9fe53"
      },
      "execution_count": null,
      "outputs": [
        {
          "output_type": "execute_result",
          "data": {
            "text/plain": [
              "{'created_at': 1658256912,\n",
              " 'fine_tuned_model': 'curie:ft-personal:amazon-press-v0-2022-07-19-19-05-41',\n",
              " 'hyperparams': {'batch_size': 8,\n",
              "  'learning_rate_multiplier': 0.1,\n",
              "  'n_epochs': 4,\n",
              "  'prompt_loss_weight': 0.1},\n",
              " 'id': 'ft-Fi9NzvXozIQTV8IkZnrdTLSQ',\n",
              " 'model': 'curie',\n",
              " 'object': 'fine-tune',\n",
              " 'organization_id': 'org-2ud1sYF9hh0kQ0RoB3CMcf09',\n",
              " 'result_files': [{'bytes': 16353,\n",
              "   'created_at': 1658257542,\n",
              "   'filename': 'compiled_results.csv',\n",
              "   'id': 'file-HGq4rK33DMlkyHt2Ghc3kVJC',\n",
              "   'object': 'file',\n",
              "   'purpose': 'fine-tune-results',\n",
              "   'status': 'processed',\n",
              "   'status_details': None}],\n",
              " 'status': 'succeeded',\n",
              " 'training_files': [{'bytes': 3021979,\n",
              "   'created_at': 1658256910,\n",
              "   'filename': 'sh_train.jsonl',\n",
              "   'id': 'file-GmVQj74hjas4JfLN6I4l6F9z',\n",
              "   'object': 'file',\n",
              "   'purpose': 'fine-tune',\n",
              "   'status': 'processed',\n",
              "   'status_details': None}],\n",
              " 'updated_at': 1658257542,\n",
              " 'validation_files': [{'bytes': 996303,\n",
              "   'created_at': 1658256911,\n",
              "   'filename': 'sh_valid.jsonl',\n",
              "   'id': 'file-o7t3X56pd32TqYE6ajQgwHNk',\n",
              "   'object': 'file',\n",
              "   'purpose': 'fine-tune',\n",
              "   'status': 'processed',\n",
              "   'status_details': None}]}"
            ]
          },
          "metadata": {},
          "execution_count": 25
        }
      ]
    },
    {
      "cell_type": "code",
      "source": [
        "wandb.config.update({k:artifact_job.metadata[k] for k in ['fine_tuned_model', 'model', 'hyperparams']})"
      ],
      "metadata": {
        "id": "Q6XhNvJ3e0C0"
      },
      "execution_count": null,
      "outputs": []
    },
    {
      "cell_type": "code",
      "source": [
        "fine_tuned_model = artifact_job.metadata['fine_tuned_model']\n",
        "fine_tuned_model"
      ],
      "metadata": {
        "colab": {
          "base_uri": "https://localhost:8080/",
          "height": 35
        },
        "id": "B3yORlfde3nE",
        "outputId": "85aa7bab-3e40-46db-ec5c-6b1579fa19b6"
      },
      "execution_count": null,
      "outputs": [
        {
          "output_type": "execute_result",
          "data": {
            "text/plain": [
              "'curie:ft-personal:amazon-press-v0-2022-07-19-19-05-41'"
            ],
            "application/vnd.google.colaboratory.intrinsic+json": {
              "type": "string"
            }
          },
          "metadata": {},
          "execution_count": 27
        }
      ]
    },
    {
      "cell_type": "code",
      "source": [
        "df = pd.read_json(\"sh_valid.jsonl\", orient='records', lines=True)\n",
        "df.head(5)"
      ],
      "metadata": {
        "colab": {
          "base_uri": "https://localhost:8080/",
          "height": 206
        },
        "id": "nwhKS0wre5g-",
        "outputId": "72148cbd-1042-47c4-84da-ed27b05ef49e"
      },
      "execution_count": null,
      "outputs": [
        {
          "output_type": "execute_result",
          "data": {
            "text/plain": [
              "                                              prompt  \\\n",
              "0  Amazon Expands Grocery Delivery From Whole Foo...   \n",
              "1  AWS Introduces New Amazon EC2 Instances Featur...   \n",
              "2  Amazon Career Day 2020 – More Than 300,000 Peo...   \n",
              "3  Amazon Introduces the eero mesh WiFi system—Si...   \n",
              "4  Amazon Kicks Off Spring with the Launch of Bel...   \n",
              "\n",
              "                                          completion  \n",
              "0   Prime members can enjoy delivery in as little...  \n",
              "1   New options for general purpose and memory-op...  \n",
              "2   Amazon recruiters conducted 20,000 free 1-on-...  \n",
              "3   The new eero mesh WiFi system is the latest a...  \n",
              "4   The new collection is launching with 12 items...  "
            ],
            "text/html": [
              "\n",
              "  <div id=\"df-d5403e8b-36a6-4945-aa00-a051183529c8\">\n",
              "    <div class=\"colab-df-container\">\n",
              "      <div>\n",
              "<style scoped>\n",
              "    .dataframe tbody tr th:only-of-type {\n",
              "        vertical-align: middle;\n",
              "    }\n",
              "\n",
              "    .dataframe tbody tr th {\n",
              "        vertical-align: top;\n",
              "    }\n",
              "\n",
              "    .dataframe thead th {\n",
              "        text-align: right;\n",
              "    }\n",
              "</style>\n",
              "<table border=\"1\" class=\"dataframe\">\n",
              "  <thead>\n",
              "    <tr style=\"text-align: right;\">\n",
              "      <th></th>\n",
              "      <th>prompt</th>\n",
              "      <th>completion</th>\n",
              "    </tr>\n",
              "  </thead>\n",
              "  <tbody>\n",
              "    <tr>\n",
              "      <th>0</th>\n",
              "      <td>Amazon Expands Grocery Delivery From Whole Foo...</td>\n",
              "      <td>Prime members can enjoy delivery in as little...</td>\n",
              "    </tr>\n",
              "    <tr>\n",
              "      <th>1</th>\n",
              "      <td>AWS Introduces New Amazon EC2 Instances Featur...</td>\n",
              "      <td>New options for general purpose and memory-op...</td>\n",
              "    </tr>\n",
              "    <tr>\n",
              "      <th>2</th>\n",
              "      <td>Amazon Career Day 2020 – More Than 300,000 Peo...</td>\n",
              "      <td>Amazon recruiters conducted 20,000 free 1-on-...</td>\n",
              "    </tr>\n",
              "    <tr>\n",
              "      <th>3</th>\n",
              "      <td>Amazon Introduces the eero mesh WiFi system—Si...</td>\n",
              "      <td>The new eero mesh WiFi system is the latest a...</td>\n",
              "    </tr>\n",
              "    <tr>\n",
              "      <th>4</th>\n",
              "      <td>Amazon Kicks Off Spring with the Launch of Bel...</td>\n",
              "      <td>The new collection is launching with 12 items...</td>\n",
              "    </tr>\n",
              "  </tbody>\n",
              "</table>\n",
              "</div>\n",
              "      <button class=\"colab-df-convert\" onclick=\"convertToInteractive('df-d5403e8b-36a6-4945-aa00-a051183529c8')\"\n",
              "              title=\"Convert this dataframe to an interactive table.\"\n",
              "              style=\"display:none;\">\n",
              "        \n",
              "  <svg xmlns=\"http://www.w3.org/2000/svg\" height=\"24px\"viewBox=\"0 0 24 24\"\n",
              "       width=\"24px\">\n",
              "    <path d=\"M0 0h24v24H0V0z\" fill=\"none\"/>\n",
              "    <path d=\"M18.56 5.44l.94 2.06.94-2.06 2.06-.94-2.06-.94-.94-2.06-.94 2.06-2.06.94zm-11 1L8.5 8.5l.94-2.06 2.06-.94-2.06-.94L8.5 2.5l-.94 2.06-2.06.94zm10 10l.94 2.06.94-2.06 2.06-.94-2.06-.94-.94-2.06-.94 2.06-2.06.94z\"/><path d=\"M17.41 7.96l-1.37-1.37c-.4-.4-.92-.59-1.43-.59-.52 0-1.04.2-1.43.59L10.3 9.45l-7.72 7.72c-.78.78-.78 2.05 0 2.83L4 21.41c.39.39.9.59 1.41.59.51 0 1.02-.2 1.41-.59l7.78-7.78 2.81-2.81c.8-.78.8-2.07 0-2.86zM5.41 20L4 18.59l7.72-7.72 1.47 1.35L5.41 20z\"/>\n",
              "  </svg>\n",
              "      </button>\n",
              "      \n",
              "  <style>\n",
              "    .colab-df-container {\n",
              "      display:flex;\n",
              "      flex-wrap:wrap;\n",
              "      gap: 12px;\n",
              "    }\n",
              "\n",
              "    .colab-df-convert {\n",
              "      background-color: #E8F0FE;\n",
              "      border: none;\n",
              "      border-radius: 50%;\n",
              "      cursor: pointer;\n",
              "      display: none;\n",
              "      fill: #1967D2;\n",
              "      height: 32px;\n",
              "      padding: 0 0 0 0;\n",
              "      width: 32px;\n",
              "    }\n",
              "\n",
              "    .colab-df-convert:hover {\n",
              "      background-color: #E2EBFA;\n",
              "      box-shadow: 0px 1px 2px rgba(60, 64, 67, 0.3), 0px 1px 3px 1px rgba(60, 64, 67, 0.15);\n",
              "      fill: #174EA6;\n",
              "    }\n",
              "\n",
              "    [theme=dark] .colab-df-convert {\n",
              "      background-color: #3B4455;\n",
              "      fill: #D2E3FC;\n",
              "    }\n",
              "\n",
              "    [theme=dark] .colab-df-convert:hover {\n",
              "      background-color: #434B5C;\n",
              "      box-shadow: 0px 1px 3px 1px rgba(0, 0, 0, 0.15);\n",
              "      filter: drop-shadow(0px 1px 2px rgba(0, 0, 0, 0.3));\n",
              "      fill: #FFFFFF;\n",
              "    }\n",
              "  </style>\n",
              "\n",
              "      <script>\n",
              "        const buttonEl =\n",
              "          document.querySelector('#df-d5403e8b-36a6-4945-aa00-a051183529c8 button.colab-df-convert');\n",
              "        buttonEl.style.display =\n",
              "          google.colab.kernel.accessAllowed ? 'block' : 'none';\n",
              "\n",
              "        async function convertToInteractive(key) {\n",
              "          const element = document.querySelector('#df-d5403e8b-36a6-4945-aa00-a051183529c8');\n",
              "          const dataTable =\n",
              "            await google.colab.kernel.invokeFunction('convertToInteractive',\n",
              "                                                     [key], {});\n",
              "          if (!dataTable) return;\n",
              "\n",
              "          const docLinkHtml = 'Like what you see? Visit the ' +\n",
              "            '<a target=\"_blank\" href=https://colab.research.google.com/notebooks/data_table.ipynb>data table notebook</a>'\n",
              "            + ' to learn more about interactive tables.';\n",
              "          element.innerHTML = '';\n",
              "          dataTable['output_type'] = 'display_data';\n",
              "          await google.colab.output.renderOutput(dataTable, element);\n",
              "          const docLink = document.createElement('div');\n",
              "          docLink.innerHTML = docLinkHtml;\n",
              "          element.appendChild(docLink);\n",
              "        }\n",
              "      </script>\n",
              "    </div>\n",
              "  </div>\n",
              "  "
            ]
          },
          "metadata": {},
          "execution_count": 28
        }
      ]
    },
    {
      "cell_type": "code",
      "source": [
        "df.prompt[4]"
      ],
      "metadata": {
        "colab": {
          "base_uri": "https://localhost:8080/",
          "height": 35
        },
        "id": "tU7kKBYX5obj",
        "outputId": "9d92481c-559a-4a84-967b-a768dcee5ecd"
      },
      "execution_count": null,
      "outputs": [
        {
          "output_type": "execute_result",
          "data": {
            "text/plain": [
              "'Amazon Kicks Off Spring with the Launch of Belei, its First Dedicated Skincare Line ->'"
            ],
            "application/vnd.google.colaboratory.intrinsic+json": {
              "type": "string"
            }
          },
          "metadata": {},
          "execution_count": 36
        }
      ]
    },
    {
      "cell_type": "code",
      "source": [
        "df.completion[4]"
      ],
      "metadata": {
        "colab": {
          "base_uri": "https://localhost:8080/",
          "height": 143
        },
        "id": "-AXVfj6k7rf5",
        "outputId": "c3483bb3-61b4-43c6-a523-f4f6cbaab52b"
      },
      "execution_count": null,
      "outputs": [
        {
          "output_type": "execute_result",
          "data": {
            "text/plain": [
              "' The new collection is launching with 12 items including moisturizers, serums, eye cream, spot treatments and more\\nProducts feature sought-after ingredients such as retinol, hyaluronic acid and vitamin C to help fight acne, dark spots, fine lines, dehydration and dullness\\nSEATTLE--(BUSINESS WIRE)--Mar. 20, 2019-- Amazon (NASDAQ:AMZN) today announced the launch of Belei, a line of high-quality skincare products that offer solutions for various skin types and feature ingredients with proven effectiveness. The collection has 12 different items, including everything from retinol moisturizer to vitamin C serums, to help customers address common skincare concerns like acne, the appearance of fine lines and wrinkles, dark spots, dehydration, dullness and more. All Belei products are free of parabens, phthalates, sulfates and fragrance and are not tested on animals. Belei product bottles are made of post-consumer recycled resin and carton packaging is 100% recyclable.\\nThis press release features multimedia. View the full release here:\\nhttps://www.businesswire.com/news/home/20190320005029/en/\\nFrom left to right: Belei Retinol Refining Moisturizer, Belei Triple-Peptide Eye Cream, Belei Ferulic Acid + Vitamins C and E Serum, Belei Hydrating Hyaluronic Acid (Photo: Business Wire)\\n“Our goal is to help customers spend less time and money searching for the right skincare solutions,” said Kara Trousdale, Head of Beauty for Private Brands on Amazon.com. “We took a simple, no-nonsense approach when creating Belei, developing products with ingredients that are both proven to deliver results and also offer customers great value for the quality.”\\nAll Belei products are eligible for free shipping, including unlimited FREE Two-Day Shipping with Amazon Prime, and come with our Satisfaction Guarantee. The full collection is available at www.amazon.com/belei. Products include:\\nMicellar   Facial Wipes, $9Oil-free micellar wipes that   gently remove makeup, dirt, and complexion-dulling impurities.\\nCharcoal   Balancing Mask, $18A revitalizing clay mask made   with charcoal that leaves skin feeling clean from deep within, and   advanced hyaluronic acid to help retain moisture.\\nOil-Free   Face Moisturizer SPF 50, $22A lightweight,   oil-free moisturizer to help preserve and protect skin. Contains an   advanced formula of fast-absorbing sunscreen for non-greasy daily   defense.\\nBlemish   Control Spot Treatment, $22A lightweight,   acne-fighting formula to help fight blemishes. Apply at the onset of   breakouts for maximum effectiveness.\\nDark   Spot Solution Serum, $22A lightweight serum that   helps to even pigmentation and lighten the appearance of dark spots   caused by acne. Use directly on areas of concern or all over to help   even skin tone.\\nTriple-Peptide   Eye Cream, $22A lightweight, tri-peptide blend   eye cream with hyaluronic acid, caffeine and aloe vera to help   minimize the appearance of fine lines, puffiness and dark circles.\\nVitamin   C + HA Serum, $35A silky, lightweight serum with   the clarifying power of vitamin C and hyaluronic acid that leaves skin   feeling hydrated and refreshed.\\nVitamin   C Moisturizer, $35This moisturizer blends vitamin   C and hyaluronic acid with a botanical complex that helps smooth skin   with daily use.\\nRetinol   Refining Moisturizer, $35A refining moisturizer   that uses the latest technology in retinol delivery to release vitamin   A to the skin over the course of the day or night. A botanical complex   soothes skin, while squalane and hyaluronic acid help skin appear   smooth and refined.\\nBio-Complex   Moisturizer, $35A silky moisturizer that contains   a high level of an advanced formula of hyaluronic acid. Blended with   squalane and glycerin, it locks in valuable moisture for hours to keep   skin feeling smooth and refreshed.\\nHydrating   Hyaluronic Acid Serum, $40This serum is a   multi-tasker that tackles a multitude of skin needs in a single serum.   A long-lasting blend of five specialized hyaluronic acids helps retain   moisture, while reducing the appearance of fine lines.\\nFerulic   Acid + Vitamins C and E Serum, $40This serum   helps to purify and refine the skin, blending the antioxidant powers   of ferulic acid, vitamin C and vitamin E. Combined, these ingredients   help even skin tone and leave skin feeling hydrated and refreshed.\\nAbout Amazon\\nAmazon is guided by four principles: customer obsession rather than competitor focus, passion for invention, commitment to operational excellence, and long-term thinking. Customer reviews, 1-Click shopping, personalized recommendations, Prime, Fulfillment by Amazon, AWS, Kindle Direct Publishing, Kindle, Fire tablets, Fire TV, Amazon Echo, and Alexa are some of the products and services pioneered by Amazon. For more information, visit www.amazon.com/about and follow @AmazonNews.\\nView source version on businesswire.com: https://www.businesswire.com/news/home/20190320005029/en/\\nSource: Amazon.com, Inc.\\nAmazon.com, Inc.Media HotlineAmazon-pr@amazon.comwww.amazon.com/pr END'"
            ],
            "application/vnd.google.colaboratory.intrinsic+json": {
              "type": "string"
            }
          },
          "metadata": {},
          "execution_count": 38
        }
      ]
    },
    {
      "cell_type": "code",
      "source": [
        "df.to_csv('validation.csv', index=False)"
      ],
      "metadata": {
        "id": "_lJs59-F8LvV"
      },
      "execution_count": null,
      "outputs": []
    },
    {
      "cell_type": "code",
      "source": [
        "# inference on 30 validation examples.\n",
        "\n",
        "n_samples = 10\n",
        "df = df.iloc[:n_samples]\n",
        "\n",
        "data = []\n",
        "\n",
        "for _, row in tqdm(df.iterrows()):\n",
        "    prompt = row['prompt']\n",
        "    res = openai.Completion.create(model=fine_tuned_model, prompt=prompt, max_tokens=300, stop=[\" END\"])\n",
        "    completion = res['choices'][0]['text']\n",
        "    completion = completion[1:]       # remove initial space\n",
        "    prompt = prompt[:-3]              # remove \" ->\"\n",
        "    target = row['completion'][1:-4]  # remove initial space and \"END\"\n",
        "    data.append([prompt, target, completion])\n",
        "\n",
        "prediction_table = wandb.Table(columns=['prompt', 'target', 'completion'], data=data)\n",
        "wandb.log({'predictions': prediction_table})"
      ],
      "metadata": {
        "colab": {
          "base_uri": "https://localhost:8080/"
        },
        "id": "RKqAga7-e_J5",
        "outputId": "4d953e7d-1999-4010-8b01-d08e04f87514"
      },
      "execution_count": null,
      "outputs": [
        {
          "output_type": "stream",
          "name": "stderr",
          "text": [
            "10it [00:27,  2.75s/it]\n"
          ]
        }
      ]
    },
    {
      "cell_type": "code",
      "source": [
        "wandb.finish() "
      ],
      "metadata": {
        "colab": {
          "base_uri": "https://localhost:8080/",
          "height": 87,
          "referenced_widgets": [
            "a636ff86e3584694911aa85a355d2e70",
            "8d996b2a432541d69da8fefaf2cadad4",
            "f9027c89f357443c987d17ce8192cf9c",
            "722d52f31a194888bb732d3f63e7eb19",
            "20560730c46d459f818194e42c0c206d",
            "2302b81c3962433584edc604bd773df0",
            "76d24f036dd946ae99356d025cba7939",
            "77bc9e52262044b0a33b7fe71fe07036"
          ]
        },
        "id": "xnMAjKb2f50z",
        "outputId": "fd90eba7-5550-41bc-92b8-70659ed48574"
      },
      "execution_count": null,
      "outputs": [
        {
          "output_type": "display_data",
          "data": {
            "text/plain": [
              "<IPython.core.display.HTML object>"
            ],
            "text/html": [
              "Waiting for W&B process to finish... <strong style=\"color:green\">(success).</strong>"
            ]
          },
          "metadata": {}
        },
        {
          "output_type": "display_data",
          "data": {
            "text/plain": [
              "VBox(children=(Label(value='0.136 MB of 0.136 MB uploaded (0.000 MB deduped)\\r'), FloatProgress(value=1.0, max…"
            ],
            "application/vnd.jupyter.widget-view+json": {
              "version_major": 2,
              "version_minor": 0,
              "model_id": "a636ff86e3584694911aa85a355d2e70"
            }
          },
          "metadata": {}
        },
        {
          "output_type": "display_data",
          "data": {
            "text/plain": [
              "<IPython.core.display.HTML object>"
            ],
            "text/html": [
              "Synced <strong style=\"color:#cdcd00\">silvery-night-11</strong>: <a href=\"https://wandb.ai/melzheng/GPT%203%20for%20Generating%20Texts%20in%20Amazon%20tone/runs/37xfq8xv\" target=\"_blank\">https://wandb.ai/melzheng/GPT%203%20for%20Generating%20Texts%20in%20Amazon%20tone/runs/37xfq8xv</a><br/>Synced 5 W&B file(s), 1 media file(s), 1 artifact file(s) and 0 other file(s)"
            ]
          },
          "metadata": {}
        },
        {
          "output_type": "display_data",
          "data": {
            "text/plain": [
              "<IPython.core.display.HTML object>"
            ],
            "text/html": [
              "Find logs at: <code>./wandb/run-20220719_191748-37xfq8xv/logs</code>"
            ]
          },
          "metadata": {}
        }
      ]
    },
    {
      "cell_type": "markdown",
      "source": [
        "## Example Text Generation using fine-tuned model"
      ],
      "metadata": {
        "id": "16Y3wMgntIZ_"
      }
    },
    {
      "cell_type": "code",
      "source": [
        "!openai api completions.create -m curie:ft-personal:amazon-press-v0-2022-07-19-19-05-41 -p 'Amazon Kicks Off Spring with the Launch of Belei, its First Dedicated Skincare Line ->'"
      ],
      "metadata": {
        "id": "G41n_J4nc5D-",
        "colab": {
          "base_uri": "https://localhost:8080/"
        },
        "outputId": "620973bf-d8e5-4fce-dbcf-7a3f8643e602"
      },
      "execution_count": null,
      "outputs": [
        {
          "output_type": "stream",
          "name": "stdout",
          "text": [
            "Amazon Kicks Off Spring with the Launch of Belei, its First Dedicated Skincare Line -> The colorful belei collection debuts with Make Me Matt, a moisturizing"
          ]
        }
      ]
    },
    {
      "cell_type": "markdown",
      "source": [
        "## Open AI completion api parameters\n",
        "Reference: https://beta.openai.com/docs/api-reference/models\n",
        "\n",
        "__model*__\n",
        "\n",
        "\n",
        "ID of the model to use. You can use the List models API to see all of your available models, or see our Model overview for descriptions of them.\n",
        "\n",
        "__prompt__\n",
        "\n",
        "Defaults to <|endoftext|>\n",
        "The prompt(s) to generate completions for, encoded as a string, array of strings, array of tokens, or array of token arrays.\n",
        "\n",
        "Note that <|endoftext|> is the document separator that the model sees during training, so if a prompt is not specified the model will generate as if from the beginning of a new document.\n",
        "\n",
        "__suffix__\n",
        "\n",
        "Defaults to null\n",
        "The suffix that comes after a completion of inserted text.\n",
        "\n",
        "__max_tokens__\n",
        "\n",
        "Defaults to 16\n",
        "The maximum number of tokens to generate in the completion.\n",
        "\n",
        "The token count of your prompt plus max_tokens cannot exceed the model's context length. Most models have a context length of 2048 tokens (except for the newest models, which support 4096).\n",
        "\n",
        "__temperature__\n",
        "\n",
        "Defaults to 1\n",
        "What sampling temperature to use. Higher values means the model will take more risks. Try 0.9 for more creative applications, and 0 (argmax sampling) for ones with a well-defined answer.\n",
        "\n",
        "We generally recommend altering this or top_p but not both.\n",
        "\n",
        "__top_p__\n",
        "\n",
        "Defaults to 1\n",
        "An alternative to sampling with temperature, called nucleus sampling, where the model considers the results of the tokens with top_p probability mass. So 0.1 means only the tokens comprising the top 10% probability mass are considered.\n",
        "\n",
        "We generally recommend altering this or temperature but not both.\n",
        "\n",
        "__n__\n",
        "\n",
        "Defaults to 1\n",
        "How many completions to generate for each prompt.\n",
        "\n",
        "Note: Because this parameter generates many completions, it can quickly consume your token quota. Use carefully and ensure that you have reasonable settings for max_tokens and stop.\n",
        "\n",
        "__stream__\n",
        "\n",
        "Defaults to false\n",
        "Whether to stream back partial progress. If set, tokens will be sent as data-only server-sent events as they become available, with the stream terminated by a data: [DONE] message.\n",
        "\n",
        "__logprobs__\n",
        "\n",
        "Defaults to null\n",
        "Include the log probabilities on the logprobs most likely tokens, as well the chosen tokens. For example, if logprobs is 5, the API will return a list of the 5 most likely tokens. The API will always return the logprob of the sampled token, so there may be up to logprobs+1 elements in the response.\n",
        "\n",
        "The maximum value for logprobs is 5. If you need more than this, please contact support@openai.com and describe your use case.\n",
        "\n",
        "__echo__\n",
        "\n",
        "Defaults to false\n",
        "Echo back the prompt in addition to the completion\n",
        "\n",
        "__stop__\n",
        "*string or array*\n",
        "\n",
        "Defaults to null\n",
        "Up to 4 sequences where the API will stop generating further tokens. The returned text will not contain the stop sequence.\n",
        "\n",
        "__presence_penalty__\n",
        "\n",
        "Defaults to 0\n",
        "Number between -2.0 and 2.0. Positive values penalize new tokens based on whether they appear in the text so far, increasing the model's likelihood to talk about new topics.\n",
        "\n",
        "See more information about frequency and presence penalties.\n",
        "\n",
        "__frequency_penalty__\n",
        "\n",
        "Defaults to 0\n",
        "Number between -2.0 and 2.0. Positive values penalize new tokens based on their existing frequency in the text so far, decreasing the model's likelihood to repeat the same line verbatim.\n",
        "\n",
        "See more information about frequency and presence penalties.\n",
        "\n",
        "__best_of__\n",
        "\n",
        "Defaults to 1\n",
        "Generates best_of completions server-side and returns the \"best\" (the one with the highest log probability per token). Results cannot be streamed.\n",
        "\n",
        "When used with n, best_of controls the number of candidate completions and n specifies how many to return – best_of must be greater than n.\n",
        "\n",
        "Note: Because this parameter generates many completions, it can quickly consume your token quota. Use carefully and ensure that you have reasonable settings for max_tokens and stop.\n",
        "\n",
        "__logit_bias__\n",
        "\n",
        "Defaults to null\n",
        "Modify the likelihood of specified tokens appearing in the completion.\n",
        "\n",
        "Accepts a json object that maps tokens (specified by their token ID in the GPT tokenizer) to an associated bias value from -100 to 100. You can use this tokenizer tool (which works for both GPT-2 and GPT-3) to convert text to token IDs. Mathematically, the bias is added to the logits generated by the model prior to sampling. The exact effect will vary per model, but values between -1 and 1 should decrease or increase likelihood of selection; values like -100 or 100 should result in a ban or exclusive selection of the relevant token.\n",
        "\n",
        "As an example, you can pass {\"50256\": -100} to prevent the <|endoftext|> token from being generated."
      ],
      "metadata": {
        "id": "qh04oZCj-JHr"
      }
    },
    {
      "cell_type": "markdown",
      "source": [
        "# Generating Texts"
      ],
      "metadata": {
        "id": "Le1lJkyn_12p"
      }
    },
    {
      "cell_type": "code",
      "source": [
        "model_name = 'curie:ft-personal:amazon-press-v0-2022-07-19-19-05-41'"
      ],
      "metadata": {
        "id": "OHXM7-Tp-KLw"
      },
      "execution_count": 42,
      "outputs": []
    },
    {
      "cell_type": "code",
      "source": [
        "response = openai.Completion.create(model=model_name, prompt=\"Amazon Kicks Off Spring with the Launch of Belei, its First Dedicated Skincare Line ->\", \n",
        "                                    temperature=0.3, stop=' END', n=1,\n",
        "                                    max_tokens=768)"
      ],
      "metadata": {
        "id": "Wnr6AcYP-W43"
      },
      "execution_count": 47,
      "outputs": []
    },
    {
      "cell_type": "code",
      "source": [
        "response"
      ],
      "metadata": {
        "colab": {
          "base_uri": "https://localhost:8080/"
        },
        "id": "cfJ1gW-6-ixP",
        "outputId": "36758bca-cf74-4ac5-9e5c-fcc75a0b2d44"
      },
      "execution_count": 48,
      "outputs": [
        {
          "output_type": "execute_result",
          "data": {
            "text/plain": [
              "<OpenAIObject text_completion id=cmpl-5VnPZ9Jj3TQ2buNM3aFeHQlronmYd at 0x7fe05699dd10> JSON: {\n",
              "  \"choices\": [\n",
              "    {\n",
              "      \"finish_reason\": \"stop\",\n",
              "      \"index\": 0,\n",
              "      \"logprobs\": null,\n",
              "      \"text\": \" The new line of skincare products is available for Prime members to shop now\\nSEATTLE--(BUSINESS WIRE)--Mar. 11, 2019-- (NASDAQ:AMZN)\\u2014Amazon today announced the launch of Belei, its first dedicated skincare line. The line includes a range of products, including cleansers, toners, moisturizers, and serums, all of which are infused with Amazonian plant extracts and botanicals, including Amazonian clay, to help support healthy skin. Customers can shop the line now at www.amazon.com/belei.\\n\\u201cWe\\u2019re excited to launch Belei, our first-ever skincare line,\\u201d said Dr. David L. Asch, Amazon\\u2019s Vice President of Global Health and Wellness. \\u201cWe\\u2019ve worked hard to create a line of products that are as innovative as they are effective, and we\\u2019re excited to share them with our customers.\\u201d\\n\\u201cAmazon\\u2019s commitment to health and wellness is a great example of how we can leverage our scale to help people lead healthier lives,\\u201d said Dr. David L. Asch, Vice President of Global Health and Wellness at Amazon. \\u201cWe\\u2019re excited to work with the team at Belei to bring a range of innovative skincare products to our customers.\\u201d\\nBelei products are infused with Amazonian plant extracts and botanicals, including Amazonian clay, to help support healthy skin. The line includes cleansers, toners, moisturizers, and serums, all of which are infused with Amazonian plant extracts and botanicals, including Amazonian clay, to help support healthy skin. Customers can shop the line now at www.amazon.com/belei.\\nAbout Amazon\\nAmazon is guided by four principles: customer obsession rather than competitor focus, passion for invention, commitment to operational excellence, and long-term thinking. Customer reviews, 1-Click shopping, personalized recommendations, Prime, Fulfillment by Amazon, AWS, Kindle Direct Publishing, Kindle, Fire tablets, Fire TV, Amazon Echo, and Alexa are some of the products and services pioneered by Amazon. For more information, visit www.amazon.com/about and follow @AmazonNews.\\nView source version on businesswire.com: https://www.businesswire.com/news/home/20190311005418/en/\\nSource: Amazon.com, Inc.\\nAmazon.com, Inc.\\nMedia HotlineAmazon-pr@amazon.comwww.amazon.com/pr\"\n",
              "    }\n",
              "  ],\n",
              "  \"created\": 1658259789,\n",
              "  \"id\": \"cmpl-5VnPZ9Jj3TQ2buNM3aFeHQlronmYd\",\n",
              "  \"model\": \"curie:ft-personal:amazon-press-v0-2022-07-19-19-05-41\",\n",
              "  \"object\": \"text_completion\",\n",
              "  \"usage\": {\n",
              "    \"completion_tokens\": 552,\n",
              "    \"prompt_tokens\": 22,\n",
              "    \"total_tokens\": 574\n",
              "  }\n",
              "}"
            ]
          },
          "metadata": {},
          "execution_count": 48
        }
      ]
    },
    {
      "cell_type": "code",
      "source": [
        "print(response['choices'][0]['text'])"
      ],
      "metadata": {
        "colab": {
          "base_uri": "https://localhost:8080/"
        },
        "id": "t66VPLmI-kuu",
        "outputId": "8795e680-93cf-4f94-f6d4-cbcd1e66cc51"
      },
      "execution_count": 52,
      "outputs": [
        {
          "output_type": "stream",
          "name": "stdout",
          "text": [
            " The new line of skincare products is available for Prime members to shop now\n",
            "SEATTLE--(BUSINESS WIRE)--Mar. 11, 2019-- (NASDAQ:AMZN)—Amazon today announced the launch of Belei, its first dedicated skincare line. The line includes a range of products, including cleansers, toners, moisturizers, and serums, all of which are infused with Amazonian plant extracts and botanicals, including Amazonian clay, to help support healthy skin. Customers can shop the line now at www.amazon.com/belei.\n",
            "“We’re excited to launch Belei, our first-ever skincare line,” said Dr. David L. Asch, Amazon’s Vice President of Global Health and Wellness. “We’ve worked hard to create a line of products that are as innovative as they are effective, and we’re excited to share them with our customers.”\n",
            "“Amazon’s commitment to health and wellness is a great example of how we can leverage our scale to help people lead healthier lives,” said Dr. David L. Asch, Vice President of Global Health and Wellness at Amazon. “We’re excited to work with the team at Belei to bring a range of innovative skincare products to our customers.”\n",
            "Belei products are infused with Amazonian plant extracts and botanicals, including Amazonian clay, to help support healthy skin. The line includes cleansers, toners, moisturizers, and serums, all of which are infused with Amazonian plant extracts and botanicals, including Amazonian clay, to help support healthy skin. Customers can shop the line now at www.amazon.com/belei.\n",
            "About Amazon\n",
            "Amazon is guided by four principles: customer obsession rather than competitor focus, passion for invention, commitment to operational excellence, and long-term thinking. Customer reviews, 1-Click shopping, personalized recommendations, Prime, Fulfillment by Amazon, AWS, Kindle Direct Publishing, Kindle, Fire tablets, Fire TV, Amazon Echo, and Alexa are some of the products and services pioneered by Amazon. For more information, visit www.amazon.com/about and follow @AmazonNews.\n",
            "View source version on businesswire.com: https://www.businesswire.com/news/home/20190311005418/en/\n",
            "Source: Amazon.com, Inc.\n",
            "Amazon.com, Inc.\n",
            "Media HotlineAmazon-pr@amazon.comwww.amazon.com/pr\n"
          ]
        }
      ]
    },
    {
      "cell_type": "code",
      "source": [
        ""
      ],
      "metadata": {
        "id": "ZyR0Bdwe_Rne"
      },
      "execution_count": null,
      "outputs": []
    }
  ]
}